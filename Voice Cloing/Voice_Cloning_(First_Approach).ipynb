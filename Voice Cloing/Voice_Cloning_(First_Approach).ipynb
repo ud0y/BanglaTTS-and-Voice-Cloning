{
  "cells": [
    {
      "cell_type": "code",
      "execution_count": null,
      "metadata": {
        "colab": {
          "base_uri": "https://localhost:8080/"
        },
        "id": "aNjp80WxQsTX",
        "outputId": "8d6a50a8-5572-4887-c42a-3b8233b42eb4"
      },
      "outputs": [
        {
          "name": "stdout",
          "output_type": "stream",
          "text": [
            "None\n",
            "/usr/bin/espeak-ng\n"
          ]
        }
      ],
      "source": [
        "from shutil import which\n",
        "print(which('espeak'))\n",
        "print(which('espeak-ng'))"
      ]
    },
    {
      "cell_type": "code",
      "execution_count": null,
      "metadata": {
        "id": "Cxwgby0HJUJ8"
      },
      "outputs": [],
      "source": [
        "import os\n",
        "import gdown\n",
        "import pandas as pd\n",
        "import soundfile as sf\n",
        "import shutil\n",
        "import bangla\n",
        "\n",
        "\n",
        "try:\n",
        "  from TTS.utils.synthesizer import Synthesizer\n",
        "except:\n",
        "  print(\"coundn't import TTS synthesizer,trying again!\")\n",
        "\n",
        "import TTS\n",
        "\n",
        "import time\n",
        "from typing import List\n",
        "\n",
        "import numpy as np\n",
        "import pysbd\n",
        "import torch\n",
        "\n",
        "from TTS.config import load_config\n",
        "from TTS.tts.models import setup_model as setup_tts_model\n",
        "\n",
        "from TTS.tts.utils.synthesis import synthesis, transfer_voice, trim_silence\n",
        "from TTS.utils.audio import AudioProcessor\n",
        "from TTS.vocoder.models import setup_model as setup_vocoder_model\n",
        "from TTS.vocoder.utils.generic_utils import interpolate_vocoder_input"
      ]
    },
    {
      "cell_type": "code",
      "execution_count": null,
      "metadata": {
        "colab": {
          "base_uri": "https://localhost:8080/"
        },
        "id": "60lYEAdIhX1_",
        "outputId": "bd5a78d2-854b-47da-8d39-4f81acc450fb"
      },
      "outputs": [
        {
          "name": "stdout",
          "output_type": "stream",
          "text": [
            "Sun May 19 06:39:40 2024       \n",
            "+---------------------------------------------------------------------------------------+\n",
            "| NVIDIA-SMI 535.154.05             Driver Version: 535.154.05   CUDA Version: 12.2     |\n",
            "|-----------------------------------------+----------------------+----------------------+\n",
            "| GPU  Name                 Persistence-M | Bus-Id        Disp.A | Volatile Uncorr. ECC |\n",
            "| Fan  Temp   Perf          Pwr:Usage/Cap |         Memory-Usage | GPU-Util  Compute M. |\n",
            "|                                         |                      |               MIG M. |\n",
            "|=========================================+======================+======================|\n",
            "|   0  NVIDIA RTX A5000               On  | 00000000:00:0A.0 Off |                  Off |\n",
            "| 30%   34C    P2              58W / 230W |   4048MiB / 24564MiB |      0%      Default |\n",
            "|                                         |                      |                  N/A |\n",
            "+-----------------------------------------+----------------------+----------------------+\n",
            "                                                                                         \n",
            "+---------------------------------------------------------------------------------------+\n",
            "| Processes:                                                                            |\n",
            "|  GPU   GI   CI        PID   Type   Process name                            GPU Memory |\n",
            "|        ID   ID                                                             Usage      |\n",
            "|=======================================================================================|\n",
            "+---------------------------------------------------------------------------------------+\n"
          ]
        }
      ],
      "source": [
        "!nvidia-smi\n",
        "import numpy as np # linear algebra\n",
        "import pandas as pd # data processing, CSV file I/O (e.g. pd.read_csv)\n",
        "\n",
        "# Input data files are available in the read-only \"../input/\" directory\n",
        "# For example, running this (by clicking run or pressing Shift+Enter) will list all files under the input directory\n",
        "\n",
        "import os\n",
        "import torch\n",
        "# Trainer: Where the ✨️ happens.\n",
        "# TrainingArgs: Defines the set of arguments of the Trainer.\n",
        "from trainer import Trainer, TrainerArgs\n",
        "\n",
        "from TTS.tts.configs.vits_config import VitsConfig\n",
        "from TTS.tts.models.vits import Vits, VitsAudioConfig\n",
        "from TTS.tts.utils.text.phonemizers import ESpeak\n",
        "# BaseDatasetConfig: defines name, formatter and path of the dataset.\n",
        "\n",
        "\n",
        "from TTS.tts.utils.text.tokenizer import TTSTokenizer\n",
        "from TTS.utils.audio import AudioProcessor\n",
        "\n",
        "from TTS.tts.configs.shared_configs import BaseDatasetConfig,BaseAudioConfig,CharactersConfig\n",
        "#from TTS.configs import BaseDatasetConfig,BaseAudioConfig,CharactersConfig#GlowTTSConfig\n",
        "from TTS.tts.datasets import load_tts_samples\n",
        "from TTS.tts.utils.speakers import SpeakerManager\n",
        "\n",
        "from TTS.config import load_config\n",
        "\n",
        "from trainer import Trainer, TrainerArgs"
      ]
    },
    {
      "cell_type": "code",
      "execution_count": null,
      "metadata": {
        "id": "ipbYPYYgnL4N"
      },
      "outputs": [],
      "source": [
        "pretrained = True\n",
        "\n",
        "pretrained_path = ''\n",
        "if(pretrained):\n",
        "    pretrained_path = 'vits_20k_steps'\n",
        "\n",
        "meta_file = 'content/mono/metadata_udoy_lj.txt'\n",
        "root_path = 'content/mono'\n",
        "\n",
        "def formatter(root_path, meta_file, **kwargs):  # pylint: disable=unused-argument\n",
        "    \"\"\"Normalizes the LJSpeech meta data file to TTS format\n",
        "    https://keithito.com/LJ-Speech-Dataset/\"\"\"\n",
        "    txt_file = meta_file\n",
        "    items = []\n",
        "    speaker_name = \"ljspeech\"\n",
        "    with open(txt_file, \"r\", encoding=\"utf-8\") as ttf:\n",
        "        for line in ttf:\n",
        "            cols = line.split(\"|\")\n",
        "            wav_file = os.path.join(root_path, \"wav\", cols[0] + \".wav\")\n",
        "            try:\n",
        "                text = cols[1]\n",
        "            except:\n",
        "                print(\"not found\")\n",
        "\n",
        "            items.append({\"text\": text, \"audio_file\": wav_file, \"speaker_name\": speaker_name, \"root_path\": root_path})\n",
        "    return items\n",
        "\n",
        "\n",
        "dataset_config = BaseDatasetConfig(\n",
        "     meta_file_train=meta_file, path=os.path.join(root_path, \"\")\n",
        ")"
      ]
    },
    {
      "cell_type": "code",
      "execution_count": null,
      "metadata": {
        "colab": {
          "base_uri": "https://localhost:8080/"
        },
        "id": "tqDOgy66npEY",
        "outputId": "a01ba22d-5aad-4bef-b4ef-86a4450a7a3e"
      },
      "outputs": [
        {
          "name": "stdout",
          "output_type": "stream",
          "text": [
            "BaseDatasetConfig(formatter='',\n",
            "                  dataset_name='',\n",
            "                  path='content/mono/',\n",
            "                  meta_file_train='content/mono/metadata_udoy_lj.txt',\n",
            "                  ignored_speakers=None,\n",
            "                  language='',\n",
            "                  phonemizer='',\n",
            "                  meta_file_val='',\n",
            "                  meta_file_attn_mask='')\n"
          ]
        }
      ],
      "source": [
        "import pprint\n",
        "pprint.pp(dataset_config)"
      ]
    },
    {
      "cell_type": "code",
      "execution_count": null,
      "metadata": {
        "id": "TcJGsVlW-6wu"
      },
      "outputs": [],
      "source": [
        "characters_config = CharactersConfig(\n",
        "  pad = '<PAD>',\n",
        "  eos = '।', #'<EOS>', #'।',\n",
        "  bos = '<BOS>',# None,\n",
        "  blank = '<BLNK>',\n",
        "  characters =  \"তট৫ভিঐঋখঊড়ইজমএেঘঙসীঢ়হঞ‘ঈকণ৬ঁৗশঢঠ\\u200c১্২৮দৃঔগও—ছউংবৈঝাযফ\\u200dচরষঅৌৎথড়৪ধ০ুূ৩আঃপয়’নলো\",\n",
        "  phonemes =  \"ˌamɾʃˈonbŋlitjʰɔdkpeɟːfɡuhrʈæsʒɖwəcã\",\n",
        "  punctuations = \"-!,|.? \",\n",
        ")"
      ]
    },
    {
      "cell_type": "code",
      "execution_count": null,
      "metadata": {
        "id": "q50h70SLzVnf"
      },
      "outputs": [],
      "source": [
        "output_path = ''\n",
        "\n",
        "audio_config = VitsAudioConfig(\n",
        "    sample_rate=22050,\n",
        "    win_length=1024,\n",
        "    hop_length=256,\n",
        "    num_mels=80,\n",
        "    mel_fmin=0,\n",
        "    mel_fmax=None\n",
        ")\n",
        "\n",
        "config = VitsConfig(\n",
        "    audio=audio_config,\n",
        "    run_name=\"VITS\",\n",
        "    batch_size=8,\n",
        "    eval_batch_size=8,\n",
        "    batch_group_size=0,\n",
        "    num_loader_workers=4,\n",
        "    num_eval_loader_workers=4,\n",
        "    run_eval=True,\n",
        "    test_delay_epochs=-1,\n",
        "    epochs=1,\n",
        "    phonemizer='espeak',\n",
        "    text_cleaner='phoneme_cleaners',\n",
        "    use_phonemes=True,\n",
        "    phoneme_language=\"bn\",\n",
        "    phoneme_cache_path=os.path.join(output_path, \"phoneme_cache\"),\n",
        "    compute_input_seq_cache=True,\n",
        "    add_blank=True,\n",
        "    use_language_weighted_sampler = True,\n",
        "    print_step=50,\n",
        "    print_eval=False,\n",
        "    mixed_precision=False,\n",
        "    output_path=output_path,\n",
        "    datasets=[dataset_config],\n",
        "    characters = characters_config,\n",
        "    save_step=1000,\n",
        "    cudnn_benchmark=True,\n",
        "    test_sentences = [\n",
        "        'আমার   সোনার বাংলা, আমি তোমায় ভালোবাসি।',\n",
        "        'চিরদিন   তোমার আকাশ, তোমার বাতাস, আমার প্রাণে বাজায় বাঁশি',\n",
        "        'ও মা,   ফাগুনে তোর আমের বনে ঘ্রাণে পাগল করে,মরি হায়, হায় রে।'\n",
        "    ]\n",
        ")"
      ]
    },
    {
      "cell_type": "code",
      "execution_count": null,
      "metadata": {
        "colab": {
          "base_uri": "https://localhost:8080/"
        },
        "id": "eUx9Vp7VzuJF",
        "outputId": "b4fcece1-0165-4fdc-b18e-0f26369f3ff6"
      },
      "outputs": [
        {
          "name": "stdout",
          "output_type": "stream",
          "text": [
            " > Setting up Audio Processor...\n",
            " | > sample_rate:22050\n",
            " | > resample:False\n",
            " | > num_mels:80\n",
            " | > log_func:np.log10\n",
            " | > min_level_db:0\n",
            " | > frame_shift_ms:None\n",
            " | > frame_length_ms:None\n",
            " | > ref_level_db:None\n",
            " | > fft_size:1024\n",
            " | > power:None\n",
            " | > preemphasis:0.0\n",
            " | > griffin_lim_iters:None\n",
            " | > signal_norm:None\n",
            " | > symmetric_norm:None\n",
            " | > mel_fmin:0\n",
            " | > mel_fmax:None\n",
            " | > pitch_fmin:None\n",
            " | > pitch_fmax:None\n",
            " | > spec_gain:20.0\n",
            " | > stft_pad_mode:reflect\n",
            " | > max_norm:1.0\n",
            " | > clip_norm:True\n",
            " | > do_trim_silence:False\n",
            " | > trim_db:60\n",
            " | > do_sound_norm:False\n",
            " | > do_amp_to_db_linear:True\n",
            " | > do_amp_to_db_mel:True\n",
            " | > do_rms_norm:False\n",
            " | > db_level:None\n",
            " | > stats_path:None\n",
            " | > base:10\n",
            " | > hop_length:256\n",
            " | > win_length:1024\n"
          ]
        }
      ],
      "source": [
        "ap = AudioProcessor.init_from_config(config)\n",
        "\n",
        "tokenizer, config = TTSTokenizer.init_from_config(config)"
      ]
    },
    {
      "cell_type": "code",
      "execution_count": null,
      "metadata": {
        "colab": {
          "base_uri": "https://localhost:8080/"
        },
        "id": "1Vzz8S5pz4WS",
        "outputId": "a20a82de-aba4-4d12-cc6c-c6024ad763cf"
      },
      "outputs": [
        {
          "name": "stdout",
          "output_type": "stream",
          "text": [
            " | > Found 649 files in /workspace/content/mono\n"
          ]
        }
      ],
      "source": [
        "# load training samples\n",
        "train_samples, eval_samples = load_tts_samples(dataset_config,formatter=formatter, eval_split=True)"
      ]
    },
    {
      "cell_type": "code",
      "execution_count": null,
      "metadata": {
        "colab": {
          "base_uri": "https://localhost:8080/"
        },
        "id": "Y81lkZcfnwyB",
        "outputId": "36e9f6e2-a47b-4ef3-aa77-d065d30420cd"
      },
      "outputs": [
        {
          "name": "stdout",
          "output_type": "stream",
          "text": [
            "643 6\n"
          ]
        }
      ],
      "source": [
        "print(len(train_samples),len(eval_samples))"
      ]
    },
    {
      "cell_type": "code",
      "execution_count": null,
      "metadata": {
        "id": "3H_2vVlIoUgg"
      },
      "outputs": [],
      "source": [
        "model = Vits(config, ap, tokenizer, speaker_manager=None)"
      ]
    },
    {
      "cell_type": "code",
      "execution_count": null,
      "metadata": {
        "colab": {
          "base_uri": "https://localhost:8080/"
        },
        "id": "4DgeUOZxoZOC",
        "outputId": "ecf813be-8503-4627-df69-900c92b1f96e"
      },
      "outputs": [
        {
          "name": "stderr",
          "output_type": "stream",
          "text": [
            "fatal: not a git repository (or any of the parent directories): .git\n",
            " > Training Environment:\n",
            " | > Backend: Torch\n",
            " | > Mixed precision: True\n",
            " | > Precision: fp16\n",
            " | > Current device: 0\n",
            " | > Num. of GPUs: 1\n",
            " | > Num. of CPUs: 64\n",
            " | > Num. of Torch Threads: 32\n",
            " | > Torch seed: 54321\n",
            " | > Torch CUDNN: True\n",
            " | > Torch CUDNN deterministic: False\n",
            " | > Torch CUDNN benchmark: True\n",
            " | > Torch TF32 MatMul: False\n",
            " > Start Tensorboard: tensorboard --logdir=vits_20k_steps\n",
            " > Restoring from checkpoint_24229.pth ...\n",
            " > Restoring Model...\n",
            " > Restoring Optimizer...\n",
            " > Restoring Scaler...\n",
            " > Model restored from step 24229\n",
            "\n",
            " > Model has 83043052 parameters\n"
          ]
        }
      ],
      "source": [
        "trainer = Trainer(\n",
        "    TrainerArgs(continue_path = pretrained_path),\n",
        "    config,\n",
        "    output_path,\n",
        "    model=model,\n",
        "    train_samples=train_samples,\n",
        "    eval_samples=eval_samples\n",
        ")"
      ]
    },
    {
      "cell_type": "code",
      "execution_count": null,
      "metadata": {
        "id": "-KxCZb7u7K1f"
      },
      "outputs": [],
      "source": [
        "trainer.config.test_sentences = [\n",
        "        'আমার সোনার বাংলা, আমি তোমায় ভালোবাসি।',\n",
        "        'চিরদিন তোমার আকাশ, তোমার বাতাস, আমার প্রাণে বাজায় বাঁশি',\n",
        "        'ও মা, ফাগুনে তোর আমের বনে ঘ্রাণে পাগল করে,মরি হায়, হায় রে।'\n",
        "    ]"
      ]
    },
    {
      "cell_type": "code",
      "execution_count": null,
      "metadata": {
        "id": "ES4I6dtJ-LFV"
      },
      "outputs": [],
      "source": [
        "# pprint.pp(trainer.config)"
      ]
    },
    {
      "cell_type": "code",
      "execution_count": null,
      "metadata": {
        "colab": {
          "base_uri": "https://localhost:8080/"
        },
        "id": "iqzUXiy2oiko",
        "outputId": "b731802c-4d10-4d8c-db47-0590713b5635"
      },
      "outputs": [
        {
          "name": "stderr",
          "output_type": "stream",
          "text": [
            " > Restoring best loss from best_model_20099.pth ...\n",
            " > Starting with loaded last best loss {'train_loss': None, 'eval_loss': 15.714713017145792}\n",
            "\n",
            "\u001b[4m\u001b[1m > EPOCH: 0/300\u001b[0m\n",
            " --> vits_20k_steps\n"
          ]
        },
        {
          "name": "stdout",
          "output_type": "stream",
          "text": [
            "\n",
            "\n",
            "> DataLoader initialization\n",
            "| > Tokenizer:\n",
            "\t| > add_blank: True\n",
            "\t| > use_eos_bos: False\n",
            "\t| > use_phonemes: True\n",
            "\t| > phonemizer:\n",
            "\t\t| > phoneme language: bn\n",
            "\t\t| > phoneme backend: espeak\n",
            "| > Number of instances : 643\n"
          ]
        },
        {
          "name": "stderr",
          "output_type": "stream",
          "text": [
            "\n",
            "\u001b[1m > TRAINING (2024-05-19 06:40:00) \u001b[0m\n"
          ]
        },
        {
          "name": "stdout",
          "output_type": "stream",
          "text": [
            " | > Preprocessing samples\n",
            " | > Max text length: 171\n",
            " | > Min text length: 5\n",
            " | > Avg text length: 61.76049766718507\n",
            " | \n",
            " | > Max audio length: 264600\n",
            " | > Min audio length: 9794\n",
            " | > Avg audio length: 108190.52566096422\n",
            " | > Num. instances discarded samples: 0\n",
            " | > Batch group size: 0.\n"
          ]
        },
        {
          "name": "stderr",
          "output_type": "stream",
          "text": [
            "/opt/conda/lib/python3.10/site-packages/torch/functional.py:660: UserWarning: stft with return_complex=False is deprecated. In a future pytorch release, stft will return complex tensors for all inputs, and return_complex=False will raise an error.\n",
            "Note: you can still call torch.view_as_real on the complex output to recover the old return format. (Triggered internally at /opt/conda/conda-bld/pytorch_1708025847130/work/aten/src/ATen/native/SpectralOps.cpp:874.)\n",
            "  return _VF.stft(input, n_fft, hop_length, win_length, window,  # type: ignore[attr-defined]\n",
            "\n",
            "\u001b[1m > EVALUATION \u001b[0m\n",
            "\n"
          ]
        },
        {
          "name": "stdout",
          "output_type": "stream",
          "text": [
            "\n",
            "\n",
            "> DataLoader initialization\n",
            "| > Tokenizer:\n",
            "\t| > add_blank: True\n",
            "\t| > use_eos_bos: False\n",
            "\t| > use_phonemes: True\n",
            "\t| > phonemizer:\n",
            "\t\t| > phoneme language: bn\n",
            "\t\t| > phoneme backend: espeak\n",
            "| > Number of instances : 6\n",
            " | > Preprocessing samples\n",
            " | > Max text length: 112\n",
            " | > Min text length: 49\n",
            " | > Avg text length: 68.16666666666667\n",
            " | \n",
            " | > Max audio length: 157701\n",
            " | > Min audio length: 101429\n",
            " | > Avg audio length: 129984.5\n",
            " | > Num. instances discarded samples: 0\n",
            " | > Batch group size: 0.\n",
            " | > Synthesizing test sentences.\n"
          ]
        },
        {
          "name": "stderr",
          "output_type": "stream",
          "text": [
            "/workspace/TTS/TTS/tts/models/vits.py:1455: UserWarning: The use of `x.T` on tensors of dimension other than 2 to reverse their shape is deprecated and it will throw an error in a future release. Consider `x.mT` to transpose batches of matrices or `x.permute(*torch.arange(x.ndim - 1, -1, -1))` to reverse the dimensions of a tensor. (Triggered internally at /opt/conda/conda-bld/pytorch_1708025847130/work/aten/src/ATen/native/TensorShape.cpp:3637.)\n",
            "  test_figures[\"{}-alignment\".format(idx)] = plot_alignment(alignment.T, output_fig=False)\n",
            "\n",
            "  \u001b[1m--> EVAL PERFORMANCE\u001b[0m\n",
            "     | > avg_loader_time: 3.099611759185791 \u001b[0m(+0)\n",
            "     | > avg_loss_disc: 2.6741456985473633 \u001b[0m(+0)\n",
            "     | > avg_loss_disc_real_0: 0.20043039321899414 \u001b[0m(+0)\n",
            "     | > avg_loss_disc_real_1: 0.21840211749076843 \u001b[0m(+0)\n",
            "     | > avg_loss_disc_real_2: 0.204953134059906 \u001b[0m(+0)\n",
            "     | > avg_loss_disc_real_3: 0.18525409698486328 \u001b[0m(+0)\n",
            "     | > avg_loss_disc_real_4: 0.3152066767215729 \u001b[0m(+0)\n",
            "     | > avg_loss_disc_real_5: 0.2896938920021057 \u001b[0m(+0)\n",
            "     | > avg_loss_0: 2.6741456985473633 \u001b[0m(+0)\n",
            "     | > avg_loss_gen: 2.1668753623962402 \u001b[0m(+0)\n",
            "     | > avg_loss_kl: 1.9556145668029785 \u001b[0m(+0)\n",
            "     | > avg_loss_feat: 4.244836807250977 \u001b[0m(+0)\n",
            "     | > avg_loss_mel: 21.44332504272461 \u001b[0m(+0)\n",
            "     | > avg_loss_duration: 1.3976101875305176 \u001b[0m(+0)\n",
            "     | > avg_loss_1: 31.208261489868164 \u001b[0m(+0)\n",
            "\n",
            "\n",
            "\u001b[4m\u001b[1m > EPOCH: 1/300\u001b[0m\n",
            " --> vits_20k_steps\n",
            "\n",
            "\u001b[1m > TRAINING (2024-05-19 06:40:46) \u001b[0m\n",
            "\n",
            "\u001b[1m > EVALUATION \u001b[0m\n",
            "\n"
          ]
        },
        {
          "name": "stdout",
          "output_type": "stream",
          "text": [
            " | > Synthesizing test sentences.\n"
          ]
        },
        {
          "name": "stderr",
          "output_type": "stream",
          "text": [
            "\n",
            "  \u001b[1m--> EVAL PERFORMANCE\u001b[0m\n",
            "     | > avg_loader_time:\u001b[91m 3.1954805850982666 \u001b[0m(+0.09586882591247559)\n",
            "     | > avg_loss_disc:\u001b[91m 2.729726791381836 \u001b[0m(+0.055581092834472656)\n",
            "     | > avg_loss_disc_real_0:\u001b[92m 0.1788647174835205 \u001b[0m(-0.021565675735473633)\n",
            "     | > avg_loss_disc_real_1:\u001b[91m 0.26086121797561646 \u001b[0m(+0.04245910048484802)\n",
            "     | > avg_loss_disc_real_2:\u001b[91m 0.2205711305141449 \u001b[0m(+0.015617996454238892)\n",
            "     | > avg_loss_disc_real_3:\u001b[91m 0.300882488489151 \u001b[0m(+0.11562839150428772)\n",
            "     | > avg_loss_disc_real_4:\u001b[92m 0.22345702350139618 \u001b[0m(-0.0917496532201767)\n",
            "     | > avg_loss_disc_real_5:\u001b[92m 0.19866147637367249 \u001b[0m(-0.09103241562843323)\n",
            "     | > avg_loss_0:\u001b[91m 2.729726791381836 \u001b[0m(+0.055581092834472656)\n",
            "     | > avg_loss_gen:\u001b[92m 1.8199127912521362 \u001b[0m(-0.346962571144104)\n",
            "     | > avg_loss_kl:\u001b[92m 1.651070237159729 \u001b[0m(-0.3045443296432495)\n",
            "     | > avg_loss_feat:\u001b[92m 3.18212890625 \u001b[0m(-1.0627079010009766)\n",
            "     | > avg_loss_mel:\u001b[92m 20.832469940185547 \u001b[0m(-0.6108551025390625)\n",
            "     | > avg_loss_duration:\u001b[91m 1.4014577865600586 \u001b[0m(+0.0038475990295410156)\n",
            "     | > avg_loss_1:\u001b[92m 28.887039184570312 \u001b[0m(-2.3212223052978516)\n",
            "\n",
            "\n",
            "\u001b[4m\u001b[1m > EPOCH: 2/300\u001b[0m\n",
            " --> vits_20k_steps\n",
            "\n",
            "\u001b[1m > TRAINING (2024-05-19 06:41:13) \u001b[0m\n",
            "\n",
            "\u001b[1m > EVALUATION \u001b[0m\n",
            "\n"
          ]
        },
        {
          "name": "stdout",
          "output_type": "stream",
          "text": [
            " | > Synthesizing test sentences.\n"
          ]
        },
        {
          "name": "stderr",
          "output_type": "stream",
          "text": [
            "\n",
            "  \u001b[1m--> EVAL PERFORMANCE\u001b[0m\n",
            "     | > avg_loader_time:\u001b[91m 3.20255708694458 \u001b[0m(+0.0070765018463134766)\n",
            "     | > avg_loss_disc:\u001b[92m 2.7116401195526123 \u001b[0m(-0.018086671829223633)\n",
            "     | > avg_loss_disc_real_0:\u001b[91m 0.1986279934644699 \u001b[0m(+0.019763275980949402)\n",
            "     | > avg_loss_disc_real_1:\u001b[92m 0.2549293041229248 \u001b[0m(-0.00593191385269165)\n",
            "     | > avg_loss_disc_real_2:\u001b[92m 0.20050416886806488 \u001b[0m(-0.020066961646080017)\n",
            "     | > avg_loss_disc_real_3:\u001b[92m 0.2086215615272522 \u001b[0m(-0.0922609269618988)\n",
            "     | > avg_loss_disc_real_4:\u001b[92m 0.19427268207073212 \u001b[0m(-0.029184341430664062)\n",
            "     | > avg_loss_disc_real_5:\u001b[91m 0.21462614834308624 \u001b[0m(+0.015964671969413757)\n",
            "     | > avg_loss_0:\u001b[92m 2.7116401195526123 \u001b[0m(-0.018086671829223633)\n",
            "     | > avg_loss_gen:\u001b[92m 1.7973217964172363 \u001b[0m(-0.022590994834899902)\n",
            "     | > avg_loss_kl:\u001b[92m 1.3398408889770508 \u001b[0m(-0.3112293481826782)\n",
            "     | > avg_loss_feat:\u001b[91m 4.154596328735352 \u001b[0m(+0.9724674224853516)\n",
            "     | > avg_loss_mel:\u001b[92m 19.473464965820312 \u001b[0m(-1.3590049743652344)\n",
            "     | > avg_loss_duration:\u001b[92m 1.34196138381958 \u001b[0m(-0.059496402740478516)\n",
            "     | > avg_loss_1:\u001b[92m 28.10718536376953 \u001b[0m(-0.7798538208007812)\n",
            "\n",
            " > BEST MODEL : vits_20k_steps/best_model_24272.pth\n",
            "\n",
            "\u001b[4m\u001b[1m > EPOCH: 3/300\u001b[0m\n",
            " --> vits_20k_steps\n",
            "\n",
            "\u001b[1m > TRAINING (2024-05-19 06:41:41) \u001b[0m\n",
            "\n",
            "\u001b[1m > EVALUATION \u001b[0m\n",
            "\n"
          ]
        },
        {
          "name": "stdout",
          "output_type": "stream",
          "text": [
            " | > Synthesizing test sentences.\n"
          ]
        },
        {
          "name": "stderr",
          "output_type": "stream",
          "text": [
            "\n",
            "  \u001b[1m--> EVAL PERFORMANCE\u001b[0m\n",
            "     | > avg_loader_time:\u001b[92m 3.1858792304992676 \u001b[0m(-0.0166778564453125)\n",
            "     | > avg_loss_disc:\u001b[91m 2.79423189163208 \u001b[0m(+0.08259177207946777)\n",
            "     | > avg_loss_disc_real_0:\u001b[91m 0.2288118451833725 \u001b[0m(+0.030183851718902588)\n",
            "     | > avg_loss_disc_real_1:\u001b[92m 0.1571846753358841 \u001b[0m(-0.09774462878704071)\n",
            "     | > avg_loss_disc_real_2:\u001b[92m 0.10401369631290436 \u001b[0m(-0.09649047255516052)\n",
            "     | > avg_loss_disc_real_3:\u001b[92m 0.16303600370883942 \u001b[0m(-0.04558555781841278)\n",
            "     | > avg_loss_disc_real_4:\u001b[92m 0.18930715322494507 \u001b[0m(-0.004965528845787048)\n",
            "     | > avg_loss_disc_real_5:\u001b[92m 0.21153075993061066 \u001b[0m(-0.003095388412475586)\n",
            "     | > avg_loss_0:\u001b[91m 2.79423189163208 \u001b[0m(+0.08259177207946777)\n",
            "     | > avg_loss_gen:\u001b[92m 1.5649126768112183 \u001b[0m(-0.23240911960601807)\n",
            "     | > avg_loss_kl:\u001b[91m 2.050631046295166 \u001b[0m(+0.7107901573181152)\n",
            "     | > avg_loss_feat:\u001b[91m 4.645963668823242 \u001b[0m(+0.4913673400878906)\n",
            "     | > avg_loss_mel:\u001b[91m 20.766162872314453 \u001b[0m(+1.2926979064941406)\n",
            "     | > avg_loss_duration:\u001b[91m 1.373401403427124 \u001b[0m(+0.031440019607543945)\n",
            "     | > avg_loss_1:\u001b[91m 30.401071548461914 \u001b[0m(+2.293886184692383)\n",
            "\n",
            "\n",
            "\u001b[4m\u001b[1m > EPOCH: 4/300\u001b[0m\n",
            " --> vits_20k_steps\n",
            "\n",
            "\u001b[1m > TRAINING (2024-05-19 06:42:06) \u001b[0m\n",
            "\n",
            "\u001b[1m > EVALUATION \u001b[0m\n",
            "\n"
          ]
        },
        {
          "name": "stdout",
          "output_type": "stream",
          "text": [
            " | > Synthesizing test sentences.\n"
          ]
        },
        {
          "name": "stderr",
          "output_type": "stream",
          "text": [
            "\n",
            "  \u001b[1m--> EVAL PERFORMANCE\u001b[0m\n",
            "     | > avg_loader_time:\u001b[91m 3.400214910507202 \u001b[0m(+0.21433568000793457)\n",
            "     | > avg_loss_disc:\u001b[92m 2.5734307765960693 \u001b[0m(-0.22080111503601074)\n",
            "     | > avg_loss_disc_real_0:\u001b[91m 0.23630744218826294 \u001b[0m(+0.007495597004890442)\n",
            "     | > avg_loss_disc_real_1:\u001b[91m 0.24130059778690338 \u001b[0m(+0.08411592245101929)\n",
            "     | > avg_loss_disc_real_2:\u001b[91m 0.2580709159374237 \u001b[0m(+0.15405721962451935)\n",
            "     | > avg_loss_disc_real_3:\u001b[91m 0.19332508742809296 \u001b[0m(+0.03028908371925354)\n",
            "     | > avg_loss_disc_real_4:\u001b[91m 0.20052559673786163 \u001b[0m(+0.011218443512916565)\n",
            "     | > avg_loss_disc_real_5:\u001b[91m 0.2152087241411209 \u001b[0m(+0.003677964210510254)\n",
            "     | > avg_loss_0:\u001b[92m 2.5734307765960693 \u001b[0m(-0.22080111503601074)\n",
            "     | > avg_loss_gen:\u001b[91m 2.0320353507995605 \u001b[0m(+0.4671226739883423)\n",
            "     | > avg_loss_kl:\u001b[92m 1.6148145198822021 \u001b[0m(-0.43581652641296387)\n",
            "     | > avg_loss_feat:\u001b[92m 3.753077268600464 \u001b[0m(-0.8928864002227783)\n",
            "     | > avg_loss_mel:\u001b[92m 20.38091278076172 \u001b[0m(-0.3852500915527344)\n",
            "     | > avg_loss_duration:\u001b[92m 1.3298414945602417 \u001b[0m(-0.043559908866882324)\n",
            "     | > avg_loss_1:\u001b[92m 29.110681533813477 \u001b[0m(-1.2903900146484375)\n",
            "\n",
            "\n",
            "\u001b[4m\u001b[1m > EPOCH: 5/300\u001b[0m\n",
            " --> vits_20k_steps\n",
            "\n",
            "\u001b[1m > TRAINING (2024-05-19 06:42:32) \u001b[0m\n",
            "\n",
            "\u001b[1m > EVALUATION \u001b[0m\n",
            "\n"
          ]
        },
        {
          "name": "stdout",
          "output_type": "stream",
          "text": [
            " | > Synthesizing test sentences.\n"
          ]
        },
        {
          "name": "stderr",
          "output_type": "stream",
          "text": [
            "\n",
            "  \u001b[1m--> EVAL PERFORMANCE\u001b[0m\n",
            "     | > avg_loader_time:\u001b[92m 3.329519271850586 \u001b[0m(-0.07069563865661621)\n",
            "     | > avg_loss_disc:\u001b[91m 2.6219165325164795 \u001b[0m(+0.048485755920410156)\n",
            "     | > avg_loss_disc_real_0:\u001b[91m 0.24973297119140625 \u001b[0m(+0.01342552900314331)\n",
            "     | > avg_loss_disc_real_1:\u001b[91m 0.262966126203537 \u001b[0m(+0.021665528416633606)\n",
            "     | > avg_loss_disc_real_2:\u001b[91m 0.28096964955329895 \u001b[0m(+0.022898733615875244)\n",
            "     | > avg_loss_disc_real_3:\u001b[91m 0.23416535556316376 \u001b[0m(+0.0408402681350708)\n",
            "     | > avg_loss_disc_real_4:\u001b[91m 0.21780817210674286 \u001b[0m(+0.017282575368881226)\n",
            "     | > avg_loss_disc_real_5:\u001b[91m 0.23310400545597076 \u001b[0m(+0.017895281314849854)\n",
            "     | > avg_loss_0:\u001b[91m 2.6219165325164795 \u001b[0m(+0.048485755920410156)\n",
            "     | > avg_loss_gen:\u001b[91m 2.147158145904541 \u001b[0m(+0.11512279510498047)\n",
            "     | > avg_loss_kl:\u001b[91m 1.7140377759933472 \u001b[0m(+0.09922325611114502)\n",
            "     | > avg_loss_feat:\u001b[92m 3.689143419265747 \u001b[0m(-0.0639338493347168)\n",
            "     | > avg_loss_mel:\u001b[91m 20.796600341796875 \u001b[0m(+0.41568756103515625)\n",
            "     | > avg_loss_duration:\u001b[91m 1.3625571727752686 \u001b[0m(+0.032715678215026855)\n",
            "     | > avg_loss_1:\u001b[91m 29.709495544433594 \u001b[0m(+0.5988140106201172)\n",
            "\n",
            "\n",
            "\u001b[4m\u001b[1m > EPOCH: 6/300\u001b[0m\n",
            " --> vits_20k_steps\n",
            "\n",
            "\u001b[1m > TRAINING (2024-05-19 06:43:01) \u001b[0m\n",
            "\n",
            "\u001b[1m > EVALUATION \u001b[0m\n",
            "\n"
          ]
        },
        {
          "name": "stdout",
          "output_type": "stream",
          "text": [
            " | > Synthesizing test sentences.\n"
          ]
        },
        {
          "name": "stderr",
          "output_type": "stream",
          "text": [
            "\n",
            "  \u001b[1m--> EVAL PERFORMANCE\u001b[0m\n",
            "     | > avg_loader_time:\u001b[92m 3.2752633094787598 \u001b[0m(-0.05425596237182617)\n",
            "     | > avg_loss_disc:\u001b[91m 2.6698057651519775 \u001b[0m(+0.04788923263549805)\n",
            "     | > avg_loss_disc_real_0:\u001b[92m 0.14933663606643677 \u001b[0m(-0.10039633512496948)\n",
            "     | > avg_loss_disc_real_1:\u001b[92m 0.20419861376285553 \u001b[0m(-0.05876751244068146)\n",
            "     | > avg_loss_disc_real_2:\u001b[92m 0.21998843550682068 \u001b[0m(-0.06098121404647827)\n",
            "     | > avg_loss_disc_real_3:\u001b[92m 0.21303808689117432 \u001b[0m(-0.02112726867198944)\n",
            "     | > avg_loss_disc_real_4:\u001b[91m 0.2260192483663559 \u001b[0m(+0.008211076259613037)\n",
            "     | > avg_loss_disc_real_5:\u001b[92m 0.21729238331317902 \u001b[0m(-0.015811622142791748)\n",
            "     | > avg_loss_0:\u001b[91m 2.6698057651519775 \u001b[0m(+0.04788923263549805)\n",
            "     | > avg_loss_gen:\u001b[92m 1.8869240283966064 \u001b[0m(-0.26023411750793457)\n",
            "     | > avg_loss_kl:\u001b[91m 1.8009374141693115 \u001b[0m(+0.08689963817596436)\n",
            "     | > avg_loss_feat:\u001b[91m 4.523730278015137 \u001b[0m(+0.8345868587493896)\n",
            "     | > avg_loss_mel:\u001b[91m 21.757349014282227 \u001b[0m(+0.9607486724853516)\n",
            "     | > avg_loss_duration:\u001b[91m 1.3627246618270874 \u001b[0m(+0.00016748905181884766)\n",
            "     | > avg_loss_1:\u001b[91m 31.3316650390625 \u001b[0m(+1.6221694946289062)\n",
            "\n",
            "\n",
            "\u001b[4m\u001b[1m > EPOCH: 7/300\u001b[0m\n",
            " --> vits_20k_steps\n",
            "\n",
            "\u001b[1m > TRAINING (2024-05-19 06:43:27) \u001b[0m\n",
            "\n",
            "\u001b[1m > EVALUATION \u001b[0m\n",
            "\n"
          ]
        },
        {
          "name": "stdout",
          "output_type": "stream",
          "text": [
            " | > Synthesizing test sentences.\n"
          ]
        },
        {
          "name": "stderr",
          "output_type": "stream",
          "text": [
            "\n",
            "  \u001b[1m--> EVAL PERFORMANCE\u001b[0m\n",
            "     | > avg_loader_time:\u001b[91m 3.3681671619415283 \u001b[0m(+0.09290385246276855)\n",
            "     | > avg_loss_disc:\u001b[92m 2.5837597846984863 \u001b[0m(-0.08604598045349121)\n",
            "     | > avg_loss_disc_real_0:\u001b[91m 0.18360207974910736 \u001b[0m(+0.03426544368267059)\n",
            "     | > avg_loss_disc_real_1:\u001b[91m 0.21331916749477386 \u001b[0m(+0.009120553731918335)\n",
            "     | > avg_loss_disc_real_2:\u001b[92m 0.21714796125888824 \u001b[0m(-0.002840474247932434)\n",
            "     | > avg_loss_disc_real_3:\u001b[91m 0.21683533489704132 \u001b[0m(+0.0037972480058670044)\n",
            "     | > avg_loss_disc_real_4:\u001b[92m 0.19343821704387665 \u001b[0m(-0.03258103132247925)\n",
            "     | > avg_loss_disc_real_5:\u001b[91m 0.25958767533302307 \u001b[0m(+0.042295292019844055)\n",
            "     | > avg_loss_0:\u001b[92m 2.5837597846984863 \u001b[0m(-0.08604598045349121)\n",
            "     | > avg_loss_gen:\u001b[91m 1.9962416887283325 \u001b[0m(+0.10931766033172607)\n",
            "     | > avg_loss_kl:\u001b[92m 1.736279010772705 \u001b[0m(-0.06465840339660645)\n",
            "     | > avg_loss_feat:\u001b[92m 4.399397850036621 \u001b[0m(-0.12433242797851562)\n",
            "     | > avg_loss_mel:\u001b[92m 21.145097732543945 \u001b[0m(-0.6122512817382812)\n",
            "     | > avg_loss_duration:\u001b[92m 1.337348461151123 \u001b[0m(-0.025376200675964355)\n",
            "     | > avg_loss_1:\u001b[92m 30.61436653137207 \u001b[0m(-0.7172985076904297)\n",
            "\n",
            "\n",
            "\u001b[4m\u001b[1m > EPOCH: 8/300\u001b[0m\n",
            " --> vits_20k_steps\n",
            "\n",
            "\u001b[1m > TRAINING (2024-05-19 06:43:52) \u001b[0m\n",
            "\n",
            "\u001b[1m > EVALUATION \u001b[0m\n",
            "\n"
          ]
        },
        {
          "name": "stdout",
          "output_type": "stream",
          "text": [
            " | > Synthesizing test sentences.\n"
          ]
        },
        {
          "name": "stderr",
          "output_type": "stream",
          "text": [
            "\n",
            "  \u001b[1m--> EVAL PERFORMANCE\u001b[0m\n",
            "     | > avg_loader_time:\u001b[92m 3.287503242492676 \u001b[0m(-0.08066391944885254)\n",
            "     | > avg_loss_disc:\u001b[91m 2.7874138355255127 \u001b[0m(+0.20365405082702637)\n",
            "     | > avg_loss_disc_real_0:\u001b[91m 0.23945139348506927 \u001b[0m(+0.055849313735961914)\n",
            "     | > avg_loss_disc_real_1:\u001b[91m 0.24012252688407898 \u001b[0m(+0.026803359389305115)\n",
            "     | > avg_loss_disc_real_2:\u001b[91m 0.22090771794319153 \u001b[0m(+0.0037597566843032837)\n",
            "     | > avg_loss_disc_real_3:\u001b[92m 0.1885637789964676 \u001b[0m(-0.02827155590057373)\n",
            "     | > avg_loss_disc_real_4:\u001b[91m 0.24182458221912384 \u001b[0m(+0.04838636517524719)\n",
            "     | > avg_loss_disc_real_5:\u001b[92m 0.25313600897789 \u001b[0m(-0.006451666355133057)\n",
            "     | > avg_loss_0:\u001b[91m 2.7874138355255127 \u001b[0m(+0.20365405082702637)\n",
            "     | > avg_loss_gen:\u001b[92m 1.8920884132385254 \u001b[0m(-0.10415327548980713)\n",
            "     | > avg_loss_kl:\u001b[92m 1.5996869802474976 \u001b[0m(-0.13659203052520752)\n",
            "     | > avg_loss_feat:\u001b[92m 4.1279706954956055 \u001b[0m(-0.2714271545410156)\n",
            "     | > avg_loss_mel:\u001b[92m 20.51475715637207 \u001b[0m(-0.630340576171875)\n",
            "     | > avg_loss_duration:\u001b[91m 1.364012360572815 \u001b[0m(+0.026663899421691895)\n",
            "     | > avg_loss_1:\u001b[92m 29.49851417541504 \u001b[0m(-1.1158523559570312)\n",
            "\n",
            "\n",
            "\u001b[4m\u001b[1m > EPOCH: 9/300\u001b[0m\n",
            " --> vits_20k_steps\n",
            "\n",
            "\u001b[1m > TRAINING (2024-05-19 06:44:17) \u001b[0m\n",
            "\n",
            "\u001b[1m > EVALUATION \u001b[0m\n",
            "\n"
          ]
        },
        {
          "name": "stdout",
          "output_type": "stream",
          "text": [
            " | > Synthesizing test sentences.\n"
          ]
        },
        {
          "name": "stderr",
          "output_type": "stream",
          "text": [
            "\n",
            "  \u001b[1m--> EVAL PERFORMANCE\u001b[0m\n",
            "     | > avg_loader_time:\u001b[91m 3.3748745918273926 \u001b[0m(+0.0873713493347168)\n",
            "     | > avg_loss_disc:\u001b[92m 2.4379053115844727 \u001b[0m(-0.34950852394104004)\n",
            "     | > avg_loss_disc_real_0:\u001b[92m 0.16023588180541992 \u001b[0m(-0.07921551167964935)\n",
            "     | > avg_loss_disc_real_1:\u001b[91m 0.27284762263298035 \u001b[0m(+0.03272509574890137)\n",
            "     | > avg_loss_disc_real_2:\u001b[91m 0.24338360130786896 \u001b[0m(+0.02247588336467743)\n",
            "     | > avg_loss_disc_real_3:\u001b[91m 0.20841525495052338 \u001b[0m(+0.019851475954055786)\n",
            "     | > avg_loss_disc_real_4:\u001b[92m 0.18539109826087952 \u001b[0m(-0.056433483958244324)\n",
            "     | > avg_loss_disc_real_5:\u001b[92m 0.19603991508483887 \u001b[0m(-0.05709609389305115)\n",
            "     | > avg_loss_0:\u001b[92m 2.4379053115844727 \u001b[0m(-0.34950852394104004)\n",
            "     | > avg_loss_gen:\u001b[91m 2.154573917388916 \u001b[0m(+0.2624855041503906)\n",
            "     | > avg_loss_kl:\u001b[91m 2.001176357269287 \u001b[0m(+0.40148937702178955)\n",
            "     | > avg_loss_feat:\u001b[91m 4.799741268157959 \u001b[0m(+0.6717705726623535)\n",
            "     | > avg_loss_mel:\u001b[91m 20.95734405517578 \u001b[0m(+0.44258689880371094)\n",
            "     | > avg_loss_duration:\u001b[92m 1.3529945611953735 \u001b[0m(-0.011017799377441406)\n",
            "     | > avg_loss_1:\u001b[91m 31.265830993652344 \u001b[0m(+1.7673168182373047)\n",
            "\n",
            "\n",
            "\u001b[4m\u001b[1m > EPOCH: 10/300\u001b[0m\n",
            " --> vits_20k_steps\n",
            "\n",
            "\u001b[1m > TRAINING (2024-05-19 06:44:43) \u001b[0m\n",
            "\n",
            "\u001b[1m > EVALUATION \u001b[0m\n",
            "\n"
          ]
        },
        {
          "name": "stdout",
          "output_type": "stream",
          "text": [
            " | > Synthesizing test sentences.\n"
          ]
        },
        {
          "name": "stderr",
          "output_type": "stream",
          "text": [
            "\n",
            "  \u001b[1m--> EVAL PERFORMANCE\u001b[0m\n",
            "     | > avg_loader_time:\u001b[92m 3.178347110748291 \u001b[0m(-0.19652748107910156)\n",
            "     | > avg_loss_disc:\u001b[91m 2.6568260192871094 \u001b[0m(+0.21892070770263672)\n",
            "     | > avg_loss_disc_real_0:\u001b[91m 0.1856728047132492 \u001b[0m(+0.025436922907829285)\n",
            "     | > avg_loss_disc_real_1:\u001b[92m 0.24113744497299194 \u001b[0m(-0.0317101776599884)\n",
            "     | > avg_loss_disc_real_2:\u001b[92m 0.21062417328357697 \u001b[0m(-0.03275942802429199)\n",
            "     | > avg_loss_disc_real_3:\u001b[92m 0.17611704766750336 \u001b[0m(-0.03229820728302002)\n",
            "     | > avg_loss_disc_real_4:\u001b[91m 0.2464228868484497 \u001b[0m(+0.06103178858757019)\n",
            "     | > avg_loss_disc_real_5:\u001b[92m 0.15151441097259521 \u001b[0m(-0.04452550411224365)\n",
            "     | > avg_loss_0:\u001b[91m 2.6568260192871094 \u001b[0m(+0.21892070770263672)\n",
            "     | > avg_loss_gen:\u001b[92m 1.8609081506729126 \u001b[0m(-0.2936657667160034)\n",
            "     | > avg_loss_kl:\u001b[92m 1.8062680959701538 \u001b[0m(-0.1949082612991333)\n",
            "     | > avg_loss_feat:\u001b[91m 4.840552806854248 \u001b[0m(+0.04081153869628906)\n",
            "     | > avg_loss_mel:\u001b[92m 20.817829132080078 \u001b[0m(-0.13951492309570312)\n",
            "     | > avg_loss_duration:\u001b[92m 1.3253422975540161 \u001b[0m(-0.027652263641357422)\n",
            "     | > avg_loss_1:\u001b[92m 30.65089988708496 \u001b[0m(-0.6149311065673828)\n",
            "\n",
            "\n",
            "\u001b[4m\u001b[1m > EPOCH: 11/300\u001b[0m\n",
            " --> vits_20k_steps\n",
            "\n",
            "\u001b[1m > TRAINING (2024-05-19 06:45:08) \u001b[0m\n",
            "\n",
            "\u001b[1m > EVALUATION \u001b[0m\n",
            "\n"
          ]
        },
        {
          "name": "stdout",
          "output_type": "stream",
          "text": [
            " | > Synthesizing test sentences.\n"
          ]
        },
        {
          "name": "stderr",
          "output_type": "stream",
          "text": [
            "\n",
            "  \u001b[1m--> EVAL PERFORMANCE\u001b[0m\n",
            "     | > avg_loader_time:\u001b[92m 3.1596896648406982 \u001b[0m(-0.018657445907592773)\n",
            "     | > avg_loss_disc:\u001b[92m 2.512895107269287 \u001b[0m(-0.14393091201782227)\n",
            "     | > avg_loss_disc_real_0:\u001b[92m 0.18226151168346405 \u001b[0m(-0.0034112930297851562)\n",
            "     | > avg_loss_disc_real_1:\u001b[92m 0.2107701599597931 \u001b[0m(-0.030367285013198853)\n",
            "     | > avg_loss_disc_real_2:\u001b[91m 0.21576078236103058 \u001b[0m(+0.005136609077453613)\n",
            "     | > avg_loss_disc_real_3:\u001b[91m 0.23320719599723816 \u001b[0m(+0.0570901483297348)\n",
            "     | > avg_loss_disc_real_4:\u001b[92m 0.19476346671581268 \u001b[0m(-0.051659420132637024)\n",
            "     | > avg_loss_disc_real_5:\u001b[91m 0.2588861882686615 \u001b[0m(+0.10737177729606628)\n",
            "     | > avg_loss_0:\u001b[92m 2.512895107269287 \u001b[0m(-0.14393091201782227)\n",
            "     | > avg_loss_gen:\u001b[91m 2.070991039276123 \u001b[0m(+0.21008288860321045)\n",
            "     | > avg_loss_kl:\u001b[92m 1.7707560062408447 \u001b[0m(-0.03551208972930908)\n",
            "     | > avg_loss_feat:\u001b[92m 3.9895386695861816 \u001b[0m(-0.8510141372680664)\n",
            "     | > avg_loss_mel:\u001b[92m 19.97640609741211 \u001b[0m(-0.8414230346679688)\n",
            "     | > avg_loss_duration:\u001b[92m 1.323817253112793 \u001b[0m(-0.0015250444412231445)\n",
            "     | > avg_loss_1:\u001b[92m 29.131511688232422 \u001b[0m(-1.519388198852539)\n",
            "\n",
            "\n",
            "\u001b[4m\u001b[1m > EPOCH: 12/300\u001b[0m\n",
            " --> vits_20k_steps\n",
            "\n",
            "\u001b[1m > TRAINING (2024-05-19 06:45:33) \u001b[0m\n",
            "\n",
            "\u001b[1m > EVALUATION \u001b[0m\n",
            "\n"
          ]
        },
        {
          "name": "stdout",
          "output_type": "stream",
          "text": [
            " | > Synthesizing test sentences.\n"
          ]
        },
        {
          "name": "stderr",
          "output_type": "stream",
          "text": [
            "\n",
            "  \u001b[1m--> EVAL PERFORMANCE\u001b[0m\n",
            "     | > avg_loader_time:\u001b[91m 3.3151347637176514 \u001b[0m(+0.15544509887695312)\n",
            "     | > avg_loss_disc:\u001b[91m 2.8039839267730713 \u001b[0m(+0.2910888195037842)\n",
            "     | > avg_loss_disc_real_0:\u001b[91m 0.2462213635444641 \u001b[0m(+0.06395985186100006)\n",
            "     | > avg_loss_disc_real_1:\u001b[91m 0.23220902681350708 \u001b[0m(+0.02143886685371399)\n",
            "     | > avg_loss_disc_real_2:\u001b[92m 0.17636199295520782 \u001b[0m(-0.039398789405822754)\n",
            "     | > avg_loss_disc_real_3:\u001b[91m 0.2383042573928833 \u001b[0m(+0.005097061395645142)\n",
            "     | > avg_loss_disc_real_4:\u001b[91m 0.2579841911792755 \u001b[0m(+0.06322072446346283)\n",
            "     | > avg_loss_disc_real_5:\u001b[92m 0.24407139420509338 \u001b[0m(-0.014814794063568115)\n",
            "     | > avg_loss_0:\u001b[91m 2.8039839267730713 \u001b[0m(+0.2910888195037842)\n",
            "     | > avg_loss_gen:\u001b[92m 1.8956209421157837 \u001b[0m(-0.17537009716033936)\n",
            "     | > avg_loss_kl:\u001b[92m 1.4803014993667603 \u001b[0m(-0.2904545068740845)\n",
            "     | > avg_loss_feat:\u001b[91m 4.831916332244873 \u001b[0m(+0.8423776626586914)\n",
            "     | > avg_loss_mel:\u001b[92m 19.656856536865234 \u001b[0m(-0.319549560546875)\n",
            "     | > avg_loss_duration:\u001b[91m 1.3362541198730469 \u001b[0m(+0.012436866760253906)\n",
            "     | > avg_loss_1:\u001b[91m 29.20094871520996 \u001b[0m(+0.06943702697753906)\n",
            "\n",
            "\n",
            "\u001b[4m\u001b[1m > EPOCH: 13/300\u001b[0m\n",
            " --> vits_20k_steps\n",
            "\n",
            "\u001b[1m > TRAINING (2024-05-19 06:45:59) \u001b[0m\n",
            "\n",
            "\u001b[1m > EVALUATION \u001b[0m\n",
            "\n"
          ]
        },
        {
          "name": "stdout",
          "output_type": "stream",
          "text": [
            " | > Synthesizing test sentences.\n"
          ]
        },
        {
          "name": "stderr",
          "output_type": "stream",
          "text": [
            "\n",
            "  \u001b[1m--> EVAL PERFORMANCE\u001b[0m\n",
            "     | > avg_loader_time:\u001b[92m 3.2752106189727783 \u001b[0m(-0.03992414474487305)\n",
            "     | > avg_loss_disc:\u001b[92m 2.5419483184814453 \u001b[0m(-0.262035608291626)\n",
            "     | > avg_loss_disc_real_0:\u001b[92m 0.1956351101398468 \u001b[0m(-0.05058625340461731)\n",
            "     | > avg_loss_disc_real_1:\u001b[91m 0.2824602425098419 \u001b[0m(+0.05025121569633484)\n",
            "     | > avg_loss_disc_real_2:\u001b[91m 0.2321871668100357 \u001b[0m(+0.05582517385482788)\n",
            "     | > avg_loss_disc_real_3:\u001b[92m 0.1823318749666214 \u001b[0m(-0.0559723824262619)\n",
            "     | > avg_loss_disc_real_4:\u001b[92m 0.18571017682552338 \u001b[0m(-0.07227401435375214)\n",
            "     | > avg_loss_disc_real_5:\u001b[92m 0.19843994081020355 \u001b[0m(-0.04563145339488983)\n",
            "     | > avg_loss_0:\u001b[92m 2.5419483184814453 \u001b[0m(-0.262035608291626)\n",
            "     | > avg_loss_gen:\u001b[91m 2.049849033355713 \u001b[0m(+0.1542280912399292)\n",
            "     | > avg_loss_kl:\u001b[91m 1.8679323196411133 \u001b[0m(+0.387630820274353)\n",
            "     | > avg_loss_feat:\u001b[92m 4.579824447631836 \u001b[0m(-0.2520918846130371)\n",
            "     | > avg_loss_mel:\u001b[91m 20.525484085083008 \u001b[0m(+0.8686275482177734)\n",
            "     | > avg_loss_duration:\u001b[91m 1.3584429025650024 \u001b[0m(+0.022188782691955566)\n",
            "     | > avg_loss_1:\u001b[91m 30.38153076171875 \u001b[0m(+1.180582046508789)\n",
            "\n",
            "\n",
            "\u001b[4m\u001b[1m > EPOCH: 14/300\u001b[0m\n",
            " --> vits_20k_steps\n",
            "\n",
            "\u001b[1m > TRAINING (2024-05-19 06:46:25) \u001b[0m\n",
            "\n",
            "\u001b[1m > EVALUATION \u001b[0m\n",
            "\n"
          ]
        },
        {
          "name": "stdout",
          "output_type": "stream",
          "text": [
            " | > Synthesizing test sentences.\n"
          ]
        },
        {
          "name": "stderr",
          "output_type": "stream",
          "text": [
            "\n",
            "  \u001b[1m--> EVAL PERFORMANCE\u001b[0m\n",
            "     | > avg_loader_time:\u001b[91m 3.4260036945343018 \u001b[0m(+0.15079307556152344)\n",
            "     | > avg_loss_disc:\u001b[91m 2.644090414047241 \u001b[0m(+0.1021420955657959)\n",
            "     | > avg_loss_disc_real_0:\u001b[92m 0.1393345296382904 \u001b[0m(-0.056300580501556396)\n",
            "     | > avg_loss_disc_real_1:\u001b[92m 0.19616307318210602 \u001b[0m(-0.0862971693277359)\n",
            "     | > avg_loss_disc_real_2:\u001b[92m 0.20826727151870728 \u001b[0m(-0.02391989529132843)\n",
            "     | > avg_loss_disc_real_3:\u001b[91m 0.2516888380050659 \u001b[0m(+0.06935696303844452)\n",
            "     | > avg_loss_disc_real_4:\u001b[91m 0.2508065402507782 \u001b[0m(+0.06509636342525482)\n",
            "     | > avg_loss_disc_real_5:\u001b[91m 0.25478851795196533 \u001b[0m(+0.05634857714176178)\n",
            "     | > avg_loss_0:\u001b[91m 2.644090414047241 \u001b[0m(+0.1021420955657959)\n",
            "     | > avg_loss_gen:\u001b[92m 1.8660058975219727 \u001b[0m(-0.18384313583374023)\n",
            "     | > avg_loss_kl:\u001b[92m 1.6385836601257324 \u001b[0m(-0.22934865951538086)\n",
            "     | > avg_loss_feat:\u001b[92m 4.068015098571777 \u001b[0m(-0.5118093490600586)\n",
            "     | > avg_loss_mel:\u001b[92m 20.28862190246582 \u001b[0m(-0.2368621826171875)\n",
            "     | > avg_loss_duration:\u001b[91m 1.3630592823028564 \u001b[0m(+0.004616379737854004)\n",
            "     | > avg_loss_1:\u001b[92m 29.224285125732422 \u001b[0m(-1.1572456359863281)\n",
            "\n",
            "\n",
            "\u001b[4m\u001b[1m > EPOCH: 15/300\u001b[0m\n",
            " --> vits_20k_steps\n",
            "\n",
            "\u001b[1m > TRAINING (2024-05-19 06:46:50) \u001b[0m\n",
            "\n",
            "\u001b[1m > EVALUATION \u001b[0m\n",
            "\n"
          ]
        },
        {
          "name": "stdout",
          "output_type": "stream",
          "text": [
            " | > Synthesizing test sentences.\n"
          ]
        },
        {
          "name": "stderr",
          "output_type": "stream",
          "text": [
            "\n",
            "  \u001b[1m--> EVAL PERFORMANCE\u001b[0m\n",
            "     | > avg_loader_time:\u001b[92m 3.3005051612854004 \u001b[0m(-0.12549853324890137)\n",
            "     | > avg_loss_disc:\u001b[92m 2.497943639755249 \u001b[0m(-0.1461467742919922)\n",
            "     | > avg_loss_disc_real_0:\u001b[91m 0.16149121522903442 \u001b[0m(+0.02215668559074402)\n",
            "     | > avg_loss_disc_real_1:\u001b[91m 0.23467284440994263 \u001b[0m(+0.03850977122783661)\n",
            "     | > avg_loss_disc_real_2:\u001b[92m 0.16024313867092133 \u001b[0m(-0.04802413284778595)\n",
            "     | > avg_loss_disc_real_3:\u001b[92m 0.23309221863746643 \u001b[0m(-0.018596619367599487)\n",
            "     | > avg_loss_disc_real_4:\u001b[92m 0.12376707047224045 \u001b[0m(-0.12703946977853775)\n",
            "     | > avg_loss_disc_real_5:\u001b[92m 0.1812058985233307 \u001b[0m(-0.07358261942863464)\n",
            "     | > avg_loss_0:\u001b[92m 2.497943639755249 \u001b[0m(-0.1461467742919922)\n",
            "     | > avg_loss_gen:\u001b[91m 1.9590492248535156 \u001b[0m(+0.09304332733154297)\n",
            "     | > avg_loss_kl:\u001b[91m 1.7684190273284912 \u001b[0m(+0.1298353672027588)\n",
            "     | > avg_loss_feat:\u001b[91m 5.5180559158325195 \u001b[0m(+1.4500408172607422)\n",
            "     | > avg_loss_mel:\u001b[91m 21.018301010131836 \u001b[0m(+0.7296791076660156)\n",
            "     | > avg_loss_duration:\u001b[91m 1.3777456283569336 \u001b[0m(+0.014686346054077148)\n",
            "     | > avg_loss_1:\u001b[91m 31.641571044921875 \u001b[0m(+2.417285919189453)\n",
            "\n",
            "\n",
            "\u001b[4m\u001b[1m > EPOCH: 16/300\u001b[0m\n",
            " --> vits_20k_steps\n",
            "\n",
            "\u001b[1m > TRAINING (2024-05-19 06:47:18) \u001b[0m\n",
            "\n",
            "\u001b[1m > EVALUATION \u001b[0m\n",
            "\n"
          ]
        },
        {
          "name": "stdout",
          "output_type": "stream",
          "text": [
            " | > Synthesizing test sentences.\n"
          ]
        },
        {
          "name": "stderr",
          "output_type": "stream",
          "text": [
            "\n",
            "  \u001b[1m--> EVAL PERFORMANCE\u001b[0m\n",
            "     | > avg_loader_time:\u001b[91m 3.3991479873657227 \u001b[0m(+0.09864282608032227)\n",
            "     | > avg_loss_disc:\u001b[92m 2.4744863510131836 \u001b[0m(-0.02345728874206543)\n",
            "     | > avg_loss_disc_real_0:\u001b[92m 0.12905246019363403 \u001b[0m(-0.03243875503540039)\n",
            "     | > avg_loss_disc_real_1:\u001b[92m 0.22063368558883667 \u001b[0m(-0.014039158821105957)\n",
            "     | > avg_loss_disc_real_2:\u001b[91m 0.20601417124271393 \u001b[0m(+0.0457710325717926)\n",
            "     | > avg_loss_disc_real_3:\u001b[91m 0.2552569806575775 \u001b[0m(+0.022164762020111084)\n",
            "     | > avg_loss_disc_real_4:\u001b[91m 0.16648876667022705 \u001b[0m(+0.0427216961979866)\n",
            "     | > avg_loss_disc_real_5:\u001b[92m 0.17598049342632294 \u001b[0m(-0.0052254050970077515)\n",
            "     | > avg_loss_0:\u001b[92m 2.4744863510131836 \u001b[0m(-0.02345728874206543)\n",
            "     | > avg_loss_gen:\u001b[91m 2.045254707336426 \u001b[0m(+0.08620548248291016)\n",
            "     | > avg_loss_kl:\u001b[92m 1.6802858114242554 \u001b[0m(-0.08813321590423584)\n",
            "     | > avg_loss_feat:\u001b[92m 4.645333290100098 \u001b[0m(-0.8727226257324219)\n",
            "     | > avg_loss_mel:\u001b[92m 20.344633102416992 \u001b[0m(-0.6736679077148438)\n",
            "     | > avg_loss_duration:\u001b[92m 1.377150058746338 \u001b[0m(-0.0005955696105957031)\n",
            "     | > avg_loss_1:\u001b[92m 30.0926570892334 \u001b[0m(-1.5489139556884766)\n",
            "\n",
            "\n",
            "\u001b[4m\u001b[1m > EPOCH: 17/300\u001b[0m\n",
            " --> vits_20k_steps\n",
            "\n",
            "\u001b[1m > TRAINING (2024-05-19 06:47:44) \u001b[0m\n",
            "\n",
            "\u001b[1m > EVALUATION \u001b[0m\n",
            "\n"
          ]
        },
        {
          "name": "stdout",
          "output_type": "stream",
          "text": [
            " | > Synthesizing test sentences.\n"
          ]
        },
        {
          "name": "stderr",
          "output_type": "stream",
          "text": [
            "\n",
            "  \u001b[1m--> EVAL PERFORMANCE\u001b[0m\n",
            "     | > avg_loader_time:\u001b[92m 3.2880311012268066 \u001b[0m(-0.11111688613891602)\n",
            "     | > avg_loss_disc:\u001b[91m 2.55800724029541 \u001b[0m(+0.08352088928222656)\n",
            "     | > avg_loss_disc_real_0:\u001b[92m 0.11568862199783325 \u001b[0m(-0.013363838195800781)\n",
            "     | > avg_loss_disc_real_1:\u001b[92m 0.19557452201843262 \u001b[0m(-0.025059163570404053)\n",
            "     | > avg_loss_disc_real_2:\u001b[92m 0.204109326004982 \u001b[0m(-0.0019048452377319336)\n",
            "     | > avg_loss_disc_real_3:\u001b[91m 0.2572641372680664 \u001b[0m(+0.0020071566104888916)\n",
            "     | > avg_loss_disc_real_4:\u001b[91m 0.22769296169281006 \u001b[0m(+0.06120419502258301)\n",
            "     | > avg_loss_disc_real_5:\u001b[91m 0.21769125759601593 \u001b[0m(+0.04171076416969299)\n",
            "     | > avg_loss_0:\u001b[91m 2.55800724029541 \u001b[0m(+0.08352088928222656)\n",
            "     | > avg_loss_gen:\u001b[92m 1.9344308376312256 \u001b[0m(-0.1108238697052002)\n",
            "     | > avg_loss_kl:\u001b[91m 1.735005497932434 \u001b[0m(+0.05471968650817871)\n",
            "     | > avg_loss_feat:\u001b[91m 4.845266342163086 \u001b[0m(+0.19993305206298828)\n",
            "     | > avg_loss_mel:\u001b[92m 20.04203224182129 \u001b[0m(-0.3026008605957031)\n",
            "     | > avg_loss_duration:\u001b[92m 1.3720793724060059 \u001b[0m(-0.005070686340332031)\n",
            "     | > avg_loss_1:\u001b[92m 29.928813934326172 \u001b[0m(-0.16384315490722656)\n",
            "\n",
            "\n",
            "\u001b[4m\u001b[1m > EPOCH: 18/300\u001b[0m\n",
            " --> vits_20k_steps\n",
            "\n",
            "\u001b[1m > TRAINING (2024-05-19 06:48:10) \u001b[0m\n",
            "\n",
            "\u001b[1m > EVALUATION \u001b[0m\n",
            "\n"
          ]
        },
        {
          "name": "stdout",
          "output_type": "stream",
          "text": [
            " | > Synthesizing test sentences.\n"
          ]
        },
        {
          "name": "stderr",
          "output_type": "stream",
          "text": [
            "\n",
            "  \u001b[1m--> EVAL PERFORMANCE\u001b[0m\n",
            "     | > avg_loader_time:\u001b[92m 3.112194776535034 \u001b[0m(-0.17583632469177246)\n",
            "     | > avg_loss_disc:\u001b[91m 2.8195502758026123 \u001b[0m(+0.26154303550720215)\n",
            "     | > avg_loss_disc_real_0:\u001b[91m 0.3540053367614746 \u001b[0m(+0.23831671476364136)\n",
            "     | > avg_loss_disc_real_1:\u001b[91m 0.22542601823806763 \u001b[0m(+0.02985149621963501)\n",
            "     | > avg_loss_disc_real_2:\u001b[91m 0.24324153363704681 \u001b[0m(+0.03913220763206482)\n",
            "     | > avg_loss_disc_real_3:\u001b[92m 0.21419885754585266 \u001b[0m(-0.043065279722213745)\n",
            "     | > avg_loss_disc_real_4:\u001b[92m 0.17434489727020264 \u001b[0m(-0.05334806442260742)\n",
            "     | > avg_loss_disc_real_5:\u001b[91m 0.22548623383045197 \u001b[0m(+0.007794976234436035)\n",
            "     | > avg_loss_0:\u001b[91m 2.8195502758026123 \u001b[0m(+0.26154303550720215)\n",
            "     | > avg_loss_gen:\u001b[92m 1.9333730936050415 \u001b[0m(-0.001057744026184082)\n",
            "     | > avg_loss_kl:\u001b[91m 1.8462525606155396 \u001b[0m(+0.11124706268310547)\n",
            "     | > avg_loss_feat:\u001b[92m 4.396613121032715 \u001b[0m(-0.4486532211303711)\n",
            "     | > avg_loss_mel:\u001b[91m 20.151710510253906 \u001b[0m(+0.10967826843261719)\n",
            "     | > avg_loss_duration:\u001b[92m 1.358492374420166 \u001b[0m(-0.013586997985839844)\n",
            "     | > avg_loss_1:\u001b[92m 29.68644142150879 \u001b[0m(-0.2423725128173828)\n",
            "\n",
            "\n",
            "\u001b[4m\u001b[1m > EPOCH: 19/300\u001b[0m\n",
            " --> vits_20k_steps\n",
            "\n",
            "\u001b[1m > TRAINING (2024-05-19 06:48:36) \u001b[0m\n",
            "\n",
            "\u001b[1m > EVALUATION \u001b[0m\n",
            "\n"
          ]
        },
        {
          "name": "stdout",
          "output_type": "stream",
          "text": [
            " | > Synthesizing test sentences.\n"
          ]
        },
        {
          "name": "stderr",
          "output_type": "stream",
          "text": [
            "\n",
            "  \u001b[1m--> EVAL PERFORMANCE\u001b[0m\n",
            "     | > avg_loader_time:\u001b[91m 3.3337857723236084 \u001b[0m(+0.22159099578857422)\n",
            "     | > avg_loss_disc:\u001b[92m 2.5894947052001953 \u001b[0m(-0.230055570602417)\n",
            "     | > avg_loss_disc_real_0:\u001b[92m 0.2551760673522949 \u001b[0m(-0.09882926940917969)\n",
            "     | > avg_loss_disc_real_1:\u001b[91m 0.245110884308815 \u001b[0m(+0.019684866070747375)\n",
            "     | > avg_loss_disc_real_2:\u001b[92m 0.21185582876205444 \u001b[0m(-0.03138570487499237)\n",
            "     | > avg_loss_disc_real_3:\u001b[92m 0.1999029517173767 \u001b[0m(-0.014295905828475952)\n",
            "     | > avg_loss_disc_real_4:\u001b[91m 0.25295159220695496 \u001b[0m(+0.07860669493675232)\n",
            "     | > avg_loss_disc_real_5:\u001b[92m 0.17496035993099213 \u001b[0m(-0.05052587389945984)\n",
            "     | > avg_loss_0:\u001b[92m 2.5894947052001953 \u001b[0m(-0.230055570602417)\n",
            "     | > avg_loss_gen:\u001b[91m 2.0509252548217773 \u001b[0m(+0.11755216121673584)\n",
            "     | > avg_loss_kl:\u001b[92m 1.5446282625198364 \u001b[0m(-0.3016242980957031)\n",
            "     | > avg_loss_feat:\u001b[92m 3.6481761932373047 \u001b[0m(-0.7484369277954102)\n",
            "     | > avg_loss_mel:\u001b[92m 19.142972946166992 \u001b[0m(-1.008737564086914)\n",
            "     | > avg_loss_duration:\u001b[92m 1.350528359413147 \u001b[0m(-0.007964015007019043)\n",
            "     | > avg_loss_1:\u001b[92m 27.737232208251953 \u001b[0m(-1.949209213256836)\n",
            "\n",
            " > BEST MODEL : vits_20k_steps/best_model_24510.pth\n",
            "\n",
            "\u001b[4m\u001b[1m > EPOCH: 20/300\u001b[0m\n",
            " --> vits_20k_steps\n",
            "\n",
            "\u001b[1m > TRAINING (2024-05-19 06:49:04) \u001b[0m\n",
            "\n",
            "\u001b[1m > EVALUATION \u001b[0m\n",
            "\n"
          ]
        },
        {
          "name": "stdout",
          "output_type": "stream",
          "text": [
            " | > Synthesizing test sentences.\n"
          ]
        },
        {
          "name": "stderr",
          "output_type": "stream",
          "text": [
            "\n",
            "  \u001b[1m--> EVAL PERFORMANCE\u001b[0m\n",
            "     | > avg_loader_time:\u001b[92m 3.301149845123291 \u001b[0m(-0.03263592720031738)\n",
            "     | > avg_loss_disc:\u001b[91m 2.6323368549346924 \u001b[0m(+0.04284214973449707)\n",
            "     | > avg_loss_disc_real_0:\u001b[92m 0.22091996669769287 \u001b[0m(-0.03425610065460205)\n",
            "     | > avg_loss_disc_real_1:\u001b[92m 0.21710723638534546 \u001b[0m(-0.028003647923469543)\n",
            "     | > avg_loss_disc_real_2:\u001b[91m 0.25213170051574707 \u001b[0m(+0.04027587175369263)\n",
            "     | > avg_loss_disc_real_3:\u001b[92m 0.1800907403230667 \u001b[0m(-0.019812211394309998)\n",
            "     | > avg_loss_disc_real_4:\u001b[92m 0.2052779495716095 \u001b[0m(-0.04767364263534546)\n",
            "     | > avg_loss_disc_real_5:\u001b[91m 0.21169932186603546 \u001b[0m(+0.036738961935043335)\n",
            "     | > avg_loss_0:\u001b[91m 2.6323368549346924 \u001b[0m(+0.04284214973449707)\n",
            "     | > avg_loss_gen:\u001b[92m 1.9500356912612915 \u001b[0m(-0.10088956356048584)\n",
            "     | > avg_loss_kl:\u001b[92m 1.1302882432937622 \u001b[0m(-0.4143400192260742)\n",
            "     | > avg_loss_feat:\u001b[91m 3.838271141052246 \u001b[0m(+0.1900949478149414)\n",
            "     | > avg_loss_mel:\u001b[91m 20.639196395874023 \u001b[0m(+1.4962234497070312)\n",
            "     | > avg_loss_duration:\u001b[91m 1.3533508777618408 \u001b[0m(+0.0028225183486938477)\n",
            "     | > avg_loss_1:\u001b[91m 28.911142349243164 \u001b[0m(+1.173910140991211)\n",
            "\n",
            "\n",
            "\u001b[4m\u001b[1m > EPOCH: 21/300\u001b[0m\n",
            " --> vits_20k_steps\n",
            "\n",
            "\u001b[1m > TRAINING (2024-05-19 06:49:29) \u001b[0m\n",
            "\n",
            "\u001b[1m > EVALUATION \u001b[0m\n",
            "\n"
          ]
        },
        {
          "name": "stdout",
          "output_type": "stream",
          "text": [
            " | > Synthesizing test sentences.\n"
          ]
        },
        {
          "name": "stderr",
          "output_type": "stream",
          "text": [
            "\n",
            "  \u001b[1m--> EVAL PERFORMANCE\u001b[0m\n",
            "     | > avg_loader_time:\u001b[92m 3.196492910385132 \u001b[0m(-0.10465693473815918)\n",
            "     | > avg_loss_disc:\u001b[92m 2.50445818901062 \u001b[0m(-0.12787866592407227)\n",
            "     | > avg_loss_disc_real_0:\u001b[92m 0.19120179116725922 \u001b[0m(-0.029718175530433655)\n",
            "     | > avg_loss_disc_real_1:\u001b[91m 0.25112587213516235 \u001b[0m(+0.034018635749816895)\n",
            "     | > avg_loss_disc_real_2:\u001b[92m 0.23325714468955994 \u001b[0m(-0.018874555826187134)\n",
            "     | > avg_loss_disc_real_3:\u001b[91m 0.22377711534500122 \u001b[0m(+0.04368637502193451)\n",
            "     | > avg_loss_disc_real_4:\u001b[92m 0.14992640912532806 \u001b[0m(-0.05535154044628143)\n",
            "     | > avg_loss_disc_real_5:\u001b[91m 0.22922973334789276 \u001b[0m(+0.0175304114818573)\n",
            "     | > avg_loss_0:\u001b[92m 2.50445818901062 \u001b[0m(-0.12787866592407227)\n",
            "     | > avg_loss_gen:\u001b[91m 2.0980379581451416 \u001b[0m(+0.1480022668838501)\n",
            "     | > avg_loss_kl:\u001b[91m 1.8932634592056274 \u001b[0m(+0.7629752159118652)\n",
            "     | > avg_loss_feat:\u001b[91m 5.229647636413574 \u001b[0m(+1.3913764953613281)\n",
            "     | > avg_loss_mel:\u001b[92m 20.418472290039062 \u001b[0m(-0.22072410583496094)\n",
            "     | > avg_loss_duration:\u001b[91m 1.3821115493774414 \u001b[0m(+0.028760671615600586)\n",
            "     | > avg_loss_1:\u001b[91m 31.021533966064453 \u001b[0m(+2.110391616821289)\n",
            "\n",
            "\n",
            "\u001b[4m\u001b[1m > EPOCH: 22/300\u001b[0m\n",
            " --> vits_20k_steps\n",
            "\n",
            "\u001b[1m > TRAINING (2024-05-19 06:49:54) \u001b[0m\n",
            "\n",
            "\u001b[1m > EVALUATION \u001b[0m\n",
            "\n"
          ]
        },
        {
          "name": "stdout",
          "output_type": "stream",
          "text": [
            " | > Synthesizing test sentences.\n"
          ]
        },
        {
          "name": "stderr",
          "output_type": "stream",
          "text": [
            "\n",
            "  \u001b[1m--> EVAL PERFORMANCE\u001b[0m\n",
            "     | > avg_loader_time:\u001b[91m 3.4408352375030518 \u001b[0m(+0.24434232711791992)\n",
            "     | > avg_loss_disc:\u001b[91m 2.5854411125183105 \u001b[0m(+0.08098292350769043)\n",
            "     | > avg_loss_disc_real_0:\u001b[91m 0.24457308650016785 \u001b[0m(+0.05337129533290863)\n",
            "     | > avg_loss_disc_real_1:\u001b[92m 0.19650039076805115 \u001b[0m(-0.054625481367111206)\n",
            "     | > avg_loss_disc_real_2:\u001b[92m 0.2308255136013031 \u001b[0m(-0.002431631088256836)\n",
            "     | > avg_loss_disc_real_3:\u001b[92m 0.2133985459804535 \u001b[0m(-0.01037856936454773)\n",
            "     | > avg_loss_disc_real_4:\u001b[91m 0.15419986844062805 \u001b[0m(+0.004273459315299988)\n",
            "     | > avg_loss_disc_real_5:\u001b[91m 0.2307051122188568 \u001b[0m(+0.0014753788709640503)\n",
            "     | > avg_loss_0:\u001b[91m 2.5854411125183105 \u001b[0m(+0.08098292350769043)\n",
            "     | > avg_loss_gen:\u001b[92m 1.9098176956176758 \u001b[0m(-0.18822026252746582)\n",
            "     | > avg_loss_kl:\u001b[91m 1.9121570587158203 \u001b[0m(+0.01889359951019287)\n",
            "     | > avg_loss_feat:\u001b[92m 4.21632194519043 \u001b[0m(-1.0133256912231445)\n",
            "     | > avg_loss_mel:\u001b[91m 20.435213088989258 \u001b[0m(+0.016740798950195312)\n",
            "     | > avg_loss_duration:\u001b[91m 1.3861550092697144 \u001b[0m(+0.004043459892272949)\n",
            "     | > avg_loss_1:\u001b[92m 29.859664916992188 \u001b[0m(-1.1618690490722656)\n",
            "\n",
            "\n",
            "\u001b[4m\u001b[1m > EPOCH: 23/300\u001b[0m\n",
            " --> vits_20k_steps\n",
            "\n",
            "\u001b[1m > TRAINING (2024-05-19 06:50:21) \u001b[0m\n",
            "\n",
            "\u001b[1m > EVALUATION \u001b[0m\n",
            "\n"
          ]
        },
        {
          "name": "stdout",
          "output_type": "stream",
          "text": [
            " | > Synthesizing test sentences.\n"
          ]
        },
        {
          "name": "stderr",
          "output_type": "stream",
          "text": [
            "\n",
            "  \u001b[1m--> EVAL PERFORMANCE\u001b[0m\n",
            "     | > avg_loader_time:\u001b[92m 3.317481279373169 \u001b[0m(-0.12335395812988281)\n",
            "     | > avg_loss_disc:\u001b[91m 2.594590663909912 \u001b[0m(+0.009149551391601562)\n",
            "     | > avg_loss_disc_real_0:\u001b[92m 0.10896164178848267 \u001b[0m(-0.13561144471168518)\n",
            "     | > avg_loss_disc_real_1:\u001b[92m 0.18171079456806183 \u001b[0m(-0.014789596199989319)\n",
            "     | > avg_loss_disc_real_2:\u001b[92m 0.19328977167606354 \u001b[0m(-0.03753574192523956)\n",
            "     | > avg_loss_disc_real_3:\u001b[92m 0.21244339644908905 \u001b[0m(-0.0009551495313644409)\n",
            "     | > avg_loss_disc_real_4:\u001b[91m 0.1996564120054245 \u001b[0m(+0.04545654356479645)\n",
            "     | > avg_loss_disc_real_5:\u001b[92m 0.1744607537984848 \u001b[0m(-0.05624435842037201)\n",
            "     | > avg_loss_0:\u001b[91m 2.594590663909912 \u001b[0m(+0.009149551391601562)\n",
            "     | > avg_loss_gen:\u001b[92m 1.7468574047088623 \u001b[0m(-0.16296029090881348)\n",
            "     | > avg_loss_kl:\u001b[92m 1.6359281539916992 \u001b[0m(-0.2762289047241211)\n",
            "     | > avg_loss_feat:\u001b[91m 5.033708572387695 \u001b[0m(+0.8173866271972656)\n",
            "     | > avg_loss_mel:\u001b[91m 20.911510467529297 \u001b[0m(+0.47629737854003906)\n",
            "     | > avg_loss_duration:\u001b[91m 1.3978936672210693 \u001b[0m(+0.01173865795135498)\n",
            "     | > avg_loss_1:\u001b[91m 30.72589683532715 \u001b[0m(+0.8662319183349609)\n",
            "\n",
            "\n",
            "\u001b[4m\u001b[1m > EPOCH: 24/300\u001b[0m\n",
            " --> vits_20k_steps\n",
            "\n",
            "\u001b[1m > TRAINING (2024-05-19 06:50:47) \u001b[0m\n",
            "\n",
            "\u001b[1m > EVALUATION \u001b[0m\n",
            "\n"
          ]
        },
        {
          "name": "stdout",
          "output_type": "stream",
          "text": [
            " | > Synthesizing test sentences.\n"
          ]
        },
        {
          "name": "stderr",
          "output_type": "stream",
          "text": [
            "\n",
            "  \u001b[1m--> EVAL PERFORMANCE\u001b[0m\n",
            "     | > avg_loader_time:\u001b[92m 3.269853353500366 \u001b[0m(-0.047627925872802734)\n",
            "     | > avg_loss_disc:\u001b[91m 2.6778626441955566 \u001b[0m(+0.08327198028564453)\n",
            "     | > avg_loss_disc_real_0:\u001b[91m 0.2815731167793274 \u001b[0m(+0.17261147499084473)\n",
            "     | > avg_loss_disc_real_1:\u001b[91m 0.25379663705825806 \u001b[0m(+0.07208584249019623)\n",
            "     | > avg_loss_disc_real_2:\u001b[91m 0.2039647400379181 \u001b[0m(+0.010674968361854553)\n",
            "     | > avg_loss_disc_real_3:\u001b[91m 0.23269696533679962 \u001b[0m(+0.02025356888771057)\n",
            "     | > avg_loss_disc_real_4:\u001b[91m 0.22799770534038544 \u001b[0m(+0.028341293334960938)\n",
            "     | > avg_loss_disc_real_5:\u001b[91m 0.19886986911296844 \u001b[0m(+0.024409115314483643)\n",
            "     | > avg_loss_0:\u001b[91m 2.6778626441955566 \u001b[0m(+0.08327198028564453)\n",
            "     | > avg_loss_gen:\u001b[91m 1.9910736083984375 \u001b[0m(+0.2442162036895752)\n",
            "     | > avg_loss_kl:\u001b[91m 1.7853872776031494 \u001b[0m(+0.1494591236114502)\n",
            "     | > avg_loss_feat:\u001b[92m 4.1773681640625 \u001b[0m(-0.8563404083251953)\n",
            "     | > avg_loss_mel:\u001b[92m 20.2553768157959 \u001b[0m(-0.6561336517333984)\n",
            "     | > avg_loss_duration:\u001b[92m 1.368499755859375 \u001b[0m(-0.029393911361694336)\n",
            "     | > avg_loss_1:\u001b[92m 29.57770538330078 \u001b[0m(-1.1481914520263672)\n",
            "\n",
            "\n",
            "\u001b[4m\u001b[1m > EPOCH: 25/300\u001b[0m\n",
            " --> vits_20k_steps\n",
            "\n",
            "\u001b[1m > TRAINING (2024-05-19 06:51:12) \u001b[0m\n",
            "\n",
            "\u001b[1m > EVALUATION \u001b[0m\n",
            "\n"
          ]
        },
        {
          "name": "stdout",
          "output_type": "stream",
          "text": [
            " | > Synthesizing test sentences.\n"
          ]
        },
        {
          "name": "stderr",
          "output_type": "stream",
          "text": [
            "\n",
            "  \u001b[1m--> EVAL PERFORMANCE\u001b[0m\n",
            "     | > avg_loader_time:\u001b[92m 3.168804407119751 \u001b[0m(-0.10104894638061523)\n",
            "     | > avg_loss_disc:\u001b[92m 2.609281539916992 \u001b[0m(-0.06858110427856445)\n",
            "     | > avg_loss_disc_real_0:\u001b[92m 0.2427743375301361 \u001b[0m(-0.038798779249191284)\n",
            "     | > avg_loss_disc_real_1:\u001b[92m 0.24735280871391296 \u001b[0m(-0.006443828344345093)\n",
            "     | > avg_loss_disc_real_2:\u001b[91m 0.22515849769115448 \u001b[0m(+0.02119375765323639)\n",
            "     | > avg_loss_disc_real_3:\u001b[92m 0.2223031222820282 \u001b[0m(-0.010393843054771423)\n",
            "     | > avg_loss_disc_real_4:\u001b[92m 0.2063298523426056 \u001b[0m(-0.021667852997779846)\n",
            "     | > avg_loss_disc_real_5:\u001b[91m 0.21010364592075348 \u001b[0m(+0.011233776807785034)\n",
            "     | > avg_loss_0:\u001b[92m 2.609281539916992 \u001b[0m(-0.06858110427856445)\n",
            "     | > avg_loss_gen:\u001b[91m 2.0266733169555664 \u001b[0m(+0.035599708557128906)\n",
            "     | > avg_loss_kl:\u001b[91m 1.801318645477295 \u001b[0m(+0.015931367874145508)\n",
            "     | > avg_loss_feat:\u001b[92m 3.959738254547119 \u001b[0m(-0.21762990951538086)\n",
            "     | > avg_loss_mel:\u001b[91m 20.43817901611328 \u001b[0m(+0.1828022003173828)\n",
            "     | > avg_loss_duration:\u001b[91m 1.4093432426452637 \u001b[0m(+0.04084348678588867)\n",
            "     | > avg_loss_1:\u001b[91m 29.63525390625 \u001b[0m(+0.05754852294921875)\n",
            "\n",
            "\n",
            "\u001b[4m\u001b[1m > EPOCH: 26/300\u001b[0m\n",
            " --> vits_20k_steps\n",
            "\n",
            "\u001b[1m > TRAINING (2024-05-19 06:51:40) \u001b[0m\n",
            "\n",
            "\u001b[1m > EVALUATION \u001b[0m\n",
            "\n"
          ]
        },
        {
          "name": "stdout",
          "output_type": "stream",
          "text": [
            " | > Synthesizing test sentences.\n"
          ]
        },
        {
          "name": "stderr",
          "output_type": "stream",
          "text": [
            "\n",
            "  \u001b[1m--> EVAL PERFORMANCE\u001b[0m\n",
            "     | > avg_loader_time:\u001b[92m 3.145956516265869 \u001b[0m(-0.022847890853881836)\n",
            "     | > avg_loss_disc:\u001b[91m 2.7564074993133545 \u001b[0m(+0.1471259593963623)\n",
            "     | > avg_loss_disc_real_0:\u001b[92m 0.1987079381942749 \u001b[0m(-0.044066399335861206)\n",
            "     | > avg_loss_disc_real_1:\u001b[92m 0.19808538258075714 \u001b[0m(-0.04926742613315582)\n",
            "     | > avg_loss_disc_real_2:\u001b[92m 0.22379861772060394 \u001b[0m(-0.0013598799705505371)\n",
            "     | > avg_loss_disc_real_3:\u001b[91m 0.26832789182662964 \u001b[0m(+0.04602476954460144)\n",
            "     | > avg_loss_disc_real_4:\u001b[91m 0.2240203469991684 \u001b[0m(+0.017690494656562805)\n",
            "     | > avg_loss_disc_real_5:\u001b[92m 0.19155269861221313 \u001b[0m(-0.018550947308540344)\n",
            "     | > avg_loss_0:\u001b[91m 2.7564074993133545 \u001b[0m(+0.1471259593963623)\n",
            "     | > avg_loss_gen:\u001b[92m 1.8632079362869263 \u001b[0m(-0.16346538066864014)\n",
            "     | > avg_loss_kl:\u001b[92m 1.699059009552002 \u001b[0m(-0.10225963592529297)\n",
            "     | > avg_loss_feat:\u001b[91m 4.444146156311035 \u001b[0m(+0.484407901763916)\n",
            "     | > avg_loss_mel:\u001b[91m 20.70420265197754 \u001b[0m(+0.2660236358642578)\n",
            "     | > avg_loss_duration:\u001b[91m 1.41480553150177 \u001b[0m(+0.005462288856506348)\n",
            "     | > avg_loss_1:\u001b[91m 30.125423431396484 \u001b[0m(+0.4901695251464844)\n",
            "\n",
            "\n",
            "\u001b[4m\u001b[1m > EPOCH: 27/300\u001b[0m\n",
            " --> vits_20k_steps\n",
            "\n",
            "\u001b[1m > TRAINING (2024-05-19 06:52:07) \u001b[0m\n",
            "\n",
            "\u001b[1m > EVALUATION \u001b[0m\n",
            "\n"
          ]
        },
        {
          "name": "stdout",
          "output_type": "stream",
          "text": [
            " | > Synthesizing test sentences.\n"
          ]
        },
        {
          "name": "stderr",
          "output_type": "stream",
          "text": [
            "\n",
            "  \u001b[1m--> EVAL PERFORMANCE\u001b[0m\n",
            "     | > avg_loader_time:\u001b[91m 3.2504470348358154 \u001b[0m(+0.10449051856994629)\n",
            "     | > avg_loss_disc:\u001b[92m 2.549164295196533 \u001b[0m(-0.2072432041168213)\n",
            "     | > avg_loss_disc_real_0:\u001b[91m 0.21317467093467712 \u001b[0m(+0.014466732740402222)\n",
            "     | > avg_loss_disc_real_1:\u001b[91m 0.22257322072982788 \u001b[0m(+0.02448783814907074)\n",
            "     | > avg_loss_disc_real_2:\u001b[91m 0.2508627772331238 \u001b[0m(+0.027064159512519836)\n",
            "     | > avg_loss_disc_real_3:\u001b[92m 0.19497215747833252 \u001b[0m(-0.07335573434829712)\n",
            "     | > avg_loss_disc_real_4:\u001b[92m 0.17101608216762543 \u001b[0m(-0.05300426483154297)\n",
            "     | > avg_loss_disc_real_5:\u001b[91m 0.21212799847126007 \u001b[0m(+0.020575299859046936)\n",
            "     | > avg_loss_0:\u001b[92m 2.549164295196533 \u001b[0m(-0.2072432041168213)\n",
            "     | > avg_loss_gen:\u001b[91m 1.9551472663879395 \u001b[0m(+0.09193933010101318)\n",
            "     | > avg_loss_kl:\u001b[91m 1.7472329139709473 \u001b[0m(+0.04817390441894531)\n",
            "     | > avg_loss_feat:\u001b[92m 3.8152647018432617 \u001b[0m(-0.6288814544677734)\n",
            "     | > avg_loss_mel:\u001b[91m 20.855493545532227 \u001b[0m(+0.1512908935546875)\n",
            "     | > avg_loss_duration:\u001b[91m 1.429323673248291 \u001b[0m(+0.014518141746520996)\n",
            "     | > avg_loss_1:\u001b[92m 29.802461624145508 \u001b[0m(-0.32296180725097656)\n",
            "\n",
            "\n",
            "\u001b[4m\u001b[1m > EPOCH: 28/300\u001b[0m\n",
            " --> vits_20k_steps\n",
            "\n",
            "\u001b[1m > TRAINING (2024-05-19 06:52:33) \u001b[0m\n",
            "\n",
            "\u001b[1m > EVALUATION \u001b[0m\n",
            "\n"
          ]
        },
        {
          "name": "stdout",
          "output_type": "stream",
          "text": [
            " | > Synthesizing test sentences.\n"
          ]
        },
        {
          "name": "stderr",
          "output_type": "stream",
          "text": [
            "\n",
            "  \u001b[1m--> EVAL PERFORMANCE\u001b[0m\n",
            "     | > avg_loader_time:\u001b[91m 3.2776901721954346 \u001b[0m(+0.02724313735961914)\n",
            "     | > avg_loss_disc:\u001b[91m 2.600710153579712 \u001b[0m(+0.05154585838317871)\n",
            "     | > avg_loss_disc_real_0:\u001b[92m 0.17665326595306396 \u001b[0m(-0.03652140498161316)\n",
            "     | > avg_loss_disc_real_1:\u001b[91m 0.25443965196609497 \u001b[0m(+0.03186643123626709)\n",
            "     | > avg_loss_disc_real_2:\u001b[92m 0.2297707349061966 \u001b[0m(-0.021092042326927185)\n",
            "     | > avg_loss_disc_real_3:\u001b[91m 0.21006475389003754 \u001b[0m(+0.015092596411705017)\n",
            "     | > avg_loss_disc_real_4:\u001b[91m 0.17340761423110962 \u001b[0m(+0.002391532063484192)\n",
            "     | > avg_loss_disc_real_5:\u001b[92m 0.163592129945755 \u001b[0m(-0.048535868525505066)\n",
            "     | > avg_loss_0:\u001b[91m 2.600710153579712 \u001b[0m(+0.05154585838317871)\n",
            "     | > avg_loss_gen:\u001b[92m 1.898887038230896 \u001b[0m(-0.05626022815704346)\n",
            "     | > avg_loss_kl:\u001b[91m 1.905442476272583 \u001b[0m(+0.15820956230163574)\n",
            "     | > avg_loss_feat:\u001b[91m 4.978910446166992 \u001b[0m(+1.1636457443237305)\n",
            "     | > avg_loss_mel:\u001b[92m 19.723276138305664 \u001b[0m(-1.1322174072265625)\n",
            "     | > avg_loss_duration:\u001b[91m 1.4479620456695557 \u001b[0m(+0.01863837242126465)\n",
            "     | > avg_loss_1:\u001b[91m 29.954477310180664 \u001b[0m(+0.15201568603515625)\n",
            "\n",
            "\n",
            "\u001b[4m\u001b[1m > EPOCH: 29/300\u001b[0m\n",
            " --> vits_20k_steps\n",
            "\n",
            "\u001b[1m > TRAINING (2024-05-19 06:53:01) \u001b[0m\n",
            "\n",
            "\u001b[1m > EVALUATION \u001b[0m\n",
            "\n"
          ]
        },
        {
          "name": "stdout",
          "output_type": "stream",
          "text": [
            " | > Synthesizing test sentences.\n"
          ]
        },
        {
          "name": "stderr",
          "output_type": "stream",
          "text": [
            "\n",
            "  \u001b[1m--> EVAL PERFORMANCE\u001b[0m\n",
            "     | > avg_loader_time:\u001b[91m 3.317694664001465 \u001b[0m(+0.04000449180603027)\n",
            "     | > avg_loss_disc:\u001b[92m 2.593935966491699 \u001b[0m(-0.006774187088012695)\n",
            "     | > avg_loss_disc_real_0:\u001b[91m 0.18308226764202118 \u001b[0m(+0.006429001688957214)\n",
            "     | > avg_loss_disc_real_1:\u001b[91m 0.2574313282966614 \u001b[0m(+0.0029916763305664062)\n",
            "     | > avg_loss_disc_real_2:\u001b[91m 0.23518942296504974 \u001b[0m(+0.005418688058853149)\n",
            "     | > avg_loss_disc_real_3:\u001b[91m 0.24769382178783417 \u001b[0m(+0.03762906789779663)\n",
            "     | > avg_loss_disc_real_4:\u001b[91m 0.20288991928100586 \u001b[0m(+0.02948230504989624)\n",
            "     | > avg_loss_disc_real_5:\u001b[91m 0.16631291806697845 \u001b[0m(+0.0027207881212234497)\n",
            "     | > avg_loss_0:\u001b[92m 2.593935966491699 \u001b[0m(-0.006774187088012695)\n",
            "     | > avg_loss_gen:\u001b[91m 1.966673493385315 \u001b[0m(+0.06778645515441895)\n",
            "     | > avg_loss_kl:\u001b[92m 1.6552925109863281 \u001b[0m(-0.2501499652862549)\n",
            "     | > avg_loss_feat:\u001b[92m 4.497729778289795 \u001b[0m(-0.48118066787719727)\n",
            "     | > avg_loss_mel:\u001b[91m 19.8337345123291 \u001b[0m(+0.1104583740234375)\n",
            "     | > avg_loss_duration:\u001b[92m 1.4244306087493896 \u001b[0m(-0.023531436920166016)\n",
            "     | > avg_loss_1:\u001b[92m 29.37786102294922 \u001b[0m(-0.5766162872314453)\n",
            "\n",
            "\n",
            "\u001b[4m\u001b[1m > EPOCH: 30/300\u001b[0m\n",
            " --> vits_20k_steps\n",
            "\n",
            "\u001b[1m > TRAINING (2024-05-19 06:53:28) \u001b[0m\n",
            "\n",
            "\u001b[1m > EVALUATION \u001b[0m\n",
            "\n"
          ]
        },
        {
          "name": "stdout",
          "output_type": "stream",
          "text": [
            " | > Synthesizing test sentences.\n"
          ]
        },
        {
          "name": "stderr",
          "output_type": "stream",
          "text": [
            "\n",
            "  \u001b[1m--> EVAL PERFORMANCE\u001b[0m\n",
            "     | > avg_loader_time:\u001b[91m 3.43656849861145 \u001b[0m(+0.11887383460998535)\n",
            "     | > avg_loss_disc:\u001b[92m 2.5844876766204834 \u001b[0m(-0.00944828987121582)\n",
            "     | > avg_loss_disc_real_0:\u001b[91m 0.2786988914012909 \u001b[0m(+0.09561662375926971)\n",
            "     | > avg_loss_disc_real_1:\u001b[92m 0.21097031235694885 \u001b[0m(-0.046461015939712524)\n",
            "     | > avg_loss_disc_real_2:\u001b[92m 0.21944575011730194 \u001b[0m(-0.015743672847747803)\n",
            "     | > avg_loss_disc_real_3:\u001b[92m 0.22022153437137604 \u001b[0m(-0.02747228741645813)\n",
            "     | > avg_loss_disc_real_4:\u001b[92m 0.18965110182762146 \u001b[0m(-0.0132388174533844)\n",
            "     | > avg_loss_disc_real_5:\u001b[91m 0.17637774348258972 \u001b[0m(+0.010064825415611267)\n",
            "     | > avg_loss_0:\u001b[92m 2.5844876766204834 \u001b[0m(-0.00944828987121582)\n",
            "     | > avg_loss_gen:\u001b[91m 2.0429704189300537 \u001b[0m(+0.07629692554473877)\n",
            "     | > avg_loss_kl:\u001b[92m 1.517985463142395 \u001b[0m(-0.1373070478439331)\n",
            "     | > avg_loss_feat:\u001b[92m 3.76706862449646 \u001b[0m(-0.730661153793335)\n",
            "     | > avg_loss_mel:\u001b[92m 19.30720329284668 \u001b[0m(-0.5265312194824219)\n",
            "     | > avg_loss_duration:\u001b[92m 1.403023600578308 \u001b[0m(-0.021407008171081543)\n",
            "     | > avg_loss_1:\u001b[92m 28.038251876831055 \u001b[0m(-1.339609146118164)\n",
            "\n",
            "\n",
            "\u001b[4m\u001b[1m > EPOCH: 31/300\u001b[0m\n",
            " --> vits_20k_steps\n",
            "\n",
            "\u001b[1m > TRAINING (2024-05-19 06:53:55) \u001b[0m\n",
            "\n",
            "\u001b[1m > EVALUATION \u001b[0m\n",
            "\n"
          ]
        },
        {
          "name": "stdout",
          "output_type": "stream",
          "text": [
            " | > Synthesizing test sentences.\n"
          ]
        },
        {
          "name": "stderr",
          "output_type": "stream",
          "text": [
            "\n",
            "  \u001b[1m--> EVAL PERFORMANCE\u001b[0m\n",
            "     | > avg_loader_time:\u001b[92m 3.2961971759796143 \u001b[0m(-0.14037132263183594)\n",
            "     | > avg_loss_disc:\u001b[92m 2.431889295578003 \u001b[0m(-0.15259838104248047)\n",
            "     | > avg_loss_disc_real_0:\u001b[92m 0.10409703105688095 \u001b[0m(-0.17460186034440994)\n",
            "     | > avg_loss_disc_real_1:\u001b[92m 0.21026866137981415 \u001b[0m(-0.0007016509771347046)\n",
            "     | > avg_loss_disc_real_2:\u001b[92m 0.16641265153884888 \u001b[0m(-0.053033098578453064)\n",
            "     | > avg_loss_disc_real_3:\u001b[91m 0.22603067755699158 \u001b[0m(+0.0058091431856155396)\n",
            "     | > avg_loss_disc_real_4:\u001b[92m 0.1691686511039734 \u001b[0m(-0.02048245072364807)\n",
            "     | > avg_loss_disc_real_5:\u001b[91m 0.21585965156555176 \u001b[0m(+0.039481908082962036)\n",
            "     | > avg_loss_0:\u001b[92m 2.431889295578003 \u001b[0m(-0.15259838104248047)\n",
            "     | > avg_loss_gen:\u001b[92m 1.9830827713012695 \u001b[0m(-0.05988764762878418)\n",
            "     | > avg_loss_kl:\u001b[92m 1.4091624021530151 \u001b[0m(-0.10882306098937988)\n",
            "     | > avg_loss_feat:\u001b[91m 5.550726890563965 \u001b[0m(+1.7836582660675049)\n",
            "     | > avg_loss_mel:\u001b[91m 22.603410720825195 \u001b[0m(+3.2962074279785156)\n",
            "     | > avg_loss_duration:\u001b[91m 1.4175233840942383 \u001b[0m(+0.014499783515930176)\n",
            "     | > avg_loss_1:\u001b[91m 32.963905334472656 \u001b[0m(+4.925653457641602)\n",
            "\n",
            "\n",
            "\u001b[4m\u001b[1m > EPOCH: 32/300\u001b[0m\n",
            " --> vits_20k_steps\n",
            "\n",
            "\u001b[1m > TRAINING (2024-05-19 06:54:23) \u001b[0m\n",
            "\n",
            "\u001b[1m > EVALUATION \u001b[0m\n",
            "\n"
          ]
        },
        {
          "name": "stdout",
          "output_type": "stream",
          "text": [
            " | > Synthesizing test sentences.\n"
          ]
        },
        {
          "name": "stderr",
          "output_type": "stream",
          "text": [
            "\n",
            "  \u001b[1m--> EVAL PERFORMANCE\u001b[0m\n",
            "     | > avg_loader_time:\u001b[91m 3.343804359436035 \u001b[0m(+0.0476071834564209)\n",
            "     | > avg_loss_disc:\u001b[91m 2.548192024230957 \u001b[0m(+0.1163027286529541)\n",
            "     | > avg_loss_disc_real_0:\u001b[91m 0.19780831038951874 \u001b[0m(+0.09371127933263779)\n",
            "     | > avg_loss_disc_real_1:\u001b[91m 0.24210935831069946 \u001b[0m(+0.031840696930885315)\n",
            "     | > avg_loss_disc_real_2:\u001b[91m 0.2617012858390808 \u001b[0m(+0.09528863430023193)\n",
            "     | > avg_loss_disc_real_3:\u001b[92m 0.1995149850845337 \u001b[0m(-0.026515692472457886)\n",
            "     | > avg_loss_disc_real_4:\u001b[91m 0.2172481268644333 \u001b[0m(+0.0480794757604599)\n",
            "     | > avg_loss_disc_real_5:\u001b[92m 0.20979158580303192 \u001b[0m(-0.006068065762519836)\n",
            "     | > avg_loss_0:\u001b[91m 2.548192024230957 \u001b[0m(+0.1163027286529541)\n",
            "     | > avg_loss_gen:\u001b[91m 2.0792393684387207 \u001b[0m(+0.09615659713745117)\n",
            "     | > avg_loss_kl:\u001b[91m 1.6304469108581543 \u001b[0m(+0.22128450870513916)\n",
            "     | > avg_loss_feat:\u001b[92m 3.3465499877929688 \u001b[0m(-2.204176902770996)\n",
            "     | > avg_loss_mel:\u001b[92m 20.95610809326172 \u001b[0m(-1.6473026275634766)\n",
            "     | > avg_loss_duration:\u001b[92m 1.393439531326294 \u001b[0m(-0.024083852767944336)\n",
            "     | > avg_loss_1:\u001b[92m 29.405784606933594 \u001b[0m(-3.5581207275390625)\n",
            "\n",
            "\n",
            "\u001b[4m\u001b[1m > EPOCH: 33/300\u001b[0m\n",
            " --> vits_20k_steps\n",
            "\n",
            "\u001b[1m > TRAINING (2024-05-19 06:54:51) \u001b[0m\n",
            "\n",
            "\u001b[1m > EVALUATION \u001b[0m\n",
            "\n"
          ]
        },
        {
          "name": "stdout",
          "output_type": "stream",
          "text": [
            " | > Synthesizing test sentences.\n"
          ]
        },
        {
          "name": "stderr",
          "output_type": "stream",
          "text": [
            "\n",
            "  \u001b[1m--> EVAL PERFORMANCE\u001b[0m\n",
            "     | > avg_loader_time:\u001b[92m 3.155785322189331 \u001b[0m(-0.1880190372467041)\n",
            "     | > avg_loss_disc:\u001b[91m 2.690441608428955 \u001b[0m(+0.14224958419799805)\n",
            "     | > avg_loss_disc_real_0:\u001b[92m 0.10347811877727509 \u001b[0m(-0.09433019161224365)\n",
            "     | > avg_loss_disc_real_1:\u001b[92m 0.19803662598133087 \u001b[0m(-0.04407273232936859)\n",
            "     | > avg_loss_disc_real_2:\u001b[92m 0.24325557053089142 \u001b[0m(-0.018445715308189392)\n",
            "     | > avg_loss_disc_real_3:\u001b[91m 0.22251710295677185 \u001b[0m(+0.02300211787223816)\n",
            "     | > avg_loss_disc_real_4:\u001b[92m 0.20182597637176514 \u001b[0m(-0.015422150492668152)\n",
            "     | > avg_loss_disc_real_5:\u001b[92m 0.2010709047317505 \u001b[0m(-0.008720681071281433)\n",
            "     | > avg_loss_0:\u001b[91m 2.690441608428955 \u001b[0m(+0.14224958419799805)\n",
            "     | > avg_loss_gen:\u001b[92m 1.6558024883270264 \u001b[0m(-0.42343688011169434)\n",
            "     | > avg_loss_kl:\u001b[91m 1.651311993598938 \u001b[0m(+0.02086508274078369)\n",
            "     | > avg_loss_feat:\u001b[91m 4.01563024520874 \u001b[0m(+0.6690802574157715)\n",
            "     | > avg_loss_mel:\u001b[92m 19.70930290222168 \u001b[0m(-1.246805191040039)\n",
            "     | > avg_loss_duration:\u001b[91m 1.399423360824585 \u001b[0m(+0.005983829498291016)\n",
            "     | > avg_loss_1:\u001b[92m 28.43147087097168 \u001b[0m(-0.9743137359619141)\n",
            "\n",
            "\n",
            "\u001b[4m\u001b[1m > EPOCH: 34/300\u001b[0m\n",
            " --> vits_20k_steps\n",
            "\n",
            "\u001b[1m > TRAINING (2024-05-19 06:55:17) \u001b[0m\n",
            "\n",
            "\u001b[1m > EVALUATION \u001b[0m\n",
            "\n"
          ]
        },
        {
          "name": "stdout",
          "output_type": "stream",
          "text": [
            " | > Synthesizing test sentences.\n"
          ]
        },
        {
          "name": "stderr",
          "output_type": "stream",
          "text": [
            "\n",
            "  \u001b[1m--> EVAL PERFORMANCE\u001b[0m\n",
            "     | > avg_loader_time:\u001b[92m 3.085164785385132 \u001b[0m(-0.07062053680419922)\n",
            "     | > avg_loss_disc:\u001b[92m 2.5761327743530273 \u001b[0m(-0.11430883407592773)\n",
            "     | > avg_loss_disc_real_0:\u001b[91m 0.18578538298606873 \u001b[0m(+0.08230726420879364)\n",
            "     | > avg_loss_disc_real_1:\u001b[91m 0.25305062532424927 \u001b[0m(+0.055013999342918396)\n",
            "     | > avg_loss_disc_real_2:\u001b[92m 0.15852290391921997 \u001b[0m(-0.08473266661167145)\n",
            "     | > avg_loss_disc_real_3:\u001b[92m 0.22247034311294556 \u001b[0m(-4.6759843826293945e-05)\n",
            "     | > avg_loss_disc_real_4:\u001b[91m 0.25602614879608154 \u001b[0m(+0.054200172424316406)\n",
            "     | > avg_loss_disc_real_5:\u001b[91m 0.23772749304771423 \u001b[0m(+0.036656588315963745)\n",
            "     | > avg_loss_0:\u001b[92m 2.5761327743530273 \u001b[0m(-0.11430883407592773)\n",
            "     | > avg_loss_gen:\u001b[91m 2.015920400619507 \u001b[0m(+0.36011791229248047)\n",
            "     | > avg_loss_kl:\u001b[91m 1.694208025932312 \u001b[0m(+0.04289603233337402)\n",
            "     | > avg_loss_feat:\u001b[92m 3.5405025482177734 \u001b[0m(-0.4751276969909668)\n",
            "     | > avg_loss_mel:\u001b[91m 20.80751609802246 \u001b[0m(+1.0982131958007812)\n",
            "     | > avg_loss_duration:\u001b[91m 1.4181756973266602 \u001b[0m(+0.018752336502075195)\n",
            "     | > avg_loss_1:\u001b[91m 29.476322174072266 \u001b[0m(+1.044851303100586)\n",
            "\n",
            "\n",
            "\u001b[4m\u001b[1m > EPOCH: 35/300\u001b[0m\n",
            " --> vits_20k_steps\n",
            "\n",
            "\u001b[1m > TRAINING (2024-05-19 06:55:45) \u001b[0m\n",
            "\n",
            "\u001b[1m > EVALUATION \u001b[0m\n",
            "\n"
          ]
        },
        {
          "name": "stdout",
          "output_type": "stream",
          "text": [
            " | > Synthesizing test sentences.\n"
          ]
        },
        {
          "name": "stderr",
          "output_type": "stream",
          "text": [
            "\n",
            "  \u001b[1m--> EVAL PERFORMANCE\u001b[0m\n",
            "     | > avg_loader_time:\u001b[91m 3.185370445251465 \u001b[0m(+0.10020565986633301)\n",
            "     | > avg_loss_disc:\u001b[91m 2.644023895263672 \u001b[0m(+0.06789112091064453)\n",
            "     | > avg_loss_disc_real_0:\u001b[92m 0.170926034450531 \u001b[0m(-0.01485934853553772)\n",
            "     | > avg_loss_disc_real_1:\u001b[92m 0.21623989939689636 \u001b[0m(-0.036810725927352905)\n",
            "     | > avg_loss_disc_real_2:\u001b[91m 0.22504854202270508 \u001b[0m(+0.06652563810348511)\n",
            "     | > avg_loss_disc_real_3:\u001b[92m 0.1492203325033188 \u001b[0m(-0.07325001060962677)\n",
            "     | > avg_loss_disc_real_4:\u001b[92m 0.22424110770225525 \u001b[0m(-0.031785041093826294)\n",
            "     | > avg_loss_disc_real_5:\u001b[91m 0.2387319803237915 \u001b[0m(+0.0010044872760772705)\n",
            "     | > avg_loss_0:\u001b[91m 2.644023895263672 \u001b[0m(+0.06789112091064453)\n",
            "     | > avg_loss_gen:\u001b[92m 1.7926623821258545 \u001b[0m(-0.22325801849365234)\n",
            "     | > avg_loss_kl:\u001b[91m 1.8746892213821411 \u001b[0m(+0.1804811954498291)\n",
            "     | > avg_loss_feat:\u001b[91m 4.373028755187988 \u001b[0m(+0.8325262069702148)\n",
            "     | > avg_loss_mel:\u001b[91m 20.962955474853516 \u001b[0m(+0.1554393768310547)\n",
            "     | > avg_loss_duration:\u001b[92m 1.392329454421997 \u001b[0m(-0.025846242904663086)\n",
            "     | > avg_loss_1:\u001b[91m 30.395666122436523 \u001b[0m(+0.9193439483642578)\n",
            "\n",
            "\n",
            "\u001b[4m\u001b[1m > EPOCH: 36/300\u001b[0m\n",
            " --> vits_20k_steps\n",
            "\n",
            "\u001b[1m > TRAINING (2024-05-19 06:56:12) \u001b[0m\n",
            "\n",
            "\u001b[1m > EVALUATION \u001b[0m\n",
            "\n"
          ]
        },
        {
          "name": "stdout",
          "output_type": "stream",
          "text": [
            " | > Synthesizing test sentences.\n"
          ]
        },
        {
          "name": "stderr",
          "output_type": "stream",
          "text": [
            "\n",
            "  \u001b[1m--> EVAL PERFORMANCE\u001b[0m\n",
            "     | > avg_loader_time:\u001b[91m 3.2300875186920166 \u001b[0m(+0.04471707344055176)\n",
            "     | > avg_loss_disc:\u001b[91m 2.660736560821533 \u001b[0m(+0.016712665557861328)\n",
            "     | > avg_loss_disc_real_0:\u001b[91m 0.20177249610424042 \u001b[0m(+0.03084646165370941)\n",
            "     | > avg_loss_disc_real_1:\u001b[92m 0.14674900472164154 \u001b[0m(-0.06949089467525482)\n",
            "     | > avg_loss_disc_real_2:\u001b[92m 0.16021905839443207 \u001b[0m(-0.06482948362827301)\n",
            "     | > avg_loss_disc_real_3:\u001b[91m 0.2578932046890259 \u001b[0m(+0.10867287218570709)\n",
            "     | > avg_loss_disc_real_4:\u001b[92m 0.22408054769039154 \u001b[0m(-0.0001605600118637085)\n",
            "     | > avg_loss_disc_real_5:\u001b[92m 0.22585049271583557 \u001b[0m(-0.012881487607955933)\n",
            "     | > avg_loss_0:\u001b[91m 2.660736560821533 \u001b[0m(+0.016712665557861328)\n",
            "     | > avg_loss_gen:\u001b[92m 1.7905821800231934 \u001b[0m(-0.002080202102661133)\n",
            "     | > avg_loss_kl:\u001b[92m 1.792272925376892 \u001b[0m(-0.08241629600524902)\n",
            "     | > avg_loss_feat:\u001b[92m 4.237462997436523 \u001b[0m(-0.13556575775146484)\n",
            "     | > avg_loss_mel:\u001b[92m 19.82599639892578 \u001b[0m(-1.1369590759277344)\n",
            "     | > avg_loss_duration:\u001b[92m 1.3792908191680908 \u001b[0m(-0.01303863525390625)\n",
            "     | > avg_loss_1:\u001b[92m 29.025606155395508 \u001b[0m(-1.3700599670410156)\n",
            "\n",
            "\n",
            "\u001b[4m\u001b[1m > EPOCH: 37/300\u001b[0m\n",
            " --> vits_20k_steps\n",
            "\n",
            "\u001b[1m > TRAINING (2024-05-19 06:56:39) \u001b[0m\n",
            "\n",
            "\u001b[1m > EVALUATION \u001b[0m\n",
            "\n"
          ]
        },
        {
          "name": "stdout",
          "output_type": "stream",
          "text": [
            " | > Synthesizing test sentences.\n"
          ]
        },
        {
          "name": "stderr",
          "output_type": "stream",
          "text": [
            "\n",
            "  \u001b[1m--> EVAL PERFORMANCE\u001b[0m\n",
            "     | > avg_loader_time:\u001b[92m 3.16961932182312 \u001b[0m(-0.060468196868896484)\n",
            "     | > avg_loss_disc:\u001b[92m 2.4106807708740234 \u001b[0m(-0.25005578994750977)\n",
            "     | > avg_loss_disc_real_0:\u001b[91m 0.22026309370994568 \u001b[0m(+0.01849059760570526)\n",
            "     | > avg_loss_disc_real_1:\u001b[91m 0.2572280168533325 \u001b[0m(+0.11047901213169098)\n",
            "     | > avg_loss_disc_real_2:\u001b[91m 0.18247734010219574 \u001b[0m(+0.022258281707763672)\n",
            "     | > avg_loss_disc_real_3:\u001b[92m 0.22086511552333832 \u001b[0m(-0.03702808916568756)\n",
            "     | > avg_loss_disc_real_4:\u001b[92m 0.17950257658958435 \u001b[0m(-0.04457797110080719)\n",
            "     | > avg_loss_disc_real_5:\u001b[92m 0.1682235449552536 \u001b[0m(-0.05762694776058197)\n",
            "     | > avg_loss_0:\u001b[92m 2.4106807708740234 \u001b[0m(-0.25005578994750977)\n",
            "     | > avg_loss_gen:\u001b[91m 2.1743104457855225 \u001b[0m(+0.3837282657623291)\n",
            "     | > avg_loss_kl:\u001b[92m 1.6387513875961304 \u001b[0m(-0.15352153778076172)\n",
            "     | > avg_loss_feat:\u001b[91m 4.433654308319092 \u001b[0m(+0.19619131088256836)\n",
            "     | > avg_loss_mel:\u001b[91m 20.348569869995117 \u001b[0m(+0.5225734710693359)\n",
            "     | > avg_loss_duration:\u001b[92m 1.3761085271835327 \u001b[0m(-0.0031822919845581055)\n",
            "     | > avg_loss_1:\u001b[91m 29.971393585205078 \u001b[0m(+0.9457874298095703)\n",
            "\n",
            "\n",
            "\u001b[4m\u001b[1m > EPOCH: 38/300\u001b[0m\n",
            " --> vits_20k_steps\n",
            "\n",
            "\u001b[1m > TRAINING (2024-05-19 06:57:05) \u001b[0m\n",
            "\n",
            "\u001b[1m > EVALUATION \u001b[0m\n",
            "\n"
          ]
        },
        {
          "name": "stdout",
          "output_type": "stream",
          "text": [
            " | > Synthesizing test sentences.\n"
          ]
        },
        {
          "name": "stderr",
          "output_type": "stream",
          "text": [
            "\n",
            "  \u001b[1m--> EVAL PERFORMANCE\u001b[0m\n",
            "     | > avg_loader_time:\u001b[91m 3.240399122238159 \u001b[0m(+0.07077980041503906)\n",
            "     | > avg_loss_disc:\u001b[91m 2.624506950378418 \u001b[0m(+0.21382617950439453)\n",
            "     | > avg_loss_disc_real_0:\u001b[92m 0.19240495562553406 \u001b[0m(-0.02785813808441162)\n",
            "     | > avg_loss_disc_real_1:\u001b[92m 0.21257512271404266 \u001b[0m(-0.044652894139289856)\n",
            "     | > avg_loss_disc_real_2:\u001b[92m 0.1505669206380844 \u001b[0m(-0.03191041946411133)\n",
            "     | > avg_loss_disc_real_3:\u001b[91m 0.2588874399662018 \u001b[0m(+0.038022324442863464)\n",
            "     | > avg_loss_disc_real_4:\u001b[91m 0.2778105139732361 \u001b[0m(+0.09830793738365173)\n",
            "     | > avg_loss_disc_real_5:\u001b[91m 0.2665455937385559 \u001b[0m(+0.09832204878330231)\n",
            "     | > avg_loss_0:\u001b[91m 2.624506950378418 \u001b[0m(+0.21382617950439453)\n",
            "     | > avg_loss_gen:\u001b[92m 2.0627191066741943 \u001b[0m(-0.11159133911132812)\n",
            "     | > avg_loss_kl:\u001b[91m 1.76265287399292 \u001b[0m(+0.12390148639678955)\n",
            "     | > avg_loss_feat:\u001b[91m 4.540728569030762 \u001b[0m(+0.10707426071166992)\n",
            "     | > avg_loss_mel:\u001b[92m 20.19810676574707 \u001b[0m(-0.15046310424804688)\n",
            "     | > avg_loss_duration:\u001b[92m 1.348078966140747 \u001b[0m(-0.028029561042785645)\n",
            "     | > avg_loss_1:\u001b[92m 29.91228675842285 \u001b[0m(-0.05910682678222656)\n",
            "\n",
            "\n",
            "\u001b[4m\u001b[1m > EPOCH: 39/300\u001b[0m\n",
            " --> vits_20k_steps\n",
            "\n",
            "\u001b[1m > TRAINING (2024-05-19 06:57:33) \u001b[0m\n",
            "\n",
            "\u001b[1m > EVALUATION \u001b[0m\n",
            "\n"
          ]
        },
        {
          "name": "stdout",
          "output_type": "stream",
          "text": [
            " | > Synthesizing test sentences.\n"
          ]
        },
        {
          "name": "stderr",
          "output_type": "stream",
          "text": [
            "\n",
            "  \u001b[1m--> EVAL PERFORMANCE\u001b[0m\n",
            "     | > avg_loader_time:\u001b[91m 3.2979965209960938 \u001b[0m(+0.05759739875793457)\n",
            "     | > avg_loss_disc:\u001b[91m 2.6797430515289307 \u001b[0m(+0.055236101150512695)\n",
            "     | > avg_loss_disc_real_0:\u001b[92m 0.1923818290233612 \u001b[0m(-2.3126602172851562e-05)\n",
            "     | > avg_loss_disc_real_1:\u001b[92m 0.20864102244377136 \u001b[0m(-0.003934100270271301)\n",
            "     | > avg_loss_disc_real_2:\u001b[91m 0.2751530706882477 \u001b[0m(+0.12458615005016327)\n",
            "     | > avg_loss_disc_real_3:\u001b[91m 0.30390045046806335 \u001b[0m(+0.04501301050186157)\n",
            "     | > avg_loss_disc_real_4:\u001b[92m 0.21051354706287384 \u001b[0m(-0.06729696691036224)\n",
            "     | > avg_loss_disc_real_5:\u001b[92m 0.18067480623722076 \u001b[0m(-0.08587078750133514)\n",
            "     | > avg_loss_0:\u001b[91m 2.6797430515289307 \u001b[0m(+0.055236101150512695)\n",
            "     | > avg_loss_gen:\u001b[91m 2.10396671295166 \u001b[0m(+0.04124760627746582)\n",
            "     | > avg_loss_kl:\u001b[91m 2.073934555053711 \u001b[0m(+0.311281681060791)\n",
            "     | > avg_loss_feat:\u001b[91m 4.741921424865723 \u001b[0m(+0.20119285583496094)\n",
            "     | > avg_loss_mel:\u001b[91m 21.082115173339844 \u001b[0m(+0.8840084075927734)\n",
            "     | > avg_loss_duration:\u001b[91m 1.3666956424713135 \u001b[0m(+0.018616676330566406)\n",
            "     | > avg_loss_1:\u001b[91m 31.368633270263672 \u001b[0m(+1.4563465118408203)\n",
            "\n",
            "\n",
            "\u001b[4m\u001b[1m > EPOCH: 40/300\u001b[0m\n",
            " --> vits_20k_steps\n",
            "\n",
            "\u001b[1m > TRAINING (2024-05-19 06:58:00) \u001b[0m\n",
            "\n",
            "\u001b[1m > EVALUATION \u001b[0m\n",
            "\n"
          ]
        },
        {
          "name": "stdout",
          "output_type": "stream",
          "text": [
            " | > Synthesizing test sentences.\n"
          ]
        },
        {
          "name": "stderr",
          "output_type": "stream",
          "text": [
            "\n",
            "  \u001b[1m--> EVAL PERFORMANCE\u001b[0m\n",
            "     | > avg_loader_time:\u001b[92m 3.2812864780426025 \u001b[0m(-0.01671004295349121)\n",
            "     | > avg_loss_disc:\u001b[91m 2.703885078430176 \u001b[0m(+0.024142026901245117)\n",
            "     | > avg_loss_disc_real_0:\u001b[92m 0.14822249114513397 \u001b[0m(-0.044159337878227234)\n",
            "     | > avg_loss_disc_real_1:\u001b[92m 0.19639889895915985 \u001b[0m(-0.012242123484611511)\n",
            "     | > avg_loss_disc_real_2:\u001b[92m 0.2692309617996216 \u001b[0m(-0.005922108888626099)\n",
            "     | > avg_loss_disc_real_3:\u001b[92m 0.2253277748823166 \u001b[0m(-0.07857267558574677)\n",
            "     | > avg_loss_disc_real_4:\u001b[92m 0.20591171085834503 \u001b[0m(-0.004601836204528809)\n",
            "     | > avg_loss_disc_real_5:\u001b[91m 0.2632817029953003 \u001b[0m(+0.08260689675807953)\n",
            "     | > avg_loss_0:\u001b[91m 2.703885078430176 \u001b[0m(+0.024142026901245117)\n",
            "     | > avg_loss_gen:\u001b[92m 1.8906136751174927 \u001b[0m(-0.21335303783416748)\n",
            "     | > avg_loss_kl:\u001b[92m 1.791335105895996 \u001b[0m(-0.28259944915771484)\n",
            "     | > avg_loss_feat:\u001b[92m 4.6000189781188965 \u001b[0m(-0.14190244674682617)\n",
            "     | > avg_loss_mel:\u001b[92m 20.30652618408203 \u001b[0m(-0.7755889892578125)\n",
            "     | > avg_loss_duration:\u001b[91m 1.3899213075637817 \u001b[0m(+0.02322566509246826)\n",
            "     | > avg_loss_1:\u001b[92m 29.97841453552246 \u001b[0m(-1.390218734741211)\n",
            "\n",
            "\n",
            "\u001b[4m\u001b[1m > EPOCH: 41/300\u001b[0m\n",
            " --> vits_20k_steps\n",
            "\n",
            "\u001b[1m > TRAINING (2024-05-19 06:58:27) \u001b[0m\n",
            "\n",
            "\u001b[1m > EVALUATION \u001b[0m\n",
            "\n"
          ]
        },
        {
          "name": "stdout",
          "output_type": "stream",
          "text": [
            " | > Synthesizing test sentences.\n"
          ]
        },
        {
          "name": "stderr",
          "output_type": "stream",
          "text": [
            "\n",
            "  \u001b[1m--> EVAL PERFORMANCE\u001b[0m\n",
            "     | > avg_loader_time:\u001b[92m 3.274535894393921 \u001b[0m(-0.006750583648681641)\n",
            "     | > avg_loss_disc:\u001b[92m 2.4806718826293945 \u001b[0m(-0.22321319580078125)\n",
            "     | > avg_loss_disc_real_0:\u001b[91m 0.17947809398174286 \u001b[0m(+0.03125560283660889)\n",
            "     | > avg_loss_disc_real_1:\u001b[91m 0.2594124972820282 \u001b[0m(+0.06301359832286835)\n",
            "     | > avg_loss_disc_real_2:\u001b[92m 0.16449150443077087 \u001b[0m(-0.10473945736885071)\n",
            "     | > avg_loss_disc_real_3:\u001b[92m 0.18741971254348755 \u001b[0m(-0.03790806233882904)\n",
            "     | > avg_loss_disc_real_4:\u001b[92m 0.2056061029434204 \u001b[0m(-0.0003056079149246216)\n",
            "     | > avg_loss_disc_real_5:\u001b[92m 0.16455920040607452 \u001b[0m(-0.09872250258922577)\n",
            "     | > avg_loss_0:\u001b[92m 2.4806718826293945 \u001b[0m(-0.22321319580078125)\n",
            "     | > avg_loss_gen:\u001b[91m 1.9563404321670532 \u001b[0m(+0.06572675704956055)\n",
            "     | > avg_loss_kl:\u001b[92m 1.7440831661224365 \u001b[0m(-0.04725193977355957)\n",
            "     | > avg_loss_feat:\u001b[92m 4.3822784423828125 \u001b[0m(-0.21774053573608398)\n",
            "     | > avg_loss_mel:\u001b[92m 20.206403732299805 \u001b[0m(-0.10012245178222656)\n",
            "     | > avg_loss_duration:\u001b[92m 1.3631516695022583 \u001b[0m(-0.026769638061523438)\n",
            "     | > avg_loss_1:\u001b[92m 29.652257919311523 \u001b[0m(-0.3261566162109375)\n",
            "\n",
            "\n",
            "\u001b[4m\u001b[1m > EPOCH: 42/300\u001b[0m\n",
            " --> vits_20k_steps\n",
            "\n",
            "\u001b[1m > TRAINING (2024-05-19 06:58:54) \u001b[0m\n",
            "\n",
            "\u001b[1m > EVALUATION \u001b[0m\n",
            "\n"
          ]
        },
        {
          "name": "stdout",
          "output_type": "stream",
          "text": [
            " | > Synthesizing test sentences.\n"
          ]
        },
        {
          "name": "stderr",
          "output_type": "stream",
          "text": [
            "\n",
            "  \u001b[1m--> EVAL PERFORMANCE\u001b[0m\n",
            "     | > avg_loader_time:\u001b[91m 3.381944417953491 \u001b[0m(+0.10740852355957031)\n",
            "     | > avg_loss_disc:\u001b[92m 2.4270570278167725 \u001b[0m(-0.05361485481262207)\n",
            "     | > avg_loss_disc_real_0:\u001b[92m 0.16413351893424988 \u001b[0m(-0.015344575047492981)\n",
            "     | > avg_loss_disc_real_1:\u001b[92m 0.22281038761138916 \u001b[0m(-0.03660210967063904)\n",
            "     | > avg_loss_disc_real_2:\u001b[91m 0.2466082125902176 \u001b[0m(+0.08211670815944672)\n",
            "     | > avg_loss_disc_real_3:\u001b[91m 0.24783290922641754 \u001b[0m(+0.06041319668292999)\n",
            "     | > avg_loss_disc_real_4:\u001b[91m 0.21452024579048157 \u001b[0m(+0.008914142847061157)\n",
            "     | > avg_loss_disc_real_5:\u001b[91m 0.20928674936294556 \u001b[0m(+0.04472754895687103)\n",
            "     | > avg_loss_0:\u001b[92m 2.4270570278167725 \u001b[0m(-0.05361485481262207)\n",
            "     | > avg_loss_gen:\u001b[91m 2.2119030952453613 \u001b[0m(+0.2555626630783081)\n",
            "     | > avg_loss_kl:\u001b[92m 1.6895164251327515 \u001b[0m(-0.05456674098968506)\n",
            "     | > avg_loss_feat:\u001b[92m 3.6420862674713135 \u001b[0m(-0.740192174911499)\n",
            "     | > avg_loss_mel:\u001b[91m 21.520931243896484 \u001b[0m(+1.3145275115966797)\n",
            "     | > avg_loss_duration:\u001b[92m 1.3514277935028076 \u001b[0m(-0.011723875999450684)\n",
            "     | > avg_loss_1:\u001b[91m 30.415863037109375 \u001b[0m(+0.7636051177978516)\n",
            "\n",
            "\n",
            "\u001b[4m\u001b[1m > EPOCH: 43/300\u001b[0m\n",
            " --> vits_20k_steps\n",
            "\n",
            "\u001b[1m > TRAINING (2024-05-19 06:59:22) \u001b[0m\n",
            "\n",
            "\u001b[1m > EVALUATION \u001b[0m\n",
            "\n"
          ]
        },
        {
          "name": "stdout",
          "output_type": "stream",
          "text": [
            " | > Synthesizing test sentences.\n"
          ]
        },
        {
          "name": "stderr",
          "output_type": "stream",
          "text": [
            "\n",
            "  \u001b[1m--> EVAL PERFORMANCE\u001b[0m\n",
            "     | > avg_loader_time:\u001b[92m 3.198498249053955 \u001b[0m(-0.18344616889953613)\n",
            "     | > avg_loss_disc:\u001b[91m 2.635277271270752 \u001b[0m(+0.2082202434539795)\n",
            "     | > avg_loss_disc_real_0:\u001b[92m 0.14211469888687134 \u001b[0m(-0.02201882004737854)\n",
            "     | > avg_loss_disc_real_1:\u001b[92m 0.19516785442829132 \u001b[0m(-0.02764253318309784)\n",
            "     | > avg_loss_disc_real_2:\u001b[92m 0.22572900354862213 \u001b[0m(-0.02087920904159546)\n",
            "     | > avg_loss_disc_real_3:\u001b[92m 0.20139272511005402 \u001b[0m(-0.046440184116363525)\n",
            "     | > avg_loss_disc_real_4:\u001b[91m 0.23253247141838074 \u001b[0m(+0.01801222562789917)\n",
            "     | > avg_loss_disc_real_5:\u001b[92m 0.19016073644161224 \u001b[0m(-0.019126012921333313)\n",
            "     | > avg_loss_0:\u001b[91m 2.635277271270752 \u001b[0m(+0.2082202434539795)\n",
            "     | > avg_loss_gen:\u001b[92m 1.7407734394073486 \u001b[0m(-0.4711296558380127)\n",
            "     | > avg_loss_kl:\u001b[92m 1.6503498554229736 \u001b[0m(-0.03916656970977783)\n",
            "     | > avg_loss_feat:\u001b[92m 3.256446123123169 \u001b[0m(-0.38564014434814453)\n",
            "     | > avg_loss_mel:\u001b[92m 19.80805015563965 \u001b[0m(-1.712881088256836)\n",
            "     | > avg_loss_duration:\u001b[91m 1.3770644664764404 \u001b[0m(+0.025636672973632812)\n",
            "     | > avg_loss_1:\u001b[92m 27.832683563232422 \u001b[0m(-2.583179473876953)\n",
            "\n",
            "\n",
            "\u001b[4m\u001b[1m > EPOCH: 44/300\u001b[0m\n",
            " --> vits_20k_steps\n",
            "\n",
            "\u001b[1m > TRAINING (2024-05-19 06:59:49) \u001b[0m\n",
            "\n",
            "\u001b[1m > EVALUATION \u001b[0m\n",
            "\n"
          ]
        },
        {
          "name": "stdout",
          "output_type": "stream",
          "text": [
            " | > Synthesizing test sentences.\n"
          ]
        },
        {
          "name": "stderr",
          "output_type": "stream",
          "text": [
            "\n",
            "  \u001b[1m--> EVAL PERFORMANCE\u001b[0m\n",
            "     | > avg_loader_time:\u001b[92m 3.0448644161224365 \u001b[0m(-0.15363383293151855)\n",
            "     | > avg_loss_disc:\u001b[92m 2.5836751461029053 \u001b[0m(-0.05160212516784668)\n",
            "     | > avg_loss_disc_real_0:\u001b[91m 0.22594410181045532 \u001b[0m(+0.08382940292358398)\n",
            "     | > avg_loss_disc_real_1:\u001b[91m 0.23782269656658173 \u001b[0m(+0.042654842138290405)\n",
            "     | > avg_loss_disc_real_2:\u001b[92m 0.19355572760105133 \u001b[0m(-0.0321732759475708)\n",
            "     | > avg_loss_disc_real_3:\u001b[92m 0.1704818457365036 \u001b[0m(-0.030910879373550415)\n",
            "     | > avg_loss_disc_real_4:\u001b[92m 0.17948801815509796 \u001b[0m(-0.053044453263282776)\n",
            "     | > avg_loss_disc_real_5:\u001b[91m 0.19785340130329132 \u001b[0m(+0.007692664861679077)\n",
            "     | > avg_loss_0:\u001b[92m 2.5836751461029053 \u001b[0m(-0.05160212516784668)\n",
            "     | > avg_loss_gen:\u001b[91m 1.895260214805603 \u001b[0m(+0.1544867753982544)\n",
            "     | > avg_loss_kl:\u001b[91m 1.6854324340820312 \u001b[0m(+0.03508257865905762)\n",
            "     | > avg_loss_feat:\u001b[91m 4.265420436859131 \u001b[0m(+1.008974313735962)\n",
            "     | > avg_loss_mel:\u001b[92m 19.76911735534668 \u001b[0m(-0.03893280029296875)\n",
            "     | > avg_loss_duration:\u001b[91m 1.3773561716079712 \u001b[0m(+0.0002917051315307617)\n",
            "     | > avg_loss_1:\u001b[91m 28.992586135864258 \u001b[0m(+1.159902572631836)\n",
            "\n",
            "\n",
            "\u001b[4m\u001b[1m > EPOCH: 45/300\u001b[0m\n",
            " --> vits_20k_steps\n",
            "\n",
            "\u001b[1m > TRAINING (2024-05-19 07:00:17) \u001b[0m\n",
            "\n",
            "\u001b[1m > EVALUATION \u001b[0m\n",
            "\n"
          ]
        },
        {
          "name": "stdout",
          "output_type": "stream",
          "text": [
            " | > Synthesizing test sentences.\n"
          ]
        },
        {
          "name": "stderr",
          "output_type": "stream",
          "text": [
            "\n",
            "  \u001b[1m--> EVAL PERFORMANCE\u001b[0m\n",
            "     | > avg_loader_time:\u001b[91m 3.2087488174438477 \u001b[0m(+0.16388440132141113)\n",
            "     | > avg_loss_disc:\u001b[92m 2.347304105758667 \u001b[0m(-0.23637104034423828)\n",
            "     | > avg_loss_disc_real_0:\u001b[92m 0.1689814180135727 \u001b[0m(-0.05696268379688263)\n",
            "     | > avg_loss_disc_real_1:\u001b[92m 0.21247044205665588 \u001b[0m(-0.025352254509925842)\n",
            "     | > avg_loss_disc_real_2:\u001b[91m 0.25161296129226685 \u001b[0m(+0.058057233691215515)\n",
            "     | > avg_loss_disc_real_3:\u001b[92m 0.15603001415729523 \u001b[0m(-0.014451831579208374)\n",
            "     | > avg_loss_disc_real_4:\u001b[92m 0.12403861433267593 \u001b[0m(-0.05544940382242203)\n",
            "     | > avg_loss_disc_real_5:\u001b[91m 0.21656326949596405 \u001b[0m(+0.01870986819267273)\n",
            "     | > avg_loss_0:\u001b[92m 2.347304105758667 \u001b[0m(-0.23637104034423828)\n",
            "     | > avg_loss_gen:\u001b[91m 2.1593775749206543 \u001b[0m(+0.26411736011505127)\n",
            "     | > avg_loss_kl:\u001b[92m 1.641606092453003 \u001b[0m(-0.04382634162902832)\n",
            "     | > avg_loss_feat:\u001b[91m 4.448144912719727 \u001b[0m(+0.1827244758605957)\n",
            "     | > avg_loss_mel:\u001b[91m 20.551738739013672 \u001b[0m(+0.7826213836669922)\n",
            "     | > avg_loss_duration:\u001b[92m 1.3676679134368896 \u001b[0m(-0.009688258171081543)\n",
            "     | > avg_loss_1:\u001b[91m 30.168537139892578 \u001b[0m(+1.1759510040283203)\n",
            "\n",
            "\n",
            "\u001b[4m\u001b[1m > EPOCH: 46/300\u001b[0m\n",
            " --> vits_20k_steps\n",
            "\n",
            "\u001b[1m > TRAINING (2024-05-19 07:00:45) \u001b[0m\n",
            "\n",
            "\u001b[1m > EVALUATION \u001b[0m\n",
            "\n"
          ]
        },
        {
          "name": "stdout",
          "output_type": "stream",
          "text": [
            " | > Synthesizing test sentences.\n"
          ]
        },
        {
          "name": "stderr",
          "output_type": "stream",
          "text": [
            "\n",
            "  \u001b[1m--> EVAL PERFORMANCE\u001b[0m\n",
            "     | > avg_loader_time:\u001b[91m 3.298705577850342 \u001b[0m(+0.08995676040649414)\n",
            "     | > avg_loss_disc:\u001b[91m 2.7196502685546875 \u001b[0m(+0.3723461627960205)\n",
            "     | > avg_loss_disc_real_0:\u001b[91m 0.24642638862133026 \u001b[0m(+0.07744497060775757)\n",
            "     | > avg_loss_disc_real_1:\u001b[91m 0.2526048719882965 \u001b[0m(+0.040134429931640625)\n",
            "     | > avg_loss_disc_real_2:\u001b[92m 0.242632657289505 \u001b[0m(-0.00898030400276184)\n",
            "     | > avg_loss_disc_real_3:\u001b[91m 0.18809403479099274 \u001b[0m(+0.03206402063369751)\n",
            "     | > avg_loss_disc_real_4:\u001b[91m 0.18888883292675018 \u001b[0m(+0.06485021859407425)\n",
            "     | > avg_loss_disc_real_5:\u001b[92m 0.20569755136966705 \u001b[0m(-0.010865718126296997)\n",
            "     | > avg_loss_0:\u001b[91m 2.7196502685546875 \u001b[0m(+0.3723461627960205)\n",
            "     | > avg_loss_gen:\u001b[92m 1.8471392393112183 \u001b[0m(-0.31223833560943604)\n",
            "     | > avg_loss_kl:\u001b[92m 1.5388367176055908 \u001b[0m(-0.10276937484741211)\n",
            "     | > avg_loss_feat:\u001b[92m 3.81636643409729 \u001b[0m(-0.6317784786224365)\n",
            "     | > avg_loss_mel:\u001b[92m 20.18358612060547 \u001b[0m(-0.3681526184082031)\n",
            "     | > avg_loss_duration:\u001b[92m 1.3349871635437012 \u001b[0m(-0.03268074989318848)\n",
            "     | > avg_loss_1:\u001b[92m 28.720916748046875 \u001b[0m(-1.4476203918457031)\n",
            "\n",
            "\n",
            "\u001b[4m\u001b[1m > EPOCH: 47/300\u001b[0m\n",
            " --> vits_20k_steps\n",
            "\n",
            "\u001b[1m > TRAINING (2024-05-19 07:01:12) \u001b[0m\n",
            "\n",
            "\u001b[1m > EVALUATION \u001b[0m\n",
            "\n"
          ]
        },
        {
          "name": "stdout",
          "output_type": "stream",
          "text": [
            " | > Synthesizing test sentences.\n"
          ]
        },
        {
          "name": "stderr",
          "output_type": "stream",
          "text": [
            "\n",
            "  \u001b[1m--> EVAL PERFORMANCE\u001b[0m\n",
            "     | > avg_loader_time:\u001b[92m 3.271951198577881 \u001b[0m(-0.026754379272460938)\n",
            "     | > avg_loss_disc:\u001b[92m 2.5759997367858887 \u001b[0m(-0.14365053176879883)\n",
            "     | > avg_loss_disc_real_0:\u001b[92m 0.2317717969417572 \u001b[0m(-0.014654591679573059)\n",
            "     | > avg_loss_disc_real_1:\u001b[92m 0.21203969419002533 \u001b[0m(-0.04056517779827118)\n",
            "     | > avg_loss_disc_real_2:\u001b[91m 0.251139760017395 \u001b[0m(+0.008507102727890015)\n",
            "     | > avg_loss_disc_real_3:\u001b[91m 0.2404422163963318 \u001b[0m(+0.05234818160533905)\n",
            "     | > avg_loss_disc_real_4:\u001b[91m 0.23744705319404602 \u001b[0m(+0.04855822026729584)\n",
            "     | > avg_loss_disc_real_5:\u001b[92m 0.13525179028511047 \u001b[0m(-0.07044576108455658)\n",
            "     | > avg_loss_0:\u001b[92m 2.5759997367858887 \u001b[0m(-0.14365053176879883)\n",
            "     | > avg_loss_gen:\u001b[91m 2.1311380863189697 \u001b[0m(+0.28399884700775146)\n",
            "     | > avg_loss_kl:\u001b[91m 1.6233559846878052 \u001b[0m(+0.08451926708221436)\n",
            "     | > avg_loss_feat:\u001b[91m 5.073027610778809 \u001b[0m(+1.2566611766815186)\n",
            "     | > avg_loss_mel:\u001b[91m 21.59623146057129 \u001b[0m(+1.4126453399658203)\n",
            "     | > avg_loss_duration:\u001b[91m 1.3684289455413818 \u001b[0m(+0.033441781997680664)\n",
            "     | > avg_loss_1:\u001b[91m 31.79218101501465 \u001b[0m(+3.0712642669677734)\n",
            "\n",
            "\n",
            "\u001b[4m\u001b[1m > EPOCH: 48/300\u001b[0m\n",
            " --> vits_20k_steps\n",
            "\n",
            "\u001b[1m > TRAINING (2024-05-19 07:01:39) \u001b[0m\n",
            "\n",
            "\u001b[1m > EVALUATION \u001b[0m\n",
            "\n"
          ]
        },
        {
          "name": "stdout",
          "output_type": "stream",
          "text": [
            " | > Synthesizing test sentences.\n"
          ]
        },
        {
          "name": "stderr",
          "output_type": "stream",
          "text": [
            "\n",
            "  \u001b[1m--> EVAL PERFORMANCE\u001b[0m\n",
            "     | > avg_loader_time:\u001b[91m 3.3805770874023438 \u001b[0m(+0.10862588882446289)\n",
            "     | > avg_loss_disc:\u001b[92m 2.5066006183624268 \u001b[0m(-0.06939911842346191)\n",
            "     | > avg_loss_disc_real_0:\u001b[92m 0.13218095898628235 \u001b[0m(-0.09959083795547485)\n",
            "     | > avg_loss_disc_real_1:\u001b[91m 0.21599270403385162 \u001b[0m(+0.003953009843826294)\n",
            "     | > avg_loss_disc_real_2:\u001b[92m 0.20959295332431793 \u001b[0m(-0.04154680669307709)\n",
            "     | > avg_loss_disc_real_3:\u001b[92m 0.2176179736852646 \u001b[0m(-0.0228242427110672)\n",
            "     | > avg_loss_disc_real_4:\u001b[92m 0.1541043072938919 \u001b[0m(-0.08334274590015411)\n",
            "     | > avg_loss_disc_real_5:\u001b[91m 0.17834420502185822 \u001b[0m(+0.04309241473674774)\n",
            "     | > avg_loss_0:\u001b[92m 2.5066006183624268 \u001b[0m(-0.06939911842346191)\n",
            "     | > avg_loss_gen:\u001b[92m 1.829878807067871 \u001b[0m(-0.30125927925109863)\n",
            "     | > avg_loss_kl:\u001b[91m 1.8921884298324585 \u001b[0m(+0.2688324451446533)\n",
            "     | > avg_loss_feat:\u001b[92m 3.3490564823150635 \u001b[0m(-1.7239711284637451)\n",
            "     | > avg_loss_mel:\u001b[92m 20.973308563232422 \u001b[0m(-0.6229228973388672)\n",
            "     | > avg_loss_duration:\u001b[92m 1.3598177433013916 \u001b[0m(-0.008611202239990234)\n",
            "     | > avg_loss_1:\u001b[92m 29.404251098632812 \u001b[0m(-2.387929916381836)\n",
            "\n",
            "\n",
            "\u001b[4m\u001b[1m > EPOCH: 49/300\u001b[0m\n",
            " --> vits_20k_steps\n",
            "\n",
            "\u001b[1m > TRAINING (2024-05-19 07:02:07) \u001b[0m\n",
            "\n",
            "\u001b[1m > EVALUATION \u001b[0m\n",
            "\n"
          ]
        },
        {
          "name": "stdout",
          "output_type": "stream",
          "text": [
            " | > Synthesizing test sentences.\n"
          ]
        },
        {
          "name": "stderr",
          "output_type": "stream",
          "text": [
            "\n",
            "  \u001b[1m--> EVAL PERFORMANCE\u001b[0m\n",
            "     | > avg_loader_time:\u001b[92m 3.2137670516967773 \u001b[0m(-0.1668100357055664)\n",
            "     | > avg_loss_disc:\u001b[91m 2.7617950439453125 \u001b[0m(+0.25519442558288574)\n",
            "     | > avg_loss_disc_real_0:\u001b[91m 0.1553298532962799 \u001b[0m(+0.02314889430999756)\n",
            "     | > avg_loss_disc_real_1:\u001b[91m 0.24048657715320587 \u001b[0m(+0.024493873119354248)\n",
            "     | > avg_loss_disc_real_2:\u001b[91m 0.2622342109680176 \u001b[0m(+0.052641257643699646)\n",
            "     | > avg_loss_disc_real_3:\u001b[92m 0.19815266132354736 \u001b[0m(-0.019465312361717224)\n",
            "     | > avg_loss_disc_real_4:\u001b[91m 0.26916682720184326 \u001b[0m(+0.11506251990795135)\n",
            "     | > avg_loss_disc_real_5:\u001b[91m 0.23265302181243896 \u001b[0m(+0.05430881679058075)\n",
            "     | > avg_loss_0:\u001b[91m 2.7617950439453125 \u001b[0m(+0.25519442558288574)\n",
            "     | > avg_loss_gen:\u001b[91m 1.8614462614059448 \u001b[0m(+0.03156745433807373)\n",
            "     | > avg_loss_kl:\u001b[91m 1.9162076711654663 \u001b[0m(+0.024019241333007812)\n",
            "     | > avg_loss_feat:\u001b[91m 4.270505428314209 \u001b[0m(+0.9214489459991455)\n",
            "     | > avg_loss_mel:\u001b[91m 21.007890701293945 \u001b[0m(+0.03458213806152344)\n",
            "     | > avg_loss_duration:\u001b[91m 1.3621528148651123 \u001b[0m(+0.002335071563720703)\n",
            "     | > avg_loss_1:\u001b[91m 30.418201446533203 \u001b[0m(+1.0139503479003906)\n",
            "\n",
            "\n",
            "\u001b[4m\u001b[1m > EPOCH: 50/300\u001b[0m\n",
            " --> vits_20k_steps\n",
            "\n",
            "\u001b[1m > TRAINING (2024-05-19 07:02:33) \u001b[0m\n",
            "\n",
            "\u001b[1m > EVALUATION \u001b[0m\n",
            "\n"
          ]
        },
        {
          "name": "stdout",
          "output_type": "stream",
          "text": [
            " | > Synthesizing test sentences.\n"
          ]
        },
        {
          "name": "stderr",
          "output_type": "stream",
          "text": [
            "\n",
            "  \u001b[1m--> EVAL PERFORMANCE\u001b[0m\n",
            "     | > avg_loader_time:\u001b[91m 3.3056864738464355 \u001b[0m(+0.0919194221496582)\n",
            "     | > avg_loss_disc:\u001b[92m 2.6295814514160156 \u001b[0m(-0.13221359252929688)\n",
            "     | > avg_loss_disc_real_0:\u001b[92m 0.12561652064323425 \u001b[0m(-0.029713332653045654)\n",
            "     | > avg_loss_disc_real_1:\u001b[92m 0.20410862565040588 \u001b[0m(-0.03637795150279999)\n",
            "     | > avg_loss_disc_real_2:\u001b[92m 0.15829630196094513 \u001b[0m(-0.10393790900707245)\n",
            "     | > avg_loss_disc_real_3:\u001b[91m 0.19940945506095886 \u001b[0m(+0.001256793737411499)\n",
            "     | > avg_loss_disc_real_4:\u001b[92m 0.2386796474456787 \u001b[0m(-0.03048717975616455)\n",
            "     | > avg_loss_disc_real_5:\u001b[91m 0.28579238057136536 \u001b[0m(+0.05313935875892639)\n",
            "     | > avg_loss_0:\u001b[92m 2.6295814514160156 \u001b[0m(-0.13221359252929688)\n",
            "     | > avg_loss_gen:\u001b[91m 1.9253753423690796 \u001b[0m(+0.06392908096313477)\n",
            "     | > avg_loss_kl:\u001b[92m 1.5441911220550537 \u001b[0m(-0.3720165491104126)\n",
            "     | > avg_loss_feat:\u001b[91m 4.962480545043945 \u001b[0m(+0.6919751167297363)\n",
            "     | > avg_loss_mel:\u001b[92m 20.505788803100586 \u001b[0m(-0.5021018981933594)\n",
            "     | > avg_loss_duration:\u001b[91m 1.3822548389434814 \u001b[0m(+0.02010202407836914)\n",
            "     | > avg_loss_1:\u001b[92m 30.320091247558594 \u001b[0m(-0.09811019897460938)\n",
            "\n",
            "\n",
            "\u001b[4m\u001b[1m > EPOCH: 51/300\u001b[0m\n",
            " --> vits_20k_steps\n",
            "\n",
            "\u001b[1m > TRAINING (2024-05-19 07:03:00) \u001b[0m\n",
            "\n",
            "\u001b[1m > EVALUATION \u001b[0m\n",
            "\n"
          ]
        },
        {
          "name": "stdout",
          "output_type": "stream",
          "text": [
            " | > Synthesizing test sentences.\n"
          ]
        },
        {
          "name": "stderr",
          "output_type": "stream",
          "text": [
            "\n",
            "  \u001b[1m--> EVAL PERFORMANCE\u001b[0m\n",
            "     | > avg_loader_time:\u001b[92m 3.187499761581421 \u001b[0m(-0.11818671226501465)\n",
            "     | > avg_loss_disc:\u001b[91m 2.655613899230957 \u001b[0m(+0.026032447814941406)\n",
            "     | > avg_loss_disc_real_0:\u001b[92m 0.10678323358297348 \u001b[0m(-0.018833287060260773)\n",
            "     | > avg_loss_disc_real_1:\u001b[91m 0.25240591168403625 \u001b[0m(+0.04829728603363037)\n",
            "     | > avg_loss_disc_real_2:\u001b[91m 0.16209934651851654 \u001b[0m(+0.003803044557571411)\n",
            "     | > avg_loss_disc_real_3:\u001b[91m 0.20393793284893036 \u001b[0m(+0.004528477787971497)\n",
            "     | > avg_loss_disc_real_4:\u001b[92m 0.1689506471157074 \u001b[0m(-0.06972900032997131)\n",
            "     | > avg_loss_disc_real_5:\u001b[92m 0.1556003987789154 \u001b[0m(-0.13019198179244995)\n",
            "     | > avg_loss_0:\u001b[91m 2.655613899230957 \u001b[0m(+0.026032447814941406)\n",
            "     | > avg_loss_gen:\u001b[92m 1.672656536102295 \u001b[0m(-0.25271880626678467)\n",
            "     | > avg_loss_kl:\u001b[92m 1.3724448680877686 \u001b[0m(-0.17174625396728516)\n",
            "     | > avg_loss_feat:\u001b[92m 4.646080493927002 \u001b[0m(-0.31640005111694336)\n",
            "     | > avg_loss_mel:\u001b[91m 20.919340133666992 \u001b[0m(+0.41355133056640625)\n",
            "     | > avg_loss_duration:\u001b[92m 1.354691982269287 \u001b[0m(-0.027562856674194336)\n",
            "     | > avg_loss_1:\u001b[92m 29.9652156829834 \u001b[0m(-0.3548755645751953)\n",
            "\n",
            "\n",
            "\u001b[4m\u001b[1m > EPOCH: 52/300\u001b[0m\n",
            " --> vits_20k_steps\n",
            "\n",
            "\u001b[1m > TRAINING (2024-05-19 07:03:26) \u001b[0m\n",
            "\n",
            "\u001b[1m > EVALUATION \u001b[0m\n",
            "\n"
          ]
        },
        {
          "name": "stdout",
          "output_type": "stream",
          "text": [
            " | > Synthesizing test sentences.\n"
          ]
        },
        {
          "name": "stderr",
          "output_type": "stream",
          "text": [
            "\n",
            "  \u001b[1m--> EVAL PERFORMANCE\u001b[0m\n",
            "     | > avg_loader_time:\u001b[91m 3.6488049030303955 \u001b[0m(+0.4613051414489746)\n",
            "     | > avg_loss_disc:\u001b[92m 2.5742478370666504 \u001b[0m(-0.08136606216430664)\n",
            "     | > avg_loss_disc_real_0:\u001b[91m 0.2600570321083069 \u001b[0m(+0.1532737985253334)\n",
            "     | > avg_loss_disc_real_1:\u001b[91m 0.2616536021232605 \u001b[0m(+0.009247690439224243)\n",
            "     | > avg_loss_disc_real_2:\u001b[91m 0.295381098985672 \u001b[0m(+0.13328175246715546)\n",
            "     | > avg_loss_disc_real_3:\u001b[91m 0.25688469409942627 \u001b[0m(+0.05294676125049591)\n",
            "     | > avg_loss_disc_real_4:\u001b[92m 0.138863205909729 \u001b[0m(-0.030087441205978394)\n",
            "     | > avg_loss_disc_real_5:\u001b[91m 0.20436955988407135 \u001b[0m(+0.048769161105155945)\n",
            "     | > avg_loss_0:\u001b[92m 2.5742478370666504 \u001b[0m(-0.08136606216430664)\n",
            "     | > avg_loss_gen:\u001b[91m 2.2537755966186523 \u001b[0m(+0.5811190605163574)\n",
            "     | > avg_loss_kl:\u001b[91m 1.6487845182418823 \u001b[0m(+0.27633965015411377)\n",
            "     | > avg_loss_feat:\u001b[92m 4.353247165679932 \u001b[0m(-0.2928333282470703)\n",
            "     | > avg_loss_mel:\u001b[92m 20.396751403808594 \u001b[0m(-0.5225887298583984)\n",
            "     | > avg_loss_duration:\u001b[91m 1.3858681917190552 \u001b[0m(+0.031176209449768066)\n",
            "     | > avg_loss_1:\u001b[91m 30.03842544555664 \u001b[0m(+0.07320976257324219)\n",
            "\n",
            "\n",
            "\u001b[4m\u001b[1m > EPOCH: 53/300\u001b[0m\n",
            " --> vits_20k_steps\n",
            "\n",
            "\u001b[1m > TRAINING (2024-05-19 07:03:53) \u001b[0m\n",
            "\n",
            "\u001b[1m > EVALUATION \u001b[0m\n",
            "\n"
          ]
        },
        {
          "name": "stdout",
          "output_type": "stream",
          "text": [
            " | > Synthesizing test sentences.\n"
          ]
        },
        {
          "name": "stderr",
          "output_type": "stream",
          "text": [
            "\n",
            "  \u001b[1m--> EVAL PERFORMANCE\u001b[0m\n",
            "     | > avg_loader_time:\u001b[92m 3.1936209201812744 \u001b[0m(-0.4551839828491211)\n",
            "     | > avg_loss_disc:\u001b[91m 2.7344603538513184 \u001b[0m(+0.16021251678466797)\n",
            "     | > avg_loss_disc_real_0:\u001b[92m 0.17445890605449677 \u001b[0m(-0.08559812605381012)\n",
            "     | > avg_loss_disc_real_1:\u001b[92m 0.23005390167236328 \u001b[0m(-0.03159970045089722)\n",
            "     | > avg_loss_disc_real_2:\u001b[92m 0.1830916553735733 \u001b[0m(-0.1122894436120987)\n",
            "     | > avg_loss_disc_real_3:\u001b[91m 0.27328166365623474 \u001b[0m(+0.01639696955680847)\n",
            "     | > avg_loss_disc_real_4:\u001b[91m 0.2922230064868927 \u001b[0m(+0.1533598005771637)\n",
            "     | > avg_loss_disc_real_5:\u001b[92m 0.19040516018867493 \u001b[0m(-0.013964399695396423)\n",
            "     | > avg_loss_0:\u001b[91m 2.7344603538513184 \u001b[0m(+0.16021251678466797)\n",
            "     | > avg_loss_gen:\u001b[92m 1.8372899293899536 \u001b[0m(-0.41648566722869873)\n",
            "     | > avg_loss_kl:\u001b[91m 1.668124794960022 \u001b[0m(+0.01934027671813965)\n",
            "     | > avg_loss_feat:\u001b[91m 4.868704795837402 \u001b[0m(+0.5154576301574707)\n",
            "     | > avg_loss_mel:\u001b[91m 21.396072387695312 \u001b[0m(+0.9993209838867188)\n",
            "     | > avg_loss_duration:\u001b[91m 1.3916089534759521 \u001b[0m(+0.005740761756896973)\n",
            "     | > avg_loss_1:\u001b[91m 31.161800384521484 \u001b[0m(+1.1233749389648438)\n",
            "\n",
            "\n",
            "\u001b[4m\u001b[1m > EPOCH: 54/300\u001b[0m\n",
            " --> vits_20k_steps\n",
            "\n",
            "\u001b[1m > TRAINING (2024-05-19 07:04:21) \u001b[0m\n",
            "\n",
            "\u001b[1m > EVALUATION \u001b[0m\n",
            "\n"
          ]
        },
        {
          "name": "stdout",
          "output_type": "stream",
          "text": [
            " | > Synthesizing test sentences.\n"
          ]
        },
        {
          "name": "stderr",
          "output_type": "stream",
          "text": [
            "\n",
            "  \u001b[1m--> EVAL PERFORMANCE\u001b[0m\n",
            "     | > avg_loader_time:\u001b[91m 3.3286900520324707 \u001b[0m(+0.1350691318511963)\n",
            "     | > avg_loss_disc:\u001b[92m 2.6899445056915283 \u001b[0m(-0.04451584815979004)\n",
            "     | > avg_loss_disc_real_0:\u001b[91m 0.1861051321029663 \u001b[0m(+0.011646226048469543)\n",
            "     | > avg_loss_disc_real_1:\u001b[91m 0.2691500782966614 \u001b[0m(+0.039096176624298096)\n",
            "     | > avg_loss_disc_real_2:\u001b[91m 0.2005881518125534 \u001b[0m(+0.017496496438980103)\n",
            "     | > avg_loss_disc_real_3:\u001b[92m 0.2570345997810364 \u001b[0m(-0.016247063875198364)\n",
            "     | > avg_loss_disc_real_4:\u001b[92m 0.23643699288368225 \u001b[0m(-0.05578601360321045)\n",
            "     | > avg_loss_disc_real_5:\u001b[92m 0.16042166948318481 \u001b[0m(-0.029983490705490112)\n",
            "     | > avg_loss_0:\u001b[92m 2.6899445056915283 \u001b[0m(-0.04451584815979004)\n",
            "     | > avg_loss_gen:\u001b[91m 1.8488494157791138 \u001b[0m(+0.011559486389160156)\n",
            "     | > avg_loss_kl:\u001b[91m 1.8780052661895752 \u001b[0m(+0.20988047122955322)\n",
            "     | > avg_loss_feat:\u001b[92m 3.573967933654785 \u001b[0m(-1.2947368621826172)\n",
            "     | > avg_loss_mel:\u001b[92m 20.086532592773438 \u001b[0m(-1.309539794921875)\n",
            "     | > avg_loss_duration:\u001b[92m 1.3724700212478638 \u001b[0m(-0.01913893222808838)\n",
            "     | > avg_loss_1:\u001b[92m 28.75982666015625 \u001b[0m(-2.4019737243652344)\n",
            "\n",
            "\n",
            "\u001b[4m\u001b[1m > EPOCH: 55/300\u001b[0m\n",
            " --> vits_20k_steps\n",
            "\n",
            "\u001b[1m > TRAINING (2024-05-19 07:04:48) \u001b[0m\n",
            "\n",
            "\u001b[1m   --> TIME: 2024-05-19 07:04:54 -- STEP: 0/14 -- GLOBAL_STEP: 25000\u001b[0m\n",
            "     | > loss_disc: 2.442359447479248  (2.442359447479248)\n",
            "     | > loss_disc_real_0: 0.04935021325945854  (0.04935021325945854)\n",
            "     | > loss_disc_real_1: 0.2562514841556549  (0.2562514841556549)\n",
            "     | > loss_disc_real_2: 0.16860656440258026  (0.16860656440258026)\n",
            "     | > loss_disc_real_3: 0.15786921977996826  (0.15786921977996826)\n",
            "     | > loss_disc_real_4: 0.15653522312641144  (0.15653522312641144)\n",
            "     | > loss_disc_real_5: 0.13098694384098053  (0.13098694384098053)\n",
            "     | > loss_0: 2.442359447479248  (2.442359447479248)\n",
            "     | > grad_norm_0: tensor(12.3849, device='cuda:0')  (tensor(12.3849, device='cuda:0'))\n",
            "     | > loss_gen: 2.2535414695739746  (2.2535414695739746)\n",
            "     | > loss_kl: 1.0483508110046387  (1.0483508110046387)\n",
            "     | > loss_feat: 5.47068977355957  (5.47068977355957)\n",
            "     | > loss_mel: 17.892257690429688  (17.892257690429688)\n",
            "     | > loss_duration: 0.9458808302879333  (0.9458808302879333)\n",
            "     | > amp_scaler: 512.0  (512.0)\n",
            "     | > loss_1: 27.610721588134766  (27.610721588134766)\n",
            "     | > grad_norm_1: tensor(59.6969, device='cuda:0')  (tensor(59.6969, device='cuda:0'))\n",
            "     | > current_lr_0: 0.00016000073677600334 \n",
            "     | > current_lr_1: 0.00016000073677600334 \n",
            "     | > step_time: 1.6404  (1.6404051780700684)\n",
            "     | > loader_time: 3.7835  (3.7834556102752686)\n",
            "\n",
            "\n",
            "\u001b[1m > EVALUATION \u001b[0m\n",
            "\n"
          ]
        },
        {
          "name": "stdout",
          "output_type": "stream",
          "text": [
            " | > Synthesizing test sentences.\n"
          ]
        },
        {
          "name": "stderr",
          "output_type": "stream",
          "text": [
            "\n",
            "  \u001b[1m--> EVAL PERFORMANCE\u001b[0m\n",
            "     | > avg_loader_time:\u001b[91m 3.3370630741119385 \u001b[0m(+0.008373022079467773)\n",
            "     | > avg_loss_disc:\u001b[92m 2.675306797027588 \u001b[0m(-0.01463770866394043)\n",
            "     | > avg_loss_disc_real_0:\u001b[91m 0.22787050902843475 \u001b[0m(+0.041765376925468445)\n",
            "     | > avg_loss_disc_real_1:\u001b[92m 0.2127484828233719 \u001b[0m(-0.05640159547328949)\n",
            "     | > avg_loss_disc_real_2:\u001b[91m 0.22895179688930511 \u001b[0m(+0.02836364507675171)\n",
            "     | > avg_loss_disc_real_3:\u001b[92m 0.1971612274646759 \u001b[0m(-0.059873372316360474)\n",
            "     | > avg_loss_disc_real_4:\u001b[92m 0.2032013237476349 \u001b[0m(-0.03323566913604736)\n",
            "     | > avg_loss_disc_real_5:\u001b[91m 0.17735162377357483 \u001b[0m(+0.016929954290390015)\n",
            "     | > avg_loss_0:\u001b[92m 2.675306797027588 \u001b[0m(-0.01463770866394043)\n",
            "     | > avg_loss_gen:\u001b[92m 1.7484865188598633 \u001b[0m(-0.10036289691925049)\n",
            "     | > avg_loss_kl:\u001b[91m 1.9354785680770874 \u001b[0m(+0.05747330188751221)\n",
            "     | > avg_loss_feat:\u001b[91m 3.903912305831909 \u001b[0m(+0.329944372177124)\n",
            "     | > avg_loss_mel:\u001b[92m 19.703411102294922 \u001b[0m(-0.3831214904785156)\n",
            "     | > avg_loss_duration:\u001b[91m 1.389068365097046 \u001b[0m(+0.01659834384918213)\n",
            "     | > avg_loss_1:\u001b[92m 28.680355072021484 \u001b[0m(-0.07947158813476562)\n",
            "\n",
            "\n",
            "\u001b[4m\u001b[1m > EPOCH: 56/300\u001b[0m\n",
            " --> vits_20k_steps\n",
            "\n",
            "\u001b[1m > TRAINING (2024-05-19 07:05:15) \u001b[0m\n",
            "\n",
            "\u001b[1m > EVALUATION \u001b[0m\n",
            "\n"
          ]
        },
        {
          "name": "stdout",
          "output_type": "stream",
          "text": [
            " | > Synthesizing test sentences.\n"
          ]
        },
        {
          "name": "stderr",
          "output_type": "stream",
          "text": [
            "\n",
            "  \u001b[1m--> EVAL PERFORMANCE\u001b[0m\n",
            "     | > avg_loader_time:\u001b[91m 3.428948402404785 \u001b[0m(+0.09188532829284668)\n",
            "     | > avg_loss_disc:\u001b[91m 2.8031795024871826 \u001b[0m(+0.12787270545959473)\n",
            "     | > avg_loss_disc_real_0:\u001b[92m 0.14734451472759247 \u001b[0m(-0.08052599430084229)\n",
            "     | > avg_loss_disc_real_1:\u001b[91m 0.24272429943084717 \u001b[0m(+0.02997581660747528)\n",
            "     | > avg_loss_disc_real_2:\u001b[92m 0.2245853990316391 \u001b[0m(-0.004366397857666016)\n",
            "     | > avg_loss_disc_real_3:\u001b[91m 0.28940773010253906 \u001b[0m(+0.09224650263786316)\n",
            "     | > avg_loss_disc_real_4:\u001b[91m 0.24757029116153717 \u001b[0m(+0.04436896741390228)\n",
            "     | > avg_loss_disc_real_5:\u001b[91m 0.22276939451694489 \u001b[0m(+0.045417770743370056)\n",
            "     | > avg_loss_0:\u001b[91m 2.8031795024871826 \u001b[0m(+0.12787270545959473)\n",
            "     | > avg_loss_gen:\u001b[91m 1.9626449346542358 \u001b[0m(+0.21415841579437256)\n",
            "     | > avg_loss_kl:\u001b[92m 1.440462589263916 \u001b[0m(-0.4950159788131714)\n",
            "     | > avg_loss_feat:\u001b[91m 4.137752056121826 \u001b[0m(+0.233839750289917)\n",
            "     | > avg_loss_mel:\u001b[91m 20.62489128112793 \u001b[0m(+0.9214801788330078)\n",
            "     | > avg_loss_duration:\u001b[92m 1.3888565301895142 \u001b[0m(-0.00021183490753173828)\n",
            "     | > avg_loss_1:\u001b[91m 29.554607391357422 \u001b[0m(+0.8742523193359375)\n",
            "\n",
            "\n",
            "\u001b[4m\u001b[1m > EPOCH: 57/300\u001b[0m\n",
            " --> vits_20k_steps\n",
            "\n",
            "\u001b[1m > TRAINING (2024-05-19 07:05:41) \u001b[0m\n",
            "\n",
            "\u001b[1m > EVALUATION \u001b[0m\n",
            "\n"
          ]
        },
        {
          "name": "stdout",
          "output_type": "stream",
          "text": [
            " | > Synthesizing test sentences.\n"
          ]
        },
        {
          "name": "stderr",
          "output_type": "stream",
          "text": [
            "\n",
            "  \u001b[1m--> EVAL PERFORMANCE\u001b[0m\n",
            "     | > avg_loader_time:\u001b[91m 3.522064208984375 \u001b[0m(+0.09311580657958984)\n",
            "     | > avg_loss_disc:\u001b[92m 2.5986292362213135 \u001b[0m(-0.20455026626586914)\n",
            "     | > avg_loss_disc_real_0:\u001b[91m 0.16520681977272034 \u001b[0m(+0.01786230504512787)\n",
            "     | > avg_loss_disc_real_1:\u001b[92m 0.22639742493629456 \u001b[0m(-0.016326874494552612)\n",
            "     | > avg_loss_disc_real_2:\u001b[92m 0.19666768610477448 \u001b[0m(-0.027917712926864624)\n",
            "     | > avg_loss_disc_real_3:\u001b[92m 0.2311760038137436 \u001b[0m(-0.05823172628879547)\n",
            "     | > avg_loss_disc_real_4:\u001b[92m 0.24385994672775269 \u001b[0m(-0.003710344433784485)\n",
            "     | > avg_loss_disc_real_5:\u001b[91m 0.24805685877799988 \u001b[0m(+0.025287464261054993)\n",
            "     | > avg_loss_0:\u001b[92m 2.5986292362213135 \u001b[0m(-0.20455026626586914)\n",
            "     | > avg_loss_gen:\u001b[91m 1.9872395992279053 \u001b[0m(+0.024594664573669434)\n",
            "     | > avg_loss_kl:\u001b[91m 1.9178348779678345 \u001b[0m(+0.47737228870391846)\n",
            "     | > avg_loss_feat:\u001b[91m 4.36147928237915 \u001b[0m(+0.22372722625732422)\n",
            "     | > avg_loss_mel:\u001b[92m 19.35951042175293 \u001b[0m(-1.265380859375)\n",
            "     | > avg_loss_duration:\u001b[91m 1.4029269218444824 \u001b[0m(+0.014070391654968262)\n",
            "     | > avg_loss_1:\u001b[92m 29.02899169921875 \u001b[0m(-0.5256156921386719)\n",
            "\n",
            "\n",
            "\u001b[4m\u001b[1m > EPOCH: 58/300\u001b[0m\n",
            " --> vits_20k_steps\n",
            "\n",
            "\u001b[1m > TRAINING (2024-05-19 07:06:08) \u001b[0m\n",
            "\n",
            "\u001b[1m > EVALUATION \u001b[0m\n",
            "\n"
          ]
        },
        {
          "name": "stdout",
          "output_type": "stream",
          "text": [
            " | > Synthesizing test sentences.\n"
          ]
        },
        {
          "name": "stderr",
          "output_type": "stream",
          "text": [
            "\n",
            "  \u001b[1m--> EVAL PERFORMANCE\u001b[0m\n",
            "     | > avg_loader_time:\u001b[92m 3.281132698059082 \u001b[0m(-0.24093151092529297)\n",
            "     | > avg_loss_disc:\u001b[92m 2.5343613624572754 \u001b[0m(-0.06426787376403809)\n",
            "     | > avg_loss_disc_real_0:\u001b[92m 0.15956737101078033 \u001b[0m(-0.0056394487619400024)\n",
            "     | > avg_loss_disc_real_1:\u001b[92m 0.20385101437568665 \u001b[0m(-0.02254641056060791)\n",
            "     | > avg_loss_disc_real_2:\u001b[91m 0.23645886778831482 \u001b[0m(+0.039791181683540344)\n",
            "     | > avg_loss_disc_real_3:\u001b[91m 0.25894826650619507 \u001b[0m(+0.027772262692451477)\n",
            "     | > avg_loss_disc_real_4:\u001b[92m 0.18481211364269257 \u001b[0m(-0.05904783308506012)\n",
            "     | > avg_loss_disc_real_5:\u001b[92m 0.21452395617961884 \u001b[0m(-0.03353290259838104)\n",
            "     | > avg_loss_0:\u001b[92m 2.5343613624572754 \u001b[0m(-0.06426787376403809)\n",
            "     | > avg_loss_gen:\u001b[91m 2.0073187351226807 \u001b[0m(+0.02007913589477539)\n",
            "     | > avg_loss_kl:\u001b[92m 1.431227445602417 \u001b[0m(-0.4866074323654175)\n",
            "     | > avg_loss_feat:\u001b[91m 4.3911919593811035 \u001b[0m(+0.029712677001953125)\n",
            "     | > avg_loss_mel:\u001b[91m 20.648344039916992 \u001b[0m(+1.2888336181640625)\n",
            "     | > avg_loss_duration:\u001b[92m 1.3804383277893066 \u001b[0m(-0.02248859405517578)\n",
            "     | > avg_loss_1:\u001b[91m 29.8585205078125 \u001b[0m(+0.82952880859375)\n",
            "\n",
            "\n",
            "\u001b[4m\u001b[1m > EPOCH: 59/300\u001b[0m\n",
            " --> vits_20k_steps\n",
            "\n",
            "\u001b[1m > TRAINING (2024-05-19 07:06:35) \u001b[0m\n",
            "\n",
            "\u001b[1m > EVALUATION \u001b[0m\n",
            "\n"
          ]
        },
        {
          "name": "stdout",
          "output_type": "stream",
          "text": [
            " | > Synthesizing test sentences.\n"
          ]
        },
        {
          "name": "stderr",
          "output_type": "stream",
          "text": [
            "\n",
            "  \u001b[1m--> EVAL PERFORMANCE\u001b[0m\n",
            "     | > avg_loader_time:\u001b[92m 3.245310068130493 \u001b[0m(-0.03582262992858887)\n",
            "     | > avg_loss_disc:\u001b[91m 2.7046003341674805 \u001b[0m(+0.17023897171020508)\n",
            "     | > avg_loss_disc_real_0:\u001b[91m 0.1704433560371399 \u001b[0m(+0.010875985026359558)\n",
            "     | > avg_loss_disc_real_1:\u001b[91m 0.27269670367240906 \u001b[0m(+0.06884568929672241)\n",
            "     | > avg_loss_disc_real_2:\u001b[92m 0.10772610455751419 \u001b[0m(-0.12873276323080063)\n",
            "     | > avg_loss_disc_real_3:\u001b[92m 0.22830702364444733 \u001b[0m(-0.03064124286174774)\n",
            "     | > avg_loss_disc_real_4:\u001b[91m 0.256626158952713 \u001b[0m(+0.07181404531002045)\n",
            "     | > avg_loss_disc_real_5:\u001b[92m 0.20967622101306915 \u001b[0m(-0.004847735166549683)\n",
            "     | > avg_loss_0:\u001b[91m 2.7046003341674805 \u001b[0m(+0.17023897171020508)\n",
            "     | > avg_loss_gen:\u001b[92m 1.8797607421875 \u001b[0m(-0.12755799293518066)\n",
            "     | > avg_loss_kl:\u001b[91m 2.0010454654693604 \u001b[0m(+0.5698180198669434)\n",
            "     | > avg_loss_feat:\u001b[92m 4.0765461921691895 \u001b[0m(-0.31464576721191406)\n",
            "     | > avg_loss_mel:\u001b[92m 20.614120483398438 \u001b[0m(-0.03422355651855469)\n",
            "     | > avg_loss_duration:\u001b[91m 1.4033364057540894 \u001b[0m(+0.022898077964782715)\n",
            "     | > avg_loss_1:\u001b[91m 29.974807739257812 \u001b[0m(+0.1162872314453125)\n",
            "\n",
            "\n",
            "\u001b[4m\u001b[1m > EPOCH: 60/300\u001b[0m\n",
            " --> vits_20k_steps\n",
            "\n",
            "\u001b[1m > TRAINING (2024-05-19 07:07:02) \u001b[0m\n",
            "\n",
            "\u001b[1m > EVALUATION \u001b[0m\n",
            "\n"
          ]
        },
        {
          "name": "stdout",
          "output_type": "stream",
          "text": [
            " | > Synthesizing test sentences.\n"
          ]
        },
        {
          "name": "stderr",
          "output_type": "stream",
          "text": [
            "\n",
            "  \u001b[1m--> EVAL PERFORMANCE\u001b[0m\n",
            "     | > avg_loader_time:\u001b[91m 3.4665768146514893 \u001b[0m(+0.2212667465209961)\n",
            "     | > avg_loss_disc:\u001b[91m 2.7203826904296875 \u001b[0m(+0.01578235626220703)\n",
            "     | > avg_loss_disc_real_0:\u001b[91m 0.24826788902282715 \u001b[0m(+0.07782453298568726)\n",
            "     | > avg_loss_disc_real_1:\u001b[92m 0.21260277926921844 \u001b[0m(-0.06009392440319061)\n",
            "     | > avg_loss_disc_real_2:\u001b[91m 0.20499464869499207 \u001b[0m(+0.09726854413747787)\n",
            "     | > avg_loss_disc_real_3:\u001b[92m 0.22566501796245575 \u001b[0m(-0.002642005681991577)\n",
            "     | > avg_loss_disc_real_4:\u001b[91m 0.2911315858364105 \u001b[0m(+0.03450542688369751)\n",
            "     | > avg_loss_disc_real_5:\u001b[91m 0.246364563703537 \u001b[0m(+0.036688342690467834)\n",
            "     | > avg_loss_0:\u001b[91m 2.7203826904296875 \u001b[0m(+0.01578235626220703)\n",
            "     | > avg_loss_gen:\u001b[91m 2.0621135234832764 \u001b[0m(+0.18235278129577637)\n",
            "     | > avg_loss_kl:\u001b[92m 1.705460786819458 \u001b[0m(-0.29558467864990234)\n",
            "     | > avg_loss_feat:\u001b[92m 3.948439836502075 \u001b[0m(-0.12810635566711426)\n",
            "     | > avg_loss_mel:\u001b[92m 20.569522857666016 \u001b[0m(-0.044597625732421875)\n",
            "     | > avg_loss_duration:\u001b[92m 1.4005941152572632 \u001b[0m(-0.002742290496826172)\n",
            "     | > avg_loss_1:\u001b[92m 29.68613052368164 \u001b[0m(-0.2886772155761719)\n",
            "\n",
            "\n",
            "\u001b[4m\u001b[1m > EPOCH: 61/300\u001b[0m\n",
            " --> vits_20k_steps\n",
            "\n",
            "\u001b[1m > TRAINING (2024-05-19 07:07:29) \u001b[0m\n",
            "\n",
            "\u001b[1m > EVALUATION \u001b[0m\n",
            "\n"
          ]
        },
        {
          "name": "stdout",
          "output_type": "stream",
          "text": [
            " | > Synthesizing test sentences.\n"
          ]
        },
        {
          "name": "stderr",
          "output_type": "stream",
          "text": [
            "\n",
            "  \u001b[1m--> EVAL PERFORMANCE\u001b[0m\n",
            "     | > avg_loader_time:\u001b[92m 3.224787712097168 \u001b[0m(-0.2417891025543213)\n",
            "     | > avg_loss_disc:\u001b[91m 2.747255325317383 \u001b[0m(+0.026872634887695312)\n",
            "     | > avg_loss_disc_real_0:\u001b[91m 0.3810161054134369 \u001b[0m(+0.13274821639060974)\n",
            "     | > avg_loss_disc_real_1:\u001b[91m 0.2531742751598358 \u001b[0m(+0.04057149589061737)\n",
            "     | > avg_loss_disc_real_2:\u001b[91m 0.24305984377861023 \u001b[0m(+0.038065195083618164)\n",
            "     | > avg_loss_disc_real_3:\u001b[92m 0.2040635645389557 \u001b[0m(-0.02160145342350006)\n",
            "     | > avg_loss_disc_real_4:\u001b[92m 0.24717596173286438 \u001b[0m(-0.04395562410354614)\n",
            "     | > avg_loss_disc_real_5:\u001b[91m 0.2728275656700134 \u001b[0m(+0.02646300196647644)\n",
            "     | > avg_loss_0:\u001b[91m 2.747255325317383 \u001b[0m(+0.026872634887695312)\n",
            "     | > avg_loss_gen:\u001b[91m 2.3496408462524414 \u001b[0m(+0.28752732276916504)\n",
            "     | > avg_loss_kl:\u001b[91m 2.0045111179351807 \u001b[0m(+0.29905033111572266)\n",
            "     | > avg_loss_feat:\u001b[91m 4.802613258361816 \u001b[0m(+0.8541734218597412)\n",
            "     | > avg_loss_mel:\u001b[92m 20.11928939819336 \u001b[0m(-0.45023345947265625)\n",
            "     | > avg_loss_duration:\u001b[92m 1.400031566619873 \u001b[0m(-0.0005625486373901367)\n",
            "     | > avg_loss_1:\u001b[91m 30.67608642578125 \u001b[0m(+0.9899559020996094)\n",
            "\n",
            "\n",
            "\u001b[4m\u001b[1m > EPOCH: 62/300\u001b[0m\n",
            " --> vits_20k_steps\n",
            "\n",
            "\u001b[1m > TRAINING (2024-05-19 07:07:55) \u001b[0m\n",
            "\n",
            "\u001b[1m > EVALUATION \u001b[0m\n",
            "\n"
          ]
        },
        {
          "name": "stdout",
          "output_type": "stream",
          "text": [
            " | > Synthesizing test sentences.\n"
          ]
        },
        {
          "name": "stderr",
          "output_type": "stream",
          "text": [
            "\n",
            "  \u001b[1m--> EVAL PERFORMANCE\u001b[0m\n",
            "     | > avg_loader_time:\u001b[91m 3.646573305130005 \u001b[0m(+0.4217855930328369)\n",
            "     | > avg_loss_disc:\u001b[92m 2.7052581310272217 \u001b[0m(-0.04199719429016113)\n",
            "     | > avg_loss_disc_real_0:\u001b[92m 0.22975918650627136 \u001b[0m(-0.15125691890716553)\n",
            "     | > avg_loss_disc_real_1:\u001b[91m 0.25952571630477905 \u001b[0m(+0.006351441144943237)\n",
            "     | > avg_loss_disc_real_2:\u001b[92m 0.2369624376296997 \u001b[0m(-0.0060974061489105225)\n",
            "     | > avg_loss_disc_real_3:\u001b[91m 0.2069980651140213 \u001b[0m(+0.002934500575065613)\n",
            "     | > avg_loss_disc_real_4:\u001b[92m 0.14934729039669037 \u001b[0m(-0.09782867133617401)\n",
            "     | > avg_loss_disc_real_5:\u001b[92m 0.19322147965431213 \u001b[0m(-0.0796060860157013)\n",
            "     | > avg_loss_0:\u001b[92m 2.7052581310272217 \u001b[0m(-0.04199719429016113)\n",
            "     | > avg_loss_gen:\u001b[92m 1.7618612051010132 \u001b[0m(-0.5877796411514282)\n",
            "     | > avg_loss_kl:\u001b[92m 1.8919256925582886 \u001b[0m(-0.11258542537689209)\n",
            "     | > avg_loss_feat:\u001b[92m 3.50814151763916 \u001b[0m(-1.2944717407226562)\n",
            "     | > avg_loss_mel:\u001b[91m 20.84596824645996 \u001b[0m(+0.7266788482666016)\n",
            "     | > avg_loss_duration:\u001b[92m 1.3610177040100098 \u001b[0m(-0.03901386260986328)\n",
            "     | > avg_loss_1:\u001b[92m 29.368915557861328 \u001b[0m(-1.3071708679199219)\n",
            "\n",
            "\n",
            "\u001b[4m\u001b[1m > EPOCH: 63/300\u001b[0m\n",
            " --> vits_20k_steps\n",
            "\n",
            "\u001b[1m > TRAINING (2024-05-19 07:08:24) \u001b[0m\n",
            "\n",
            "\u001b[1m > EVALUATION \u001b[0m\n",
            "\n"
          ]
        },
        {
          "name": "stdout",
          "output_type": "stream",
          "text": [
            " | > Synthesizing test sentences.\n"
          ]
        },
        {
          "name": "stderr",
          "output_type": "stream",
          "text": [
            "\n",
            "  \u001b[1m--> EVAL PERFORMANCE\u001b[0m\n",
            "     | > avg_loader_time:\u001b[92m 3.4495489597320557 \u001b[0m(-0.19702434539794922)\n",
            "     | > avg_loss_disc:\u001b[92m 2.4811959266662598 \u001b[0m(-0.22406220436096191)\n",
            "     | > avg_loss_disc_real_0:\u001b[92m 0.15910948812961578 \u001b[0m(-0.07064969837665558)\n",
            "     | > avg_loss_disc_real_1:\u001b[92m 0.2224593162536621 \u001b[0m(-0.03706640005111694)\n",
            "     | > avg_loss_disc_real_2:\u001b[91m 0.2490314394235611 \u001b[0m(+0.01206900179386139)\n",
            "     | > avg_loss_disc_real_3:\u001b[91m 0.21844008564949036 \u001b[0m(+0.011442020535469055)\n",
            "     | > avg_loss_disc_real_4:\u001b[91m 0.23564638197422028 \u001b[0m(+0.08629909157752991)\n",
            "     | > avg_loss_disc_real_5:\u001b[92m 0.18132589757442474 \u001b[0m(-0.01189558207988739)\n",
            "     | > avg_loss_0:\u001b[92m 2.4811959266662598 \u001b[0m(-0.22406220436096191)\n",
            "     | > avg_loss_gen:\u001b[91m 2.117769241333008 \u001b[0m(+0.35590803623199463)\n",
            "     | > avg_loss_kl:\u001b[92m 1.5819090604782104 \u001b[0m(-0.3100166320800781)\n",
            "     | > avg_loss_feat:\u001b[91m 4.740274429321289 \u001b[0m(+1.232132911682129)\n",
            "     | > avg_loss_mel:\u001b[92m 20.530929565429688 \u001b[0m(-0.31503868103027344)\n",
            "     | > avg_loss_duration:\u001b[91m 1.4306950569152832 \u001b[0m(+0.06967735290527344)\n",
            "     | > avg_loss_1:\u001b[91m 30.40157699584961 \u001b[0m(+1.0326614379882812)\n",
            "\n",
            "\n",
            "\u001b[4m\u001b[1m > EPOCH: 64/300\u001b[0m\n",
            " --> vits_20k_steps\n",
            "\n",
            "\u001b[1m > TRAINING (2024-05-19 07:08:51) \u001b[0m\n",
            "\n",
            "\u001b[1m > EVALUATION \u001b[0m\n",
            "\n"
          ]
        },
        {
          "name": "stdout",
          "output_type": "stream",
          "text": [
            " | > Synthesizing test sentences.\n"
          ]
        },
        {
          "name": "stderr",
          "output_type": "stream",
          "text": [
            "\n",
            "  \u001b[1m--> EVAL PERFORMANCE\u001b[0m\n",
            "     | > avg_loader_time:\u001b[92m 3.4257564544677734 \u001b[0m(-0.023792505264282227)\n",
            "     | > avg_loss_disc:\u001b[91m 2.7623353004455566 \u001b[0m(+0.2811393737792969)\n",
            "     | > avg_loss_disc_real_0:\u001b[91m 0.1712055504322052 \u001b[0m(+0.012096062302589417)\n",
            "     | > avg_loss_disc_real_1:\u001b[91m 0.23607854545116425 \u001b[0m(+0.013619229197502136)\n",
            "     | > avg_loss_disc_real_2:\u001b[91m 0.28253594040870667 \u001b[0m(+0.03350450098514557)\n",
            "     | > avg_loss_disc_real_3:\u001b[91m 0.22828219830989838 \u001b[0m(+0.00984211266040802)\n",
            "     | > avg_loss_disc_real_4:\u001b[92m 0.2138424813747406 \u001b[0m(-0.021803900599479675)\n",
            "     | > avg_loss_disc_real_5:\u001b[91m 0.2482093721628189 \u001b[0m(+0.06688347458839417)\n",
            "     | > avg_loss_0:\u001b[91m 2.7623353004455566 \u001b[0m(+0.2811393737792969)\n",
            "     | > avg_loss_gen:\u001b[92m 1.8062303066253662 \u001b[0m(-0.3115389347076416)\n",
            "     | > avg_loss_kl:\u001b[91m 2.138810634613037 \u001b[0m(+0.5569015741348267)\n",
            "     | > avg_loss_feat:\u001b[92m 3.5485308170318604 \u001b[0m(-1.1917436122894287)\n",
            "     | > avg_loss_mel:\u001b[92m 19.978618621826172 \u001b[0m(-0.5523109436035156)\n",
            "     | > avg_loss_duration:\u001b[91m 1.4313549995422363 \u001b[0m(+0.000659942626953125)\n",
            "     | > avg_loss_1:\u001b[92m 28.903545379638672 \u001b[0m(-1.4980316162109375)\n",
            "\n",
            "\n",
            "\u001b[4m\u001b[1m > EPOCH: 65/300\u001b[0m\n",
            " --> vits_20k_steps\n",
            "\n",
            "\u001b[1m > TRAINING (2024-05-19 07:09:19) \u001b[0m\n",
            "\n",
            "\u001b[1m > EVALUATION \u001b[0m\n",
            "\n"
          ]
        },
        {
          "name": "stdout",
          "output_type": "stream",
          "text": [
            " | > Synthesizing test sentences.\n"
          ]
        },
        {
          "name": "stderr",
          "output_type": "stream",
          "text": [
            "\n",
            "  \u001b[1m--> EVAL PERFORMANCE\u001b[0m\n",
            "     | > avg_loader_time:\u001b[92m 3.3333754539489746 \u001b[0m(-0.09238100051879883)\n",
            "     | > avg_loss_disc:\u001b[92m 2.6715266704559326 \u001b[0m(-0.09080862998962402)\n",
            "     | > avg_loss_disc_real_0:\u001b[92m 0.16162405908107758 \u001b[0m(-0.009581491351127625)\n",
            "     | > avg_loss_disc_real_1:\u001b[91m 0.32235637307167053 \u001b[0m(+0.08627782762050629)\n",
            "     | > avg_loss_disc_real_2:\u001b[92m 0.1792217344045639 \u001b[0m(-0.10331420600414276)\n",
            "     | > avg_loss_disc_real_3:\u001b[92m 0.2168128341436386 \u001b[0m(-0.011469364166259766)\n",
            "     | > avg_loss_disc_real_4:\u001b[91m 0.22515207529067993 \u001b[0m(+0.011309593915939331)\n",
            "     | > avg_loss_disc_real_5:\u001b[92m 0.19314885139465332 \u001b[0m(-0.05506052076816559)\n",
            "     | > avg_loss_0:\u001b[92m 2.6715266704559326 \u001b[0m(-0.09080862998962402)\n",
            "     | > avg_loss_gen:\u001b[91m 1.9532866477966309 \u001b[0m(+0.14705634117126465)\n",
            "     | > avg_loss_kl:\u001b[92m 1.7944321632385254 \u001b[0m(-0.3443784713745117)\n",
            "     | > avg_loss_feat:\u001b[91m 4.5405964851379395 \u001b[0m(+0.9920656681060791)\n",
            "     | > avg_loss_mel:\u001b[91m 20.432954788208008 \u001b[0m(+0.45433616638183594)\n",
            "     | > avg_loss_duration:\u001b[92m 1.3896855115890503 \u001b[0m(-0.041669487953186035)\n",
            "     | > avg_loss_1:\u001b[91m 30.11095428466797 \u001b[0m(+1.2074089050292969)\n",
            "\n",
            "\n",
            "\u001b[4m\u001b[1m > EPOCH: 66/300\u001b[0m\n",
            " --> vits_20k_steps\n",
            "\n",
            "\u001b[1m > TRAINING (2024-05-19 07:09:47) \u001b[0m\n",
            "\n",
            "\u001b[1m > EVALUATION \u001b[0m\n",
            "\n"
          ]
        },
        {
          "name": "stdout",
          "output_type": "stream",
          "text": [
            " | > Synthesizing test sentences.\n"
          ]
        },
        {
          "name": "stderr",
          "output_type": "stream",
          "text": [
            "\n",
            "  \u001b[1m--> EVAL PERFORMANCE\u001b[0m\n",
            "     | > avg_loader_time:\u001b[91m 3.434904098510742 \u001b[0m(+0.10152864456176758)\n",
            "     | > avg_loss_disc:\u001b[91m 2.7523698806762695 \u001b[0m(+0.08084321022033691)\n",
            "     | > avg_loss_disc_real_0:\u001b[91m 0.1829315721988678 \u001b[0m(+0.021307513117790222)\n",
            "     | > avg_loss_disc_real_1:\u001b[92m 0.2274099886417389 \u001b[0m(-0.09494638442993164)\n",
            "     | > avg_loss_disc_real_2:\u001b[91m 0.22266049683094025 \u001b[0m(+0.04343876242637634)\n",
            "     | > avg_loss_disc_real_3:\u001b[91m 0.2690272927284241 \u001b[0m(+0.05221445858478546)\n",
            "     | > avg_loss_disc_real_4:\u001b[91m 0.24094122648239136 \u001b[0m(+0.015789151191711426)\n",
            "     | > avg_loss_disc_real_5:\u001b[91m 0.24786823987960815 \u001b[0m(+0.054719388484954834)\n",
            "     | > avg_loss_0:\u001b[91m 2.7523698806762695 \u001b[0m(+0.08084321022033691)\n",
            "     | > avg_loss_gen:\u001b[92m 1.864663004875183 \u001b[0m(-0.08862364292144775)\n",
            "     | > avg_loss_kl:\u001b[91m 1.8308459520339966 \u001b[0m(+0.03641378879547119)\n",
            "     | > avg_loss_feat:\u001b[92m 3.2196969985961914 \u001b[0m(-1.320899486541748)\n",
            "     | > avg_loss_mel:\u001b[92m 20.148630142211914 \u001b[0m(-0.28432464599609375)\n",
            "     | > avg_loss_duration:\u001b[92m 1.3575103282928467 \u001b[0m(-0.03217518329620361)\n",
            "     | > avg_loss_1:\u001b[92m 28.421344757080078 \u001b[0m(-1.6896095275878906)\n",
            "\n",
            "\n",
            "\u001b[4m\u001b[1m > EPOCH: 67/300\u001b[0m\n",
            " --> vits_20k_steps\n",
            "\n",
            "\u001b[1m > TRAINING (2024-05-19 07:10:14) \u001b[0m\n",
            "\n",
            "\u001b[1m > EVALUATION \u001b[0m\n",
            "\n"
          ]
        },
        {
          "name": "stdout",
          "output_type": "stream",
          "text": [
            " | > Synthesizing test sentences.\n"
          ]
        },
        {
          "name": "stderr",
          "output_type": "stream",
          "text": [
            "\n",
            "  \u001b[1m--> EVAL PERFORMANCE\u001b[0m\n",
            "     | > avg_loader_time:\u001b[92m 3.2747976779937744 \u001b[0m(-0.16010642051696777)\n",
            "     | > avg_loss_disc:\u001b[92m 2.647200584411621 \u001b[0m(-0.10516929626464844)\n",
            "     | > avg_loss_disc_real_0:\u001b[91m 0.24334125220775604 \u001b[0m(+0.060409680008888245)\n",
            "     | > avg_loss_disc_real_1:\u001b[91m 0.23517948389053345 \u001b[0m(+0.007769495248794556)\n",
            "     | > avg_loss_disc_real_2:\u001b[92m 0.2193700075149536 \u001b[0m(-0.0032904893159866333)\n",
            "     | > avg_loss_disc_real_3:\u001b[92m 0.22253189980983734 \u001b[0m(-0.04649539291858673)\n",
            "     | > avg_loss_disc_real_4:\u001b[92m 0.17013177275657654 \u001b[0m(-0.07080945372581482)\n",
            "     | > avg_loss_disc_real_5:\u001b[92m 0.21382436156272888 \u001b[0m(-0.03404387831687927)\n",
            "     | > avg_loss_0:\u001b[92m 2.647200584411621 \u001b[0m(-0.10516929626464844)\n",
            "     | > avg_loss_gen:\u001b[91m 1.922703742980957 \u001b[0m(+0.058040738105773926)\n",
            "     | > avg_loss_kl:\u001b[91m 1.993768572807312 \u001b[0m(+0.16292262077331543)\n",
            "     | > avg_loss_feat:\u001b[91m 3.8418071269989014 \u001b[0m(+0.62211012840271)\n",
            "     | > avg_loss_mel:\u001b[92m 19.990205764770508 \u001b[0m(-0.15842437744140625)\n",
            "     | > avg_loss_duration:\u001b[91m 1.399087905883789 \u001b[0m(+0.04157757759094238)\n",
            "     | > avg_loss_1:\u001b[91m 29.147573471069336 \u001b[0m(+0.7262287139892578)\n",
            "\n",
            "\n",
            "\u001b[4m\u001b[1m > EPOCH: 68/300\u001b[0m\n",
            " --> vits_20k_steps\n",
            "\n",
            "\u001b[1m > TRAINING (2024-05-19 07:10:42) \u001b[0m\n",
            "\n",
            "\u001b[1m > EVALUATION \u001b[0m\n",
            "\n"
          ]
        },
        {
          "name": "stdout",
          "output_type": "stream",
          "text": [
            " | > Synthesizing test sentences.\n"
          ]
        },
        {
          "name": "stderr",
          "output_type": "stream",
          "text": [
            "\n",
            "  \u001b[1m--> EVAL PERFORMANCE\u001b[0m\n",
            "     | > avg_loader_time:\u001b[91m 3.401702880859375 \u001b[0m(+0.12690520286560059)\n",
            "     | > avg_loss_disc:\u001b[92m 2.6411032676696777 \u001b[0m(-0.006097316741943359)\n",
            "     | > avg_loss_disc_real_0:\u001b[92m 0.1882917732000351 \u001b[0m(-0.05504947900772095)\n",
            "     | > avg_loss_disc_real_1:\u001b[91m 0.24231605231761932 \u001b[0m(+0.0071365684270858765)\n",
            "     | > avg_loss_disc_real_2:\u001b[92m 0.17869916558265686 \u001b[0m(-0.04067084193229675)\n",
            "     | > avg_loss_disc_real_3:\u001b[91m 0.22911682724952698 \u001b[0m(+0.006584927439689636)\n",
            "     | > avg_loss_disc_real_4:\u001b[91m 0.283475786447525 \u001b[0m(+0.11334401369094849)\n",
            "     | > avg_loss_disc_real_5:\u001b[92m 0.18589824438095093 \u001b[0m(-0.027926117181777954)\n",
            "     | > avg_loss_0:\u001b[92m 2.6411032676696777 \u001b[0m(-0.006097316741943359)\n",
            "     | > avg_loss_gen:\u001b[92m 1.8873142004013062 \u001b[0m(-0.03538954257965088)\n",
            "     | > avg_loss_kl:\u001b[92m 1.8167002201080322 \u001b[0m(-0.17706835269927979)\n",
            "     | > avg_loss_feat:\u001b[91m 4.169119358062744 \u001b[0m(+0.3273122310638428)\n",
            "     | > avg_loss_mel:\u001b[91m 20.619829177856445 \u001b[0m(+0.6296234130859375)\n",
            "     | > avg_loss_duration:\u001b[92m 1.3722822666168213 \u001b[0m(-0.026805639266967773)\n",
            "     | > avg_loss_1:\u001b[91m 29.865243911743164 \u001b[0m(+0.7176704406738281)\n",
            "\n",
            "\n",
            "\u001b[4m\u001b[1m > EPOCH: 69/300\u001b[0m\n",
            " --> vits_20k_steps\n",
            "\n",
            "\u001b[1m > TRAINING (2024-05-19 07:11:11) \u001b[0m\n",
            "\n",
            "\u001b[1m > EVALUATION \u001b[0m\n",
            "\n"
          ]
        },
        {
          "name": "stdout",
          "output_type": "stream",
          "text": [
            " | > Synthesizing test sentences.\n"
          ]
        },
        {
          "name": "stderr",
          "output_type": "stream",
          "text": [
            "\n",
            "  \u001b[1m--> EVAL PERFORMANCE\u001b[0m\n",
            "     | > avg_loader_time:\u001b[92m 3.2976789474487305 \u001b[0m(-0.10402393341064453)\n",
            "     | > avg_loss_disc:\u001b[92m 2.612135410308838 \u001b[0m(-0.028967857360839844)\n",
            "     | > avg_loss_disc_real_0:\u001b[91m 0.21912269294261932 \u001b[0m(+0.03083091974258423)\n",
            "     | > avg_loss_disc_real_1:\u001b[92m 0.21225234866142273 \u001b[0m(-0.030063703656196594)\n",
            "     | > avg_loss_disc_real_2:\u001b[91m 0.2845572233200073 \u001b[0m(+0.10585805773735046)\n",
            "     | > avg_loss_disc_real_3:\u001b[92m 0.208267942070961 \u001b[0m(-0.02084888517856598)\n",
            "     | > avg_loss_disc_real_4:\u001b[92m 0.23591788113117218 \u001b[0m(-0.047557905316352844)\n",
            "     | > avg_loss_disc_real_5:\u001b[91m 0.2325160950422287 \u001b[0m(+0.04661785066127777)\n",
            "     | > avg_loss_0:\u001b[92m 2.612135410308838 \u001b[0m(-0.028967857360839844)\n",
            "     | > avg_loss_gen:\u001b[91m 2.1108853816986084 \u001b[0m(+0.22357118129730225)\n",
            "     | > avg_loss_kl:\u001b[91m 1.8448902368545532 \u001b[0m(+0.028190016746520996)\n",
            "     | > avg_loss_feat:\u001b[91m 4.4689130783081055 \u001b[0m(+0.29979372024536133)\n",
            "     | > avg_loss_mel:\u001b[91m 20.871183395385742 \u001b[0m(+0.2513542175292969)\n",
            "     | > avg_loss_duration:\u001b[92m 1.3495365381240845 \u001b[0m(-0.022745728492736816)\n",
            "     | > avg_loss_1:\u001b[91m 30.645408630371094 \u001b[0m(+0.7801647186279297)\n",
            "\n",
            "\n",
            "\u001b[4m\u001b[1m > EPOCH: 70/300\u001b[0m\n",
            " --> vits_20k_steps\n",
            "\n",
            "\u001b[1m > TRAINING (2024-05-19 07:11:39) \u001b[0m\n",
            "\n",
            "\u001b[1m > EVALUATION \u001b[0m\n",
            "\n"
          ]
        },
        {
          "name": "stdout",
          "output_type": "stream",
          "text": [
            " | > Synthesizing test sentences.\n"
          ]
        },
        {
          "name": "stderr",
          "output_type": "stream",
          "text": [
            "\n",
            "  \u001b[1m--> EVAL PERFORMANCE\u001b[0m\n",
            "     | > avg_loader_time:\u001b[91m 3.412419319152832 \u001b[0m(+0.11474037170410156)\n",
            "     | > avg_loss_disc:\u001b[92m 2.382657289505005 \u001b[0m(-0.229478120803833)\n",
            "     | > avg_loss_disc_real_0:\u001b[92m 0.1853826940059662 \u001b[0m(-0.03373999893665314)\n",
            "     | > avg_loss_disc_real_1:\u001b[91m 0.2501718997955322 \u001b[0m(+0.0379195511341095)\n",
            "     | > avg_loss_disc_real_2:\u001b[92m 0.16412857174873352 \u001b[0m(-0.1204286515712738)\n",
            "     | > avg_loss_disc_real_3:\u001b[92m 0.1515207290649414 \u001b[0m(-0.05674721300601959)\n",
            "     | > avg_loss_disc_real_4:\u001b[92m 0.21179106831550598 \u001b[0m(-0.0241268128156662)\n",
            "     | > avg_loss_disc_real_5:\u001b[92m 0.14360670745372772 \u001b[0m(-0.08890938758850098)\n",
            "     | > avg_loss_0:\u001b[92m 2.382657289505005 \u001b[0m(-0.229478120803833)\n",
            "     | > avg_loss_gen:\u001b[91m 2.1161134243011475 \u001b[0m(+0.0052280426025390625)\n",
            "     | > avg_loss_kl:\u001b[92m 1.706143856048584 \u001b[0m(-0.13874638080596924)\n",
            "     | > avg_loss_feat:\u001b[91m 5.810230255126953 \u001b[0m(+1.3413171768188477)\n",
            "     | > avg_loss_mel:\u001b[92m 20.183229446411133 \u001b[0m(-0.6879539489746094)\n",
            "     | > avg_loss_duration:\u001b[92m 1.3491562604904175 \u001b[0m(-0.0003802776336669922)\n",
            "     | > avg_loss_1:\u001b[91m 31.164873123168945 \u001b[0m(+0.5194644927978516)\n",
            "\n",
            "\n",
            "\u001b[4m\u001b[1m > EPOCH: 71/300\u001b[0m\n",
            " --> vits_20k_steps\n",
            "\n",
            "\u001b[1m > TRAINING (2024-05-19 07:12:08) \u001b[0m\n",
            "\n",
            "\u001b[1m > EVALUATION \u001b[0m\n",
            "\n"
          ]
        },
        {
          "name": "stdout",
          "output_type": "stream",
          "text": [
            " | > Synthesizing test sentences.\n"
          ]
        },
        {
          "name": "stderr",
          "output_type": "stream",
          "text": [
            "\n",
            "  \u001b[1m--> EVAL PERFORMANCE\u001b[0m\n",
            "     | > avg_loader_time:\u001b[92m 3.3232340812683105 \u001b[0m(-0.08918523788452148)\n",
            "     | > avg_loss_disc:\u001b[91m 2.525658130645752 \u001b[0m(+0.14300084114074707)\n",
            "     | > avg_loss_disc_real_0:\u001b[92m 0.17625050246715546 \u001b[0m(-0.00913219153881073)\n",
            "     | > avg_loss_disc_real_1:\u001b[92m 0.22738343477249146 \u001b[0m(-0.02278846502304077)\n",
            "     | > avg_loss_disc_real_2:\u001b[91m 0.24413105845451355 \u001b[0m(+0.08000248670578003)\n",
            "     | > avg_loss_disc_real_3:\u001b[91m 0.25136926770210266 \u001b[0m(+0.09984853863716125)\n",
            "     | > avg_loss_disc_real_4:\u001b[92m 0.1413523554801941 \u001b[0m(-0.07043871283531189)\n",
            "     | > avg_loss_disc_real_5:\u001b[91m 0.22688354551792145 \u001b[0m(+0.08327683806419373)\n",
            "     | > avg_loss_0:\u001b[91m 2.525658130645752 \u001b[0m(+0.14300084114074707)\n",
            "     | > avg_loss_gen:\u001b[92m 2.027399778366089 \u001b[0m(-0.0887136459350586)\n",
            "     | > avg_loss_kl:\u001b[92m 1.6427243947982788 \u001b[0m(-0.06341946125030518)\n",
            "     | > avg_loss_feat:\u001b[92m 4.236687183380127 \u001b[0m(-1.5735430717468262)\n",
            "     | > avg_loss_mel:\u001b[91m 20.581281661987305 \u001b[0m(+0.3980522155761719)\n",
            "     | > avg_loss_duration:\u001b[91m 1.3671730756759644 \u001b[0m(+0.018016815185546875)\n",
            "     | > avg_loss_1:\u001b[92m 29.85526466369629 \u001b[0m(-1.3096084594726562)\n",
            "\n",
            "\n",
            "\u001b[4m\u001b[1m > EPOCH: 72/300\u001b[0m\n",
            " --> vits_20k_steps\n",
            "\n",
            "\u001b[1m > TRAINING (2024-05-19 07:12:37) \u001b[0m\n",
            "\n",
            "\u001b[1m > EVALUATION \u001b[0m\n",
            "\n"
          ]
        },
        {
          "name": "stdout",
          "output_type": "stream",
          "text": [
            " | > Synthesizing test sentences.\n"
          ]
        },
        {
          "name": "stderr",
          "output_type": "stream",
          "text": [
            "\n",
            "  \u001b[1m--> EVAL PERFORMANCE\u001b[0m\n",
            "     | > avg_loader_time:\u001b[91m 3.3642284870147705 \u001b[0m(+0.04099440574645996)\n",
            "     | > avg_loss_disc:\u001b[91m 2.6214609146118164 \u001b[0m(+0.09580278396606445)\n",
            "     | > avg_loss_disc_real_0:\u001b[91m 0.2451174259185791 \u001b[0m(+0.06886692345142365)\n",
            "     | > avg_loss_disc_real_1:\u001b[91m 0.2338789403438568 \u001b[0m(+0.0064955055713653564)\n",
            "     | > avg_loss_disc_real_2:\u001b[92m 0.1968856304883957 \u001b[0m(-0.04724542796611786)\n",
            "     | > avg_loss_disc_real_3:\u001b[92m 0.21643328666687012 \u001b[0m(-0.034935981035232544)\n",
            "     | > avg_loss_disc_real_4:\u001b[91m 0.21316954493522644 \u001b[0m(+0.07181718945503235)\n",
            "     | > avg_loss_disc_real_5:\u001b[91m 0.33588048815727234 \u001b[0m(+0.10899694263935089)\n",
            "     | > avg_loss_0:\u001b[91m 2.6214609146118164 \u001b[0m(+0.09580278396606445)\n",
            "     | > avg_loss_gen:\u001b[91m 2.12042498588562 \u001b[0m(+0.09302520751953125)\n",
            "     | > avg_loss_kl:\u001b[92m 1.6248804330825806 \u001b[0m(-0.017843961715698242)\n",
            "     | > avg_loss_feat:\u001b[91m 4.546517372131348 \u001b[0m(+0.3098301887512207)\n",
            "     | > avg_loss_mel:\u001b[91m 21.42426300048828 \u001b[0m(+0.8429813385009766)\n",
            "     | > avg_loss_duration:\u001b[91m 1.3689438104629517 \u001b[0m(+0.0017707347869873047)\n",
            "     | > avg_loss_1:\u001b[91m 31.08502960205078 \u001b[0m(+1.2297649383544922)\n",
            "\n",
            "\n",
            "\u001b[4m\u001b[1m > EPOCH: 73/300\u001b[0m\n",
            " --> vits_20k_steps\n",
            "\n",
            "\u001b[1m > TRAINING (2024-05-19 07:13:05) \u001b[0m\n",
            "\n",
            "\u001b[1m > EVALUATION \u001b[0m\n",
            "\n"
          ]
        },
        {
          "name": "stdout",
          "output_type": "stream",
          "text": [
            " | > Synthesizing test sentences.\n"
          ]
        },
        {
          "name": "stderr",
          "output_type": "stream",
          "text": [
            "\n",
            "  \u001b[1m--> EVAL PERFORMANCE\u001b[0m\n",
            "     | > avg_loader_time:\u001b[92m 3.361361503601074 \u001b[0m(-0.002866983413696289)\n",
            "     | > avg_loss_disc:\u001b[91m 2.8231592178344727 \u001b[0m(+0.20169830322265625)\n",
            "     | > avg_loss_disc_real_0:\u001b[91m 0.2824524939060211 \u001b[0m(+0.03733506798744202)\n",
            "     | > avg_loss_disc_real_1:\u001b[92m 0.1974056512117386 \u001b[0m(-0.036473289132118225)\n",
            "     | > avg_loss_disc_real_2:\u001b[91m 0.24604007601737976 \u001b[0m(+0.04915444552898407)\n",
            "     | > avg_loss_disc_real_3:\u001b[92m 0.21025238931179047 \u001b[0m(-0.006180897355079651)\n",
            "     | > avg_loss_disc_real_4:\u001b[91m 0.23776286840438843 \u001b[0m(+0.024593323469161987)\n",
            "     | > avg_loss_disc_real_5:\u001b[92m 0.22352904081344604 \u001b[0m(-0.1123514473438263)\n",
            "     | > avg_loss_0:\u001b[91m 2.8231592178344727 \u001b[0m(+0.20169830322265625)\n",
            "     | > avg_loss_gen:\u001b[92m 1.9010725021362305 \u001b[0m(-0.21935248374938965)\n",
            "     | > avg_loss_kl:\u001b[91m 1.9068868160247803 \u001b[0m(+0.2820063829421997)\n",
            "     | > avg_loss_feat:\u001b[91m 4.94769287109375 \u001b[0m(+0.40117549896240234)\n",
            "     | > avg_loss_mel:\u001b[92m 20.25139617919922 \u001b[0m(-1.1728668212890625)\n",
            "     | > avg_loss_duration:\u001b[91m 1.3779971599578857 \u001b[0m(+0.009053349494934082)\n",
            "     | > avg_loss_1:\u001b[92m 30.385046005249023 \u001b[0m(-0.6999835968017578)\n",
            "\n",
            "\n",
            "\u001b[4m\u001b[1m > EPOCH: 74/300\u001b[0m\n",
            " --> vits_20k_steps\n",
            "\n",
            "\u001b[1m > TRAINING (2024-05-19 07:13:33) \u001b[0m\n",
            "\n",
            "\u001b[1m > EVALUATION \u001b[0m\n",
            "\n"
          ]
        },
        {
          "name": "stdout",
          "output_type": "stream",
          "text": [
            " | > Synthesizing test sentences.\n"
          ]
        },
        {
          "name": "stderr",
          "output_type": "stream",
          "text": [
            "\n",
            "  \u001b[1m--> EVAL PERFORMANCE\u001b[0m\n",
            "     | > avg_loader_time:\u001b[91m 3.364687204360962 \u001b[0m(+0.0033257007598876953)\n",
            "     | > avg_loss_disc:\u001b[92m 2.5140433311462402 \u001b[0m(-0.3091158866882324)\n",
            "     | > avg_loss_disc_real_0:\u001b[92m 0.1956585943698883 \u001b[0m(-0.08679389953613281)\n",
            "     | > avg_loss_disc_real_1:\u001b[91m 0.2398282289505005 \u001b[0m(+0.0424225777387619)\n",
            "     | > avg_loss_disc_real_2:\u001b[92m 0.24603889882564545 \u001b[0m(-1.1771917343139648e-06)\n",
            "     | > avg_loss_disc_real_3:\u001b[92m 0.20716939866542816 \u001b[0m(-0.0030829906463623047)\n",
            "     | > avg_loss_disc_real_4:\u001b[92m 0.15680299699306488 \u001b[0m(-0.08095987141132355)\n",
            "     | > avg_loss_disc_real_5:\u001b[92m 0.1957533061504364 \u001b[0m(-0.027775734663009644)\n",
            "     | > avg_loss_0:\u001b[92m 2.5140433311462402 \u001b[0m(-0.3091158866882324)\n",
            "     | > avg_loss_gen:\u001b[91m 2.212461233139038 \u001b[0m(+0.3113887310028076)\n",
            "     | > avg_loss_kl:\u001b[92m 1.8312833309173584 \u001b[0m(-0.07560348510742188)\n",
            "     | > avg_loss_feat:\u001b[91m 5.327616214752197 \u001b[0m(+0.37992334365844727)\n",
            "     | > avg_loss_mel:\u001b[91m 20.8045654296875 \u001b[0m(+0.5531692504882812)\n",
            "     | > avg_loss_duration:\u001b[92m 1.3628844022750854 \u001b[0m(-0.015112757682800293)\n",
            "     | > avg_loss_1:\u001b[91m 31.53881072998047 \u001b[0m(+1.1537647247314453)\n",
            "\n",
            "\n",
            "\u001b[4m\u001b[1m > EPOCH: 75/300\u001b[0m\n",
            " --> vits_20k_steps\n",
            "\n",
            "\u001b[1m > TRAINING (2024-05-19 07:14:01) \u001b[0m\n",
            "\n",
            "\u001b[1m > EVALUATION \u001b[0m\n",
            "\n"
          ]
        },
        {
          "name": "stdout",
          "output_type": "stream",
          "text": [
            " | > Synthesizing test sentences.\n"
          ]
        },
        {
          "name": "stderr",
          "output_type": "stream",
          "text": [
            "\n",
            "  \u001b[1m--> EVAL PERFORMANCE\u001b[0m\n",
            "     | > avg_loader_time:\u001b[92m 3.3307301998138428 \u001b[0m(-0.03395700454711914)\n",
            "     | > avg_loss_disc:\u001b[91m 2.5258235931396484 \u001b[0m(+0.011780261993408203)\n",
            "     | > avg_loss_disc_real_0:\u001b[92m 0.1536725014448166 \u001b[0m(-0.041986092925071716)\n",
            "     | > avg_loss_disc_real_1:\u001b[92m 0.2138783037662506 \u001b[0m(-0.025949925184249878)\n",
            "     | > avg_loss_disc_real_2:\u001b[92m 0.1766110360622406 \u001b[0m(-0.06942786276340485)\n",
            "     | > avg_loss_disc_real_3:\u001b[92m 0.19875812530517578 \u001b[0m(-0.00841127336025238)\n",
            "     | > avg_loss_disc_real_4:\u001b[91m 0.2525099813938141 \u001b[0m(+0.0957069844007492)\n",
            "     | > avg_loss_disc_real_5:\u001b[92m 0.17983096837997437 \u001b[0m(-0.015922337770462036)\n",
            "     | > avg_loss_0:\u001b[91m 2.5258235931396484 \u001b[0m(+0.011780261993408203)\n",
            "     | > avg_loss_gen:\u001b[92m 1.8640536069869995 \u001b[0m(-0.3484076261520386)\n",
            "     | > avg_loss_kl:\u001b[92m 1.7681291103363037 \u001b[0m(-0.06315422058105469)\n",
            "     | > avg_loss_feat:\u001b[92m 4.607393741607666 \u001b[0m(-0.7202224731445312)\n",
            "     | > avg_loss_mel:\u001b[92m 19.81829071044922 \u001b[0m(-0.9862747192382812)\n",
            "     | > avg_loss_duration:\u001b[91m 1.367124319076538 \u001b[0m(+0.004239916801452637)\n",
            "     | > avg_loss_1:\u001b[92m 29.424991607666016 \u001b[0m(-2.113819122314453)\n",
            "\n",
            "\n",
            "\u001b[4m\u001b[1m > EPOCH: 76/300\u001b[0m\n",
            " --> vits_20k_steps\n",
            "\n",
            "\u001b[1m > TRAINING (2024-05-19 07:14:29) \u001b[0m\n",
            "\n",
            "\u001b[1m > EVALUATION \u001b[0m\n",
            "\n"
          ]
        },
        {
          "name": "stdout",
          "output_type": "stream",
          "text": [
            " | > Synthesizing test sentences.\n"
          ]
        },
        {
          "name": "stderr",
          "output_type": "stream",
          "text": [
            "\n",
            "  \u001b[1m--> EVAL PERFORMANCE\u001b[0m\n",
            "     | > avg_loader_time:\u001b[91m 3.524784803390503 \u001b[0m(+0.19405460357666016)\n",
            "     | > avg_loss_disc:\u001b[91m 2.8481388092041016 \u001b[0m(+0.3223152160644531)\n",
            "     | > avg_loss_disc_real_0:\u001b[91m 0.22468730807304382 \u001b[0m(+0.07101480662822723)\n",
            "     | > avg_loss_disc_real_1:\u001b[91m 0.23814591765403748 \u001b[0m(+0.024267613887786865)\n",
            "     | > avg_loss_disc_real_2:\u001b[92m 0.17528286576271057 \u001b[0m(-0.0013281702995300293)\n",
            "     | > avg_loss_disc_real_3:\u001b[91m 0.29089584946632385 \u001b[0m(+0.09213772416114807)\n",
            "     | > avg_loss_disc_real_4:\u001b[92m 0.23101024329662323 \u001b[0m(-0.021499738097190857)\n",
            "     | > avg_loss_disc_real_5:\u001b[91m 0.2263864427804947 \u001b[0m(+0.046555474400520325)\n",
            "     | > avg_loss_0:\u001b[91m 2.8481388092041016 \u001b[0m(+0.3223152160644531)\n",
            "     | > avg_loss_gen:\u001b[92m 1.8263883590698242 \u001b[0m(-0.03766524791717529)\n",
            "     | > avg_loss_kl:\u001b[91m 1.8426759243011475 \u001b[0m(+0.07454681396484375)\n",
            "     | > avg_loss_feat:\u001b[92m 4.118895053863525 \u001b[0m(-0.4884986877441406)\n",
            "     | > avg_loss_mel:\u001b[92m 18.874378204345703 \u001b[0m(-0.9439125061035156)\n",
            "     | > avg_loss_duration:\u001b[92m 1.337851881980896 \u001b[0m(-0.02927243709564209)\n",
            "     | > avg_loss_1:\u001b[92m 28.00019073486328 \u001b[0m(-1.4248008728027344)\n",
            "\n",
            "\n",
            "\u001b[4m\u001b[1m > EPOCH: 77/300\u001b[0m\n",
            " --> vits_20k_steps\n",
            "\n",
            "\u001b[1m > TRAINING (2024-05-19 07:14:58) \u001b[0m\n",
            "\n",
            "\u001b[1m > EVALUATION \u001b[0m\n",
            "\n"
          ]
        },
        {
          "name": "stdout",
          "output_type": "stream",
          "text": [
            " | > Synthesizing test sentences.\n"
          ]
        },
        {
          "name": "stderr",
          "output_type": "stream",
          "text": [
            "\n",
            "  \u001b[1m--> EVAL PERFORMANCE\u001b[0m\n",
            "     | > avg_loader_time:\u001b[92m 3.271806478500366 \u001b[0m(-0.2529783248901367)\n",
            "     | > avg_loss_disc:\u001b[92m 2.7274763584136963 \u001b[0m(-0.12066245079040527)\n",
            "     | > avg_loss_disc_real_0:\u001b[92m 0.17931632697582245 \u001b[0m(-0.045370981097221375)\n",
            "     | > avg_loss_disc_real_1:\u001b[91m 0.27690643072128296 \u001b[0m(+0.03876051306724548)\n",
            "     | > avg_loss_disc_real_2:\u001b[91m 0.3096153736114502 \u001b[0m(+0.13433250784873962)\n",
            "     | > avg_loss_disc_real_3:\u001b[92m 0.22635099291801453 \u001b[0m(-0.06454485654830933)\n",
            "     | > avg_loss_disc_real_4:\u001b[92m 0.20331212878227234 \u001b[0m(-0.02769811451435089)\n",
            "     | > avg_loss_disc_real_5:\u001b[92m 0.18968674540519714 \u001b[0m(-0.036699697375297546)\n",
            "     | > avg_loss_0:\u001b[92m 2.7274763584136963 \u001b[0m(-0.12066245079040527)\n",
            "     | > avg_loss_gen:\u001b[91m 1.98983633518219 \u001b[0m(+0.16344797611236572)\n",
            "     | > avg_loss_kl:\u001b[92m 1.5542404651641846 \u001b[0m(-0.2884354591369629)\n",
            "     | > avg_loss_feat:\u001b[92m 3.92964506149292 \u001b[0m(-0.18924999237060547)\n",
            "     | > avg_loss_mel:\u001b[91m 20.672969818115234 \u001b[0m(+1.7985916137695312)\n",
            "     | > avg_loss_duration:\u001b[91m 1.3500196933746338 \u001b[0m(+0.012167811393737793)\n",
            "     | > avg_loss_1:\u001b[91m 29.49671173095703 \u001b[0m(+1.49652099609375)\n",
            "\n",
            "\n",
            "\u001b[4m\u001b[1m > EPOCH: 78/300\u001b[0m\n",
            " --> vits_20k_steps\n",
            "\n",
            "\u001b[1m > TRAINING (2024-05-19 07:15:27) \u001b[0m\n",
            "\n",
            "\u001b[1m > EVALUATION \u001b[0m\n",
            "\n"
          ]
        },
        {
          "name": "stdout",
          "output_type": "stream",
          "text": [
            " | > Synthesizing test sentences.\n"
          ]
        },
        {
          "name": "stderr",
          "output_type": "stream",
          "text": [
            "\n",
            "  \u001b[1m--> EVAL PERFORMANCE\u001b[0m\n",
            "     | > avg_loader_time:\u001b[91m 3.337738513946533 \u001b[0m(+0.06593203544616699)\n",
            "     | > avg_loss_disc:\u001b[91m 2.7350358963012695 \u001b[0m(+0.007559537887573242)\n",
            "     | > avg_loss_disc_real_0:\u001b[92m 0.16107302904129028 \u001b[0m(-0.018243297934532166)\n",
            "     | > avg_loss_disc_real_1:\u001b[92m 0.22456011176109314 \u001b[0m(-0.05234631896018982)\n",
            "     | > avg_loss_disc_real_2:\u001b[92m 0.2754891514778137 \u001b[0m(-0.034126222133636475)\n",
            "     | > avg_loss_disc_real_3:\u001b[91m 0.2724442183971405 \u001b[0m(+0.04609322547912598)\n",
            "     | > avg_loss_disc_real_4:\u001b[92m 0.16896526515483856 \u001b[0m(-0.03434686362743378)\n",
            "     | > avg_loss_disc_real_5:\u001b[91m 0.2101617157459259 \u001b[0m(+0.02047497034072876)\n",
            "     | > avg_loss_0:\u001b[91m 2.7350358963012695 \u001b[0m(+0.007559537887573242)\n",
            "     | > avg_loss_gen:\u001b[92m 1.910791277885437 \u001b[0m(-0.07904505729675293)\n",
            "     | > avg_loss_kl:\u001b[91m 1.8897603750228882 \u001b[0m(+0.3355199098587036)\n",
            "     | > avg_loss_feat:\u001b[91m 4.648021221160889 \u001b[0m(+0.7183761596679688)\n",
            "     | > avg_loss_mel:\u001b[91m 21.553525924682617 \u001b[0m(+0.8805561065673828)\n",
            "     | > avg_loss_duration:\u001b[91m 1.3920410871505737 \u001b[0m(+0.04202139377593994)\n",
            "     | > avg_loss_1:\u001b[91m 31.394140243530273 \u001b[0m(+1.8974285125732422)\n",
            "\n",
            "\n",
            "\u001b[4m\u001b[1m > EPOCH: 79/300\u001b[0m\n",
            " --> vits_20k_steps\n",
            "\n",
            "\u001b[1m > TRAINING (2024-05-19 07:15:55) \u001b[0m\n",
            "\n",
            "\u001b[1m > EVALUATION \u001b[0m\n",
            "\n"
          ]
        },
        {
          "name": "stdout",
          "output_type": "stream",
          "text": [
            " | > Synthesizing test sentences.\n"
          ]
        },
        {
          "name": "stderr",
          "output_type": "stream",
          "text": [
            "\n",
            "  \u001b[1m--> EVAL PERFORMANCE\u001b[0m\n",
            "     | > avg_loader_time:\u001b[92m 3.3174350261688232 \u001b[0m(-0.02030348777770996)\n",
            "     | > avg_loss_disc:\u001b[92m 2.516765594482422 \u001b[0m(-0.21827030181884766)\n",
            "     | > avg_loss_disc_real_0:\u001b[91m 0.27354246377944946 \u001b[0m(+0.11246943473815918)\n",
            "     | > avg_loss_disc_real_1:\u001b[91m 0.2677464187145233 \u001b[0m(+0.043186306953430176)\n",
            "     | > avg_loss_disc_real_2:\u001b[91m 0.3040800988674164 \u001b[0m(+0.02859094738960266)\n",
            "     | > avg_loss_disc_real_3:\u001b[92m 0.1983320713043213 \u001b[0m(-0.07411214709281921)\n",
            "     | > avg_loss_disc_real_4:\u001b[91m 0.2115648090839386 \u001b[0m(+0.04259954392910004)\n",
            "     | > avg_loss_disc_real_5:\u001b[92m 0.19543495774269104 \u001b[0m(-0.014726758003234863)\n",
            "     | > avg_loss_0:\u001b[92m 2.516765594482422 \u001b[0m(-0.21827030181884766)\n",
            "     | > avg_loss_gen:\u001b[91m 2.4531962871551514 \u001b[0m(+0.5424050092697144)\n",
            "     | > avg_loss_kl:\u001b[92m 1.731120228767395 \u001b[0m(-0.15864014625549316)\n",
            "     | > avg_loss_feat:\u001b[91m 4.825317859649658 \u001b[0m(+0.17729663848876953)\n",
            "     | > avg_loss_mel:\u001b[92m 20.272417068481445 \u001b[0m(-1.2811088562011719)\n",
            "     | > avg_loss_duration:\u001b[92m 1.3733019828796387 \u001b[0m(-0.01873910427093506)\n",
            "     | > avg_loss_1:\u001b[92m 30.655353546142578 \u001b[0m(-0.7387866973876953)\n",
            "\n",
            "\n",
            "\u001b[4m\u001b[1m > EPOCH: 80/300\u001b[0m\n",
            " --> vits_20k_steps\n",
            "\n",
            "\u001b[1m > TRAINING (2024-05-19 07:16:24) \u001b[0m\n",
            "\n",
            "\u001b[1m > EVALUATION \u001b[0m\n",
            "\n"
          ]
        },
        {
          "name": "stdout",
          "output_type": "stream",
          "text": [
            " | > Synthesizing test sentences.\n"
          ]
        },
        {
          "name": "stderr",
          "output_type": "stream",
          "text": [
            "\n",
            "  \u001b[1m--> EVAL PERFORMANCE\u001b[0m\n",
            "     | > avg_loader_time:\u001b[91m 3.4457764625549316 \u001b[0m(+0.1283414363861084)\n",
            "     | > avg_loss_disc:\u001b[91m 2.634450912475586 \u001b[0m(+0.11768531799316406)\n",
            "     | > avg_loss_disc_real_0:\u001b[92m 0.19039934873580933 \u001b[0m(-0.08314311504364014)\n",
            "     | > avg_loss_disc_real_1:\u001b[91m 0.31711024045944214 \u001b[0m(+0.04936382174491882)\n",
            "     | > avg_loss_disc_real_2:\u001b[92m 0.27803942561149597 \u001b[0m(-0.02604067325592041)\n",
            "     | > avg_loss_disc_real_3:\u001b[91m 0.23402896523475647 \u001b[0m(+0.03569689393043518)\n",
            "     | > avg_loss_disc_real_4:\u001b[92m 0.18621739745140076 \u001b[0m(-0.025347411632537842)\n",
            "     | > avg_loss_disc_real_5:\u001b[91m 0.2507031559944153 \u001b[0m(+0.05526819825172424)\n",
            "     | > avg_loss_0:\u001b[91m 2.634450912475586 \u001b[0m(+0.11768531799316406)\n",
            "     | > avg_loss_gen:\u001b[92m 2.159635543823242 \u001b[0m(-0.2935607433319092)\n",
            "     | > avg_loss_kl:\u001b[92m 1.5522191524505615 \u001b[0m(-0.1789010763168335)\n",
            "     | > avg_loss_feat:\u001b[92m 4.533112049102783 \u001b[0m(-0.292205810546875)\n",
            "     | > avg_loss_mel:\u001b[92m 19.874454498291016 \u001b[0m(-0.3979625701904297)\n",
            "     | > avg_loss_duration:\u001b[91m 1.3742311000823975 \u001b[0m(+0.0009291172027587891)\n",
            "     | > avg_loss_1:\u001b[92m 29.49365234375 \u001b[0m(-1.1617012023925781)\n",
            "\n",
            "\n",
            "\u001b[4m\u001b[1m > EPOCH: 81/300\u001b[0m\n",
            " --> vits_20k_steps\n",
            "\n",
            "\u001b[1m > TRAINING (2024-05-19 07:16:53) \u001b[0m\n",
            "\n",
            "\u001b[1m > EVALUATION \u001b[0m\n",
            "\n"
          ]
        },
        {
          "name": "stdout",
          "output_type": "stream",
          "text": [
            " | > Synthesizing test sentences.\n"
          ]
        },
        {
          "name": "stderr",
          "output_type": "stream",
          "text": [
            "\n",
            "  \u001b[1m--> EVAL PERFORMANCE\u001b[0m\n",
            "     | > avg_loader_time:\u001b[92m 3.430582046508789 \u001b[0m(-0.015194416046142578)\n",
            "     | > avg_loss_disc:\u001b[92m 2.582251787185669 \u001b[0m(-0.05219912528991699)\n",
            "     | > avg_loss_disc_real_0:\u001b[92m 0.1780359447002411 \u001b[0m(-0.012363404035568237)\n",
            "     | > avg_loss_disc_real_1:\u001b[92m 0.24007940292358398 \u001b[0m(-0.07703083753585815)\n",
            "     | > avg_loss_disc_real_2:\u001b[92m 0.25030019879341125 \u001b[0m(-0.027739226818084717)\n",
            "     | > avg_loss_disc_real_3:\u001b[91m 0.2341437041759491 \u001b[0m(+0.00011473894119262695)\n",
            "     | > avg_loss_disc_real_4:\u001b[91m 0.2425006479024887 \u001b[0m(+0.05628325045108795)\n",
            "     | > avg_loss_disc_real_5:\u001b[91m 0.29039639234542847 \u001b[0m(+0.039693236351013184)\n",
            "     | > avg_loss_0:\u001b[92m 2.582251787185669 \u001b[0m(-0.05219912528991699)\n",
            "     | > avg_loss_gen:\u001b[92m 2.136772632598877 \u001b[0m(-0.022862911224365234)\n",
            "     | > avg_loss_kl:\u001b[91m 1.874267339706421 \u001b[0m(+0.3220481872558594)\n",
            "     | > avg_loss_feat:\u001b[92m 4.059835433959961 \u001b[0m(-0.47327661514282227)\n",
            "     | > avg_loss_mel:\u001b[91m 21.454051971435547 \u001b[0m(+1.5795974731445312)\n",
            "     | > avg_loss_duration:\u001b[91m 1.377364158630371 \u001b[0m(+0.003133058547973633)\n",
            "     | > avg_loss_1:\u001b[91m 30.90229034423828 \u001b[0m(+1.4086380004882812)\n",
            "\n",
            "\n",
            "\u001b[4m\u001b[1m > EPOCH: 82/300\u001b[0m\n",
            " --> vits_20k_steps\n",
            "\n",
            "\u001b[1m > TRAINING (2024-05-19 07:17:21) \u001b[0m\n",
            "\n",
            "\u001b[1m > EVALUATION \u001b[0m\n",
            "\n"
          ]
        },
        {
          "name": "stdout",
          "output_type": "stream",
          "text": [
            " | > Synthesizing test sentences.\n"
          ]
        },
        {
          "name": "stderr",
          "output_type": "stream",
          "text": [
            "\n",
            "  \u001b[1m--> EVAL PERFORMANCE\u001b[0m\n",
            "     | > avg_loader_time:\u001b[92m 3.332143545150757 \u001b[0m(-0.09843850135803223)\n",
            "     | > avg_loss_disc:\u001b[91m 2.612173557281494 \u001b[0m(+0.029921770095825195)\n",
            "     | > avg_loss_disc_real_0:\u001b[92m 0.17056643962860107 \u001b[0m(-0.007469505071640015)\n",
            "     | > avg_loss_disc_real_1:\u001b[92m 0.22871553897857666 \u001b[0m(-0.011363863945007324)\n",
            "     | > avg_loss_disc_real_2:\u001b[92m 0.24107445776462555 \u001b[0m(-0.009225741028785706)\n",
            "     | > avg_loss_disc_real_3:\u001b[92m 0.1801445037126541 \u001b[0m(-0.05399920046329498)\n",
            "     | > avg_loss_disc_real_4:\u001b[92m 0.19967705011367798 \u001b[0m(-0.04282359778881073)\n",
            "     | > avg_loss_disc_real_5:\u001b[92m 0.1439993679523468 \u001b[0m(-0.14639702439308167)\n",
            "     | > avg_loss_0:\u001b[91m 2.612173557281494 \u001b[0m(+0.029921770095825195)\n",
            "     | > avg_loss_gen:\u001b[92m 1.8416271209716797 \u001b[0m(-0.29514551162719727)\n",
            "     | > avg_loss_kl:\u001b[92m 1.8447315692901611 \u001b[0m(-0.029535770416259766)\n",
            "     | > avg_loss_feat:\u001b[91m 4.86567497253418 \u001b[0m(+0.8058395385742188)\n",
            "     | > avg_loss_mel:\u001b[92m 19.521772384643555 \u001b[0m(-1.9322795867919922)\n",
            "     | > avg_loss_duration:\u001b[92m 1.3425633907318115 \u001b[0m(-0.03480076789855957)\n",
            "     | > avg_loss_1:\u001b[92m 29.41636848449707 \u001b[0m(-1.485921859741211)\n",
            "\n",
            "\n",
            "\u001b[4m\u001b[1m > EPOCH: 83/300\u001b[0m\n",
            " --> vits_20k_steps\n",
            "\n",
            "\u001b[1m > TRAINING (2024-05-19 07:17:50) \u001b[0m\n",
            "\n",
            "\u001b[1m > EVALUATION \u001b[0m\n",
            "\n"
          ]
        },
        {
          "name": "stdout",
          "output_type": "stream",
          "text": [
            " | > Synthesizing test sentences.\n"
          ]
        },
        {
          "name": "stderr",
          "output_type": "stream",
          "text": [
            "\n",
            "  \u001b[1m--> EVAL PERFORMANCE\u001b[0m\n",
            "     | > avg_loader_time:\u001b[92m 3.077807664871216 \u001b[0m(-0.254335880279541)\n",
            "     | > avg_loss_disc:\u001b[92m 2.5329251289367676 \u001b[0m(-0.07924842834472656)\n",
            "     | > avg_loss_disc_real_0:\u001b[92m 0.15857113897800446 \u001b[0m(-0.011995300650596619)\n",
            "     | > avg_loss_disc_real_1:\u001b[92m 0.214873269200325 \u001b[0m(-0.013842269778251648)\n",
            "     | > avg_loss_disc_real_2:\u001b[92m 0.11870370805263519 \u001b[0m(-0.12237074971199036)\n",
            "     | > avg_loss_disc_real_3:\u001b[91m 0.19628094136714935 \u001b[0m(+0.01613643765449524)\n",
            "     | > avg_loss_disc_real_4:\u001b[91m 0.23839809000492096 \u001b[0m(+0.03872103989124298)\n",
            "     | > avg_loss_disc_real_5:\u001b[91m 0.17973965406417847 \u001b[0m(+0.035740286111831665)\n",
            "     | > avg_loss_0:\u001b[92m 2.5329251289367676 \u001b[0m(-0.07924842834472656)\n",
            "     | > avg_loss_gen:\u001b[91m 1.8584134578704834 \u001b[0m(+0.01678633689880371)\n",
            "     | > avg_loss_kl:\u001b[91m 1.9291249513626099 \u001b[0m(+0.08439338207244873)\n",
            "     | > avg_loss_feat:\u001b[91m 5.555560111999512 \u001b[0m(+0.689885139465332)\n",
            "     | > avg_loss_mel:\u001b[91m 21.343090057373047 \u001b[0m(+1.8213176727294922)\n",
            "     | > avg_loss_duration:\u001b[91m 1.3883247375488281 \u001b[0m(+0.0457613468170166)\n",
            "     | > avg_loss_1:\u001b[91m 32.07451248168945 \u001b[0m(+2.658143997192383)\n",
            "\n",
            "\n",
            "\u001b[4m\u001b[1m > EPOCH: 84/300\u001b[0m\n",
            " --> vits_20k_steps\n",
            "\n",
            "\u001b[1m > TRAINING (2024-05-19 07:18:20) \u001b[0m\n",
            "\n",
            "\u001b[1m > EVALUATION \u001b[0m\n",
            "\n"
          ]
        },
        {
          "name": "stdout",
          "output_type": "stream",
          "text": [
            " | > Synthesizing test sentences.\n"
          ]
        },
        {
          "name": "stderr",
          "output_type": "stream",
          "text": [
            "\n",
            "  \u001b[1m--> EVAL PERFORMANCE\u001b[0m\n",
            "     | > avg_loader_time:\u001b[91m 3.367386817932129 \u001b[0m(+0.2895791530609131)\n",
            "     | > avg_loss_disc:\u001b[92m 2.528355121612549 \u001b[0m(-0.00457000732421875)\n",
            "     | > avg_loss_disc_real_0:\u001b[91m 0.1639496088027954 \u001b[0m(+0.005378469824790955)\n",
            "     | > avg_loss_disc_real_1:\u001b[91m 0.2605401873588562 \u001b[0m(+0.04566691815853119)\n",
            "     | > avg_loss_disc_real_2:\u001b[91m 0.23757675290107727 \u001b[0m(+0.11887304484844208)\n",
            "     | > avg_loss_disc_real_3:\u001b[91m 0.24046723544597626 \u001b[0m(+0.044186294078826904)\n",
            "     | > avg_loss_disc_real_4:\u001b[92m 0.1626650094985962 \u001b[0m(-0.07573308050632477)\n",
            "     | > avg_loss_disc_real_5:\u001b[92m 0.17472854256629944 \u001b[0m(-0.005011111497879028)\n",
            "     | > avg_loss_0:\u001b[92m 2.528355121612549 \u001b[0m(-0.00457000732421875)\n",
            "     | > avg_loss_gen:\u001b[91m 2.0331430435180664 \u001b[0m(+0.174729585647583)\n",
            "     | > avg_loss_kl:\u001b[92m 1.8977595567703247 \u001b[0m(-0.031365394592285156)\n",
            "     | > avg_loss_feat:\u001b[92m 4.9209136962890625 \u001b[0m(-0.6346464157104492)\n",
            "     | > avg_loss_mel:\u001b[92m 21.180944442749023 \u001b[0m(-0.16214561462402344)\n",
            "     | > avg_loss_duration:\u001b[91m 1.4288887977600098 \u001b[0m(+0.04056406021118164)\n",
            "     | > avg_loss_1:\u001b[92m 31.46164894104004 \u001b[0m(-0.6128635406494141)\n",
            "\n",
            "\n",
            "\u001b[4m\u001b[1m > EPOCH: 85/300\u001b[0m\n",
            " --> vits_20k_steps\n",
            "\n",
            "\u001b[1m > TRAINING (2024-05-19 07:18:48) \u001b[0m\n",
            "\n",
            "\u001b[1m > EVALUATION \u001b[0m\n",
            "\n"
          ]
        },
        {
          "name": "stdout",
          "output_type": "stream",
          "text": [
            " | > Synthesizing test sentences.\n"
          ]
        },
        {
          "name": "stderr",
          "output_type": "stream",
          "text": [
            "\n",
            "  \u001b[1m--> EVAL PERFORMANCE\u001b[0m\n",
            "     | > avg_loader_time:\u001b[92m 3.2112700939178467 \u001b[0m(-0.15611672401428223)\n",
            "     | > avg_loss_disc:\u001b[92m 2.520587921142578 \u001b[0m(-0.007767200469970703)\n",
            "     | > avg_loss_disc_real_0:\u001b[91m 0.2734391391277313 \u001b[0m(+0.10948953032493591)\n",
            "     | > avg_loss_disc_real_1:\u001b[92m 0.20966753363609314 \u001b[0m(-0.05087265372276306)\n",
            "     | > avg_loss_disc_real_2:\u001b[91m 0.24509525299072266 \u001b[0m(+0.007518500089645386)\n",
            "     | > avg_loss_disc_real_3:\u001b[92m 0.20308156311511993 \u001b[0m(-0.03738567233085632)\n",
            "     | > avg_loss_disc_real_4:\u001b[91m 0.23496113717556 \u001b[0m(+0.0722961276769638)\n",
            "     | > avg_loss_disc_real_5:\u001b[92m 0.12984508275985718 \u001b[0m(-0.04488345980644226)\n",
            "     | > avg_loss_0:\u001b[92m 2.520587921142578 \u001b[0m(-0.007767200469970703)\n",
            "     | > avg_loss_gen:\u001b[91m 2.0745906829833984 \u001b[0m(+0.04144763946533203)\n",
            "     | > avg_loss_kl:\u001b[92m 1.7534726858139038 \u001b[0m(-0.1442868709564209)\n",
            "     | > avg_loss_feat:\u001b[91m 5.0384135246276855 \u001b[0m(+0.11749982833862305)\n",
            "     | > avg_loss_mel:\u001b[92m 19.903078079223633 \u001b[0m(-1.2778663635253906)\n",
            "     | > avg_loss_duration:\u001b[92m 1.4216463565826416 \u001b[0m(-0.007242441177368164)\n",
            "     | > avg_loss_1:\u001b[92m 30.19120216369629 \u001b[0m(-1.27044677734375)\n",
            "\n",
            "\n",
            "\u001b[4m\u001b[1m > EPOCH: 86/300\u001b[0m\n",
            " --> vits_20k_steps\n",
            "\n",
            "\u001b[1m > TRAINING (2024-05-19 07:19:16) \u001b[0m\n",
            "\n",
            "\u001b[1m > EVALUATION \u001b[0m\n",
            "\n"
          ]
        },
        {
          "name": "stdout",
          "output_type": "stream",
          "text": [
            " | > Synthesizing test sentences.\n"
          ]
        },
        {
          "name": "stderr",
          "output_type": "stream",
          "text": [
            "\n",
            "  \u001b[1m--> EVAL PERFORMANCE\u001b[0m\n",
            "     | > avg_loader_time:\u001b[91m 3.4010543823242188 \u001b[0m(+0.18978428840637207)\n",
            "     | > avg_loss_disc:\u001b[91m 2.5961811542510986 \u001b[0m(+0.07559323310852051)\n",
            "     | > avg_loss_disc_real_0:\u001b[92m 0.22166059911251068 \u001b[0m(-0.05177854001522064)\n",
            "     | > avg_loss_disc_real_1:\u001b[91m 0.23511101305484772 \u001b[0m(+0.025443479418754578)\n",
            "     | > avg_loss_disc_real_2:\u001b[92m 0.2065911442041397 \u001b[0m(-0.03850410878658295)\n",
            "     | > avg_loss_disc_real_3:\u001b[91m 0.23638726770877838 \u001b[0m(+0.03330570459365845)\n",
            "     | > avg_loss_disc_real_4:\u001b[92m 0.18893243372440338 \u001b[0m(-0.046028703451156616)\n",
            "     | > avg_loss_disc_real_5:\u001b[91m 0.23685675859451294 \u001b[0m(+0.10701167583465576)\n",
            "     | > avg_loss_0:\u001b[91m 2.5961811542510986 \u001b[0m(+0.07559323310852051)\n",
            "     | > avg_loss_gen:\u001b[92m 1.9921512603759766 \u001b[0m(-0.08243942260742188)\n",
            "     | > avg_loss_kl:\u001b[91m 1.865947961807251 \u001b[0m(+0.11247527599334717)\n",
            "     | > avg_loss_feat:\u001b[92m 4.54417085647583 \u001b[0m(-0.49424266815185547)\n",
            "     | > avg_loss_mel:\u001b[91m 20.011960983276367 \u001b[0m(+0.10888290405273438)\n",
            "     | > avg_loss_duration:\u001b[92m 1.4185892343521118 \u001b[0m(-0.003057122230529785)\n",
            "     | > avg_loss_1:\u001b[92m 29.832820892333984 \u001b[0m(-0.3583812713623047)\n",
            "\n",
            "\n",
            "\u001b[4m\u001b[1m > EPOCH: 87/300\u001b[0m\n",
            " --> vits_20k_steps\n",
            "\n",
            "\u001b[1m > TRAINING (2024-05-19 07:19:45) \u001b[0m\n",
            "\n",
            "\u001b[1m > EVALUATION \u001b[0m\n",
            "\n"
          ]
        },
        {
          "name": "stdout",
          "output_type": "stream",
          "text": [
            " | > Synthesizing test sentences.\n"
          ]
        },
        {
          "name": "stderr",
          "output_type": "stream",
          "text": [
            "\n",
            "  \u001b[1m--> EVAL PERFORMANCE\u001b[0m\n",
            "     | > avg_loader_time:\u001b[92m 3.3750951290130615 \u001b[0m(-0.025959253311157227)\n",
            "     | > avg_loss_disc:\u001b[91m 2.807889938354492 \u001b[0m(+0.21170878410339355)\n",
            "     | > avg_loss_disc_real_0:\u001b[92m 0.1461135745048523 \u001b[0m(-0.07554702460765839)\n",
            "     | > avg_loss_disc_real_1:\u001b[91m 0.2568534016609192 \u001b[0m(+0.021742388606071472)\n",
            "     | > avg_loss_disc_real_2:\u001b[91m 0.2588893473148346 \u001b[0m(+0.052298203110694885)\n",
            "     | > avg_loss_disc_real_3:\u001b[92m 0.21478480100631714 \u001b[0m(-0.021602466702461243)\n",
            "     | > avg_loss_disc_real_4:\u001b[92m 0.17538362741470337 \u001b[0m(-0.013548806309700012)\n",
            "     | > avg_loss_disc_real_5:\u001b[91m 0.29853126406669617 \u001b[0m(+0.06167450547218323)\n",
            "     | > avg_loss_0:\u001b[91m 2.807889938354492 \u001b[0m(+0.21170878410339355)\n",
            "     | > avg_loss_gen:\u001b[92m 1.7997738122940063 \u001b[0m(-0.19237744808197021)\n",
            "     | > avg_loss_kl:\u001b[92m 1.733093500137329 \u001b[0m(-0.13285446166992188)\n",
            "     | > avg_loss_feat:\u001b[91m 4.889627456665039 \u001b[0m(+0.345456600189209)\n",
            "     | > avg_loss_mel:\u001b[91m 20.53799819946289 \u001b[0m(+0.5260372161865234)\n",
            "     | > avg_loss_duration:\u001b[92m 1.4091401100158691 \u001b[0m(-0.009449124336242676)\n",
            "     | > avg_loss_1:\u001b[91m 30.369632720947266 \u001b[0m(+0.5368118286132812)\n",
            "\n",
            "\n",
            "\u001b[4m\u001b[1m > EPOCH: 88/300\u001b[0m\n",
            " --> vits_20k_steps\n",
            "\n",
            "\u001b[1m > TRAINING (2024-05-19 07:20:14) \u001b[0m\n",
            "\n",
            "\u001b[1m > EVALUATION \u001b[0m\n",
            "\n"
          ]
        },
        {
          "name": "stdout",
          "output_type": "stream",
          "text": [
            " | > Synthesizing test sentences.\n"
          ]
        },
        {
          "name": "stderr",
          "output_type": "stream",
          "text": [
            "\n",
            "  \u001b[1m--> EVAL PERFORMANCE\u001b[0m\n",
            "     | > avg_loader_time:\u001b[91m 3.643237829208374 \u001b[0m(+0.2681427001953125)\n",
            "     | > avg_loss_disc:\u001b[92m 2.5486268997192383 \u001b[0m(-0.2592630386352539)\n",
            "     | > avg_loss_disc_real_0:\u001b[91m 0.17331275343894958 \u001b[0m(+0.02719917893409729)\n",
            "     | > avg_loss_disc_real_1:\u001b[92m 0.22200825810432434 \u001b[0m(-0.03484514355659485)\n",
            "     | > avg_loss_disc_real_2:\u001b[92m 0.22789998352527618 \u001b[0m(-0.03098936378955841)\n",
            "     | > avg_loss_disc_real_3:\u001b[91m 0.23954972624778748 \u001b[0m(+0.024764925241470337)\n",
            "     | > avg_loss_disc_real_4:\u001b[91m 0.19042786955833435 \u001b[0m(+0.015044242143630981)\n",
            "     | > avg_loss_disc_real_5:\u001b[92m 0.23350302875041962 \u001b[0m(-0.06502823531627655)\n",
            "     | > avg_loss_0:\u001b[92m 2.5486268997192383 \u001b[0m(-0.2592630386352539)\n",
            "     | > avg_loss_gen:\u001b[91m 1.9972822666168213 \u001b[0m(+0.19750845432281494)\n",
            "     | > avg_loss_kl:\u001b[91m 1.7823939323425293 \u001b[0m(+0.049300432205200195)\n",
            "     | > avg_loss_feat:\u001b[92m 4.061981678009033 \u001b[0m(-0.8276457786560059)\n",
            "     | > avg_loss_mel:\u001b[92m 19.812055587768555 \u001b[0m(-0.7259426116943359)\n",
            "     | > avg_loss_duration:\u001b[92m 1.3866394758224487 \u001b[0m(-0.02250063419342041)\n",
            "     | > avg_loss_1:\u001b[92m 29.04035186767578 \u001b[0m(-1.3292808532714844)\n",
            "\n",
            "\n",
            "\u001b[4m\u001b[1m > EPOCH: 89/300\u001b[0m\n",
            " --> vits_20k_steps\n",
            "\n",
            "\u001b[1m > TRAINING (2024-05-19 07:20:42) \u001b[0m\n",
            "\n",
            "\u001b[1m > EVALUATION \u001b[0m\n",
            "\n"
          ]
        },
        {
          "name": "stdout",
          "output_type": "stream",
          "text": [
            " | > Synthesizing test sentences.\n"
          ]
        },
        {
          "name": "stderr",
          "output_type": "stream",
          "text": [
            "\n",
            "  \u001b[1m--> EVAL PERFORMANCE\u001b[0m\n",
            "     | > avg_loader_time:\u001b[92m 3.4511730670928955 \u001b[0m(-0.19206476211547852)\n",
            "     | > avg_loss_disc:\u001b[91m 2.6556527614593506 \u001b[0m(+0.1070258617401123)\n",
            "     | > avg_loss_disc_real_0:\u001b[91m 0.28538939356803894 \u001b[0m(+0.11207664012908936)\n",
            "     | > avg_loss_disc_real_1:\u001b[91m 0.25749900937080383 \u001b[0m(+0.03549075126647949)\n",
            "     | > avg_loss_disc_real_2:\u001b[91m 0.24545423686504364 \u001b[0m(+0.017554253339767456)\n",
            "     | > avg_loss_disc_real_3:\u001b[92m 0.22053039073944092 \u001b[0m(-0.019019335508346558)\n",
            "     | > avg_loss_disc_real_4:\u001b[91m 0.19396011531352997 \u001b[0m(+0.0035322457551956177)\n",
            "     | > avg_loss_disc_real_5:\u001b[92m 0.20879708230495453 \u001b[0m(-0.024705946445465088)\n",
            "     | > avg_loss_0:\u001b[91m 2.6556527614593506 \u001b[0m(+0.1070258617401123)\n",
            "     | > avg_loss_gen:\u001b[91m 2.1523983478546143 \u001b[0m(+0.15511608123779297)\n",
            "     | > avg_loss_kl:\u001b[91m 1.8424729108810425 \u001b[0m(+0.060078978538513184)\n",
            "     | > avg_loss_feat:\u001b[91m 4.945324420928955 \u001b[0m(+0.8833427429199219)\n",
            "     | > avg_loss_mel:\u001b[92m 19.56170654296875 \u001b[0m(-0.2503490447998047)\n",
            "     | > avg_loss_duration:\u001b[92m 1.3699274063110352 \u001b[0m(-0.016712069511413574)\n",
            "     | > avg_loss_1:\u001b[91m 29.871829986572266 \u001b[0m(+0.8314781188964844)\n",
            "\n",
            "\n",
            "\u001b[4m\u001b[1m > EPOCH: 90/300\u001b[0m\n",
            " --> vits_20k_steps\n",
            "\n",
            "\u001b[1m > TRAINING (2024-05-19 07:21:12) \u001b[0m\n",
            "\n",
            "\u001b[1m > EVALUATION \u001b[0m\n",
            "\n"
          ]
        },
        {
          "name": "stdout",
          "output_type": "stream",
          "text": [
            " | > Synthesizing test sentences.\n"
          ]
        },
        {
          "name": "stderr",
          "output_type": "stream",
          "text": [
            "\n",
            "  \u001b[1m--> EVAL PERFORMANCE\u001b[0m\n",
            "     | > avg_loader_time:\u001b[91m 3.5259718894958496 \u001b[0m(+0.0747988224029541)\n",
            "     | > avg_loss_disc:\u001b[92m 2.400761842727661 \u001b[0m(-0.25489091873168945)\n",
            "     | > avg_loss_disc_real_0:\u001b[92m 0.14763638377189636 \u001b[0m(-0.13775300979614258)\n",
            "     | > avg_loss_disc_real_1:\u001b[92m 0.20553351938724518 \u001b[0m(-0.051965489983558655)\n",
            "     | > avg_loss_disc_real_2:\u001b[92m 0.2083173394203186 \u001b[0m(-0.03713689744472504)\n",
            "     | > avg_loss_disc_real_3:\u001b[91m 0.23922443389892578 \u001b[0m(+0.018694043159484863)\n",
            "     | > avg_loss_disc_real_4:\u001b[92m 0.13373467326164246 \u001b[0m(-0.06022544205188751)\n",
            "     | > avg_loss_disc_real_5:\u001b[92m 0.1408456563949585 \u001b[0m(-0.06795142590999603)\n",
            "     | > avg_loss_0:\u001b[92m 2.400761842727661 \u001b[0m(-0.25489091873168945)\n",
            "     | > avg_loss_gen:\u001b[92m 2.04705810546875 \u001b[0m(-0.10534024238586426)\n",
            "     | > avg_loss_kl:\u001b[92m 1.8339792490005493 \u001b[0m(-0.008493661880493164)\n",
            "     | > avg_loss_feat:\u001b[91m 5.042830944061279 \u001b[0m(+0.09750652313232422)\n",
            "     | > avg_loss_mel:\u001b[91m 20.146759033203125 \u001b[0m(+0.585052490234375)\n",
            "     | > avg_loss_duration:\u001b[91m 1.3922309875488281 \u001b[0m(+0.02230358123779297)\n",
            "     | > avg_loss_1:\u001b[91m 30.462858200073242 \u001b[0m(+0.5910282135009766)\n",
            "\n",
            "\n",
            "\u001b[4m\u001b[1m > EPOCH: 91/300\u001b[0m\n",
            " --> vits_20k_steps\n",
            "\n",
            "\u001b[1m > TRAINING (2024-05-19 07:21:41) \u001b[0m\n",
            "\n",
            "\u001b[1m > EVALUATION \u001b[0m\n",
            "\n"
          ]
        },
        {
          "name": "stdout",
          "output_type": "stream",
          "text": [
            " | > Synthesizing test sentences.\n"
          ]
        },
        {
          "name": "stderr",
          "output_type": "stream",
          "text": [
            "\n",
            "  \u001b[1m--> EVAL PERFORMANCE\u001b[0m\n",
            "     | > avg_loader_time:\u001b[92m 3.3195900917053223 \u001b[0m(-0.20638179779052734)\n",
            "     | > avg_loss_disc:\u001b[91m 2.567221164703369 \u001b[0m(+0.166459321975708)\n",
            "     | > avg_loss_disc_real_0:\u001b[91m 0.19919642806053162 \u001b[0m(+0.051560044288635254)\n",
            "     | > avg_loss_disc_real_1:\u001b[92m 0.17765194177627563 \u001b[0m(-0.027881577610969543)\n",
            "     | > avg_loss_disc_real_2:\u001b[91m 0.25528356432914734 \u001b[0m(+0.046966224908828735)\n",
            "     | > avg_loss_disc_real_3:\u001b[92m 0.22301962971687317 \u001b[0m(-0.016204804182052612)\n",
            "     | > avg_loss_disc_real_4:\u001b[91m 0.22470533847808838 \u001b[0m(+0.09097066521644592)\n",
            "     | > avg_loss_disc_real_5:\u001b[91m 0.211420938372612 \u001b[0m(+0.0705752819776535)\n",
            "     | > avg_loss_0:\u001b[91m 2.567221164703369 \u001b[0m(+0.166459321975708)\n",
            "     | > avg_loss_gen:\u001b[92m 2.036529779434204 \u001b[0m(-0.010528326034545898)\n",
            "     | > avg_loss_kl:\u001b[91m 1.849853754043579 \u001b[0m(+0.015874505043029785)\n",
            "     | > avg_loss_feat:\u001b[92m 4.972715377807617 \u001b[0m(-0.07011556625366211)\n",
            "     | > avg_loss_mel:\u001b[92m 19.851457595825195 \u001b[0m(-0.2953014373779297)\n",
            "     | > avg_loss_duration:\u001b[91m 1.4103381633758545 \u001b[0m(+0.018107175827026367)\n",
            "     | > avg_loss_1:\u001b[92m 30.120893478393555 \u001b[0m(-0.3419647216796875)\n",
            "\n",
            "\n",
            "\u001b[4m\u001b[1m > EPOCH: 92/300\u001b[0m\n",
            " --> vits_20k_steps\n",
            "\n",
            "\u001b[1m > TRAINING (2024-05-19 07:22:09) \u001b[0m\n",
            "\n",
            "\u001b[1m > EVALUATION \u001b[0m\n",
            "\n"
          ]
        },
        {
          "name": "stdout",
          "output_type": "stream",
          "text": [
            " | > Synthesizing test sentences.\n"
          ]
        },
        {
          "name": "stderr",
          "output_type": "stream",
          "text": [
            "\n",
            "  \u001b[1m--> EVAL PERFORMANCE\u001b[0m\n",
            "     | > avg_loader_time:\u001b[91m 3.4550719261169434 \u001b[0m(+0.1354818344116211)\n",
            "     | > avg_loss_disc:\u001b[91m 2.619793653488159 \u001b[0m(+0.05257248878479004)\n",
            "     | > avg_loss_disc_real_0:\u001b[92m 0.09630398452281952 \u001b[0m(-0.1028924435377121)\n",
            "     | > avg_loss_disc_real_1:\u001b[91m 0.21584439277648926 \u001b[0m(+0.03819245100021362)\n",
            "     | > avg_loss_disc_real_2:\u001b[92m 0.1868070513010025 \u001b[0m(-0.06847651302814484)\n",
            "     | > avg_loss_disc_real_3:\u001b[92m 0.19845734536647797 \u001b[0m(-0.024562284350395203)\n",
            "     | > avg_loss_disc_real_4:\u001b[92m 0.15054844319820404 \u001b[0m(-0.07415689527988434)\n",
            "     | > avg_loss_disc_real_5:\u001b[92m 0.17380009591579437 \u001b[0m(-0.03762084245681763)\n",
            "     | > avg_loss_0:\u001b[91m 2.619793653488159 \u001b[0m(+0.05257248878479004)\n",
            "     | > avg_loss_gen:\u001b[92m 1.7099483013153076 \u001b[0m(-0.3265814781188965)\n",
            "     | > avg_loss_kl:\u001b[92m 1.7528623342514038 \u001b[0m(-0.09699141979217529)\n",
            "     | > avg_loss_feat:\u001b[92m 4.7111005783081055 \u001b[0m(-0.2616147994995117)\n",
            "     | > avg_loss_mel:\u001b[91m 20.953569412231445 \u001b[0m(+1.10211181640625)\n",
            "     | > avg_loss_duration:\u001b[92m 1.4012885093688965 \u001b[0m(-0.009049654006958008)\n",
            "     | > avg_loss_1:\u001b[91m 30.52876853942871 \u001b[0m(+0.40787506103515625)\n",
            "\n",
            "\n",
            "\u001b[4m\u001b[1m > EPOCH: 93/300\u001b[0m\n",
            " --> vits_20k_steps\n",
            "\n",
            "\u001b[1m > TRAINING (2024-05-19 07:22:38) \u001b[0m\n",
            "\n",
            "\u001b[1m > EVALUATION \u001b[0m\n",
            "\n"
          ]
        },
        {
          "name": "stdout",
          "output_type": "stream",
          "text": [
            " | > Synthesizing test sentences.\n"
          ]
        },
        {
          "name": "stderr",
          "output_type": "stream",
          "text": [
            "\n",
            "  \u001b[1m--> EVAL PERFORMANCE\u001b[0m\n",
            "     | > avg_loader_time:\u001b[92m 3.298647403717041 \u001b[0m(-0.15642452239990234)\n",
            "     | > avg_loss_disc:\u001b[91m 2.6899573802948 \u001b[0m(+0.07016372680664062)\n",
            "     | > avg_loss_disc_real_0:\u001b[91m 0.1269134283065796 \u001b[0m(+0.03060944378376007)\n",
            "     | > avg_loss_disc_real_1:\u001b[91m 0.33793774247169495 \u001b[0m(+0.12209334969520569)\n",
            "     | > avg_loss_disc_real_2:\u001b[91m 0.2218419462442398 \u001b[0m(+0.035034894943237305)\n",
            "     | > avg_loss_disc_real_3:\u001b[91m 0.2036571502685547 \u001b[0m(+0.005199804902076721)\n",
            "     | > avg_loss_disc_real_4:\u001b[91m 0.20034006237983704 \u001b[0m(+0.049791619181632996)\n",
            "     | > avg_loss_disc_real_5:\u001b[91m 0.2401505559682846 \u001b[0m(+0.06635046005249023)\n",
            "     | > avg_loss_0:\u001b[91m 2.6899573802948 \u001b[0m(+0.07016372680664062)\n",
            "     | > avg_loss_gen:\u001b[91m 1.9446107149124146 \u001b[0m(+0.23466241359710693)\n",
            "     | > avg_loss_kl:\u001b[91m 1.923722743988037 \u001b[0m(+0.1708604097366333)\n",
            "     | > avg_loss_feat:\u001b[91m 4.920685291290283 \u001b[0m(+0.20958471298217773)\n",
            "     | > avg_loss_mel:\u001b[91m 22.065147399902344 \u001b[0m(+1.1115779876708984)\n",
            "     | > avg_loss_duration:\u001b[92m 1.3983992338180542 \u001b[0m(-0.002889275550842285)\n",
            "     | > avg_loss_1:\u001b[91m 32.2525634765625 \u001b[0m(+1.723794937133789)\n",
            "\n",
            "\n",
            "\u001b[4m\u001b[1m > EPOCH: 94/300\u001b[0m\n",
            " --> vits_20k_steps\n",
            "\n",
            "\u001b[1m > TRAINING (2024-05-19 07:23:06) \u001b[0m\n",
            "\n",
            "\u001b[1m > EVALUATION \u001b[0m\n",
            "\n"
          ]
        },
        {
          "name": "stdout",
          "output_type": "stream",
          "text": [
            " | > Synthesizing test sentences.\n"
          ]
        },
        {
          "name": "stderr",
          "output_type": "stream",
          "text": [
            "\n",
            "  \u001b[1m--> EVAL PERFORMANCE\u001b[0m\n",
            "     | > avg_loader_time:\u001b[91m 3.392414093017578 \u001b[0m(+0.09376668930053711)\n",
            "     | > avg_loss_disc:\u001b[92m 2.614427089691162 \u001b[0m(-0.0755302906036377)\n",
            "     | > avg_loss_disc_real_0:\u001b[91m 0.21429865062236786 \u001b[0m(+0.08738522231578827)\n",
            "     | > avg_loss_disc_real_1:\u001b[92m 0.23041923344135284 \u001b[0m(-0.1075185090303421)\n",
            "     | > avg_loss_disc_real_2:\u001b[92m 0.1785108745098114 \u001b[0m(-0.043331071734428406)\n",
            "     | > avg_loss_disc_real_3:\u001b[91m 0.2646127939224243 \u001b[0m(+0.06095564365386963)\n",
            "     | > avg_loss_disc_real_4:\u001b[91m 0.2656961679458618 \u001b[0m(+0.06535610556602478)\n",
            "     | > avg_loss_disc_real_5:\u001b[91m 0.2511087656021118 \u001b[0m(+0.01095820963382721)\n",
            "     | > avg_loss_0:\u001b[92m 2.614427089691162 \u001b[0m(-0.0755302906036377)\n",
            "     | > avg_loss_gen:\u001b[91m 2.324188232421875 \u001b[0m(+0.37957751750946045)\n",
            "     | > avg_loss_kl:\u001b[91m 2.232208251953125 \u001b[0m(+0.3084855079650879)\n",
            "     | > avg_loss_feat:\u001b[91m 5.33558988571167 \u001b[0m(+0.4149045944213867)\n",
            "     | > avg_loss_mel:\u001b[92m 19.90188980102539 \u001b[0m(-2.163257598876953)\n",
            "     | > avg_loss_duration:\u001b[91m 1.3995181322097778 \u001b[0m(+0.0011188983917236328)\n",
            "     | > avg_loss_1:\u001b[92m 31.193395614624023 \u001b[0m(-1.0591678619384766)\n",
            "\n",
            "\n",
            "\u001b[4m\u001b[1m > EPOCH: 95/300\u001b[0m\n",
            " --> vits_20k_steps\n",
            "\n",
            "\u001b[1m > TRAINING (2024-05-19 07:23:36) \u001b[0m\n",
            "\n",
            "\u001b[1m > EVALUATION \u001b[0m\n",
            "\n"
          ]
        },
        {
          "name": "stdout",
          "output_type": "stream",
          "text": [
            " | > Synthesizing test sentences.\n"
          ]
        },
        {
          "name": "stderr",
          "output_type": "stream",
          "text": [
            "\n",
            "  \u001b[1m--> EVAL PERFORMANCE\u001b[0m\n",
            "     | > avg_loader_time:\u001b[92m 3.3376872539520264 \u001b[0m(-0.05472683906555176)\n",
            "     | > avg_loss_disc:\u001b[92m 2.5647871494293213 \u001b[0m(-0.04963994026184082)\n",
            "     | > avg_loss_disc_real_0:\u001b[91m 0.21552608907222748 \u001b[0m(+0.0012274384498596191)\n",
            "     | > avg_loss_disc_real_1:\u001b[91m 0.24788661301136017 \u001b[0m(+0.017467379570007324)\n",
            "     | > avg_loss_disc_real_2:\u001b[91m 0.20763921737670898 \u001b[0m(+0.029128342866897583)\n",
            "     | > avg_loss_disc_real_3:\u001b[92m 0.2347244769334793 \u001b[0m(-0.029888316988945007)\n",
            "     | > avg_loss_disc_real_4:\u001b[92m 0.22284047305583954 \u001b[0m(-0.04285569489002228)\n",
            "     | > avg_loss_disc_real_5:\u001b[91m 0.25869783759117126 \u001b[0m(+0.007589071989059448)\n",
            "     | > avg_loss_0:\u001b[92m 2.5647871494293213 \u001b[0m(-0.04963994026184082)\n",
            "     | > avg_loss_gen:\u001b[92m 2.199932098388672 \u001b[0m(-0.12425613403320312)\n",
            "     | > avg_loss_kl:\u001b[92m 1.860314965248108 \u001b[0m(-0.3718932867050171)\n",
            "     | > avg_loss_feat:\u001b[92m 4.7538323402404785 \u001b[0m(-0.5817575454711914)\n",
            "     | > avg_loss_mel:\u001b[91m 21.412677764892578 \u001b[0m(+1.5107879638671875)\n",
            "     | > avg_loss_duration:\u001b[92m 1.3579461574554443 \u001b[0m(-0.041571974754333496)\n",
            "     | > avg_loss_1:\u001b[91m 31.58470344543457 \u001b[0m(+0.3913078308105469)\n",
            "\n",
            "\n",
            "\u001b[4m\u001b[1m > EPOCH: 96/300\u001b[0m\n",
            " --> vits_20k_steps\n",
            "\n",
            "\u001b[1m > TRAINING (2024-05-19 07:24:05) \u001b[0m\n",
            "\n",
            "\u001b[1m > EVALUATION \u001b[0m\n",
            "\n"
          ]
        },
        {
          "name": "stdout",
          "output_type": "stream",
          "text": [
            " | > Synthesizing test sentences.\n"
          ]
        },
        {
          "name": "stderr",
          "output_type": "stream",
          "text": [
            "\n",
            "  \u001b[1m--> EVAL PERFORMANCE\u001b[0m\n",
            "     | > avg_loader_time:\u001b[91m 3.375511646270752 \u001b[0m(+0.037824392318725586)\n",
            "     | > avg_loss_disc:\u001b[91m 2.7115018367767334 \u001b[0m(+0.1467146873474121)\n",
            "     | > avg_loss_disc_real_0:\u001b[92m 0.19502584636211395 \u001b[0m(-0.020500242710113525)\n",
            "     | > avg_loss_disc_real_1:\u001b[92m 0.1967892348766327 \u001b[0m(-0.05109737813472748)\n",
            "     | > avg_loss_disc_real_2:\u001b[91m 0.2540401816368103 \u001b[0m(+0.04640096426010132)\n",
            "     | > avg_loss_disc_real_3:\u001b[91m 0.23480422794818878 \u001b[0m(+7.975101470947266e-05)\n",
            "     | > avg_loss_disc_real_4:\u001b[92m 0.21031342446804047 \u001b[0m(-0.012527048587799072)\n",
            "     | > avg_loss_disc_real_5:\u001b[92m 0.17198678851127625 \u001b[0m(-0.08671104907989502)\n",
            "     | > avg_loss_0:\u001b[91m 2.7115018367767334 \u001b[0m(+0.1467146873474121)\n",
            "     | > avg_loss_gen:\u001b[92m 1.8773186206817627 \u001b[0m(-0.3226134777069092)\n",
            "     | > avg_loss_kl:\u001b[91m 1.9829646348953247 \u001b[0m(+0.1226496696472168)\n",
            "     | > avg_loss_feat:\u001b[92m 4.417418479919434 \u001b[0m(-0.3364138603210449)\n",
            "     | > avg_loss_mel:\u001b[92m 20.165332794189453 \u001b[0m(-1.247344970703125)\n",
            "     | > avg_loss_duration:\u001b[91m 1.3871421813964844 \u001b[0m(+0.02919602394104004)\n",
            "     | > avg_loss_1:\u001b[92m 29.830177307128906 \u001b[0m(-1.754526138305664)\n",
            "\n",
            "\n",
            "\u001b[4m\u001b[1m > EPOCH: 97/300\u001b[0m\n",
            " --> vits_20k_steps\n",
            "\n",
            "\u001b[1m > TRAINING (2024-05-19 07:24:34) \u001b[0m\n",
            "\n",
            "\u001b[1m > EVALUATION \u001b[0m\n",
            "\n"
          ]
        },
        {
          "name": "stdout",
          "output_type": "stream",
          "text": [
            " | > Synthesizing test sentences.\n"
          ]
        },
        {
          "name": "stderr",
          "output_type": "stream",
          "text": [
            "\n",
            "  \u001b[1m--> EVAL PERFORMANCE\u001b[0m\n",
            "     | > avg_loader_time:\u001b[92m 3.221083641052246 \u001b[0m(-0.15442800521850586)\n",
            "     | > avg_loss_disc:\u001b[91m 2.7645039558410645 \u001b[0m(+0.053002119064331055)\n",
            "     | > avg_loss_disc_real_0:\u001b[92m 0.1864771842956543 \u001b[0m(-0.008548662066459656)\n",
            "     | > avg_loss_disc_real_1:\u001b[92m 0.19009387493133545 \u001b[0m(-0.006695359945297241)\n",
            "     | > avg_loss_disc_real_2:\u001b[92m 0.22136633098125458 \u001b[0m(-0.032673850655555725)\n",
            "     | > avg_loss_disc_real_3:\u001b[92m 0.21999160945415497 \u001b[0m(-0.014812618494033813)\n",
            "     | > avg_loss_disc_real_4:\u001b[91m 0.3004511892795563 \u001b[0m(+0.09013776481151581)\n",
            "     | > avg_loss_disc_real_5:\u001b[91m 0.2408558428287506 \u001b[0m(+0.06886905431747437)\n",
            "     | > avg_loss_0:\u001b[91m 2.7645039558410645 \u001b[0m(+0.053002119064331055)\n",
            "     | > avg_loss_gen:\u001b[92m 1.8329832553863525 \u001b[0m(-0.044335365295410156)\n",
            "     | > avg_loss_kl:\u001b[92m 1.876827597618103 \u001b[0m(-0.10613703727722168)\n",
            "     | > avg_loss_feat:\u001b[92m 3.8696653842926025 \u001b[0m(-0.547753095626831)\n",
            "     | > avg_loss_mel:\u001b[91m 21.095508575439453 \u001b[0m(+0.93017578125)\n",
            "     | > avg_loss_duration:\u001b[91m 1.3918651342391968 \u001b[0m(+0.004722952842712402)\n",
            "     | > avg_loss_1:\u001b[91m 30.066848754882812 \u001b[0m(+0.23667144775390625)\n",
            "\n",
            "\n",
            "\u001b[4m\u001b[1m > EPOCH: 98/300\u001b[0m\n",
            " --> vits_20k_steps\n",
            "\n",
            "\u001b[1m > TRAINING (2024-05-19 07:25:03) \u001b[0m\n",
            "\n",
            "\u001b[1m > EVALUATION \u001b[0m\n",
            "\n"
          ]
        },
        {
          "name": "stdout",
          "output_type": "stream",
          "text": [
            " | > Synthesizing test sentences.\n"
          ]
        },
        {
          "name": "stderr",
          "output_type": "stream",
          "text": [
            "\n",
            "  \u001b[1m--> EVAL PERFORMANCE\u001b[0m\n",
            "     | > avg_loader_time:\u001b[91m 3.3908963203430176 \u001b[0m(+0.16981267929077148)\n",
            "     | > avg_loss_disc:\u001b[92m 2.6504976749420166 \u001b[0m(-0.11400628089904785)\n",
            "     | > avg_loss_disc_real_0:\u001b[92m 0.1484185755252838 \u001b[0m(-0.03805860877037048)\n",
            "     | > avg_loss_disc_real_1:\u001b[91m 0.23485061526298523 \u001b[0m(+0.04475674033164978)\n",
            "     | > avg_loss_disc_real_2:\u001b[92m 0.1748880296945572 \u001b[0m(-0.04647830128669739)\n",
            "     | > avg_loss_disc_real_3:\u001b[91m 0.22106151282787323 \u001b[0m(+0.0010699033737182617)\n",
            "     | > avg_loss_disc_real_4:\u001b[92m 0.19749343395233154 \u001b[0m(-0.10295775532722473)\n",
            "     | > avg_loss_disc_real_5:\u001b[92m 0.18229186534881592 \u001b[0m(-0.05856397747993469)\n",
            "     | > avg_loss_0:\u001b[92m 2.6504976749420166 \u001b[0m(-0.11400628089904785)\n",
            "     | > avg_loss_gen:\u001b[92m 1.7212445735931396 \u001b[0m(-0.11173868179321289)\n",
            "     | > avg_loss_kl:\u001b[92m 1.7565642595291138 \u001b[0m(-0.12026333808898926)\n",
            "     | > avg_loss_feat:\u001b[91m 4.120811462402344 \u001b[0m(+0.2511460781097412)\n",
            "     | > avg_loss_mel:\u001b[91m 21.13698387145996 \u001b[0m(+0.04147529602050781)\n",
            "     | > avg_loss_duration:\u001b[92m 1.360543131828308 \u001b[0m(-0.03132200241088867)\n",
            "     | > avg_loss_1:\u001b[91m 30.096145629882812 \u001b[0m(+0.029296875)\n",
            "\n",
            "\n",
            "\u001b[4m\u001b[1m > EPOCH: 99/300\u001b[0m\n",
            " --> vits_20k_steps\n",
            "\n",
            "\u001b[1m > TRAINING (2024-05-19 07:25:33) \u001b[0m\n",
            "\n",
            "\u001b[1m > EVALUATION \u001b[0m\n",
            "\n"
          ]
        },
        {
          "name": "stdout",
          "output_type": "stream",
          "text": [
            " | > Synthesizing test sentences.\n"
          ]
        },
        {
          "name": "stderr",
          "output_type": "stream",
          "text": [
            "\n",
            "  \u001b[1m--> EVAL PERFORMANCE\u001b[0m\n",
            "     | > avg_loader_time:\u001b[92m 3.3317761421203613 \u001b[0m(-0.05912017822265625)\n",
            "     | > avg_loss_disc:\u001b[91m 2.6662771701812744 \u001b[0m(+0.015779495239257812)\n",
            "     | > avg_loss_disc_real_0:\u001b[91m 0.257721483707428 \u001b[0m(+0.10930290818214417)\n",
            "     | > avg_loss_disc_real_1:\u001b[91m 0.2396908700466156 \u001b[0m(+0.004840254783630371)\n",
            "     | > avg_loss_disc_real_2:\u001b[91m 0.272033154964447 \u001b[0m(+0.09714512526988983)\n",
            "     | > avg_loss_disc_real_3:\u001b[91m 0.2221599817276001 \u001b[0m(+0.0010984688997268677)\n",
            "     | > avg_loss_disc_real_4:\u001b[91m 0.3185790181159973 \u001b[0m(+0.12108558416366577)\n",
            "     | > avg_loss_disc_real_5:\u001b[91m 0.23826353251934052 \u001b[0m(+0.0559716671705246)\n",
            "     | > avg_loss_0:\u001b[91m 2.6662771701812744 \u001b[0m(+0.015779495239257812)\n",
            "     | > avg_loss_gen:\u001b[91m 2.2824480533599854 \u001b[0m(+0.5612034797668457)\n",
            "     | > avg_loss_kl:\u001b[91m 1.9968528747558594 \u001b[0m(+0.2402886152267456)\n",
            "     | > avg_loss_feat:\u001b[91m 4.730445861816406 \u001b[0m(+0.6096343994140625)\n",
            "     | > avg_loss_mel:\u001b[92m 20.526294708251953 \u001b[0m(-0.6106891632080078)\n",
            "     | > avg_loss_duration:\u001b[91m 1.3963203430175781 \u001b[0m(+0.03577721118927002)\n",
            "     | > avg_loss_1:\u001b[91m 30.932361602783203 \u001b[0m(+0.8362159729003906)\n",
            "\n",
            "\n",
            "\u001b[4m\u001b[1m > EPOCH: 100/300\u001b[0m\n",
            " --> vits_20k_steps\n",
            "\n",
            "\u001b[1m > TRAINING (2024-05-19 07:26:01) \u001b[0m\n",
            "\n",
            "\u001b[1m > EVALUATION \u001b[0m\n",
            "\n"
          ]
        },
        {
          "name": "stdout",
          "output_type": "stream",
          "text": [
            " | > Synthesizing test sentences.\n"
          ]
        },
        {
          "name": "stderr",
          "output_type": "stream",
          "text": [
            "\n",
            "  \u001b[1m--> EVAL PERFORMANCE\u001b[0m\n",
            "     | > avg_loader_time:\u001b[91m 3.366375207901001 \u001b[0m(+0.03459906578063965)\n",
            "     | > avg_loss_disc:\u001b[91m 2.7250545024871826 \u001b[0m(+0.0587773323059082)\n",
            "     | > avg_loss_disc_real_0:\u001b[92m 0.18027207255363464 \u001b[0m(-0.07744941115379333)\n",
            "     | > avg_loss_disc_real_1:\u001b[91m 0.2807963192462921 \u001b[0m(+0.041105449199676514)\n",
            "     | > avg_loss_disc_real_2:\u001b[92m 0.2399674504995346 \u001b[0m(-0.032065704464912415)\n",
            "     | > avg_loss_disc_real_3:\u001b[92m 0.20639668405056 \u001b[0m(-0.0157632976770401)\n",
            "     | > avg_loss_disc_real_4:\u001b[92m 0.2558673918247223 \u001b[0m(-0.06271162629127502)\n",
            "     | > avg_loss_disc_real_5:\u001b[92m 0.15613268315792084 \u001b[0m(-0.08213084936141968)\n",
            "     | > avg_loss_0:\u001b[91m 2.7250545024871826 \u001b[0m(+0.0587773323059082)\n",
            "     | > avg_loss_gen:\u001b[92m 1.8082354068756104 \u001b[0m(-0.474212646484375)\n",
            "     | > avg_loss_kl:\u001b[91m 2.06174373626709 \u001b[0m(+0.06489086151123047)\n",
            "     | > avg_loss_feat:\u001b[92m 3.405831813812256 \u001b[0m(-1.3246140480041504)\n",
            "     | > avg_loss_mel:\u001b[91m 21.31938362121582 \u001b[0m(+0.7930889129638672)\n",
            "     | > avg_loss_duration:\u001b[91m 1.404766321182251 \u001b[0m(+0.008445978164672852)\n",
            "     | > avg_loss_1:\u001b[92m 29.99995994567871 \u001b[0m(-0.9324016571044922)\n",
            "\n",
            "\n",
            "\u001b[4m\u001b[1m > EPOCH: 101/300\u001b[0m\n",
            " --> vits_20k_steps\n",
            "\n",
            "\u001b[1m > TRAINING (2024-05-19 07:26:31) \u001b[0m\n",
            "\n",
            "\u001b[1m > EVALUATION \u001b[0m\n",
            "\n"
          ]
        },
        {
          "name": "stdout",
          "output_type": "stream",
          "text": [
            " | > Synthesizing test sentences.\n"
          ]
        },
        {
          "name": "stderr",
          "output_type": "stream",
          "text": [
            "\n",
            "  \u001b[1m--> EVAL PERFORMANCE\u001b[0m\n",
            "     | > avg_loader_time:\u001b[92m 3.3031795024871826 \u001b[0m(-0.06319570541381836)\n",
            "     | > avg_loss_disc:\u001b[91m 2.782863140106201 \u001b[0m(+0.057808637619018555)\n",
            "     | > avg_loss_disc_real_0:\u001b[91m 0.22813177108764648 \u001b[0m(+0.04785969853401184)\n",
            "     | > avg_loss_disc_real_1:\u001b[92m 0.22295774519443512 \u001b[0m(-0.057838574051856995)\n",
            "     | > avg_loss_disc_real_2:\u001b[92m 0.23815828561782837 \u001b[0m(-0.0018091648817062378)\n",
            "     | > avg_loss_disc_real_3:\u001b[91m 0.24557700753211975 \u001b[0m(+0.03918032348155975)\n",
            "     | > avg_loss_disc_real_4:\u001b[92m 0.21513798832893372 \u001b[0m(-0.040729403495788574)\n",
            "     | > avg_loss_disc_real_5:\u001b[91m 0.2621864080429077 \u001b[0m(+0.10605372488498688)\n",
            "     | > avg_loss_0:\u001b[91m 2.782863140106201 \u001b[0m(+0.057808637619018555)\n",
            "     | > avg_loss_gen:\u001b[91m 1.9197187423706055 \u001b[0m(+0.11148333549499512)\n",
            "     | > avg_loss_kl:\u001b[91m 2.1379029750823975 \u001b[0m(+0.07615923881530762)\n",
            "     | > avg_loss_feat:\u001b[91m 4.241683483123779 \u001b[0m(+0.8358516693115234)\n",
            "     | > avg_loss_mel:\u001b[92m 21.217660903930664 \u001b[0m(-0.10172271728515625)\n",
            "     | > avg_loss_duration:\u001b[92m 1.395188331604004 \u001b[0m(-0.00957798957824707)\n",
            "     | > avg_loss_1:\u001b[91m 30.912155151367188 \u001b[0m(+0.9121952056884766)\n",
            "\n",
            "\n",
            "\u001b[4m\u001b[1m > EPOCH: 102/300\u001b[0m\n",
            " --> vits_20k_steps\n",
            "\n",
            "\u001b[1m > TRAINING (2024-05-19 07:26:59) \u001b[0m\n",
            "\n",
            "\u001b[1m > EVALUATION \u001b[0m\n",
            "\n"
          ]
        },
        {
          "name": "stdout",
          "output_type": "stream",
          "text": [
            " | > Synthesizing test sentences.\n"
          ]
        },
        {
          "name": "stderr",
          "output_type": "stream",
          "text": [
            "\n",
            "  \u001b[1m--> EVAL PERFORMANCE\u001b[0m\n",
            "     | > avg_loader_time:\u001b[91m 3.521690607070923 \u001b[0m(+0.21851110458374023)\n",
            "     | > avg_loss_disc:\u001b[92m 2.666839122772217 \u001b[0m(-0.11602401733398438)\n",
            "     | > avg_loss_disc_real_0:\u001b[92m 0.1815163791179657 \u001b[0m(-0.046615391969680786)\n",
            "     | > avg_loss_disc_real_1:\u001b[91m 0.24493208527565002 \u001b[0m(+0.021974340081214905)\n",
            "     | > avg_loss_disc_real_2:\u001b[92m 0.22899401187896729 \u001b[0m(-0.009164273738861084)\n",
            "     | > avg_loss_disc_real_3:\u001b[92m 0.18759864568710327 \u001b[0m(-0.05797836184501648)\n",
            "     | > avg_loss_disc_real_4:\u001b[91m 0.2430071234703064 \u001b[0m(+0.02786913514137268)\n",
            "     | > avg_loss_disc_real_5:\u001b[92m 0.24254034459590912 \u001b[0m(-0.019646063446998596)\n",
            "     | > avg_loss_0:\u001b[92m 2.666839122772217 \u001b[0m(-0.11602401733398438)\n",
            "     | > avg_loss_gen:\u001b[92m 1.9072213172912598 \u001b[0m(-0.012497425079345703)\n",
            "     | > avg_loss_kl:\u001b[92m 1.8219780921936035 \u001b[0m(-0.31592488288879395)\n",
            "     | > avg_loss_feat:\u001b[92m 3.157182455062866 \u001b[0m(-1.084501028060913)\n",
            "     | > avg_loss_mel:\u001b[92m 20.526615142822266 \u001b[0m(-0.6910457611083984)\n",
            "     | > avg_loss_duration:\u001b[91m 1.4052711725234985 \u001b[0m(+0.010082840919494629)\n",
            "     | > avg_loss_1:\u001b[92m 28.818267822265625 \u001b[0m(-2.0938873291015625)\n",
            "\n",
            "\n",
            "\u001b[4m\u001b[1m > EPOCH: 103/300\u001b[0m\n",
            " --> vits_20k_steps\n",
            "\n",
            "\u001b[1m > TRAINING (2024-05-19 07:27:28) \u001b[0m\n",
            "\n",
            "\u001b[1m > EVALUATION \u001b[0m\n",
            "\n"
          ]
        },
        {
          "name": "stdout",
          "output_type": "stream",
          "text": [
            " | > Synthesizing test sentences.\n"
          ]
        },
        {
          "name": "stderr",
          "output_type": "stream",
          "text": [
            "\n",
            "  \u001b[1m--> EVAL PERFORMANCE\u001b[0m\n",
            "     | > avg_loader_time:\u001b[92m 3.4342708587646484 \u001b[0m(-0.08741974830627441)\n",
            "     | > avg_loss_disc:\u001b[91m 2.897289752960205 \u001b[0m(+0.23045063018798828)\n",
            "     | > avg_loss_disc_real_0:\u001b[91m 0.3926118016242981 \u001b[0m(+0.2110954225063324)\n",
            "     | > avg_loss_disc_real_1:\u001b[91m 0.29627588391304016 \u001b[0m(+0.05134379863739014)\n",
            "     | > avg_loss_disc_real_2:\u001b[91m 0.2566932439804077 \u001b[0m(+0.02769923210144043)\n",
            "     | > avg_loss_disc_real_3:\u001b[91m 0.20300011336803436 \u001b[0m(+0.015401467680931091)\n",
            "     | > avg_loss_disc_real_4:\u001b[92m 0.22419530153274536 \u001b[0m(-0.018811821937561035)\n",
            "     | > avg_loss_disc_real_5:\u001b[92m 0.16740882396697998 \u001b[0m(-0.07513152062892914)\n",
            "     | > avg_loss_0:\u001b[91m 2.897289752960205 \u001b[0m(+0.23045063018798828)\n",
            "     | > avg_loss_gen:\u001b[91m 1.9219645261764526 \u001b[0m(+0.014743208885192871)\n",
            "     | > avg_loss_kl:\u001b[92m 1.7015564441680908 \u001b[0m(-0.1204216480255127)\n",
            "     | > avg_loss_feat:\u001b[91m 3.2893810272216797 \u001b[0m(+0.13219857215881348)\n",
            "     | > avg_loss_mel:\u001b[92m 20.352163314819336 \u001b[0m(-0.1744518280029297)\n",
            "     | > avg_loss_duration:\u001b[92m 1.3730394840240479 \u001b[0m(-0.032231688499450684)\n",
            "     | > avg_loss_1:\u001b[92m 28.638105392456055 \u001b[0m(-0.1801624298095703)\n",
            "\n",
            "\n",
            "\u001b[4m\u001b[1m > EPOCH: 104/300\u001b[0m\n",
            " --> vits_20k_steps\n",
            "\n",
            "\u001b[1m > TRAINING (2024-05-19 07:27:57) \u001b[0m\n",
            "\n",
            "\u001b[1m > EVALUATION \u001b[0m\n",
            "\n"
          ]
        },
        {
          "name": "stdout",
          "output_type": "stream",
          "text": [
            " | > Synthesizing test sentences.\n"
          ]
        },
        {
          "name": "stderr",
          "output_type": "stream",
          "text": [
            "\n",
            "  \u001b[1m--> EVAL PERFORMANCE\u001b[0m\n",
            "     | > avg_loader_time:\u001b[91m 3.522357940673828 \u001b[0m(+0.08808708190917969)\n",
            "     | > avg_loss_disc:\u001b[92m 2.7342312335968018 \u001b[0m(-0.16305851936340332)\n",
            "     | > avg_loss_disc_real_0:\u001b[92m 0.3552524447441101 \u001b[0m(-0.03735935688018799)\n",
            "     | > avg_loss_disc_real_1:\u001b[92m 0.16966325044631958 \u001b[0m(-0.12661263346672058)\n",
            "     | > avg_loss_disc_real_2:\u001b[92m 0.13863018155097961 \u001b[0m(-0.1180630624294281)\n",
            "     | > avg_loss_disc_real_3:\u001b[91m 0.2403218150138855 \u001b[0m(+0.037321701645851135)\n",
            "     | > avg_loss_disc_real_4:\u001b[92m 0.204019695520401 \u001b[0m(-0.02017560601234436)\n",
            "     | > avg_loss_disc_real_5:\u001b[91m 0.19804053008556366 \u001b[0m(+0.03063170611858368)\n",
            "     | > avg_loss_0:\u001b[92m 2.7342312335968018 \u001b[0m(-0.16305851936340332)\n",
            "     | > avg_loss_gen:\u001b[91m 1.9231370687484741 \u001b[0m(+0.0011725425720214844)\n",
            "     | > avg_loss_kl:\u001b[92m 1.430350422859192 \u001b[0m(-0.2712060213088989)\n",
            "     | > avg_loss_feat:\u001b[91m 4.157665729522705 \u001b[0m(+0.8682847023010254)\n",
            "     | > avg_loss_mel:\u001b[91m 21.184661865234375 \u001b[0m(+0.8324985504150391)\n",
            "     | > avg_loss_duration:\u001b[91m 1.386165976524353 \u001b[0m(+0.013126492500305176)\n",
            "     | > avg_loss_1:\u001b[91m 30.081981658935547 \u001b[0m(+1.4438762664794922)\n",
            "\n",
            "\n",
            "\u001b[4m\u001b[1m > EPOCH: 105/300\u001b[0m\n",
            " --> vits_20k_steps\n",
            "\n",
            "\u001b[1m > TRAINING (2024-05-19 07:28:26) \u001b[0m\n",
            "\n",
            "\u001b[1m > EVALUATION \u001b[0m\n",
            "\n"
          ]
        },
        {
          "name": "stdout",
          "output_type": "stream",
          "text": [
            " | > Synthesizing test sentences.\n"
          ]
        },
        {
          "name": "stderr",
          "output_type": "stream",
          "text": [
            "\n",
            "  \u001b[1m--> EVAL PERFORMANCE\u001b[0m\n",
            "     | > avg_loader_time:\u001b[92m 3.4391520023345947 \u001b[0m(-0.0832059383392334)\n",
            "     | > avg_loss_disc:\u001b[92m 2.6647140979766846 \u001b[0m(-0.06951713562011719)\n",
            "     | > avg_loss_disc_real_0:\u001b[92m 0.22642606496810913 \u001b[0m(-0.12882637977600098)\n",
            "     | > avg_loss_disc_real_1:\u001b[91m 0.22389724850654602 \u001b[0m(+0.05423399806022644)\n",
            "     | > avg_loss_disc_real_2:\u001b[91m 0.26930752396583557 \u001b[0m(+0.13067734241485596)\n",
            "     | > avg_loss_disc_real_3:\u001b[92m 0.22677794098854065 \u001b[0m(-0.013543874025344849)\n",
            "     | > avg_loss_disc_real_4:\u001b[92m 0.17710156738758087 \u001b[0m(-0.02691812813282013)\n",
            "     | > avg_loss_disc_real_5:\u001b[91m 0.2614062428474426 \u001b[0m(+0.06336571276187897)\n",
            "     | > avg_loss_0:\u001b[92m 2.6647140979766846 \u001b[0m(-0.06951713562011719)\n",
            "     | > avg_loss_gen:\u001b[91m 2.000939130783081 \u001b[0m(+0.07780206203460693)\n",
            "     | > avg_loss_kl:\u001b[91m 1.7762562036514282 \u001b[0m(+0.34590578079223633)\n",
            "     | > avg_loss_feat:\u001b[92m 4.130096435546875 \u001b[0m(-0.027569293975830078)\n",
            "     | > avg_loss_mel:\u001b[92m 20.454790115356445 \u001b[0m(-0.7298717498779297)\n",
            "     | > avg_loss_duration:\u001b[92m 1.3627171516418457 \u001b[0m(-0.023448824882507324)\n",
            "     | > avg_loss_1:\u001b[92m 29.72479820251465 \u001b[0m(-0.35718345642089844)\n",
            "\n",
            "\n",
            "\u001b[4m\u001b[1m > EPOCH: 106/300\u001b[0m\n",
            " --> vits_20k_steps\n",
            "\n",
            "\u001b[1m > TRAINING (2024-05-19 07:28:56) \u001b[0m\n",
            "\n",
            "\u001b[1m > EVALUATION \u001b[0m\n",
            "\n"
          ]
        },
        {
          "name": "stdout",
          "output_type": "stream",
          "text": [
            " | > Synthesizing test sentences.\n"
          ]
        },
        {
          "name": "stderr",
          "output_type": "stream",
          "text": [
            "\n",
            "  \u001b[1m--> EVAL PERFORMANCE\u001b[0m\n",
            "     | > avg_loader_time:\u001b[91m 3.520010471343994 \u001b[0m(+0.08085846900939941)\n",
            "     | > avg_loss_disc:\u001b[91m 2.8449759483337402 \u001b[0m(+0.18026185035705566)\n",
            "     | > avg_loss_disc_real_0:\u001b[92m 0.12397529929876328 \u001b[0m(-0.10245076566934586)\n",
            "     | > avg_loss_disc_real_1:\u001b[91m 0.2439599633216858 \u001b[0m(+0.02006271481513977)\n",
            "     | > avg_loss_disc_real_2:\u001b[92m 0.23419421911239624 \u001b[0m(-0.03511330485343933)\n",
            "     | > avg_loss_disc_real_3:\u001b[92m 0.19496876001358032 \u001b[0m(-0.03180918097496033)\n",
            "     | > avg_loss_disc_real_4:\u001b[91m 0.1871626377105713 \u001b[0m(+0.010061070322990417)\n",
            "     | > avg_loss_disc_real_5:\u001b[92m 0.2064145803451538 \u001b[0m(-0.05499166250228882)\n",
            "     | > avg_loss_0:\u001b[91m 2.8449759483337402 \u001b[0m(+0.18026185035705566)\n",
            "     | > avg_loss_gen:\u001b[92m 1.6058167219161987 \u001b[0m(-0.3951224088668823)\n",
            "     | > avg_loss_kl:\u001b[91m 1.9871556758880615 \u001b[0m(+0.2108994722366333)\n",
            "     | > avg_loss_feat:\u001b[91m 4.28131628036499 \u001b[0m(+0.15121984481811523)\n",
            "     | > avg_loss_mel:\u001b[92m 20.008798599243164 \u001b[0m(-0.44599151611328125)\n",
            "     | > avg_loss_duration:\u001b[91m 1.4050863981246948 \u001b[0m(+0.04236924648284912)\n",
            "     | > avg_loss_1:\u001b[92m 29.28817367553711 \u001b[0m(-0.43662452697753906)\n",
            "\n",
            "\n",
            "\u001b[4m\u001b[1m > EPOCH: 107/300\u001b[0m\n",
            " --> vits_20k_steps\n",
            "\n",
            "\u001b[1m > TRAINING (2024-05-19 07:29:26) \u001b[0m\n",
            "\n",
            "\u001b[1m > EVALUATION \u001b[0m\n",
            "\n"
          ]
        },
        {
          "name": "stdout",
          "output_type": "stream",
          "text": [
            " | > Synthesizing test sentences.\n"
          ]
        },
        {
          "name": "stderr",
          "output_type": "stream",
          "text": [
            "\n",
            "  \u001b[1m--> EVAL PERFORMANCE\u001b[0m\n",
            "     | > avg_loader_time:\u001b[92m 3.5046846866607666 \u001b[0m(-0.015325784683227539)\n",
            "     | > avg_loss_disc:\u001b[92m 2.6672730445861816 \u001b[0m(-0.1777029037475586)\n",
            "     | > avg_loss_disc_real_0:\u001b[92m 0.12081339210271835 \u001b[0m(-0.003161907196044922)\n",
            "     | > avg_loss_disc_real_1:\u001b[92m 0.21760866045951843 \u001b[0m(-0.02635130286216736)\n",
            "     | > avg_loss_disc_real_2:\u001b[92m 0.20390646159648895 \u001b[0m(-0.030287757515907288)\n",
            "     | > avg_loss_disc_real_3:\u001b[91m 0.20966140925884247 \u001b[0m(+0.014692649245262146)\n",
            "     | > avg_loss_disc_real_4:\u001b[91m 0.19375738501548767 \u001b[0m(+0.006594747304916382)\n",
            "     | > avg_loss_disc_real_5:\u001b[91m 0.2358461320400238 \u001b[0m(+0.029431551694869995)\n",
            "     | > avg_loss_0:\u001b[92m 2.6672730445861816 \u001b[0m(-0.1777029037475586)\n",
            "     | > avg_loss_gen:\u001b[91m 1.698225736618042 \u001b[0m(+0.09240901470184326)\n",
            "     | > avg_loss_kl:\u001b[92m 1.4927204847335815 \u001b[0m(-0.49443519115448)\n",
            "     | > avg_loss_feat:\u001b[92m 3.7478959560394287 \u001b[0m(-0.5334203243255615)\n",
            "     | > avg_loss_mel:\u001b[91m 20.88055419921875 \u001b[0m(+0.8717555999755859)\n",
            "     | > avg_loss_duration:\u001b[92m 1.357309341430664 \u001b[0m(-0.04777705669403076)\n",
            "     | > avg_loss_1:\u001b[92m 29.17670440673828 \u001b[0m(-0.11146926879882812)\n",
            "\n",
            "\n",
            "\u001b[4m\u001b[1m > EPOCH: 108/300\u001b[0m\n",
            " --> vits_20k_steps\n",
            "\n",
            "\u001b[1m > TRAINING (2024-05-19 07:29:55) \u001b[0m\n",
            "\n",
            "\u001b[1m > EVALUATION \u001b[0m\n",
            "\n"
          ]
        },
        {
          "name": "stdout",
          "output_type": "stream",
          "text": [
            " | > Synthesizing test sentences.\n"
          ]
        },
        {
          "name": "stderr",
          "output_type": "stream",
          "text": [
            "\n",
            "  \u001b[1m--> EVAL PERFORMANCE\u001b[0m\n",
            "     | > avg_loader_time:\u001b[92m 3.2877304553985596 \u001b[0m(-0.21695423126220703)\n",
            "     | > avg_loss_disc:\u001b[92m 2.5469810962677 \u001b[0m(-0.12029194831848145)\n",
            "     | > avg_loss_disc_real_0:\u001b[91m 0.2304849922657013 \u001b[0m(+0.10967160016298294)\n",
            "     | > avg_loss_disc_real_1:\u001b[92m 0.19587373733520508 \u001b[0m(-0.021734923124313354)\n",
            "     | > avg_loss_disc_real_2:\u001b[91m 0.267386794090271 \u001b[0m(+0.06348033249378204)\n",
            "     | > avg_loss_disc_real_3:\u001b[91m 0.24039678275585175 \u001b[0m(+0.030735373497009277)\n",
            "     | > avg_loss_disc_real_4:\u001b[92m 0.1933167427778244 \u001b[0m(-0.00044064223766326904)\n",
            "     | > avg_loss_disc_real_5:\u001b[92m 0.20665667951107025 \u001b[0m(-0.029189452528953552)\n",
            "     | > avg_loss_0:\u001b[92m 2.5469810962677 \u001b[0m(-0.12029194831848145)\n",
            "     | > avg_loss_gen:\u001b[91m 2.1528093814849854 \u001b[0m(+0.45458364486694336)\n",
            "     | > avg_loss_kl:\u001b[91m 1.8035635948181152 \u001b[0m(+0.3108431100845337)\n",
            "     | > avg_loss_feat:\u001b[91m 4.450655460357666 \u001b[0m(+0.7027595043182373)\n",
            "     | > avg_loss_mel:\u001b[92m 19.71843719482422 \u001b[0m(-1.1621170043945312)\n",
            "     | > avg_loss_duration:\u001b[91m 1.3990826606750488 \u001b[0m(+0.041773319244384766)\n",
            "     | > avg_loss_1:\u001b[91m 29.524547576904297 \u001b[0m(+0.3478431701660156)\n",
            "\n",
            "\n",
            "\u001b[4m\u001b[1m > EPOCH: 109/300\u001b[0m\n",
            " --> vits_20k_steps\n",
            "\n",
            "\u001b[1m > TRAINING (2024-05-19 07:30:24) \u001b[0m\n",
            "\n",
            "\u001b[1m > EVALUATION \u001b[0m\n",
            "\n"
          ]
        },
        {
          "name": "stdout",
          "output_type": "stream",
          "text": [
            " | > Synthesizing test sentences.\n"
          ]
        },
        {
          "name": "stderr",
          "output_type": "stream",
          "text": [
            "\n",
            "  \u001b[1m--> EVAL PERFORMANCE\u001b[0m\n",
            "     | > avg_loader_time:\u001b[91m 3.3894147872924805 \u001b[0m(+0.1016843318939209)\n",
            "     | > avg_loss_disc:\u001b[91m 2.589120388031006 \u001b[0m(+0.042139291763305664)\n",
            "     | > avg_loss_disc_real_0:\u001b[92m 0.2271094173192978 \u001b[0m(-0.0033755749464035034)\n",
            "     | > avg_loss_disc_real_1:\u001b[91m 0.2283906638622284 \u001b[0m(+0.032516926527023315)\n",
            "     | > avg_loss_disc_real_2:\u001b[92m 0.22374844551086426 \u001b[0m(-0.04363834857940674)\n",
            "     | > avg_loss_disc_real_3:\u001b[91m 0.24318845570087433 \u001b[0m(+0.002791672945022583)\n",
            "     | > avg_loss_disc_real_4:\u001b[91m 0.222631573677063 \u001b[0m(+0.029314830899238586)\n",
            "     | > avg_loss_disc_real_5:\u001b[91m 0.22662852704524994 \u001b[0m(+0.019971847534179688)\n",
            "     | > avg_loss_0:\u001b[91m 2.589120388031006 \u001b[0m(+0.042139291763305664)\n",
            "     | > avg_loss_gen:\u001b[92m 2.0898118019104004 \u001b[0m(-0.06299757957458496)\n",
            "     | > avg_loss_kl:\u001b[91m 2.210557699203491 \u001b[0m(+0.406994104385376)\n",
            "     | > avg_loss_feat:\u001b[91m 4.460564136505127 \u001b[0m(+0.009908676147460938)\n",
            "     | > avg_loss_mel:\u001b[91m 20.00689697265625 \u001b[0m(+0.28845977783203125)\n",
            "     | > avg_loss_duration:\u001b[92m 1.363694667816162 \u001b[0m(-0.03538799285888672)\n",
            "     | > avg_loss_1:\u001b[91m 30.13152503967285 \u001b[0m(+0.6069774627685547)\n",
            "\n",
            "\n",
            "\u001b[4m\u001b[1m > EPOCH: 110/300\u001b[0m\n",
            " --> vits_20k_steps\n",
            "\n",
            "\u001b[1m > TRAINING (2024-05-19 07:30:54) \u001b[0m\n",
            "\n",
            "\u001b[1m > EVALUATION \u001b[0m\n",
            "\n"
          ]
        },
        {
          "name": "stdout",
          "output_type": "stream",
          "text": [
            " | > Synthesizing test sentences.\n"
          ]
        },
        {
          "name": "stderr",
          "output_type": "stream",
          "text": [
            "\n",
            "  \u001b[1m--> EVAL PERFORMANCE\u001b[0m\n",
            "     | > avg_loader_time:\u001b[92m 3.298844337463379 \u001b[0m(-0.09057044982910156)\n",
            "     | > avg_loss_disc:\u001b[91m 2.6935172080993652 \u001b[0m(+0.10439682006835938)\n",
            "     | > avg_loss_disc_real_0:\u001b[91m 0.23653535544872284 \u001b[0m(+0.009425938129425049)\n",
            "     | > avg_loss_disc_real_1:\u001b[92m 0.21594657003879547 \u001b[0m(-0.012444093823432922)\n",
            "     | > avg_loss_disc_real_2:\u001b[91m 0.2640390396118164 \u001b[0m(+0.04029059410095215)\n",
            "     | > avg_loss_disc_real_3:\u001b[92m 0.21803390979766846 \u001b[0m(-0.02515454590320587)\n",
            "     | > avg_loss_disc_real_4:\u001b[91m 0.22492070496082306 \u001b[0m(+0.002289131283760071)\n",
            "     | > avg_loss_disc_real_5:\u001b[91m 0.26491859555244446 \u001b[0m(+0.03829006850719452)\n",
            "     | > avg_loss_0:\u001b[91m 2.6935172080993652 \u001b[0m(+0.10439682006835938)\n",
            "     | > avg_loss_gen:\u001b[92m 1.9667174816131592 \u001b[0m(-0.12309432029724121)\n",
            "     | > avg_loss_kl:\u001b[91m 2.225884437561035 \u001b[0m(+0.015326738357543945)\n",
            "     | > avg_loss_feat:\u001b[92m 3.212590456008911 \u001b[0m(-1.2479736804962158)\n",
            "     | > avg_loss_mel:\u001b[92m 18.39337730407715 \u001b[0m(-1.6135196685791016)\n",
            "     | > avg_loss_duration:\u001b[91m 1.402800440788269 \u001b[0m(+0.039105772972106934)\n",
            "     | > avg_loss_1:\u001b[92m 27.20136833190918 \u001b[0m(-2.930156707763672)\n",
            "\n",
            " > BEST MODEL : vits_20k_steps/best_model_25784.pth\n",
            "\n",
            "\u001b[4m\u001b[1m > EPOCH: 111/300\u001b[0m\n",
            " --> vits_20k_steps\n",
            "\n",
            "\u001b[1m > TRAINING (2024-05-19 07:31:26) \u001b[0m\n",
            "\n",
            "\u001b[1m > EVALUATION \u001b[0m\n",
            "\n"
          ]
        },
        {
          "name": "stdout",
          "output_type": "stream",
          "text": [
            " | > Synthesizing test sentences.\n"
          ]
        },
        {
          "name": "stderr",
          "output_type": "stream",
          "text": [
            "\n",
            "  \u001b[1m--> EVAL PERFORMANCE\u001b[0m\n",
            "     | > avg_loader_time:\u001b[91m 3.3734750747680664 \u001b[0m(+0.0746307373046875)\n",
            "     | > avg_loss_disc:\u001b[92m 2.4136762619018555 \u001b[0m(-0.27984094619750977)\n",
            "     | > avg_loss_disc_real_0:\u001b[92m 0.20667484402656555 \u001b[0m(-0.029860511422157288)\n",
            "     | > avg_loss_disc_real_1:\u001b[91m 0.25618550181388855 \u001b[0m(+0.04023893177509308)\n",
            "     | > avg_loss_disc_real_2:\u001b[92m 0.15103860199451447 \u001b[0m(-0.11300043761730194)\n",
            "     | > avg_loss_disc_real_3:\u001b[92m 0.18211403489112854 \u001b[0m(-0.03591987490653992)\n",
            "     | > avg_loss_disc_real_4:\u001b[92m 0.15177682042121887 \u001b[0m(-0.07314388453960419)\n",
            "     | > avg_loss_disc_real_5:\u001b[91m 0.2701513171195984 \u001b[0m(+0.005232721567153931)\n",
            "     | > avg_loss_0:\u001b[92m 2.4136762619018555 \u001b[0m(-0.27984094619750977)\n",
            "     | > avg_loss_gen:\u001b[91m 2.3455843925476074 \u001b[0m(+0.37886691093444824)\n",
            "     | > avg_loss_kl:\u001b[92m 1.7939523458480835 \u001b[0m(-0.43193209171295166)\n",
            "     | > avg_loss_feat:\u001b[91m 6.076130390167236 \u001b[0m(+2.863539934158325)\n",
            "     | > avg_loss_mel:\u001b[91m 20.679763793945312 \u001b[0m(+2.286386489868164)\n",
            "     | > avg_loss_duration:\u001b[91m 1.4290887117385864 \u001b[0m(+0.026288270950317383)\n",
            "     | > avg_loss_1:\u001b[91m 32.324520111083984 \u001b[0m(+5.123151779174805)\n",
            "\n",
            "\n",
            "\u001b[4m\u001b[1m > EPOCH: 112/300\u001b[0m\n",
            " --> vits_20k_steps\n",
            "\n",
            "\u001b[1m > TRAINING (2024-05-19 07:31:56) \u001b[0m\n",
            "\n",
            "\u001b[1m > EVALUATION \u001b[0m\n",
            "\n"
          ]
        },
        {
          "name": "stdout",
          "output_type": "stream",
          "text": [
            " | > Synthesizing test sentences.\n"
          ]
        },
        {
          "name": "stderr",
          "output_type": "stream",
          "text": [
            "\n",
            "  \u001b[1m--> EVAL PERFORMANCE\u001b[0m\n",
            "     | > avg_loader_time:\u001b[91m 3.4484500885009766 \u001b[0m(+0.07497501373291016)\n",
            "     | > avg_loss_disc:\u001b[91m 2.6195104122161865 \u001b[0m(+0.20583415031433105)\n",
            "     | > avg_loss_disc_real_0:\u001b[92m 0.2009139060974121 \u001b[0m(-0.005760937929153442)\n",
            "     | > avg_loss_disc_real_1:\u001b[92m 0.19480440020561218 \u001b[0m(-0.06138110160827637)\n",
            "     | > avg_loss_disc_real_2:\u001b[92m 0.13472691178321838 \u001b[0m(-0.01631169021129608)\n",
            "     | > avg_loss_disc_real_3:\u001b[91m 0.2668159306049347 \u001b[0m(+0.08470189571380615)\n",
            "     | > avg_loss_disc_real_4:\u001b[91m 0.1953771412372589 \u001b[0m(+0.04360032081604004)\n",
            "     | > avg_loss_disc_real_5:\u001b[92m 0.13749732077121735 \u001b[0m(-0.13265399634838104)\n",
            "     | > avg_loss_0:\u001b[91m 2.6195104122161865 \u001b[0m(+0.20583415031433105)\n",
            "     | > avg_loss_gen:\u001b[92m 1.863219141960144 \u001b[0m(-0.4823652505874634)\n",
            "     | > avg_loss_kl:\u001b[92m 1.6625339984893799 \u001b[0m(-0.1314183473587036)\n",
            "     | > avg_loss_feat:\u001b[92m 5.32136344909668 \u001b[0m(-0.7547669410705566)\n",
            "     | > avg_loss_mel:\u001b[92m 20.479963302612305 \u001b[0m(-0.1998004913330078)\n",
            "     | > avg_loss_duration:\u001b[92m 1.3986852169036865 \u001b[0m(-0.030403494834899902)\n",
            "     | > avg_loss_1:\u001b[92m 30.72576332092285 \u001b[0m(-1.5987567901611328)\n",
            "\n",
            "\n",
            "\u001b[4m\u001b[1m > EPOCH: 113/300\u001b[0m\n",
            " --> vits_20k_steps\n",
            "\n",
            "\u001b[1m > TRAINING (2024-05-19 07:32:25) \u001b[0m\n",
            "\n",
            "\u001b[1m > EVALUATION \u001b[0m\n",
            "\n"
          ]
        },
        {
          "name": "stdout",
          "output_type": "stream",
          "text": [
            " | > Synthesizing test sentences.\n"
          ]
        },
        {
          "name": "stderr",
          "output_type": "stream",
          "text": [
            "\n",
            "  \u001b[1m--> EVAL PERFORMANCE\u001b[0m\n",
            "     | > avg_loader_time:\u001b[91m 3.711125135421753 \u001b[0m(+0.26267504692077637)\n",
            "     | > avg_loss_disc:\u001b[91m 2.6889119148254395 \u001b[0m(+0.06940150260925293)\n",
            "     | > avg_loss_disc_real_0:\u001b[91m 0.2645806670188904 \u001b[0m(+0.06366676092147827)\n",
            "     | > avg_loss_disc_real_1:\u001b[91m 0.20098409056663513 \u001b[0m(+0.006179690361022949)\n",
            "     | > avg_loss_disc_real_2:\u001b[91m 0.2511797249317169 \u001b[0m(+0.11645281314849854)\n",
            "     | > avg_loss_disc_real_3:\u001b[92m 0.23624175786972046 \u001b[0m(-0.030574172735214233)\n",
            "     | > avg_loss_disc_real_4:\u001b[91m 0.21484075486660004 \u001b[0m(+0.019463613629341125)\n",
            "     | > avg_loss_disc_real_5:\u001b[91m 0.3195774555206299 \u001b[0m(+0.18208013474941254)\n",
            "     | > avg_loss_0:\u001b[91m 2.6889119148254395 \u001b[0m(+0.06940150260925293)\n",
            "     | > avg_loss_gen:\u001b[91m 2.2682628631591797 \u001b[0m(+0.40504372119903564)\n",
            "     | > avg_loss_kl:\u001b[91m 1.9013031721115112 \u001b[0m(+0.23876917362213135)\n",
            "     | > avg_loss_feat:\u001b[92m 4.389242172241211 \u001b[0m(-0.9321212768554688)\n",
            "     | > avg_loss_mel:\u001b[92m 20.28719711303711 \u001b[0m(-0.1927661895751953)\n",
            "     | > avg_loss_duration:\u001b[91m 1.4191371202468872 \u001b[0m(+0.020451903343200684)\n",
            "     | > avg_loss_1:\u001b[92m 30.26514434814453 \u001b[0m(-0.4606189727783203)\n",
            "\n",
            "\n",
            "\u001b[4m\u001b[1m > EPOCH: 114/300\u001b[0m\n",
            " --> vits_20k_steps\n",
            "\n",
            "\u001b[1m > TRAINING (2024-05-19 07:32:54) \u001b[0m\n",
            "\n",
            "\u001b[1m > EVALUATION \u001b[0m\n",
            "\n"
          ]
        },
        {
          "name": "stdout",
          "output_type": "stream",
          "text": [
            " | > Synthesizing test sentences.\n"
          ]
        },
        {
          "name": "stderr",
          "output_type": "stream",
          "text": [
            "\n",
            "  \u001b[1m--> EVAL PERFORMANCE\u001b[0m\n",
            "     | > avg_loader_time:\u001b[92m 3.378565788269043 \u001b[0m(-0.33255934715270996)\n",
            "     | > avg_loss_disc:\u001b[92m 2.413860321044922 \u001b[0m(-0.2750515937805176)\n",
            "     | > avg_loss_disc_real_0:\u001b[92m 0.24695724248886108 \u001b[0m(-0.017623424530029297)\n",
            "     | > avg_loss_disc_real_1:\u001b[91m 0.22775134444236755 \u001b[0m(+0.026767253875732422)\n",
            "     | > avg_loss_disc_real_2:\u001b[92m 0.14598993957042694 \u001b[0m(-0.10518978536128998)\n",
            "     | > avg_loss_disc_real_3:\u001b[91m 0.2624940872192383 \u001b[0m(+0.026252329349517822)\n",
            "     | > avg_loss_disc_real_4:\u001b[92m 0.1543976366519928 \u001b[0m(-0.06044311821460724)\n",
            "     | > avg_loss_disc_real_5:\u001b[92m 0.17134521901607513 \u001b[0m(-0.14823223650455475)\n",
            "     | > avg_loss_0:\u001b[92m 2.413860321044922 \u001b[0m(-0.2750515937805176)\n",
            "     | > avg_loss_gen:\u001b[91m 2.358651876449585 \u001b[0m(+0.09038901329040527)\n",
            "     | > avg_loss_kl:\u001b[92m 1.6300495862960815 \u001b[0m(-0.2712535858154297)\n",
            "     | > avg_loss_feat:\u001b[91m 6.0473856925964355 \u001b[0m(+1.6581435203552246)\n",
            "     | > avg_loss_mel:\u001b[91m 21.806241989135742 \u001b[0m(+1.5190448760986328)\n",
            "     | > avg_loss_duration:\u001b[91m 1.4296503067016602 \u001b[0m(+0.01051318645477295)\n",
            "     | > avg_loss_1:\u001b[91m 33.27198028564453 \u001b[0m(+3.0068359375)\n",
            "\n",
            "\n",
            "\u001b[4m\u001b[1m > EPOCH: 115/300\u001b[0m\n",
            " --> vits_20k_steps\n",
            "\n",
            "\u001b[1m > TRAINING (2024-05-19 07:33:24) \u001b[0m\n",
            "\n",
            "\u001b[1m > EVALUATION \u001b[0m\n",
            "\n"
          ]
        },
        {
          "name": "stdout",
          "output_type": "stream",
          "text": [
            " | > Synthesizing test sentences.\n"
          ]
        },
        {
          "name": "stderr",
          "output_type": "stream",
          "text": [
            "\n",
            "  \u001b[1m--> EVAL PERFORMANCE\u001b[0m\n",
            "     | > avg_loader_time:\u001b[91m 3.40411114692688 \u001b[0m(+0.025545358657836914)\n",
            "     | > avg_loss_disc:\u001b[91m 2.5117006301879883 \u001b[0m(+0.0978403091430664)\n",
            "     | > avg_loss_disc_real_0:\u001b[92m 0.19877201318740845 \u001b[0m(-0.04818522930145264)\n",
            "     | > avg_loss_disc_real_1:\u001b[92m 0.18920785188674927 \u001b[0m(-0.038543492555618286)\n",
            "     | > avg_loss_disc_real_2:\u001b[91m 0.23132501542568207 \u001b[0m(+0.08533507585525513)\n",
            "     | > avg_loss_disc_real_3:\u001b[92m 0.1796475350856781 \u001b[0m(-0.08284655213356018)\n",
            "     | > avg_loss_disc_real_4:\u001b[91m 0.22268076241016388 \u001b[0m(+0.06828312575817108)\n",
            "     | > avg_loss_disc_real_5:\u001b[91m 0.1909714639186859 \u001b[0m(+0.01962624490261078)\n",
            "     | > avg_loss_0:\u001b[91m 2.5117006301879883 \u001b[0m(+0.0978403091430664)\n",
            "     | > avg_loss_gen:\u001b[92m 2.109551429748535 \u001b[0m(-0.2491004467010498)\n",
            "     | > avg_loss_kl:\u001b[91m 1.7237073183059692 \u001b[0m(+0.0936577320098877)\n",
            "     | > avg_loss_feat:\u001b[92m 4.554010391235352 \u001b[0m(-1.493375301361084)\n",
            "     | > avg_loss_mel:\u001b[92m 21.246868133544922 \u001b[0m(-0.5593738555908203)\n",
            "     | > avg_loss_duration:\u001b[92m 1.3993172645568848 \u001b[0m(-0.03033304214477539)\n",
            "     | > avg_loss_1:\u001b[92m 31.0334529876709 \u001b[0m(-2.238527297973633)\n",
            "\n",
            "\n",
            "\u001b[4m\u001b[1m > EPOCH: 116/300\u001b[0m\n",
            " --> vits_20k_steps\n",
            "\n",
            "\u001b[1m > TRAINING (2024-05-19 07:33:54) \u001b[0m\n",
            "\n",
            "\u001b[1m > EVALUATION \u001b[0m\n",
            "\n"
          ]
        },
        {
          "name": "stdout",
          "output_type": "stream",
          "text": [
            " | > Synthesizing test sentences.\n"
          ]
        },
        {
          "name": "stderr",
          "output_type": "stream",
          "text": [
            "\n",
            "  \u001b[1m--> EVAL PERFORMANCE\u001b[0m\n",
            "     | > avg_loader_time:\u001b[91m 3.415968656539917 \u001b[0m(+0.01185750961303711)\n",
            "     | > avg_loss_disc:\u001b[91m 2.9449403285980225 \u001b[0m(+0.4332396984100342)\n",
            "     | > avg_loss_disc_real_0:\u001b[91m 0.3631872534751892 \u001b[0m(+0.16441524028778076)\n",
            "     | > avg_loss_disc_real_1:\u001b[91m 0.27449989318847656 \u001b[0m(+0.0852920413017273)\n",
            "     | > avg_loss_disc_real_2:\u001b[91m 0.23380237817764282 \u001b[0m(+0.0024773627519607544)\n",
            "     | > avg_loss_disc_real_3:\u001b[91m 0.3068368136882782 \u001b[0m(+0.1271892786026001)\n",
            "     | > avg_loss_disc_real_4:\u001b[92m 0.19546560943126678 \u001b[0m(-0.027215152978897095)\n",
            "     | > avg_loss_disc_real_5:\u001b[91m 0.27355092763900757 \u001b[0m(+0.08257946372032166)\n",
            "     | > avg_loss_0:\u001b[91m 2.9449403285980225 \u001b[0m(+0.4332396984100342)\n",
            "     | > avg_loss_gen:\u001b[91m 2.213184356689453 \u001b[0m(+0.10363292694091797)\n",
            "     | > avg_loss_kl:\u001b[91m 1.8706083297729492 \u001b[0m(+0.14690101146697998)\n",
            "     | > avg_loss_feat:\u001b[91m 4.6546711921691895 \u001b[0m(+0.10066080093383789)\n",
            "     | > avg_loss_mel:\u001b[92m 19.991252899169922 \u001b[0m(-1.255615234375)\n",
            "     | > avg_loss_duration:\u001b[91m 1.4339087009429932 \u001b[0m(+0.0345914363861084)\n",
            "     | > avg_loss_1:\u001b[92m 30.163625717163086 \u001b[0m(-0.8698272705078125)\n",
            "\n",
            "\n",
            "\u001b[4m\u001b[1m > EPOCH: 117/300\u001b[0m\n",
            " --> vits_20k_steps\n",
            "\n",
            "\u001b[1m > TRAINING (2024-05-19 07:34:23) \u001b[0m\n",
            "\n",
            "\u001b[1m > EVALUATION \u001b[0m\n",
            "\n"
          ]
        },
        {
          "name": "stdout",
          "output_type": "stream",
          "text": [
            " | > Synthesizing test sentences.\n"
          ]
        },
        {
          "name": "stderr",
          "output_type": "stream",
          "text": [
            "\n",
            "  \u001b[1m--> EVAL PERFORMANCE\u001b[0m\n",
            "     | > avg_loader_time:\u001b[92m 3.373737096786499 \u001b[0m(-0.04223155975341797)\n",
            "     | > avg_loss_disc:\u001b[92m 2.585867404937744 \u001b[0m(-0.3590729236602783)\n",
            "     | > avg_loss_disc_real_0:\u001b[92m 0.21469061076641083 \u001b[0m(-0.14849664270877838)\n",
            "     | > avg_loss_disc_real_1:\u001b[92m 0.21039003133773804 \u001b[0m(-0.06410986185073853)\n",
            "     | > avg_loss_disc_real_2:\u001b[92m 0.21221105754375458 \u001b[0m(-0.021591320633888245)\n",
            "     | > avg_loss_disc_real_3:\u001b[92m 0.30138617753982544 \u001b[0m(-0.005450636148452759)\n",
            "     | > avg_loss_disc_real_4:\u001b[91m 0.24563583731651306 \u001b[0m(+0.05017022788524628)\n",
            "     | > avg_loss_disc_real_5:\u001b[92m 0.2081683874130249 \u001b[0m(-0.06538254022598267)\n",
            "     | > avg_loss_0:\u001b[92m 2.585867404937744 \u001b[0m(-0.3590729236602783)\n",
            "     | > avg_loss_gen:\u001b[92m 2.1513707637786865 \u001b[0m(-0.0618135929107666)\n",
            "     | > avg_loss_kl:\u001b[92m 1.356545329093933 \u001b[0m(-0.5140630006790161)\n",
            "     | > avg_loss_feat:\u001b[92m 4.2210307121276855 \u001b[0m(-0.4336404800415039)\n",
            "     | > avg_loss_mel:\u001b[91m 20.449312210083008 \u001b[0m(+0.45805931091308594)\n",
            "     | > avg_loss_duration:\u001b[92m 1.4227452278137207 \u001b[0m(-0.011163473129272461)\n",
            "     | > avg_loss_1:\u001b[92m 29.601003646850586 \u001b[0m(-0.5626220703125)\n",
            "\n",
            "\n",
            "\u001b[4m\u001b[1m > EPOCH: 118/300\u001b[0m\n",
            " --> vits_20k_steps\n",
            "\n",
            "\u001b[1m > TRAINING (2024-05-19 07:34:52) \u001b[0m\n",
            "\n",
            "\u001b[1m > EVALUATION \u001b[0m\n",
            "\n"
          ]
        },
        {
          "name": "stdout",
          "output_type": "stream",
          "text": [
            " | > Synthesizing test sentences.\n"
          ]
        },
        {
          "name": "stderr",
          "output_type": "stream",
          "text": [
            "\n",
            "  \u001b[1m--> EVAL PERFORMANCE\u001b[0m\n",
            "     | > avg_loader_time:\u001b[91m 3.401780366897583 \u001b[0m(+0.028043270111083984)\n",
            "     | > avg_loss_disc:\u001b[91m 2.633021354675293 \u001b[0m(+0.04715394973754883)\n",
            "     | > avg_loss_disc_real_0:\u001b[91m 0.2566014528274536 \u001b[0m(+0.041910842061042786)\n",
            "     | > avg_loss_disc_real_1:\u001b[92m 0.20686857402324677 \u001b[0m(-0.003521457314491272)\n",
            "     | > avg_loss_disc_real_2:\u001b[92m 0.2063661515712738 \u001b[0m(-0.005844905972480774)\n",
            "     | > avg_loss_disc_real_3:\u001b[92m 0.1768064647912979 \u001b[0m(-0.12457971274852753)\n",
            "     | > avg_loss_disc_real_4:\u001b[92m 0.17059622704982758 \u001b[0m(-0.07503961026668549)\n",
            "     | > avg_loss_disc_real_5:\u001b[92m 0.18300364911556244 \u001b[0m(-0.025164738297462463)\n",
            "     | > avg_loss_0:\u001b[91m 2.633021354675293 \u001b[0m(+0.04715394973754883)\n",
            "     | > avg_loss_gen:\u001b[92m 1.8732163906097412 \u001b[0m(-0.2781543731689453)\n",
            "     | > avg_loss_kl:\u001b[91m 1.6409097909927368 \u001b[0m(+0.2843644618988037)\n",
            "     | > avg_loss_feat:\u001b[91m 4.435896873474121 \u001b[0m(+0.21486616134643555)\n",
            "     | > avg_loss_mel:\u001b[92m 20.22275161743164 \u001b[0m(-0.2265605926513672)\n",
            "     | > avg_loss_duration:\u001b[91m 1.4347288608551025 \u001b[0m(+0.011983633041381836)\n",
            "     | > avg_loss_1:\u001b[91m 29.60750389099121 \u001b[0m(+0.006500244140625)\n",
            "\n",
            "\n",
            "\u001b[4m\u001b[1m > EPOCH: 119/300\u001b[0m\n",
            " --> vits_20k_steps\n",
            "\n",
            "\u001b[1m > TRAINING (2024-05-19 07:35:22) \u001b[0m\n",
            "\n",
            "\u001b[1m > EVALUATION \u001b[0m\n",
            "\n"
          ]
        },
        {
          "name": "stdout",
          "output_type": "stream",
          "text": [
            " | > Synthesizing test sentences.\n"
          ]
        },
        {
          "name": "stderr",
          "output_type": "stream",
          "text": [
            "\n",
            "  \u001b[1m--> EVAL PERFORMANCE\u001b[0m\n",
            "     | > avg_loader_time:\u001b[92m 3.283379554748535 \u001b[0m(-0.11840081214904785)\n",
            "     | > avg_loss_disc:\u001b[91m 2.7205677032470703 \u001b[0m(+0.08754634857177734)\n",
            "     | > avg_loss_disc_real_0:\u001b[91m 0.2608906328678131 \u001b[0m(+0.004289180040359497)\n",
            "     | > avg_loss_disc_real_1:\u001b[91m 0.23956206440925598 \u001b[0m(+0.032693490386009216)\n",
            "     | > avg_loss_disc_real_2:\u001b[92m 0.20116375386714935 \u001b[0m(-0.005202397704124451)\n",
            "     | > avg_loss_disc_real_3:\u001b[91m 0.21918730437755585 \u001b[0m(+0.042380839586257935)\n",
            "     | > avg_loss_disc_real_4:\u001b[91m 0.2130414992570877 \u001b[0m(+0.04244527220726013)\n",
            "     | > avg_loss_disc_real_5:\u001b[91m 0.3053967356681824 \u001b[0m(+0.12239308655261993)\n",
            "     | > avg_loss_0:\u001b[91m 2.7205677032470703 \u001b[0m(+0.08754634857177734)\n",
            "     | > avg_loss_gen:\u001b[91m 2.1227731704711914 \u001b[0m(+0.2495567798614502)\n",
            "     | > avg_loss_kl:\u001b[91m 2.1510632038116455 \u001b[0m(+0.5101534128189087)\n",
            "     | > avg_loss_feat:\u001b[92m 4.252777099609375 \u001b[0m(-0.1831197738647461)\n",
            "     | > avg_loss_mel:\u001b[92m 19.77219009399414 \u001b[0m(-0.4505615234375)\n",
            "     | > avg_loss_duration:\u001b[92m 1.4197392463684082 \u001b[0m(-0.014989614486694336)\n",
            "     | > avg_loss_1:\u001b[91m 29.71854019165039 \u001b[0m(+0.11103630065917969)\n",
            "\n",
            "\n",
            "\u001b[4m\u001b[1m > EPOCH: 120/300\u001b[0m\n",
            " --> vits_20k_steps\n",
            "\n",
            "\u001b[1m > TRAINING (2024-05-19 07:35:52) \u001b[0m\n",
            "\n",
            "\u001b[1m > EVALUATION \u001b[0m\n",
            "\n"
          ]
        },
        {
          "name": "stdout",
          "output_type": "stream",
          "text": [
            " | > Synthesizing test sentences.\n"
          ]
        },
        {
          "name": "stderr",
          "output_type": "stream",
          "text": [
            "\n",
            "  \u001b[1m--> EVAL PERFORMANCE\u001b[0m\n",
            "     | > avg_loader_time:\u001b[92m 3.1945247650146484 \u001b[0m(-0.08885478973388672)\n",
            "     | > avg_loss_disc:\u001b[92m 2.4609262943267822 \u001b[0m(-0.2596414089202881)\n",
            "     | > avg_loss_disc_real_0:\u001b[92m 0.2467842400074005 \u001b[0m(-0.014106392860412598)\n",
            "     | > avg_loss_disc_real_1:\u001b[92m 0.1974097639322281 \u001b[0m(-0.04215230047702789)\n",
            "     | > avg_loss_disc_real_2:\u001b[91m 0.23193050920963287 \u001b[0m(+0.03076675534248352)\n",
            "     | > avg_loss_disc_real_3:\u001b[92m 0.18059298396110535 \u001b[0m(-0.0385943204164505)\n",
            "     | > avg_loss_disc_real_4:\u001b[92m 0.18528740108013153 \u001b[0m(-0.027754098176956177)\n",
            "     | > avg_loss_disc_real_5:\u001b[92m 0.16944153606891632 \u001b[0m(-0.13595519959926605)\n",
            "     | > avg_loss_0:\u001b[92m 2.4609262943267822 \u001b[0m(-0.2596414089202881)\n",
            "     | > avg_loss_gen:\u001b[92m 1.9726847410202026 \u001b[0m(-0.15008842945098877)\n",
            "     | > avg_loss_kl:\u001b[91m 2.2971065044403076 \u001b[0m(+0.1460433006286621)\n",
            "     | > avg_loss_feat:\u001b[91m 4.3207550048828125 \u001b[0m(+0.0679779052734375)\n",
            "     | > avg_loss_mel:\u001b[91m 21.428531646728516 \u001b[0m(+1.656341552734375)\n",
            "     | > avg_loss_duration:\u001b[92m 1.3965321779251099 \u001b[0m(-0.02320706844329834)\n",
            "     | > avg_loss_1:\u001b[91m 31.415611267089844 \u001b[0m(+1.6970710754394531)\n",
            "\n",
            "\n",
            "\u001b[4m\u001b[1m > EPOCH: 121/300\u001b[0m\n",
            " --> vits_20k_steps\n",
            "\n",
            "\u001b[1m > TRAINING (2024-05-19 07:36:21) \u001b[0m\n",
            "\n",
            "\u001b[1m > EVALUATION \u001b[0m\n",
            "\n"
          ]
        },
        {
          "name": "stdout",
          "output_type": "stream",
          "text": [
            " | > Synthesizing test sentences.\n"
          ]
        },
        {
          "name": "stderr",
          "output_type": "stream",
          "text": [
            "\n",
            "  \u001b[1m--> EVAL PERFORMANCE\u001b[0m\n",
            "     | > avg_loader_time:\u001b[91m 3.297701120376587 \u001b[0m(+0.10317635536193848)\n",
            "     | > avg_loss_disc:\u001b[91m 2.690683603286743 \u001b[0m(+0.22975730895996094)\n",
            "     | > avg_loss_disc_real_0:\u001b[91m 0.2669156491756439 \u001b[0m(+0.020131409168243408)\n",
            "     | > avg_loss_disc_real_1:\u001b[91m 0.21748092770576477 \u001b[0m(+0.020071163773536682)\n",
            "     | > avg_loss_disc_real_2:\u001b[92m 0.2052563726902008 \u001b[0m(-0.026674136519432068)\n",
            "     | > avg_loss_disc_real_3:\u001b[92m 0.15550550818443298 \u001b[0m(-0.025087475776672363)\n",
            "     | > avg_loss_disc_real_4:\u001b[91m 0.2218308299779892 \u001b[0m(+0.036543428897857666)\n",
            "     | > avg_loss_disc_real_5:\u001b[91m 0.18241122364997864 \u001b[0m(+0.012969687581062317)\n",
            "     | > avg_loss_0:\u001b[91m 2.690683603286743 \u001b[0m(+0.22975730895996094)\n",
            "     | > avg_loss_gen:\u001b[92m 1.8744624853134155 \u001b[0m(-0.09822225570678711)\n",
            "     | > avg_loss_kl:\u001b[92m 2.051351547241211 \u001b[0m(-0.24575495719909668)\n",
            "     | > avg_loss_feat:\u001b[91m 4.462958335876465 \u001b[0m(+0.14220333099365234)\n",
            "     | > avg_loss_mel:\u001b[92m 21.07196044921875 \u001b[0m(-0.3565711975097656)\n",
            "     | > avg_loss_duration:\u001b[91m 1.4319106340408325 \u001b[0m(+0.035378456115722656)\n",
            "     | > avg_loss_1:\u001b[92m 30.892642974853516 \u001b[0m(-0.5229682922363281)\n",
            "\n",
            "\n",
            "\u001b[4m\u001b[1m > EPOCH: 122/300\u001b[0m\n",
            " --> vits_20k_steps\n",
            "\n",
            "\u001b[1m > TRAINING (2024-05-19 07:36:50) \u001b[0m\n",
            "\n",
            "\u001b[1m > EVALUATION \u001b[0m\n",
            "\n"
          ]
        },
        {
          "name": "stdout",
          "output_type": "stream",
          "text": [
            " | > Synthesizing test sentences.\n"
          ]
        },
        {
          "name": "stderr",
          "output_type": "stream",
          "text": [
            "\n",
            "  \u001b[1m--> EVAL PERFORMANCE\u001b[0m\n",
            "     | > avg_loader_time:\u001b[91m 3.404052734375 \u001b[0m(+0.10635161399841309)\n",
            "     | > avg_loss_disc:\u001b[92m 2.6166954040527344 \u001b[0m(-0.07398819923400879)\n",
            "     | > avg_loss_disc_real_0:\u001b[92m 0.16377896070480347 \u001b[0m(-0.10313668847084045)\n",
            "     | > avg_loss_disc_real_1:\u001b[92m 0.2096020132303238 \u001b[0m(-0.007878914475440979)\n",
            "     | > avg_loss_disc_real_2:\u001b[91m 0.22481192648410797 \u001b[0m(+0.019555553793907166)\n",
            "     | > avg_loss_disc_real_3:\u001b[91m 0.1953180432319641 \u001b[0m(+0.03981253504753113)\n",
            "     | > avg_loss_disc_real_4:\u001b[92m 0.19726884365081787 \u001b[0m(-0.024561986327171326)\n",
            "     | > avg_loss_disc_real_5:\u001b[91m 0.24600958824157715 \u001b[0m(+0.06359836459159851)\n",
            "     | > avg_loss_0:\u001b[92m 2.6166954040527344 \u001b[0m(-0.07398819923400879)\n",
            "     | > avg_loss_gen:\u001b[91m 1.9262131452560425 \u001b[0m(+0.05175065994262695)\n",
            "     | > avg_loss_kl:\u001b[92m 1.6091361045837402 \u001b[0m(-0.4422154426574707)\n",
            "     | > avg_loss_feat:\u001b[92m 4.0558271408081055 \u001b[0m(-0.4071311950683594)\n",
            "     | > avg_loss_mel:\u001b[91m 21.219175338745117 \u001b[0m(+0.1472148895263672)\n",
            "     | > avg_loss_duration:\u001b[92m 1.3764228820800781 \u001b[0m(-0.055487751960754395)\n",
            "     | > avg_loss_1:\u001b[92m 30.1867733001709 \u001b[0m(-0.7058696746826172)\n",
            "\n",
            "\n",
            "\u001b[4m\u001b[1m > EPOCH: 123/300\u001b[0m\n",
            " --> vits_20k_steps\n",
            "\n",
            "\u001b[1m > TRAINING (2024-05-19 07:37:20) \u001b[0m\n",
            "\n",
            "\u001b[1m > EVALUATION \u001b[0m\n",
            "\n"
          ]
        },
        {
          "name": "stdout",
          "output_type": "stream",
          "text": [
            " | > Synthesizing test sentences.\n"
          ]
        },
        {
          "name": "stderr",
          "output_type": "stream",
          "text": [
            "\n",
            "  \u001b[1m--> EVAL PERFORMANCE\u001b[0m\n",
            "     | > avg_loader_time:\u001b[92m 3.4023098945617676 \u001b[0m(-0.0017428398132324219)\n",
            "     | > avg_loss_disc:\u001b[91m 2.7272839546203613 \u001b[0m(+0.11058855056762695)\n",
            "     | > avg_loss_disc_real_0:\u001b[91m 0.3878440260887146 \u001b[0m(+0.22406506538391113)\n",
            "     | > avg_loss_disc_real_1:\u001b[91m 0.2304961234331131 \u001b[0m(+0.020894110202789307)\n",
            "     | > avg_loss_disc_real_2:\u001b[91m 0.25845351815223694 \u001b[0m(+0.03364159166812897)\n",
            "     | > avg_loss_disc_real_3:\u001b[91m 0.21328645944595337 \u001b[0m(+0.017968416213989258)\n",
            "     | > avg_loss_disc_real_4:\u001b[91m 0.22828717529773712 \u001b[0m(+0.03101833164691925)\n",
            "     | > avg_loss_disc_real_5:\u001b[92m 0.19095900654792786 \u001b[0m(-0.05505058169364929)\n",
            "     | > avg_loss_0:\u001b[91m 2.7272839546203613 \u001b[0m(+0.11058855056762695)\n",
            "     | > avg_loss_gen:\u001b[91m 2.1523983478546143 \u001b[0m(+0.22618520259857178)\n",
            "     | > avg_loss_kl:\u001b[91m 1.885604977607727 \u001b[0m(+0.2764688730239868)\n",
            "     | > avg_loss_feat:\u001b[91m 4.260473728179932 \u001b[0m(+0.20464658737182617)\n",
            "     | > avg_loss_mel:\u001b[92m 20.108436584472656 \u001b[0m(-1.110738754272461)\n",
            "     | > avg_loss_duration:\u001b[91m 1.4000227451324463 \u001b[0m(+0.023599863052368164)\n",
            "     | > avg_loss_1:\u001b[92m 29.806936264038086 \u001b[0m(-0.3798370361328125)\n",
            "\n",
            "\n",
            "\u001b[4m\u001b[1m > EPOCH: 124/300\u001b[0m\n",
            " --> vits_20k_steps\n",
            "\n",
            "\u001b[1m > TRAINING (2024-05-19 07:37:49) \u001b[0m\n",
            "\n",
            "\u001b[1m > EVALUATION \u001b[0m\n",
            "\n"
          ]
        },
        {
          "name": "stdout",
          "output_type": "stream",
          "text": [
            " | > Synthesizing test sentences.\n"
          ]
        },
        {
          "name": "stderr",
          "output_type": "stream",
          "text": [
            "\n",
            "  \u001b[1m--> EVAL PERFORMANCE\u001b[0m\n",
            "     | > avg_loader_time:\u001b[91m 3.4069747924804688 \u001b[0m(+0.004664897918701172)\n",
            "     | > avg_loss_disc:\u001b[91m 2.78048038482666 \u001b[0m(+0.05319643020629883)\n",
            "     | > avg_loss_disc_real_0:\u001b[92m 0.2311149537563324 \u001b[0m(-0.1567290723323822)\n",
            "     | > avg_loss_disc_real_1:\u001b[92m 0.22557537257671356 \u001b[0m(-0.004920750856399536)\n",
            "     | > avg_loss_disc_real_2:\u001b[92m 0.21854954957962036 \u001b[0m(-0.03990396857261658)\n",
            "     | > avg_loss_disc_real_3:\u001b[91m 0.2383916676044464 \u001b[0m(+0.025105208158493042)\n",
            "     | > avg_loss_disc_real_4:\u001b[91m 0.2435859888792038 \u001b[0m(+0.015298813581466675)\n",
            "     | > avg_loss_disc_real_5:\u001b[91m 0.235897496342659 \u001b[0m(+0.04493848979473114)\n",
            "     | > avg_loss_0:\u001b[91m 2.78048038482666 \u001b[0m(+0.05319643020629883)\n",
            "     | > avg_loss_gen:\u001b[92m 1.8537518978118896 \u001b[0m(-0.2986464500427246)\n",
            "     | > avg_loss_kl:\u001b[91m 2.0732364654541016 \u001b[0m(+0.1876314878463745)\n",
            "     | > avg_loss_feat:\u001b[92m 3.966973304748535 \u001b[0m(-0.2935004234313965)\n",
            "     | > avg_loss_mel:\u001b[92m 19.114030838012695 \u001b[0m(-0.9944057464599609)\n",
            "     | > avg_loss_duration:\u001b[91m 1.4176969528198242 \u001b[0m(+0.01767420768737793)\n",
            "     | > avg_loss_1:\u001b[92m 28.425689697265625 \u001b[0m(-1.381246566772461)\n",
            "\n",
            "\n",
            "\u001b[4m\u001b[1m > EPOCH: 125/300\u001b[0m\n",
            " --> vits_20k_steps\n",
            "\n",
            "\u001b[1m > TRAINING (2024-05-19 07:38:19) \u001b[0m\n",
            "\n",
            "\u001b[1m > EVALUATION \u001b[0m\n",
            "\n"
          ]
        },
        {
          "name": "stdout",
          "output_type": "stream",
          "text": [
            " | > Synthesizing test sentences.\n"
          ]
        },
        {
          "name": "stderr",
          "output_type": "stream",
          "text": [
            "\n",
            "  \u001b[1m--> EVAL PERFORMANCE\u001b[0m\n",
            "     | > avg_loader_time:\u001b[91m 3.4852664470672607 \u001b[0m(+0.07829165458679199)\n",
            "     | > avg_loss_disc:\u001b[91m 2.7988078594207764 \u001b[0m(+0.01832747459411621)\n",
            "     | > avg_loss_disc_real_0:\u001b[91m 0.2814052104949951 \u001b[0m(+0.05029025673866272)\n",
            "     | > avg_loss_disc_real_1:\u001b[91m 0.23186737298965454 \u001b[0m(+0.006292000412940979)\n",
            "     | > avg_loss_disc_real_2:\u001b[91m 0.28691717982292175 \u001b[0m(+0.06836763024330139)\n",
            "     | > avg_loss_disc_real_3:\u001b[92m 0.2100132554769516 \u001b[0m(-0.028378412127494812)\n",
            "     | > avg_loss_disc_real_4:\u001b[91m 0.2436460554599762 \u001b[0m(+6.00665807723999e-05)\n",
            "     | > avg_loss_disc_real_5:\u001b[92m 0.2355770617723465 \u001b[0m(-0.0003204345703125)\n",
            "     | > avg_loss_0:\u001b[91m 2.7988078594207764 \u001b[0m(+0.01832747459411621)\n",
            "     | > avg_loss_gen:\u001b[91m 1.9676513671875 \u001b[0m(+0.11389946937561035)\n",
            "     | > avg_loss_kl:\u001b[92m 1.5327860116958618 \u001b[0m(-0.5404504537582397)\n",
            "     | > avg_loss_feat:\u001b[92m 3.1140029430389404 \u001b[0m(-0.8529703617095947)\n",
            "     | > avg_loss_mel:\u001b[91m 20.94292449951172 \u001b[0m(+1.8288936614990234)\n",
            "     | > avg_loss_duration:\u001b[92m 1.4058610200881958 \u001b[0m(-0.011835932731628418)\n",
            "     | > avg_loss_1:\u001b[91m 28.963226318359375 \u001b[0m(+0.53753662109375)\n",
            "\n",
            "\n",
            "\u001b[4m\u001b[1m > EPOCH: 126/300\u001b[0m\n",
            " --> vits_20k_steps\n",
            "\n",
            "\u001b[1m > TRAINING (2024-05-19 07:38:48) \u001b[0m\n",
            "\n",
            "\u001b[1m   --> TIME: 2024-05-19 07:39:00 -- STEP: 6/14 -- GLOBAL_STEP: 26000\u001b[0m\n",
            "     | > loss_disc: 2.557481288909912  (2.5435440937678018)\n",
            "     | > loss_disc_real_0: 0.18963995575904846  (0.15857544913887978)\n",
            "     | > loss_disc_real_1: 0.22173179686069489  (0.2520237813393275)\n",
            "     | > loss_disc_real_2: 0.24048300087451935  (0.22776307662328085)\n",
            "     | > loss_disc_real_3: 0.2308584600687027  (0.23504661271969476)\n",
            "     | > loss_disc_real_4: 0.2527301013469696  (0.229366863767306)\n",
            "     | > loss_disc_real_5: 0.21682167053222656  (0.2407964070638021)\n",
            "     | > loss_0: 2.557481288909912  (2.5435440937678018)\n",
            "     | > grad_norm_0: tensor(9.5539, device='cuda:0')  (tensor(13.4968, device='cuda:0'))\n",
            "     | > loss_gen: 2.095898151397705  (2.1912928024927774)\n",
            "     | > loss_kl: 1.2620625495910645  (1.2037875453631084)\n",
            "     | > loss_feat: 4.443844795227051  (4.622562805811564)\n",
            "     | > loss_mel: 20.071964263916016  (19.765854835510254)\n",
            "     | > loss_duration: 1.1617825031280518  (1.0974729855855305)\n",
            "     | > amp_scaler: 512.0  (512.0)\n",
            "     | > loss_1: 29.035552978515625  (28.880971272786457)\n",
            "     | > grad_norm_1: tensor(44.7043, device='cuda:0')  (tensor(57.4358, device='cuda:0'))\n",
            "     | > current_lr_0: 0.0001585869249425949 \n",
            "     | > current_lr_1: 0.0001585869249425949 \n",
            "     | > step_time: 1.1606  (1.0815435250600178)\n",
            "     | > loader_time: 0.0098  (0.008617122968037924)\n",
            "\n",
            "\n",
            "\u001b[1m > EVALUATION \u001b[0m\n",
            "\n"
          ]
        },
        {
          "name": "stdout",
          "output_type": "stream",
          "text": [
            " | > Synthesizing test sentences.\n"
          ]
        },
        {
          "name": "stderr",
          "output_type": "stream",
          "text": [
            "\n",
            "  \u001b[1m--> EVAL PERFORMANCE\u001b[0m\n",
            "     | > avg_loader_time:\u001b[92m 3.4210944175720215 \u001b[0m(-0.06417202949523926)\n",
            "     | > avg_loss_disc:\u001b[92m 2.664156913757324 \u001b[0m(-0.13465094566345215)\n",
            "     | > avg_loss_disc_real_0:\u001b[92m 0.27785393595695496 \u001b[0m(-0.003551274538040161)\n",
            "     | > avg_loss_disc_real_1:\u001b[91m 0.25890815258026123 \u001b[0m(+0.02704077959060669)\n",
            "     | > avg_loss_disc_real_2:\u001b[92m 0.22301112115383148 \u001b[0m(-0.06390605866909027)\n",
            "     | > avg_loss_disc_real_3:\u001b[91m 0.21318785846233368 \u001b[0m(+0.00317460298538208)\n",
            "     | > avg_loss_disc_real_4:\u001b[92m 0.2156335711479187 \u001b[0m(-0.028012484312057495)\n",
            "     | > avg_loss_disc_real_5:\u001b[92m 0.1559397578239441 \u001b[0m(-0.0796373039484024)\n",
            "     | > avg_loss_0:\u001b[92m 2.664156913757324 \u001b[0m(-0.13465094566345215)\n",
            "     | > avg_loss_gen:\u001b[91m 2.0398333072662354 \u001b[0m(+0.07218194007873535)\n",
            "     | > avg_loss_kl:\u001b[91m 1.8132857084274292 \u001b[0m(+0.2804996967315674)\n",
            "     | > avg_loss_feat:\u001b[91m 4.365926265716553 \u001b[0m(+1.2519233226776123)\n",
            "     | > avg_loss_mel:\u001b[92m 20.63497543334961 \u001b[0m(-0.3079490661621094)\n",
            "     | > avg_loss_duration:\u001b[92m 1.393120288848877 \u001b[0m(-0.012740731239318848)\n",
            "     | > avg_loss_1:\u001b[91m 30.247140884399414 \u001b[0m(+1.283914566040039)\n",
            "\n",
            "\n",
            "\u001b[4m\u001b[1m > EPOCH: 127/300\u001b[0m\n",
            " --> vits_20k_steps\n",
            "\n",
            "\u001b[1m > TRAINING (2024-05-19 07:39:17) \u001b[0m\n",
            "\n",
            "\u001b[1m > EVALUATION \u001b[0m\n",
            "\n"
          ]
        },
        {
          "name": "stdout",
          "output_type": "stream",
          "text": [
            " | > Synthesizing test sentences.\n"
          ]
        },
        {
          "name": "stderr",
          "output_type": "stream",
          "text": [
            "\n",
            "  \u001b[1m--> EVAL PERFORMANCE\u001b[0m\n",
            "     | > avg_loader_time:\u001b[92m 3.41766095161438 \u001b[0m(-0.0034334659576416016)\n",
            "     | > avg_loss_disc:\u001b[91m 2.7813186645507812 \u001b[0m(+0.11716175079345703)\n",
            "     | > avg_loss_disc_real_0:\u001b[91m 0.32706835865974426 \u001b[0m(+0.04921442270278931)\n",
            "     | > avg_loss_disc_real_1:\u001b[92m 0.24520136415958405 \u001b[0m(-0.013706788420677185)\n",
            "     | > avg_loss_disc_real_2:\u001b[91m 0.27373185753822327 \u001b[0m(+0.050720736384391785)\n",
            "     | > avg_loss_disc_real_3:\u001b[91m 0.25991690158843994 \u001b[0m(+0.04672904312610626)\n",
            "     | > avg_loss_disc_real_4:\u001b[91m 0.2532004714012146 \u001b[0m(+0.0375669002532959)\n",
            "     | > avg_loss_disc_real_5:\u001b[91m 0.2648428976535797 \u001b[0m(+0.10890313982963562)\n",
            "     | > avg_loss_0:\u001b[91m 2.7813186645507812 \u001b[0m(+0.11716175079345703)\n",
            "     | > avg_loss_gen:\u001b[91m 2.211642026901245 \u001b[0m(+0.17180871963500977)\n",
            "     | > avg_loss_kl:\u001b[91m 2.0286781787872314 \u001b[0m(+0.21539247035980225)\n",
            "     | > avg_loss_feat:\u001b[92m 3.5009593963623047 \u001b[0m(-0.864966869354248)\n",
            "     | > avg_loss_mel:\u001b[92m 20.4753360748291 \u001b[0m(-0.1596393585205078)\n",
            "     | > avg_loss_duration:\u001b[92m 1.365558385848999 \u001b[0m(-0.02756190299987793)\n",
            "     | > avg_loss_1:\u001b[92m 29.58217430114746 \u001b[0m(-0.6649665832519531)\n",
            "\n",
            "\n",
            "\u001b[4m\u001b[1m > EPOCH: 128/300\u001b[0m\n",
            " --> vits_20k_steps\n",
            "\n",
            "\u001b[1m > TRAINING (2024-05-19 07:39:47) \u001b[0m\n",
            "\n",
            "\u001b[1m > EVALUATION \u001b[0m\n",
            "\n"
          ]
        },
        {
          "name": "stdout",
          "output_type": "stream",
          "text": [
            " | > Synthesizing test sentences.\n"
          ]
        },
        {
          "name": "stderr",
          "output_type": "stream",
          "text": [
            "\n",
            "  \u001b[1m--> EVAL PERFORMANCE\u001b[0m\n",
            "     | > avg_loader_time:\u001b[92m 3.2788684368133545 \u001b[0m(-0.1387925148010254)\n",
            "     | > avg_loss_disc:\u001b[92m 2.6261303424835205 \u001b[0m(-0.15518832206726074)\n",
            "     | > avg_loss_disc_real_0:\u001b[91m 0.35294413566589355 \u001b[0m(+0.025875777006149292)\n",
            "     | > avg_loss_disc_real_1:\u001b[92m 0.22510753571987152 \u001b[0m(-0.020093828439712524)\n",
            "     | > avg_loss_disc_real_2:\u001b[92m 0.22661954164505005 \u001b[0m(-0.04711231589317322)\n",
            "     | > avg_loss_disc_real_3:\u001b[92m 0.25447019934654236 \u001b[0m(-0.005446702241897583)\n",
            "     | > avg_loss_disc_real_4:\u001b[92m 0.19076572358608246 \u001b[0m(-0.06243474781513214)\n",
            "     | > avg_loss_disc_real_5:\u001b[92m 0.21947316825389862 \u001b[0m(-0.04536972939968109)\n",
            "     | > avg_loss_0:\u001b[92m 2.6261303424835205 \u001b[0m(-0.15518832206726074)\n",
            "     | > avg_loss_gen:\u001b[91m 2.368018865585327 \u001b[0m(+0.15637683868408203)\n",
            "     | > avg_loss_kl:\u001b[91m 2.0340309143066406 \u001b[0m(+0.00535273551940918)\n",
            "     | > avg_loss_feat:\u001b[91m 4.812843322753906 \u001b[0m(+1.3118839263916016)\n",
            "     | > avg_loss_mel:\u001b[92m 20.018190383911133 \u001b[0m(-0.45714569091796875)\n",
            "     | > avg_loss_duration:\u001b[92m 1.3645708560943604 \u001b[0m(-0.0009875297546386719)\n",
            "     | > avg_loss_1:\u001b[91m 30.597654342651367 \u001b[0m(+1.0154800415039062)\n",
            "\n",
            "\n",
            "\u001b[4m\u001b[1m > EPOCH: 129/300\u001b[0m\n",
            " --> vits_20k_steps\n",
            "\n",
            "\u001b[1m > TRAINING (2024-05-19 07:40:17) \u001b[0m\n",
            "\n",
            "\u001b[1m > EVALUATION \u001b[0m\n",
            "\n"
          ]
        },
        {
          "name": "stdout",
          "output_type": "stream",
          "text": [
            " | > Synthesizing test sentences.\n"
          ]
        },
        {
          "name": "stderr",
          "output_type": "stream",
          "text": [
            "\n",
            "  \u001b[1m--> EVAL PERFORMANCE\u001b[0m\n",
            "     | > avg_loader_time:\u001b[91m 3.4137375354766846 \u001b[0m(+0.13486909866333008)\n",
            "     | > avg_loss_disc:\u001b[92m 2.5525801181793213 \u001b[0m(-0.07355022430419922)\n",
            "     | > avg_loss_disc_real_0:\u001b[92m 0.2357153594493866 \u001b[0m(-0.11722877621650696)\n",
            "     | > avg_loss_disc_real_1:\u001b[92m 0.18871979415416718 \u001b[0m(-0.036387741565704346)\n",
            "     | > avg_loss_disc_real_2:\u001b[92m 0.16182106733322144 \u001b[0m(-0.06479847431182861)\n",
            "     | > avg_loss_disc_real_3:\u001b[92m 0.22050222754478455 \u001b[0m(-0.03396797180175781)\n",
            "     | > avg_loss_disc_real_4:\u001b[91m 0.20940080285072327 \u001b[0m(+0.018635079264640808)\n",
            "     | > avg_loss_disc_real_5:\u001b[91m 0.22473125159740448 \u001b[0m(+0.005258083343505859)\n",
            "     | > avg_loss_0:\u001b[92m 2.5525801181793213 \u001b[0m(-0.07355022430419922)\n",
            "     | > avg_loss_gen:\u001b[92m 2.0047338008880615 \u001b[0m(-0.3632850646972656)\n",
            "     | > avg_loss_kl:\u001b[91m 2.1363484859466553 \u001b[0m(+0.10231757164001465)\n",
            "     | > avg_loss_feat:\u001b[92m 4.731757640838623 \u001b[0m(-0.0810856819152832)\n",
            "     | > avg_loss_mel:\u001b[91m 20.51527214050293 \u001b[0m(+0.4970817565917969)\n",
            "     | > avg_loss_duration:\u001b[91m 1.368687629699707 \u001b[0m(+0.00411677360534668)\n",
            "     | > avg_loss_1:\u001b[91m 30.756797790527344 \u001b[0m(+0.15914344787597656)\n",
            "\n",
            "\n",
            "\u001b[4m\u001b[1m > EPOCH: 130/300\u001b[0m\n",
            " --> vits_20k_steps\n",
            "\n",
            "\u001b[1m > TRAINING (2024-05-19 07:40:47) \u001b[0m\n",
            "\n",
            "\u001b[1m > EVALUATION \u001b[0m\n",
            "\n"
          ]
        },
        {
          "name": "stdout",
          "output_type": "stream",
          "text": [
            " | > Synthesizing test sentences.\n"
          ]
        },
        {
          "name": "stderr",
          "output_type": "stream",
          "text": [
            "\n",
            "  \u001b[1m--> EVAL PERFORMANCE\u001b[0m\n",
            "     | > avg_loader_time:\u001b[92m 3.330843210220337 \u001b[0m(-0.08289432525634766)\n",
            "     | > avg_loss_disc:\u001b[91m 2.7934277057647705 \u001b[0m(+0.24084758758544922)\n",
            "     | > avg_loss_disc_real_0:\u001b[91m 0.2969433665275574 \u001b[0m(+0.061228007078170776)\n",
            "     | > avg_loss_disc_real_1:\u001b[91m 0.2304699420928955 \u001b[0m(+0.04175014793872833)\n",
            "     | > avg_loss_disc_real_2:\u001b[91m 0.2137223780155182 \u001b[0m(+0.05190131068229675)\n",
            "     | > avg_loss_disc_real_3:\u001b[91m 0.235775426030159 \u001b[0m(+0.01527319848537445)\n",
            "     | > avg_loss_disc_real_4:\u001b[91m 0.2647712826728821 \u001b[0m(+0.055370479822158813)\n",
            "     | > avg_loss_disc_real_5:\u001b[91m 0.3417750597000122 \u001b[0m(+0.11704380810260773)\n",
            "     | > avg_loss_0:\u001b[91m 2.7934277057647705 \u001b[0m(+0.24084758758544922)\n",
            "     | > avg_loss_gen:\u001b[91m 2.1482603549957275 \u001b[0m(+0.14352655410766602)\n",
            "     | > avg_loss_kl:\u001b[92m 1.8080247640609741 \u001b[0m(-0.32832372188568115)\n",
            "     | > avg_loss_feat:\u001b[92m 3.7318496704101562 \u001b[0m(-0.9999079704284668)\n",
            "     | > avg_loss_mel:\u001b[91m 20.620620727539062 \u001b[0m(+0.10534858703613281)\n",
            "     | > avg_loss_duration:\u001b[92m 1.3606849908828735 \u001b[0m(-0.008002638816833496)\n",
            "     | > avg_loss_1:\u001b[92m 29.66944122314453 \u001b[0m(-1.0873565673828125)\n",
            "\n",
            "\n",
            "\u001b[4m\u001b[1m > EPOCH: 131/300\u001b[0m\n",
            " --> vits_20k_steps\n",
            "\n",
            "\u001b[1m > TRAINING (2024-05-19 07:41:16) \u001b[0m\n",
            "\n",
            "\u001b[1m > EVALUATION \u001b[0m\n",
            "\n"
          ]
        },
        {
          "name": "stdout",
          "output_type": "stream",
          "text": [
            " | > Synthesizing test sentences.\n"
          ]
        },
        {
          "name": "stderr",
          "output_type": "stream",
          "text": [
            "\n",
            "  \u001b[1m--> EVAL PERFORMANCE\u001b[0m\n",
            "     | > avg_loader_time:\u001b[92m 3.328646183013916 \u001b[0m(-0.0021970272064208984)\n",
            "     | > avg_loss_disc:\u001b[92m 2.577211856842041 \u001b[0m(-0.2162158489227295)\n",
            "     | > avg_loss_disc_real_0:\u001b[92m 0.11193656921386719 \u001b[0m(-0.18500679731369019)\n",
            "     | > avg_loss_disc_real_1:\u001b[92m 0.21033284068107605 \u001b[0m(-0.020137101411819458)\n",
            "     | > avg_loss_disc_real_2:\u001b[91m 0.23720546066761017 \u001b[0m(+0.02348308265209198)\n",
            "     | > avg_loss_disc_real_3:\u001b[92m 0.2261648029088974 \u001b[0m(-0.009610623121261597)\n",
            "     | > avg_loss_disc_real_4:\u001b[92m 0.1938285231590271 \u001b[0m(-0.07094275951385498)\n",
            "     | > avg_loss_disc_real_5:\u001b[92m 0.17015661299228668 \u001b[0m(-0.17161844670772552)\n",
            "     | > avg_loss_0:\u001b[92m 2.577211856842041 \u001b[0m(-0.2162158489227295)\n",
            "     | > avg_loss_gen:\u001b[92m 1.9312846660614014 \u001b[0m(-0.21697568893432617)\n",
            "     | > avg_loss_kl:\u001b[91m 2.0860798358917236 \u001b[0m(+0.2780550718307495)\n",
            "     | > avg_loss_feat:\u001b[91m 4.585775375366211 \u001b[0m(+0.8539257049560547)\n",
            "     | > avg_loss_mel:\u001b[91m 21.585241317749023 \u001b[0m(+0.9646205902099609)\n",
            "     | > avg_loss_duration:\u001b[91m 1.3738243579864502 \u001b[0m(+0.01313936710357666)\n",
            "     | > avg_loss_1:\u001b[91m 31.562204360961914 \u001b[0m(+1.8927631378173828)\n",
            "\n",
            "\n",
            "\u001b[4m\u001b[1m > EPOCH: 132/300\u001b[0m\n",
            " --> vits_20k_steps\n",
            "\n",
            "\u001b[1m > TRAINING (2024-05-19 07:41:45) \u001b[0m\n",
            "\n",
            "\u001b[1m > EVALUATION \u001b[0m\n",
            "\n"
          ]
        },
        {
          "name": "stdout",
          "output_type": "stream",
          "text": [
            " | > Synthesizing test sentences.\n"
          ]
        },
        {
          "name": "stderr",
          "output_type": "stream",
          "text": [
            "\n",
            "  \u001b[1m--> EVAL PERFORMANCE\u001b[0m\n",
            "     | > avg_loader_time:\u001b[91m 3.4220526218414307 \u001b[0m(+0.09340643882751465)\n",
            "     | > avg_loss_disc:\u001b[91m 2.6467134952545166 \u001b[0m(+0.06950163841247559)\n",
            "     | > avg_loss_disc_real_0:\u001b[91m 0.21833054721355438 \u001b[0m(+0.1063939779996872)\n",
            "     | > avg_loss_disc_real_1:\u001b[91m 0.21482248604297638 \u001b[0m(+0.00448964536190033)\n",
            "     | > avg_loss_disc_real_2:\u001b[92m 0.23429685831069946 \u001b[0m(-0.0029086023569107056)\n",
            "     | > avg_loss_disc_real_3:\u001b[91m 0.2730945944786072 \u001b[0m(+0.04692979156970978)\n",
            "     | > avg_loss_disc_real_4:\u001b[91m 0.2298438400030136 \u001b[0m(+0.03601531684398651)\n",
            "     | > avg_loss_disc_real_5:\u001b[91m 0.214353546500206 \u001b[0m(+0.04419693350791931)\n",
            "     | > avg_loss_0:\u001b[91m 2.6467134952545166 \u001b[0m(+0.06950163841247559)\n",
            "     | > avg_loss_gen:\u001b[91m 2.122046947479248 \u001b[0m(+0.19076228141784668)\n",
            "     | > avg_loss_kl:\u001b[92m 1.6428943872451782 \u001b[0m(-0.4431854486465454)\n",
            "     | > avg_loss_feat:\u001b[92m 3.9117162227630615 \u001b[0m(-0.6740591526031494)\n",
            "     | > avg_loss_mel:\u001b[92m 21.281564712524414 \u001b[0m(-0.3036766052246094)\n",
            "     | > avg_loss_duration:\u001b[91m 1.375006914138794 \u001b[0m(+0.00118255615234375)\n",
            "     | > avg_loss_1:\u001b[92m 30.33323097229004 \u001b[0m(-1.228973388671875)\n",
            "\n",
            "\n",
            "\u001b[4m\u001b[1m > EPOCH: 133/300\u001b[0m\n",
            " --> vits_20k_steps\n",
            "\n",
            "\u001b[1m > TRAINING (2024-05-19 07:42:15) \u001b[0m\n",
            "\n",
            "\u001b[1m > EVALUATION \u001b[0m\n",
            "\n"
          ]
        },
        {
          "name": "stdout",
          "output_type": "stream",
          "text": [
            " | > Synthesizing test sentences.\n"
          ]
        },
        {
          "name": "stderr",
          "output_type": "stream",
          "text": [
            "\n",
            "  \u001b[1m--> EVAL PERFORMANCE\u001b[0m\n",
            "     | > avg_loader_time:\u001b[92m 3.3167755603790283 \u001b[0m(-0.10527706146240234)\n",
            "     | > avg_loss_disc:\u001b[91m 2.7417192459106445 \u001b[0m(+0.09500575065612793)\n",
            "     | > avg_loss_disc_real_0:\u001b[91m 0.2629067301750183 \u001b[0m(+0.04457618296146393)\n",
            "     | > avg_loss_disc_real_1:\u001b[91m 0.24878089129924774 \u001b[0m(+0.03395840525627136)\n",
            "     | > avg_loss_disc_real_2:\u001b[91m 0.2586789131164551 \u001b[0m(+0.024382054805755615)\n",
            "     | > avg_loss_disc_real_3:\u001b[92m 0.20559948682785034 \u001b[0m(-0.06749510765075684)\n",
            "     | > avg_loss_disc_real_4:\u001b[91m 0.2375982105731964 \u001b[0m(+0.0077543705701828)\n",
            "     | > avg_loss_disc_real_5:\u001b[91m 0.27095580101013184 \u001b[0m(+0.05660225450992584)\n",
            "     | > avg_loss_0:\u001b[91m 2.7417192459106445 \u001b[0m(+0.09500575065612793)\n",
            "     | > avg_loss_gen:\u001b[92m 2.0892980098724365 \u001b[0m(-0.03274893760681152)\n",
            "     | > avg_loss_kl:\u001b[91m 1.8593837022781372 \u001b[0m(+0.21648931503295898)\n",
            "     | > avg_loss_feat:\u001b[91m 4.077108860015869 \u001b[0m(+0.16539263725280762)\n",
            "     | > avg_loss_mel:\u001b[92m 20.634462356567383 \u001b[0m(-0.6471023559570312)\n",
            "     | > avg_loss_duration:\u001b[91m 1.3979535102844238 \u001b[0m(+0.022946596145629883)\n",
            "     | > avg_loss_1:\u001b[92m 30.05820655822754 \u001b[0m(-0.2750244140625)\n",
            "\n",
            "\n",
            "\u001b[4m\u001b[1m > EPOCH: 134/300\u001b[0m\n",
            " --> vits_20k_steps\n",
            "\n",
            "\u001b[1m > TRAINING (2024-05-19 07:42:44) \u001b[0m\n",
            "\n",
            "\u001b[1m > EVALUATION \u001b[0m\n",
            "\n"
          ]
        },
        {
          "name": "stdout",
          "output_type": "stream",
          "text": [
            " | > Synthesizing test sentences.\n"
          ]
        },
        {
          "name": "stderr",
          "output_type": "stream",
          "text": [
            "\n",
            "  \u001b[1m--> EVAL PERFORMANCE\u001b[0m\n",
            "     | > avg_loader_time:\u001b[91m 3.6214561462402344 \u001b[0m(+0.30468058586120605)\n",
            "     | > avg_loss_disc:\u001b[92m 2.6059560775756836 \u001b[0m(-0.13576316833496094)\n",
            "     | > avg_loss_disc_real_0:\u001b[91m 0.26531559228897095 \u001b[0m(+0.0024088621139526367)\n",
            "     | > avg_loss_disc_real_1:\u001b[92m 0.24862544238567352 \u001b[0m(-0.00015544891357421875)\n",
            "     | > avg_loss_disc_real_2:\u001b[91m 0.2702641785144806 \u001b[0m(+0.011585265398025513)\n",
            "     | > avg_loss_disc_real_3:\u001b[92m 0.199057936668396 \u001b[0m(-0.006541550159454346)\n",
            "     | > avg_loss_disc_real_4:\u001b[92m 0.17571842670440674 \u001b[0m(-0.06187978386878967)\n",
            "     | > avg_loss_disc_real_5:\u001b[92m 0.19772867858409882 \u001b[0m(-0.07322712242603302)\n",
            "     | > avg_loss_0:\u001b[92m 2.6059560775756836 \u001b[0m(-0.13576316833496094)\n",
            "     | > avg_loss_gen:\u001b[92m 2.053631544113159 \u001b[0m(-0.035666465759277344)\n",
            "     | > avg_loss_kl:\u001b[92m 1.8193351030349731 \u001b[0m(-0.04004859924316406)\n",
            "     | > avg_loss_feat:\u001b[92m 3.865856885910034 \u001b[0m(-0.21125197410583496)\n",
            "     | > avg_loss_mel:\u001b[91m 21.45218849182129 \u001b[0m(+0.8177261352539062)\n",
            "     | > avg_loss_duration:\u001b[92m 1.3841582536697388 \u001b[0m(-0.013795256614685059)\n",
            "     | > avg_loss_1:\u001b[91m 30.575170516967773 \u001b[0m(+0.5169639587402344)\n",
            "\n",
            "\n",
            "\u001b[4m\u001b[1m > EPOCH: 135/300\u001b[0m\n",
            " --> vits_20k_steps\n",
            "\n",
            "\u001b[1m > TRAINING (2024-05-19 07:43:15) \u001b[0m\n",
            "\n",
            "\u001b[1m > EVALUATION \u001b[0m\n",
            "\n"
          ]
        },
        {
          "name": "stdout",
          "output_type": "stream",
          "text": [
            " | > Synthesizing test sentences.\n"
          ]
        },
        {
          "name": "stderr",
          "output_type": "stream",
          "text": [
            "\n",
            "  \u001b[1m--> EVAL PERFORMANCE\u001b[0m\n",
            "     | > avg_loader_time:\u001b[92m 3.33223557472229 \u001b[0m(-0.28922057151794434)\n",
            "     | > avg_loss_disc:\u001b[91m 2.802661895751953 \u001b[0m(+0.19670581817626953)\n",
            "     | > avg_loss_disc_real_0:\u001b[92m 0.2170616239309311 \u001b[0m(-0.048253968358039856)\n",
            "     | > avg_loss_disc_real_1:\u001b[92m 0.1802798956632614 \u001b[0m(-0.06834554672241211)\n",
            "     | > avg_loss_disc_real_2:\u001b[92m 0.26723143458366394 \u001b[0m(-0.0030327439308166504)\n",
            "     | > avg_loss_disc_real_3:\u001b[91m 0.2046215683221817 \u001b[0m(+0.005563631653785706)\n",
            "     | > avg_loss_disc_real_4:\u001b[91m 0.23517698049545288 \u001b[0m(+0.05945855379104614)\n",
            "     | > avg_loss_disc_real_5:\u001b[91m 0.22651882469654083 \u001b[0m(+0.028790146112442017)\n",
            "     | > avg_loss_0:\u001b[91m 2.802661895751953 \u001b[0m(+0.19670581817626953)\n",
            "     | > avg_loss_gen:\u001b[92m 1.8597066402435303 \u001b[0m(-0.1939249038696289)\n",
            "     | > avg_loss_kl:\u001b[92m 1.4872373342514038 \u001b[0m(-0.33209776878356934)\n",
            "     | > avg_loss_feat:\u001b[91m 4.738179683685303 \u001b[0m(+0.8723227977752686)\n",
            "     | > avg_loss_mel:\u001b[92m 20.740320205688477 \u001b[0m(-0.7118682861328125)\n",
            "     | > avg_loss_duration:\u001b[91m 1.3885281085968018 \u001b[0m(+0.004369854927062988)\n",
            "     | > avg_loss_1:\u001b[92m 30.213972091674805 \u001b[0m(-0.36119842529296875)\n",
            "\n",
            "\n",
            "\u001b[4m\u001b[1m > EPOCH: 136/300\u001b[0m\n",
            " --> vits_20k_steps\n",
            "\n",
            "\u001b[1m > TRAINING (2024-05-19 07:43:44) \u001b[0m\n",
            "\n",
            "\u001b[1m > EVALUATION \u001b[0m\n",
            "\n"
          ]
        },
        {
          "name": "stdout",
          "output_type": "stream",
          "text": [
            " | > Synthesizing test sentences.\n"
          ]
        },
        {
          "name": "stderr",
          "output_type": "stream",
          "text": [
            "\n",
            "  \u001b[1m--> EVAL PERFORMANCE\u001b[0m\n",
            "     | > avg_loader_time:\u001b[92m 3.309189796447754 \u001b[0m(-0.023045778274536133)\n",
            "     | > avg_loss_disc:\u001b[92m 2.496967077255249 \u001b[0m(-0.3056948184967041)\n",
            "     | > avg_loss_disc_real_0:\u001b[92m 0.15264856815338135 \u001b[0m(-0.06441305577754974)\n",
            "     | > avg_loss_disc_real_1:\u001b[91m 0.23172622919082642 \u001b[0m(+0.051446333527565)\n",
            "     | > avg_loss_disc_real_2:\u001b[92m 0.22069160640239716 \u001b[0m(-0.046539828181266785)\n",
            "     | > avg_loss_disc_real_3:\u001b[92m 0.19649356603622437 \u001b[0m(-0.008128002285957336)\n",
            "     | > avg_loss_disc_real_4:\u001b[92m 0.2045903354883194 \u001b[0m(-0.030586645007133484)\n",
            "     | > avg_loss_disc_real_5:\u001b[91m 0.23412039875984192 \u001b[0m(+0.007601574063301086)\n",
            "     | > avg_loss_0:\u001b[92m 2.496967077255249 \u001b[0m(-0.3056948184967041)\n",
            "     | > avg_loss_gen:\u001b[91m 2.01741886138916 \u001b[0m(+0.15771222114562988)\n",
            "     | > avg_loss_kl:\u001b[91m 1.7744494676589966 \u001b[0m(+0.2872121334075928)\n",
            "     | > avg_loss_feat:\u001b[92m 3.6337289810180664 \u001b[0m(-1.1044507026672363)\n",
            "     | > avg_loss_mel:\u001b[92m 20.252336502075195 \u001b[0m(-0.48798370361328125)\n",
            "     | > avg_loss_duration:\u001b[91m 1.3966922760009766 \u001b[0m(+0.008164167404174805)\n",
            "     | > avg_loss_1:\u001b[92m 29.07462501525879 \u001b[0m(-1.1393470764160156)\n",
            "\n",
            "\n",
            "\u001b[4m\u001b[1m > EPOCH: 137/300\u001b[0m\n",
            " --> vits_20k_steps\n",
            "\n",
            "\u001b[1m > TRAINING (2024-05-19 07:44:14) \u001b[0m\n",
            "\n",
            "\u001b[1m > EVALUATION \u001b[0m\n",
            "\n"
          ]
        },
        {
          "name": "stdout",
          "output_type": "stream",
          "text": [
            " | > Synthesizing test sentences.\n"
          ]
        },
        {
          "name": "stderr",
          "output_type": "stream",
          "text": [
            "\n",
            "  \u001b[1m--> EVAL PERFORMANCE\u001b[0m\n",
            "     | > avg_loader_time:\u001b[91m 3.4974610805511475 \u001b[0m(+0.18827128410339355)\n",
            "     | > avg_loss_disc:\u001b[92m 2.464141368865967 \u001b[0m(-0.03282570838928223)\n",
            "     | > avg_loss_disc_real_0:\u001b[91m 0.19337087869644165 \u001b[0m(+0.0407223105430603)\n",
            "     | > avg_loss_disc_real_1:\u001b[92m 0.2272406965494156 \u001b[0m(-0.004485532641410828)\n",
            "     | > avg_loss_disc_real_2:\u001b[92m 0.1959010660648346 \u001b[0m(-0.02479054033756256)\n",
            "     | > avg_loss_disc_real_3:\u001b[91m 0.23407264053821564 \u001b[0m(+0.03757907450199127)\n",
            "     | > avg_loss_disc_real_4:\u001b[92m 0.15275225043296814 \u001b[0m(-0.05183808505535126)\n",
            "     | > avg_loss_disc_real_5:\u001b[91m 0.2676311433315277 \u001b[0m(+0.03351074457168579)\n",
            "     | > avg_loss_0:\u001b[92m 2.464141368865967 \u001b[0m(-0.03282570838928223)\n",
            "     | > avg_loss_gen:\u001b[91m 2.1048264503479004 \u001b[0m(+0.08740758895874023)\n",
            "     | > avg_loss_kl:\u001b[91m 1.8227274417877197 \u001b[0m(+0.048277974128723145)\n",
            "     | > avg_loss_feat:\u001b[91m 5.127457141876221 \u001b[0m(+1.4937281608581543)\n",
            "     | > avg_loss_mel:\u001b[91m 21.632204055786133 \u001b[0m(+1.3798675537109375)\n",
            "     | > avg_loss_duration:\u001b[91m 1.4236161708831787 \u001b[0m(+0.02692389488220215)\n",
            "     | > avg_loss_1:\u001b[91m 32.11083221435547 \u001b[0m(+3.0362071990966797)\n",
            "\n",
            "\n",
            "\u001b[4m\u001b[1m > EPOCH: 138/300\u001b[0m\n",
            " --> vits_20k_steps\n",
            "\n",
            "\u001b[1m > TRAINING (2024-05-19 07:44:43) \u001b[0m\n",
            "\n",
            "\u001b[1m > EVALUATION \u001b[0m\n",
            "\n"
          ]
        },
        {
          "name": "stdout",
          "output_type": "stream",
          "text": [
            " | > Synthesizing test sentences.\n"
          ]
        },
        {
          "name": "stderr",
          "output_type": "stream",
          "text": [
            "\n",
            "  \u001b[1m--> EVAL PERFORMANCE\u001b[0m\n",
            "     | > avg_loader_time:\u001b[92m 3.4695472717285156 \u001b[0m(-0.027913808822631836)\n",
            "     | > avg_loss_disc:\u001b[91m 2.6119191646575928 \u001b[0m(+0.14777779579162598)\n",
            "     | > avg_loss_disc_real_0:\u001b[92m 0.15668705105781555 \u001b[0m(-0.0366838276386261)\n",
            "     | > avg_loss_disc_real_1:\u001b[91m 0.25192224979400635 \u001b[0m(+0.02468155324459076)\n",
            "     | > avg_loss_disc_real_2:\u001b[91m 0.21047046780586243 \u001b[0m(+0.014569401741027832)\n",
            "     | > avg_loss_disc_real_3:\u001b[92m 0.22997023165225983 \u001b[0m(-0.0041024088859558105)\n",
            "     | > avg_loss_disc_real_4:\u001b[91m 0.19929282367229462 \u001b[0m(+0.04654057323932648)\n",
            "     | > avg_loss_disc_real_5:\u001b[92m 0.22231243550777435 \u001b[0m(-0.04531870782375336)\n",
            "     | > avg_loss_0:\u001b[91m 2.6119191646575928 \u001b[0m(+0.14777779579162598)\n",
            "     | > avg_loss_gen:\u001b[92m 2.0063960552215576 \u001b[0m(-0.09843039512634277)\n",
            "     | > avg_loss_kl:\u001b[91m 1.9204565286636353 \u001b[0m(+0.09772908687591553)\n",
            "     | > avg_loss_feat:\u001b[92m 4.9896626472473145 \u001b[0m(-0.13779449462890625)\n",
            "     | > avg_loss_mel:\u001b[92m 21.2619571685791 \u001b[0m(-0.37024688720703125)\n",
            "     | > avg_loss_duration:\u001b[92m 1.3990225791931152 \u001b[0m(-0.024593591690063477)\n",
            "     | > avg_loss_1:\u001b[92m 31.577495574951172 \u001b[0m(-0.5333366394042969)\n",
            "\n",
            "\n",
            "\u001b[4m\u001b[1m > EPOCH: 139/300\u001b[0m\n",
            " --> vits_20k_steps\n",
            "\n",
            "\u001b[1m > TRAINING (2024-05-19 07:45:13) \u001b[0m\n",
            "\n",
            "\u001b[1m > EVALUATION \u001b[0m\n",
            "\n"
          ]
        },
        {
          "name": "stdout",
          "output_type": "stream",
          "text": [
            " | > Synthesizing test sentences.\n"
          ]
        },
        {
          "name": "stderr",
          "output_type": "stream",
          "text": [
            "\n",
            "  \u001b[1m--> EVAL PERFORMANCE\u001b[0m\n",
            "     | > avg_loader_time:\u001b[92m 3.229654312133789 \u001b[0m(-0.23989295959472656)\n",
            "     | > avg_loss_disc:\u001b[91m 2.783602476119995 \u001b[0m(+0.17168331146240234)\n",
            "     | > avg_loss_disc_real_0:\u001b[91m 0.20588603615760803 \u001b[0m(+0.04919898509979248)\n",
            "     | > avg_loss_disc_real_1:\u001b[92m 0.18561479449272156 \u001b[0m(-0.06630745530128479)\n",
            "     | > avg_loss_disc_real_2:\u001b[92m 0.20193696022033691 \u001b[0m(-0.008533507585525513)\n",
            "     | > avg_loss_disc_real_3:\u001b[92m 0.1990385353565216 \u001b[0m(-0.03093169629573822)\n",
            "     | > avg_loss_disc_real_4:\u001b[91m 0.2614997923374176 \u001b[0m(+0.062206968665122986)\n",
            "     | > avg_loss_disc_real_5:\u001b[91m 0.2926992177963257 \u001b[0m(+0.07038678228855133)\n",
            "     | > avg_loss_0:\u001b[91m 2.783602476119995 \u001b[0m(+0.17168331146240234)\n",
            "     | > avg_loss_gen:\u001b[92m 1.809106469154358 \u001b[0m(-0.1972895860671997)\n",
            "     | > avg_loss_kl:\u001b[92m 1.7653888463974 \u001b[0m(-0.15506768226623535)\n",
            "     | > avg_loss_feat:\u001b[92m 3.9923973083496094 \u001b[0m(-0.9972653388977051)\n",
            "     | > avg_loss_mel:\u001b[92m 19.823259353637695 \u001b[0m(-1.4386978149414062)\n",
            "     | > avg_loss_duration:\u001b[91m 1.4788986444473267 \u001b[0m(+0.07987606525421143)\n",
            "     | > avg_loss_1:\u001b[92m 28.869050979614258 \u001b[0m(-2.708444595336914)\n",
            "\n",
            "\n",
            "\u001b[4m\u001b[1m > EPOCH: 140/300\u001b[0m\n",
            " --> vits_20k_steps\n",
            "\n",
            "\u001b[1m > TRAINING (2024-05-19 07:45:43) \u001b[0m\n",
            "\n",
            "\u001b[1m > EVALUATION \u001b[0m\n",
            "\n"
          ]
        },
        {
          "name": "stdout",
          "output_type": "stream",
          "text": [
            " | > Synthesizing test sentences.\n"
          ]
        },
        {
          "name": "stderr",
          "output_type": "stream",
          "text": [
            "\n",
            "  \u001b[1m--> EVAL PERFORMANCE\u001b[0m\n",
            "     | > avg_loader_time:\u001b[91m 3.327519178390503 \u001b[0m(+0.09786486625671387)\n",
            "     | > avg_loss_disc:\u001b[91m 2.9728879928588867 \u001b[0m(+0.1892855167388916)\n",
            "     | > avg_loss_disc_real_0:\u001b[91m 0.3094126880168915 \u001b[0m(+0.10352665185928345)\n",
            "     | > avg_loss_disc_real_1:\u001b[91m 0.28526413440704346 \u001b[0m(+0.0996493399143219)\n",
            "     | > avg_loss_disc_real_2:\u001b[91m 0.21567276120185852 \u001b[0m(+0.013735800981521606)\n",
            "     | > avg_loss_disc_real_3:\u001b[91m 0.2887380123138428 \u001b[0m(+0.08969947695732117)\n",
            "     | > avg_loss_disc_real_4:\u001b[91m 0.31319284439086914 \u001b[0m(+0.05169305205345154)\n",
            "     | > avg_loss_disc_real_5:\u001b[92m 0.28151559829711914 \u001b[0m(-0.011183619499206543)\n",
            "     | > avg_loss_0:\u001b[91m 2.9728879928588867 \u001b[0m(+0.1892855167388916)\n",
            "     | > avg_loss_gen:\u001b[91m 2.04453182220459 \u001b[0m(+0.23542535305023193)\n",
            "     | > avg_loss_kl:\u001b[91m 2.2820801734924316 \u001b[0m(+0.5166913270950317)\n",
            "     | > avg_loss_feat:\u001b[92m 3.449258804321289 \u001b[0m(-0.5431385040283203)\n",
            "     | > avg_loss_mel:\u001b[91m 20.710168838500977 \u001b[0m(+0.8869094848632812)\n",
            "     | > avg_loss_duration:\u001b[92m 1.470599889755249 \u001b[0m(-0.008298754692077637)\n",
            "     | > avg_loss_1:\u001b[91m 29.95663833618164 \u001b[0m(+1.0875873565673828)\n",
            "\n",
            "\n",
            "\u001b[4m\u001b[1m > EPOCH: 141/300\u001b[0m\n",
            " --> vits_20k_steps\n",
            "\n",
            "\u001b[1m > TRAINING (2024-05-19 07:46:12) \u001b[0m\n",
            "\n",
            "\u001b[1m > EVALUATION \u001b[0m\n",
            "\n"
          ]
        },
        {
          "name": "stdout",
          "output_type": "stream",
          "text": [
            " | > Synthesizing test sentences.\n"
          ]
        },
        {
          "name": "stderr",
          "output_type": "stream",
          "text": [
            "\n",
            "  \u001b[1m--> EVAL PERFORMANCE\u001b[0m\n",
            "     | > avg_loader_time:\u001b[91m 3.3766541481018066 \u001b[0m(+0.04913496971130371)\n",
            "     | > avg_loss_disc:\u001b[92m 2.5999045372009277 \u001b[0m(-0.372983455657959)\n",
            "     | > avg_loss_disc_real_0:\u001b[92m 0.1332450807094574 \u001b[0m(-0.17616760730743408)\n",
            "     | > avg_loss_disc_real_1:\u001b[92m 0.21788349747657776 \u001b[0m(-0.0673806369304657)\n",
            "     | > avg_loss_disc_real_2:\u001b[91m 0.24800299108028412 \u001b[0m(+0.0323302298784256)\n",
            "     | > avg_loss_disc_real_3:\u001b[92m 0.1729266494512558 \u001b[0m(-0.11581136286258698)\n",
            "     | > avg_loss_disc_real_4:\u001b[92m 0.17400304973125458 \u001b[0m(-0.13918979465961456)\n",
            "     | > avg_loss_disc_real_5:\u001b[92m 0.23441970348358154 \u001b[0m(-0.0470958948135376)\n",
            "     | > avg_loss_0:\u001b[92m 2.5999045372009277 \u001b[0m(-0.372983455657959)\n",
            "     | > avg_loss_gen:\u001b[92m 1.7760863304138184 \u001b[0m(-0.2684454917907715)\n",
            "     | > avg_loss_kl:\u001b[92m 2.0068609714508057 \u001b[0m(-0.275219202041626)\n",
            "     | > avg_loss_feat:\u001b[91m 4.277108192443848 \u001b[0m(+0.8278493881225586)\n",
            "     | > avg_loss_mel:\u001b[92m 20.29187774658203 \u001b[0m(-0.4182910919189453)\n",
            "     | > avg_loss_duration:\u001b[92m 1.4238455295562744 \u001b[0m(-0.04675436019897461)\n",
            "     | > avg_loss_1:\u001b[92m 29.775779724121094 \u001b[0m(-0.18085861206054688)\n",
            "\n",
            "\n",
            "\u001b[4m\u001b[1m > EPOCH: 142/300\u001b[0m\n",
            " --> vits_20k_steps\n",
            "\n",
            "\u001b[1m > TRAINING (2024-05-19 07:46:42) \u001b[0m\n",
            "\n",
            "\u001b[1m > EVALUATION \u001b[0m\n",
            "\n"
          ]
        },
        {
          "name": "stdout",
          "output_type": "stream",
          "text": [
            " | > Synthesizing test sentences.\n"
          ]
        },
        {
          "name": "stderr",
          "output_type": "stream",
          "text": [
            "\n",
            "  \u001b[1m--> EVAL PERFORMANCE\u001b[0m\n",
            "     | > avg_loader_time:\u001b[91m 3.411128282546997 \u001b[0m(+0.03447413444519043)\n",
            "     | > avg_loss_disc:\u001b[92m 2.559197187423706 \u001b[0m(-0.04070734977722168)\n",
            "     | > avg_loss_disc_real_0:\u001b[91m 0.13759320974349976 \u001b[0m(+0.004348129034042358)\n",
            "     | > avg_loss_disc_real_1:\u001b[92m 0.2141258716583252 \u001b[0m(-0.0037576258182525635)\n",
            "     | > avg_loss_disc_real_2:\u001b[92m 0.2372412383556366 \u001b[0m(-0.010761752724647522)\n",
            "     | > avg_loss_disc_real_3:\u001b[92m 0.15470381081104279 \u001b[0m(-0.018222838640213013)\n",
            "     | > avg_loss_disc_real_4:\u001b[91m 0.2170858234167099 \u001b[0m(+0.04308277368545532)\n",
            "     | > avg_loss_disc_real_5:\u001b[91m 0.2853550612926483 \u001b[0m(+0.05093535780906677)\n",
            "     | > avg_loss_0:\u001b[92m 2.559197187423706 \u001b[0m(-0.04070734977722168)\n",
            "     | > avg_loss_gen:\u001b[91m 1.9728786945343018 \u001b[0m(+0.1967923641204834)\n",
            "     | > avg_loss_kl:\u001b[92m 1.9448038339614868 \u001b[0m(-0.06205713748931885)\n",
            "     | > avg_loss_feat:\u001b[92m 3.9301819801330566 \u001b[0m(-0.346926212310791)\n",
            "     | > avg_loss_mel:\u001b[91m 20.870328903198242 \u001b[0m(+0.5784511566162109)\n",
            "     | > avg_loss_duration:\u001b[91m 1.4477808475494385 \u001b[0m(+0.023935317993164062)\n",
            "     | > avg_loss_1:\u001b[91m 30.16597557067871 \u001b[0m(+0.3901958465576172)\n",
            "\n",
            "\n",
            "\u001b[4m\u001b[1m > EPOCH: 143/300\u001b[0m\n",
            " --> vits_20k_steps\n",
            "\n",
            "\u001b[1m > TRAINING (2024-05-19 07:47:12) \u001b[0m\n",
            "\n",
            "\u001b[1m > EVALUATION \u001b[0m\n",
            "\n"
          ]
        },
        {
          "name": "stdout",
          "output_type": "stream",
          "text": [
            " | > Synthesizing test sentences.\n"
          ]
        },
        {
          "name": "stderr",
          "output_type": "stream",
          "text": [
            "\n",
            "  \u001b[1m--> EVAL PERFORMANCE\u001b[0m\n",
            "     | > avg_loader_time:\u001b[92m 3.3156139850616455 \u001b[0m(-0.09551429748535156)\n",
            "     | > avg_loss_disc:\u001b[91m 2.6341099739074707 \u001b[0m(+0.07491278648376465)\n",
            "     | > avg_loss_disc_real_0:\u001b[91m 0.22505280375480652 \u001b[0m(+0.08745959401130676)\n",
            "     | > avg_loss_disc_real_1:\u001b[91m 0.26012763381004333 \u001b[0m(+0.04600176215171814)\n",
            "     | > avg_loss_disc_real_2:\u001b[92m 0.23671118915081024 \u001b[0m(-0.000530049204826355)\n",
            "     | > avg_loss_disc_real_3:\u001b[91m 0.16716355085372925 \u001b[0m(+0.012459740042686462)\n",
            "     | > avg_loss_disc_real_4:\u001b[91m 0.24085626006126404 \u001b[0m(+0.023770436644554138)\n",
            "     | > avg_loss_disc_real_5:\u001b[92m 0.21566693484783173 \u001b[0m(-0.06968812644481659)\n",
            "     | > avg_loss_0:\u001b[91m 2.6341099739074707 \u001b[0m(+0.07491278648376465)\n",
            "     | > avg_loss_gen:\u001b[91m 1.9914605617523193 \u001b[0m(+0.018581867218017578)\n",
            "     | > avg_loss_kl:\u001b[91m 2.075972080230713 \u001b[0m(+0.13116824626922607)\n",
            "     | > avg_loss_feat:\u001b[92m 3.586005926132202 \u001b[0m(-0.3441760540008545)\n",
            "     | > avg_loss_mel:\u001b[91m 21.401657104492188 \u001b[0m(+0.5313282012939453)\n",
            "     | > avg_loss_duration:\u001b[92m 1.4449856281280518 \u001b[0m(-0.0027952194213867188)\n",
            "     | > avg_loss_1:\u001b[91m 30.50008201599121 \u001b[0m(+0.3341064453125)\n",
            "\n",
            "\n",
            "\u001b[4m\u001b[1m > EPOCH: 144/300\u001b[0m\n",
            " --> vits_20k_steps\n",
            "\n",
            "\u001b[1m > TRAINING (2024-05-19 07:47:41) \u001b[0m\n",
            "\n",
            "\u001b[1m > EVALUATION \u001b[0m\n",
            "\n"
          ]
        },
        {
          "name": "stdout",
          "output_type": "stream",
          "text": [
            " | > Synthesizing test sentences.\n"
          ]
        },
        {
          "name": "stderr",
          "output_type": "stream",
          "text": [
            "\n",
            "  \u001b[1m--> EVAL PERFORMANCE\u001b[0m\n",
            "     | > avg_loader_time:\u001b[91m 3.345092296600342 \u001b[0m(+0.02947831153869629)\n",
            "     | > avg_loss_disc:\u001b[92m 2.6037769317626953 \u001b[0m(-0.03033304214477539)\n",
            "     | > avg_loss_disc_real_0:\u001b[92m 0.12552407383918762 \u001b[0m(-0.0995287299156189)\n",
            "     | > avg_loss_disc_real_1:\u001b[92m 0.25549522042274475 \u001b[0m(-0.004632413387298584)\n",
            "     | > avg_loss_disc_real_2:\u001b[91m 0.2918098270893097 \u001b[0m(+0.05509863793849945)\n",
            "     | > avg_loss_disc_real_3:\u001b[91m 0.22071000933647156 \u001b[0m(+0.05354645848274231)\n",
            "     | > avg_loss_disc_real_4:\u001b[92m 0.22844502329826355 \u001b[0m(-0.012411236763000488)\n",
            "     | > avg_loss_disc_real_5:\u001b[92m 0.20867909491062164 \u001b[0m(-0.006987839937210083)\n",
            "     | > avg_loss_0:\u001b[92m 2.6037769317626953 \u001b[0m(-0.03033304214477539)\n",
            "     | > avg_loss_gen:\u001b[92m 1.9662330150604248 \u001b[0m(-0.02522754669189453)\n",
            "     | > avg_loss_kl:\u001b[91m 2.2693586349487305 \u001b[0m(+0.19338655471801758)\n",
            "     | > avg_loss_feat:\u001b[92m 3.3315227031707764 \u001b[0m(-0.2544832229614258)\n",
            "     | > avg_loss_mel:\u001b[91m 22.24887466430664 \u001b[0m(+0.8472175598144531)\n",
            "     | > avg_loss_duration:\u001b[92m 1.4409174919128418 \u001b[0m(-0.004068136215209961)\n",
            "     | > avg_loss_1:\u001b[91m 31.256906509399414 \u001b[0m(+0.7568244934082031)\n",
            "\n",
            "\n",
            "\u001b[4m\u001b[1m > EPOCH: 145/300\u001b[0m\n",
            " --> vits_20k_steps\n",
            "\n",
            "\u001b[1m > TRAINING (2024-05-19 07:48:11) \u001b[0m\n",
            "\n",
            "\u001b[1m > EVALUATION \u001b[0m\n",
            "\n"
          ]
        },
        {
          "name": "stdout",
          "output_type": "stream",
          "text": [
            " | > Synthesizing test sentences.\n"
          ]
        },
        {
          "name": "stderr",
          "output_type": "stream",
          "text": [
            "\n",
            "  \u001b[1m--> EVAL PERFORMANCE\u001b[0m\n",
            "     | > avg_loader_time:\u001b[91m 3.598374128341675 \u001b[0m(+0.253281831741333)\n",
            "     | > avg_loss_disc:\u001b[92m 2.4509246349334717 \u001b[0m(-0.15285229682922363)\n",
            "     | > avg_loss_disc_real_0:\u001b[91m 0.20989680290222168 \u001b[0m(+0.08437272906303406)\n",
            "     | > avg_loss_disc_real_1:\u001b[92m 0.15865108370780945 \u001b[0m(-0.0968441367149353)\n",
            "     | > avg_loss_disc_real_2:\u001b[92m 0.1561989039182663 \u001b[0m(-0.1356109231710434)\n",
            "     | > avg_loss_disc_real_3:\u001b[92m 0.21741677820682526 \u001b[0m(-0.0032932311296463013)\n",
            "     | > avg_loss_disc_real_4:\u001b[92m 0.15609197318553925 \u001b[0m(-0.0723530501127243)\n",
            "     | > avg_loss_disc_real_5:\u001b[91m 0.28234797716140747 \u001b[0m(+0.07366888225078583)\n",
            "     | > avg_loss_0:\u001b[92m 2.4509246349334717 \u001b[0m(-0.15285229682922363)\n",
            "     | > avg_loss_gen:\u001b[91m 2.1463775634765625 \u001b[0m(+0.1801445484161377)\n",
            "     | > avg_loss_kl:\u001b[92m 1.3664798736572266 \u001b[0m(-0.9028787612915039)\n",
            "     | > avg_loss_feat:\u001b[91m 5.347099304199219 \u001b[0m(+2.0155766010284424)\n",
            "     | > avg_loss_mel:\u001b[92m 20.94084930419922 \u001b[0m(-1.3080253601074219)\n",
            "     | > avg_loss_duration:\u001b[92m 1.4179701805114746 \u001b[0m(-0.022947311401367188)\n",
            "     | > avg_loss_1:\u001b[92m 31.21877670288086 \u001b[0m(-0.03812980651855469)\n",
            "\n",
            "\n",
            "\u001b[4m\u001b[1m > EPOCH: 146/300\u001b[0m\n",
            " --> vits_20k_steps\n",
            "\n",
            "\u001b[1m > TRAINING (2024-05-19 07:48:41) \u001b[0m\n",
            "\n",
            "\u001b[1m > EVALUATION \u001b[0m\n",
            "\n"
          ]
        },
        {
          "name": "stdout",
          "output_type": "stream",
          "text": [
            " | > Synthesizing test sentences.\n"
          ]
        },
        {
          "name": "stderr",
          "output_type": "stream",
          "text": [
            "\n",
            "  \u001b[1m--> EVAL PERFORMANCE\u001b[0m\n",
            "     | > avg_loader_time:\u001b[92m 3.5398178100585938 \u001b[0m(-0.058556318283081055)\n",
            "     | > avg_loss_disc:\u001b[91m 2.6192312240600586 \u001b[0m(+0.16830658912658691)\n",
            "     | > avg_loss_disc_real_0:\u001b[92m 0.11642047017812729 \u001b[0m(-0.09347633272409439)\n",
            "     | > avg_loss_disc_real_1:\u001b[91m 0.20448119938373566 \u001b[0m(+0.04583011567592621)\n",
            "     | > avg_loss_disc_real_2:\u001b[91m 0.1918722689151764 \u001b[0m(+0.035673364996910095)\n",
            "     | > avg_loss_disc_real_3:\u001b[92m 0.13832426071166992 \u001b[0m(-0.07909251749515533)\n",
            "     | > avg_loss_disc_real_4:\u001b[91m 0.1851801574230194 \u001b[0m(+0.029088184237480164)\n",
            "     | > avg_loss_disc_real_5:\u001b[92m 0.18210037052631378 \u001b[0m(-0.10024760663509369)\n",
            "     | > avg_loss_0:\u001b[91m 2.6192312240600586 \u001b[0m(+0.16830658912658691)\n",
            "     | > avg_loss_gen:\u001b[92m 1.749979019165039 \u001b[0m(-0.39639854431152344)\n",
            "     | > avg_loss_kl:\u001b[91m 1.6403084993362427 \u001b[0m(+0.2738286256790161)\n",
            "     | > avg_loss_feat:\u001b[92m 5.051690578460693 \u001b[0m(-0.2954087257385254)\n",
            "     | > avg_loss_mel:\u001b[92m 20.484760284423828 \u001b[0m(-0.4560890197753906)\n",
            "     | > avg_loss_duration:\u001b[92m 1.3932762145996094 \u001b[0m(-0.024693965911865234)\n",
            "     | > avg_loss_1:\u001b[92m 30.32001495361328 \u001b[0m(-0.8987617492675781)\n",
            "\n",
            "\n",
            "\u001b[4m\u001b[1m > EPOCH: 147/300\u001b[0m\n",
            " --> vits_20k_steps\n",
            "\n",
            "\u001b[1m > TRAINING (2024-05-19 07:49:10) \u001b[0m\n",
            "\n",
            "\u001b[1m > EVALUATION \u001b[0m\n",
            "\n"
          ]
        },
        {
          "name": "stdout",
          "output_type": "stream",
          "text": [
            " | > Synthesizing test sentences.\n"
          ]
        },
        {
          "name": "stderr",
          "output_type": "stream",
          "text": [
            "\n",
            "  \u001b[1m--> EVAL PERFORMANCE\u001b[0m\n",
            "     | > avg_loader_time:\u001b[92m 3.3098087310791016 \u001b[0m(-0.2300090789794922)\n",
            "     | > avg_loss_disc:\u001b[92m 2.5592098236083984 \u001b[0m(-0.060021400451660156)\n",
            "     | > avg_loss_disc_real_0:\u001b[91m 0.20312300324440002 \u001b[0m(+0.08670253306627274)\n",
            "     | > avg_loss_disc_real_1:\u001b[91m 0.2228373885154724 \u001b[0m(+0.018356189131736755)\n",
            "     | > avg_loss_disc_real_2:\u001b[91m 0.2017090916633606 \u001b[0m(+0.009836822748184204)\n",
            "     | > avg_loss_disc_real_3:\u001b[91m 0.1914401352405548 \u001b[0m(+0.05311587452888489)\n",
            "     | > avg_loss_disc_real_4:\u001b[91m 0.20089152455329895 \u001b[0m(+0.01571136713027954)\n",
            "     | > avg_loss_disc_real_5:\u001b[91m 0.22147849202156067 \u001b[0m(+0.03937812149524689)\n",
            "     | > avg_loss_0:\u001b[92m 2.5592098236083984 \u001b[0m(-0.060021400451660156)\n",
            "     | > avg_loss_gen:\u001b[91m 2.0547142028808594 \u001b[0m(+0.3047351837158203)\n",
            "     | > avg_loss_kl:\u001b[91m 2.063281297683716 \u001b[0m(+0.42297279834747314)\n",
            "     | > avg_loss_feat:\u001b[92m 4.123767852783203 \u001b[0m(-0.9279227256774902)\n",
            "     | > avg_loss_mel:\u001b[91m 20.573089599609375 \u001b[0m(+0.08832931518554688)\n",
            "     | > avg_loss_duration:\u001b[92m 1.3909626007080078 \u001b[0m(-0.0023136138916015625)\n",
            "     | > avg_loss_1:\u001b[92m 30.2058162689209 \u001b[0m(-0.11419868469238281)\n",
            "\n",
            "\n",
            "\u001b[4m\u001b[1m > EPOCH: 148/300\u001b[0m\n",
            " --> vits_20k_steps\n",
            "\n",
            "\u001b[1m > TRAINING (2024-05-19 07:49:40) \u001b[0m\n",
            "\n",
            "\u001b[1m > EVALUATION \u001b[0m\n",
            "\n"
          ]
        },
        {
          "name": "stdout",
          "output_type": "stream",
          "text": [
            " | > Synthesizing test sentences.\n"
          ]
        },
        {
          "name": "stderr",
          "output_type": "stream",
          "text": [
            "\n",
            "  \u001b[1m--> EVAL PERFORMANCE\u001b[0m\n",
            "     | > avg_loader_time:\u001b[91m 3.527007818222046 \u001b[0m(+0.21719908714294434)\n",
            "     | > avg_loss_disc:\u001b[91m 2.6067869663238525 \u001b[0m(+0.0475771427154541)\n",
            "     | > avg_loss_disc_real_0:\u001b[91m 0.20644263923168182 \u001b[0m(+0.0033196359872817993)\n",
            "     | > avg_loss_disc_real_1:\u001b[92m 0.19320891797542572 \u001b[0m(-0.029628470540046692)\n",
            "     | > avg_loss_disc_real_2:\u001b[91m 0.2292860746383667 \u001b[0m(+0.027576982975006104)\n",
            "     | > avg_loss_disc_real_3:\u001b[91m 0.2432292252779007 \u001b[0m(+0.051789090037345886)\n",
            "     | > avg_loss_disc_real_4:\u001b[92m 0.1449454426765442 \u001b[0m(-0.05594608187675476)\n",
            "     | > avg_loss_disc_real_5:\u001b[91m 0.28328806161880493 \u001b[0m(+0.06180956959724426)\n",
            "     | > avg_loss_0:\u001b[91m 2.6067869663238525 \u001b[0m(+0.0475771427154541)\n",
            "     | > avg_loss_gen:\u001b[91m 2.0722720623016357 \u001b[0m(+0.017557859420776367)\n",
            "     | > avg_loss_kl:\u001b[92m 1.7931567430496216 \u001b[0m(-0.27012455463409424)\n",
            "     | > avg_loss_feat:\u001b[92m 4.030508041381836 \u001b[0m(-0.09325981140136719)\n",
            "     | > avg_loss_mel:\u001b[91m 21.871694564819336 \u001b[0m(+1.298604965209961)\n",
            "     | > avg_loss_duration:\u001b[91m 1.3985472917556763 \u001b[0m(+0.007584691047668457)\n",
            "     | > avg_loss_1:\u001b[91m 31.16617774963379 \u001b[0m(+0.9603614807128906)\n",
            "\n",
            "\n",
            "\u001b[4m\u001b[1m > EPOCH: 149/300\u001b[0m\n",
            " --> vits_20k_steps\n",
            "\n",
            "\u001b[1m > TRAINING (2024-05-19 07:50:10) \u001b[0m\n",
            "\n",
            "\u001b[1m > EVALUATION \u001b[0m\n",
            "\n"
          ]
        },
        {
          "name": "stdout",
          "output_type": "stream",
          "text": [
            " | > Synthesizing test sentences.\n"
          ]
        },
        {
          "name": "stderr",
          "output_type": "stream",
          "text": [
            "\n",
            "  \u001b[1m--> EVAL PERFORMANCE\u001b[0m\n",
            "     | > avg_loader_time:\u001b[91m 3.5463714599609375 \u001b[0m(+0.0193636417388916)\n",
            "     | > avg_loss_disc:\u001b[92m 2.603929281234741 \u001b[0m(-0.002857685089111328)\n",
            "     | > avg_loss_disc_real_0:\u001b[92m 0.166571706533432 \u001b[0m(-0.03987093269824982)\n",
            "     | > avg_loss_disc_real_1:\u001b[91m 0.23172670602798462 \u001b[0m(+0.0385177880525589)\n",
            "     | > avg_loss_disc_real_2:\u001b[92m 0.2036597579717636 \u001b[0m(-0.02562631666660309)\n",
            "     | > avg_loss_disc_real_3:\u001b[92m 0.22574371099472046 \u001b[0m(-0.017485514283180237)\n",
            "     | > avg_loss_disc_real_4:\u001b[91m 0.21155986189842224 \u001b[0m(+0.06661441922187805)\n",
            "     | > avg_loss_disc_real_5:\u001b[92m 0.25398942828178406 \u001b[0m(-0.029298633337020874)\n",
            "     | > avg_loss_0:\u001b[92m 2.603929281234741 \u001b[0m(-0.002857685089111328)\n",
            "     | > avg_loss_gen:\u001b[92m 1.9474788904190063 \u001b[0m(-0.1247931718826294)\n",
            "     | > avg_loss_kl:\u001b[91m 2.020512580871582 \u001b[0m(+0.22735583782196045)\n",
            "     | > avg_loss_feat:\u001b[92m 3.720949172973633 \u001b[0m(-0.3095588684082031)\n",
            "     | > avg_loss_mel:\u001b[92m 19.363245010375977 \u001b[0m(-2.5084495544433594)\n",
            "     | > avg_loss_duration:\u001b[92m 1.3821860551834106 \u001b[0m(-0.016361236572265625)\n",
            "     | > avg_loss_1:\u001b[92m 28.434371948242188 \u001b[0m(-2.7318058013916016)\n",
            "\n",
            "\n",
            "\u001b[4m\u001b[1m > EPOCH: 150/300\u001b[0m\n",
            " --> vits_20k_steps\n",
            "\n",
            "\u001b[1m > TRAINING (2024-05-19 07:50:40) \u001b[0m\n",
            "\n",
            "\u001b[1m > EVALUATION \u001b[0m\n",
            "\n"
          ]
        },
        {
          "name": "stdout",
          "output_type": "stream",
          "text": [
            " | > Synthesizing test sentences.\n"
          ]
        },
        {
          "name": "stderr",
          "output_type": "stream",
          "text": [
            "\n",
            "  \u001b[1m--> EVAL PERFORMANCE\u001b[0m\n",
            "     | > avg_loader_time:\u001b[91m 3.558730125427246 \u001b[0m(+0.012358665466308594)\n",
            "     | > avg_loss_disc:\u001b[91m 2.668591022491455 \u001b[0m(+0.06466174125671387)\n",
            "     | > avg_loss_disc_real_0:\u001b[91m 0.19147270917892456 \u001b[0m(+0.024901002645492554)\n",
            "     | > avg_loss_disc_real_1:\u001b[91m 0.26016765832901 \u001b[0m(+0.02844095230102539)\n",
            "     | > avg_loss_disc_real_2:\u001b[91m 0.20711079239845276 \u001b[0m(+0.003451034426689148)\n",
            "     | > avg_loss_disc_real_3:\u001b[91m 0.24186675250530243 \u001b[0m(+0.01612304151058197)\n",
            "     | > avg_loss_disc_real_4:\u001b[91m 0.24870198965072632 \u001b[0m(+0.03714212775230408)\n",
            "     | > avg_loss_disc_real_5:\u001b[92m 0.19323189556598663 \u001b[0m(-0.060757532715797424)\n",
            "     | > avg_loss_0:\u001b[91m 2.668591022491455 \u001b[0m(+0.06466174125671387)\n",
            "     | > avg_loss_gen:\u001b[91m 2.0132858753204346 \u001b[0m(+0.06580698490142822)\n",
            "     | > avg_loss_kl:\u001b[92m 1.7863937616348267 \u001b[0m(-0.23411881923675537)\n",
            "     | > avg_loss_feat:\u001b[91m 4.878299236297607 \u001b[0m(+1.1573500633239746)\n",
            "     | > avg_loss_mel:\u001b[91m 20.200511932373047 \u001b[0m(+0.8372669219970703)\n",
            "     | > avg_loss_duration:\u001b[91m 1.4150055646896362 \u001b[0m(+0.032819509506225586)\n",
            "     | > avg_loss_1:\u001b[91m 30.293495178222656 \u001b[0m(+1.8591232299804688)\n",
            "\n",
            "\n",
            "\u001b[4m\u001b[1m > EPOCH: 151/300\u001b[0m\n",
            " --> vits_20k_steps\n",
            "\n",
            "\u001b[1m > TRAINING (2024-05-19 07:51:10) \u001b[0m\n",
            "\n",
            "\u001b[1m > EVALUATION \u001b[0m\n",
            "\n"
          ]
        },
        {
          "name": "stdout",
          "output_type": "stream",
          "text": [
            " | > Synthesizing test sentences.\n"
          ]
        },
        {
          "name": "stderr",
          "output_type": "stream",
          "text": [
            "\n",
            "  \u001b[1m--> EVAL PERFORMANCE\u001b[0m\n",
            "     | > avg_loader_time:\u001b[91m 3.652669906616211 \u001b[0m(+0.09393978118896484)\n",
            "     | > avg_loss_disc:\u001b[91m 2.7859833240509033 \u001b[0m(+0.11739230155944824)\n",
            "     | > avg_loss_disc_real_0:\u001b[91m 0.26222696900367737 \u001b[0m(+0.07075425982475281)\n",
            "     | > avg_loss_disc_real_1:\u001b[92m 0.19691376388072968 \u001b[0m(-0.06325389444828033)\n",
            "     | > avg_loss_disc_real_2:\u001b[92m 0.2001112997531891 \u001b[0m(-0.006999492645263672)\n",
            "     | > avg_loss_disc_real_3:\u001b[92m 0.18775148689746857 \u001b[0m(-0.05411526560783386)\n",
            "     | > avg_loss_disc_real_4:\u001b[92m 0.2270839959383011 \u001b[0m(-0.021617993712425232)\n",
            "     | > avg_loss_disc_real_5:\u001b[92m 0.17348754405975342 \u001b[0m(-0.019744351506233215)\n",
            "     | > avg_loss_0:\u001b[91m 2.7859833240509033 \u001b[0m(+0.11739230155944824)\n",
            "     | > avg_loss_gen:\u001b[92m 1.7912920713424683 \u001b[0m(-0.2219938039779663)\n",
            "     | > avg_loss_kl:\u001b[91m 2.0836143493652344 \u001b[0m(+0.2972205877304077)\n",
            "     | > avg_loss_feat:\u001b[92m 4.22115421295166 \u001b[0m(-0.6571450233459473)\n",
            "     | > avg_loss_mel:\u001b[92m 19.658401489257812 \u001b[0m(-0.5421104431152344)\n",
            "     | > avg_loss_duration:\u001b[92m 1.4055646657943726 \u001b[0m(-0.009440898895263672)\n",
            "     | > avg_loss_1:\u001b[92m 29.16002655029297 \u001b[0m(-1.1334686279296875)\n",
            "\n",
            "\n",
            "\u001b[4m\u001b[1m > EPOCH: 152/300\u001b[0m\n",
            " --> vits_20k_steps\n",
            "\n",
            "\u001b[1m > TRAINING (2024-05-19 07:51:40) \u001b[0m\n",
            "\n",
            "\u001b[1m > EVALUATION \u001b[0m\n",
            "\n"
          ]
        },
        {
          "name": "stdout",
          "output_type": "stream",
          "text": [
            " | > Synthesizing test sentences.\n"
          ]
        },
        {
          "name": "stderr",
          "output_type": "stream",
          "text": [
            "\n",
            "  \u001b[1m--> EVAL PERFORMANCE\u001b[0m\n",
            "     | > avg_loader_time:\u001b[92m 3.3250510692596436 \u001b[0m(-0.3276188373565674)\n",
            "     | > avg_loss_disc:\u001b[92m 2.624150037765503 \u001b[0m(-0.1618332862854004)\n",
            "     | > avg_loss_disc_real_0:\u001b[92m 0.16599014401435852 \u001b[0m(-0.09623682498931885)\n",
            "     | > avg_loss_disc_real_1:\u001b[91m 0.2530348598957062 \u001b[0m(+0.0561210960149765)\n",
            "     | > avg_loss_disc_real_2:\u001b[91m 0.26625141501426697 \u001b[0m(+0.06614011526107788)\n",
            "     | > avg_loss_disc_real_3:\u001b[91m 0.23223046958446503 \u001b[0m(+0.04447898268699646)\n",
            "     | > avg_loss_disc_real_4:\u001b[92m 0.22077377140522003 \u001b[0m(-0.006310224533081055)\n",
            "     | > avg_loss_disc_real_5:\u001b[91m 0.19140832126140594 \u001b[0m(+0.017920777201652527)\n",
            "     | > avg_loss_0:\u001b[92m 2.624150037765503 \u001b[0m(-0.1618332862854004)\n",
            "     | > avg_loss_gen:\u001b[91m 1.880158543586731 \u001b[0m(+0.0888664722442627)\n",
            "     | > avg_loss_kl:\u001b[92m 1.9058443307876587 \u001b[0m(-0.17777001857757568)\n",
            "     | > avg_loss_feat:\u001b[92m 3.2766504287719727 \u001b[0m(-0.9445037841796875)\n",
            "     | > avg_loss_mel:\u001b[91m 19.784404754638672 \u001b[0m(+0.12600326538085938)\n",
            "     | > avg_loss_duration:\u001b[92m 1.377465009689331 \u001b[0m(-0.028099656105041504)\n",
            "     | > avg_loss_1:\u001b[92m 28.224523544311523 \u001b[0m(-0.9355030059814453)\n",
            "\n",
            "\n",
            "\u001b[4m\u001b[1m > EPOCH: 153/300\u001b[0m\n",
            " --> vits_20k_steps\n",
            "\n",
            "\u001b[1m > TRAINING (2024-05-19 07:52:10) \u001b[0m\n",
            "\n",
            "\u001b[1m > EVALUATION \u001b[0m\n",
            "\n"
          ]
        },
        {
          "name": "stdout",
          "output_type": "stream",
          "text": [
            " | > Synthesizing test sentences.\n"
          ]
        },
        {
          "name": "stderr",
          "output_type": "stream",
          "text": [
            "\n",
            "  \u001b[1m--> EVAL PERFORMANCE\u001b[0m\n",
            "     | > avg_loader_time:\u001b[92m 3.314387321472168 \u001b[0m(-0.010663747787475586)\n",
            "     | > avg_loss_disc:\u001b[91m 2.687394142150879 \u001b[0m(+0.06324410438537598)\n",
            "     | > avg_loss_disc_real_0:\u001b[91m 0.21193662285804749 \u001b[0m(+0.045946478843688965)\n",
            "     | > avg_loss_disc_real_1:\u001b[92m 0.2036045491695404 \u001b[0m(-0.04943031072616577)\n",
            "     | > avg_loss_disc_real_2:\u001b[92m 0.18587808310985565 \u001b[0m(-0.08037333190441132)\n",
            "     | > avg_loss_disc_real_3:\u001b[91m 0.2894670367240906 \u001b[0m(+0.05723656713962555)\n",
            "     | > avg_loss_disc_real_4:\u001b[91m 0.27376067638397217 \u001b[0m(+0.052986904978752136)\n",
            "     | > avg_loss_disc_real_5:\u001b[91m 0.26614516973495483 \u001b[0m(+0.07473684847354889)\n",
            "     | > avg_loss_0:\u001b[91m 2.687394142150879 \u001b[0m(+0.06324410438537598)\n",
            "     | > avg_loss_gen:\u001b[91m 2.204911708831787 \u001b[0m(+0.32475316524505615)\n",
            "     | > avg_loss_kl:\u001b[91m 2.173198699951172 \u001b[0m(+0.2673543691635132)\n",
            "     | > avg_loss_feat:\u001b[91m 4.587217330932617 \u001b[0m(+1.3105669021606445)\n",
            "     | > avg_loss_mel:\u001b[91m 23.138315200805664 \u001b[0m(+3.353910446166992)\n",
            "     | > avg_loss_duration:\u001b[91m 1.402336597442627 \u001b[0m(+0.0248715877532959)\n",
            "     | > avg_loss_1:\u001b[91m 33.505977630615234 \u001b[0m(+5.281454086303711)\n",
            "\n",
            "\n",
            "\u001b[4m\u001b[1m > EPOCH: 154/300\u001b[0m\n",
            " --> vits_20k_steps\n",
            "\n",
            "\u001b[1m > TRAINING (2024-05-19 07:52:39) \u001b[0m\n",
            "\n",
            "\u001b[1m > EVALUATION \u001b[0m\n",
            "\n"
          ]
        },
        {
          "name": "stdout",
          "output_type": "stream",
          "text": [
            " | > Synthesizing test sentences.\n"
          ]
        },
        {
          "name": "stderr",
          "output_type": "stream",
          "text": [
            "\n",
            "  \u001b[1m--> EVAL PERFORMANCE\u001b[0m\n",
            "     | > avg_loader_time:\u001b[91m 3.5218300819396973 \u001b[0m(+0.2074427604675293)\n",
            "     | > avg_loss_disc:\u001b[92m 2.539536476135254 \u001b[0m(-0.147857666015625)\n",
            "     | > avg_loss_disc_real_0:\u001b[92m 0.18323060870170593 \u001b[0m(-0.028706014156341553)\n",
            "     | > avg_loss_disc_real_1:\u001b[91m 0.2076273113489151 \u001b[0m(+0.004022762179374695)\n",
            "     | > avg_loss_disc_real_2:\u001b[91m 0.20385868847370148 \u001b[0m(+0.017980605363845825)\n",
            "     | > avg_loss_disc_real_3:\u001b[92m 0.20999322831630707 \u001b[0m(-0.07947380840778351)\n",
            "     | > avg_loss_disc_real_4:\u001b[92m 0.17032785713672638 \u001b[0m(-0.10343281924724579)\n",
            "     | > avg_loss_disc_real_5:\u001b[92m 0.25313863158226013 \u001b[0m(-0.013006538152694702)\n",
            "     | > avg_loss_0:\u001b[92m 2.539536476135254 \u001b[0m(-0.147857666015625)\n",
            "     | > avg_loss_gen:\u001b[92m 2.1457481384277344 \u001b[0m(-0.059163570404052734)\n",
            "     | > avg_loss_kl:\u001b[92m 1.9524577856063843 \u001b[0m(-0.2207409143447876)\n",
            "     | > avg_loss_feat:\u001b[92m 3.955350399017334 \u001b[0m(-0.6318669319152832)\n",
            "     | > avg_loss_mel:\u001b[92m 20.159902572631836 \u001b[0m(-2.978412628173828)\n",
            "     | > avg_loss_duration:\u001b[92m 1.384196400642395 \u001b[0m(-0.018140196800231934)\n",
            "     | > avg_loss_1:\u001b[92m 29.59765625 \u001b[0m(-3.9083213806152344)\n",
            "\n",
            "\n",
            "\u001b[4m\u001b[1m > EPOCH: 155/300\u001b[0m\n",
            " --> vits_20k_steps\n",
            "\n",
            "\u001b[1m > TRAINING (2024-05-19 07:53:10) \u001b[0m\n",
            "\n",
            "\u001b[1m > EVALUATION \u001b[0m\n",
            "\n"
          ]
        },
        {
          "name": "stdout",
          "output_type": "stream",
          "text": [
            " | > Synthesizing test sentences.\n"
          ]
        },
        {
          "name": "stderr",
          "output_type": "stream",
          "text": [
            "\n",
            "  \u001b[1m--> EVAL PERFORMANCE\u001b[0m\n",
            "     | > avg_loader_time:\u001b[92m 3.4495933055877686 \u001b[0m(-0.07223677635192871)\n",
            "     | > avg_loss_disc:\u001b[91m 2.8096611499786377 \u001b[0m(+0.2701246738433838)\n",
            "     | > avg_loss_disc_real_0:\u001b[91m 0.27122291922569275 \u001b[0m(+0.08799231052398682)\n",
            "     | > avg_loss_disc_real_1:\u001b[91m 0.20979419350624084 \u001b[0m(+0.0021668821573257446)\n",
            "     | > avg_loss_disc_real_2:\u001b[91m 0.23975053429603577 \u001b[0m(+0.03589184582233429)\n",
            "     | > avg_loss_disc_real_3:\u001b[91m 0.2785240113735199 \u001b[0m(+0.06853078305721283)\n",
            "     | > avg_loss_disc_real_4:\u001b[91m 0.266635537147522 \u001b[0m(+0.0963076800107956)\n",
            "     | > avg_loss_disc_real_5:\u001b[91m 0.26861685514450073 \u001b[0m(+0.0154782235622406)\n",
            "     | > avg_loss_0:\u001b[91m 2.8096611499786377 \u001b[0m(+0.2701246738433838)\n",
            "     | > avg_loss_gen:\u001b[92m 2.0258021354675293 \u001b[0m(-0.11994600296020508)\n",
            "     | > avg_loss_kl:\u001b[92m 1.7999975681304932 \u001b[0m(-0.1524602174758911)\n",
            "     | > avg_loss_feat:\u001b[92m 3.9494736194610596 \u001b[0m(-0.005876779556274414)\n",
            "     | > avg_loss_mel:\u001b[92m 19.949005126953125 \u001b[0m(-0.21089744567871094)\n",
            "     | > avg_loss_duration:\u001b[92m 1.3820395469665527 \u001b[0m(-0.002156853675842285)\n",
            "     | > avg_loss_1:\u001b[92m 29.106319427490234 \u001b[0m(-0.4913368225097656)\n",
            "\n",
            "\n",
            "\u001b[4m\u001b[1m > EPOCH: 156/300\u001b[0m\n",
            " --> vits_20k_steps\n",
            "\n",
            "\u001b[1m > TRAINING (2024-05-19 07:53:40) \u001b[0m\n",
            "\n",
            "\u001b[1m > EVALUATION \u001b[0m\n",
            "\n"
          ]
        },
        {
          "name": "stdout",
          "output_type": "stream",
          "text": [
            " | > Synthesizing test sentences.\n"
          ]
        },
        {
          "name": "stderr",
          "output_type": "stream",
          "text": [
            "\n",
            "  \u001b[1m--> EVAL PERFORMANCE\u001b[0m\n",
            "     | > avg_loader_time:\u001b[92m 3.321413278579712 \u001b[0m(-0.12818002700805664)\n",
            "     | > avg_loss_disc:\u001b[91m 2.8796584606170654 \u001b[0m(+0.06999731063842773)\n",
            "     | > avg_loss_disc_real_0:\u001b[91m 0.37469133734703064 \u001b[0m(+0.10346841812133789)\n",
            "     | > avg_loss_disc_real_1:\u001b[91m 0.22289201617240906 \u001b[0m(+0.013097822666168213)\n",
            "     | > avg_loss_disc_real_2:\u001b[92m 0.2308960258960724 \u001b[0m(-0.008854508399963379)\n",
            "     | > avg_loss_disc_real_3:\u001b[92m 0.21037045121192932 \u001b[0m(-0.06815356016159058)\n",
            "     | > avg_loss_disc_real_4:\u001b[92m 0.2598993182182312 \u001b[0m(-0.0067362189292907715)\n",
            "     | > avg_loss_disc_real_5:\u001b[92m 0.21638338267803192 \u001b[0m(-0.05223347246646881)\n",
            "     | > avg_loss_0:\u001b[91m 2.8796584606170654 \u001b[0m(+0.06999731063842773)\n",
            "     | > avg_loss_gen:\u001b[92m 1.9328556060791016 \u001b[0m(-0.09294652938842773)\n",
            "     | > avg_loss_kl:\u001b[91m 2.237999439239502 \u001b[0m(+0.4380018711090088)\n",
            "     | > avg_loss_feat:\u001b[91m 4.278148174285889 \u001b[0m(+0.3286745548248291)\n",
            "     | > avg_loss_mel:\u001b[91m 20.018447875976562 \u001b[0m(+0.0694427490234375)\n",
            "     | > avg_loss_duration:\u001b[92m 1.363581657409668 \u001b[0m(-0.018457889556884766)\n",
            "     | > avg_loss_1:\u001b[91m 29.831031799316406 \u001b[0m(+0.7247123718261719)\n",
            "\n",
            "\n",
            "\u001b[4m\u001b[1m > EPOCH: 157/300\u001b[0m\n",
            " --> vits_20k_steps\n",
            "\n",
            "\u001b[1m > TRAINING (2024-05-19 07:54:09) \u001b[0m\n",
            "\n",
            "\u001b[1m > EVALUATION \u001b[0m\n",
            "\n"
          ]
        },
        {
          "name": "stdout",
          "output_type": "stream",
          "text": [
            " | > Synthesizing test sentences.\n"
          ]
        },
        {
          "name": "stderr",
          "output_type": "stream",
          "text": [
            "\n",
            "  \u001b[1m--> EVAL PERFORMANCE\u001b[0m\n",
            "     | > avg_loader_time:\u001b[91m 3.484868049621582 \u001b[0m(+0.16345477104187012)\n",
            "     | > avg_loss_disc:\u001b[92m 2.667768955230713 \u001b[0m(-0.21188950538635254)\n",
            "     | > avg_loss_disc_real_0:\u001b[92m 0.16890466213226318 \u001b[0m(-0.20578667521476746)\n",
            "     | > avg_loss_disc_real_1:\u001b[91m 0.24452219903469086 \u001b[0m(+0.0216301828622818)\n",
            "     | > avg_loss_disc_real_2:\u001b[92m 0.19212642312049866 \u001b[0m(-0.03876960277557373)\n",
            "     | > avg_loss_disc_real_3:\u001b[92m 0.19728313386440277 \u001b[0m(-0.01308731734752655)\n",
            "     | > avg_loss_disc_real_4:\u001b[92m 0.21954898536205292 \u001b[0m(-0.040350332856178284)\n",
            "     | > avg_loss_disc_real_5:\u001b[92m 0.2045370489358902 \u001b[0m(-0.011846333742141724)\n",
            "     | > avg_loss_0:\u001b[92m 2.667768955230713 \u001b[0m(-0.21188950538635254)\n",
            "     | > avg_loss_gen:\u001b[92m 1.8385231494903564 \u001b[0m(-0.09433245658874512)\n",
            "     | > avg_loss_kl:\u001b[92m 1.8706670999526978 \u001b[0m(-0.3673323392868042)\n",
            "     | > avg_loss_feat:\u001b[92m 3.8420634269714355 \u001b[0m(-0.4360847473144531)\n",
            "     | > avg_loss_mel:\u001b[91m 21.112390518188477 \u001b[0m(+1.093942642211914)\n",
            "     | > avg_loss_duration:\u001b[91m 1.3928818702697754 \u001b[0m(+0.029300212860107422)\n",
            "     | > avg_loss_1:\u001b[91m 30.05652618408203 \u001b[0m(+0.225494384765625)\n",
            "\n",
            "\n",
            "\u001b[4m\u001b[1m > EPOCH: 158/300\u001b[0m\n",
            " --> vits_20k_steps\n",
            "\n",
            "\u001b[1m > TRAINING (2024-05-19 07:54:40) \u001b[0m\n",
            "\n",
            "\u001b[1m > EVALUATION \u001b[0m\n",
            "\n"
          ]
        },
        {
          "name": "stdout",
          "output_type": "stream",
          "text": [
            " | > Synthesizing test sentences.\n"
          ]
        },
        {
          "name": "stderr",
          "output_type": "stream",
          "text": [
            "\n",
            "  \u001b[1m--> EVAL PERFORMANCE\u001b[0m\n",
            "     | > avg_loader_time:\u001b[91m 3.567612648010254 \u001b[0m(+0.08274459838867188)\n",
            "     | > avg_loss_disc:\u001b[92m 2.4475364685058594 \u001b[0m(-0.22023248672485352)\n",
            "     | > avg_loss_disc_real_0:\u001b[92m 0.15853050351142883 \u001b[0m(-0.01037415862083435)\n",
            "     | > avg_loss_disc_real_1:\u001b[91m 0.2525615394115448 \u001b[0m(+0.008039340376853943)\n",
            "     | > avg_loss_disc_real_2:\u001b[91m 0.2308536320924759 \u001b[0m(+0.038727208971977234)\n",
            "     | > avg_loss_disc_real_3:\u001b[92m 0.15491749346256256 \u001b[0m(-0.04236564040184021)\n",
            "     | > avg_loss_disc_real_4:\u001b[92m 0.1902705579996109 \u001b[0m(-0.029278427362442017)\n",
            "     | > avg_loss_disc_real_5:\u001b[92m 0.18347352743148804 \u001b[0m(-0.02106352150440216)\n",
            "     | > avg_loss_0:\u001b[92m 2.4475364685058594 \u001b[0m(-0.22023248672485352)\n",
            "     | > avg_loss_gen:\u001b[91m 2.159313678741455 \u001b[0m(+0.32079052925109863)\n",
            "     | > avg_loss_kl:\u001b[92m 1.8455967903137207 \u001b[0m(-0.02507030963897705)\n",
            "     | > avg_loss_feat:\u001b[91m 5.157467842102051 \u001b[0m(+1.3154044151306152)\n",
            "     | > avg_loss_mel:\u001b[92m 20.747785568237305 \u001b[0m(-0.3646049499511719)\n",
            "     | > avg_loss_duration:\u001b[92m 1.3886337280273438 \u001b[0m(-0.004248142242431641)\n",
            "     | > avg_loss_1:\u001b[91m 31.298797607421875 \u001b[0m(+1.2422714233398438)\n",
            "\n",
            "\n",
            "\u001b[4m\u001b[1m > EPOCH: 159/300\u001b[0m\n",
            " --> vits_20k_steps\n",
            "\n",
            "\u001b[1m > TRAINING (2024-05-19 07:55:10) \u001b[0m\n",
            "\n",
            "\u001b[1m > EVALUATION \u001b[0m\n",
            "\n"
          ]
        },
        {
          "name": "stdout",
          "output_type": "stream",
          "text": [
            " | > Synthesizing test sentences.\n"
          ]
        },
        {
          "name": "stderr",
          "output_type": "stream",
          "text": [
            "\n",
            "  \u001b[1m--> EVAL PERFORMANCE\u001b[0m\n",
            "     | > avg_loader_time:\u001b[92m 3.318804979324341 \u001b[0m(-0.24880766868591309)\n",
            "     | > avg_loss_disc:\u001b[91m 2.572758197784424 \u001b[0m(+0.12522172927856445)\n",
            "     | > avg_loss_disc_real_0:\u001b[91m 0.16545575857162476 \u001b[0m(+0.006925255060195923)\n",
            "     | > avg_loss_disc_real_1:\u001b[91m 0.2742423415184021 \u001b[0m(+0.0216808021068573)\n",
            "     | > avg_loss_disc_real_2:\u001b[92m 0.1869681477546692 \u001b[0m(-0.0438854843378067)\n",
            "     | > avg_loss_disc_real_3:\u001b[91m 0.16015039384365082 \u001b[0m(+0.005232900381088257)\n",
            "     | > avg_loss_disc_real_4:\u001b[91m 0.23683254420757294 \u001b[0m(+0.046561986207962036)\n",
            "     | > avg_loss_disc_real_5:\u001b[91m 0.29859068989753723 \u001b[0m(+0.1151171624660492)\n",
            "     | > avg_loss_0:\u001b[91m 2.572758197784424 \u001b[0m(+0.12522172927856445)\n",
            "     | > avg_loss_gen:\u001b[92m 2.139087200164795 \u001b[0m(-0.020226478576660156)\n",
            "     | > avg_loss_kl:\u001b[92m 1.5690001249313354 \u001b[0m(-0.27659666538238525)\n",
            "     | > avg_loss_feat:\u001b[92m 5.014590740203857 \u001b[0m(-0.14287710189819336)\n",
            "     | > avg_loss_mel:\u001b[92m 20.55904197692871 \u001b[0m(-0.18874359130859375)\n",
            "     | > avg_loss_duration:\u001b[91m 1.4020278453826904 \u001b[0m(+0.01339411735534668)\n",
            "     | > avg_loss_1:\u001b[92m 30.683748245239258 \u001b[0m(-0.6150493621826172)\n",
            "\n",
            "\n",
            "\u001b[4m\u001b[1m > EPOCH: 160/300\u001b[0m\n",
            " --> vits_20k_steps\n",
            "\n",
            "\u001b[1m > TRAINING (2024-05-19 07:55:40) \u001b[0m\n",
            "\n",
            "\u001b[1m > EVALUATION \u001b[0m\n",
            "\n"
          ]
        },
        {
          "name": "stdout",
          "output_type": "stream",
          "text": [
            " | > Synthesizing test sentences.\n"
          ]
        },
        {
          "name": "stderr",
          "output_type": "stream",
          "text": [
            "\n",
            "  \u001b[1m--> EVAL PERFORMANCE\u001b[0m\n",
            "     | > avg_loader_time:\u001b[91m 3.3488292694091797 \u001b[0m(+0.030024290084838867)\n",
            "     | > avg_loss_disc:\u001b[91m 2.635194778442383 \u001b[0m(+0.062436580657958984)\n",
            "     | > avg_loss_disc_real_0:\u001b[91m 0.20810817182064056 \u001b[0m(+0.04265241324901581)\n",
            "     | > avg_loss_disc_real_1:\u001b[92m 0.20262488722801208 \u001b[0m(-0.07161745429039001)\n",
            "     | > avg_loss_disc_real_2:\u001b[92m 0.18627695739269257 \u001b[0m(-0.0006911903619766235)\n",
            "     | > avg_loss_disc_real_3:\u001b[91m 0.18949145078659058 \u001b[0m(+0.02934105694293976)\n",
            "     | > avg_loss_disc_real_4:\u001b[92m 0.1585194617509842 \u001b[0m(-0.07831308245658875)\n",
            "     | > avg_loss_disc_real_5:\u001b[92m 0.1819414496421814 \u001b[0m(-0.11664924025535583)\n",
            "     | > avg_loss_0:\u001b[91m 2.635194778442383 \u001b[0m(+0.062436580657958984)\n",
            "     | > avg_loss_gen:\u001b[92m 1.7704894542694092 \u001b[0m(-0.36859774589538574)\n",
            "     | > avg_loss_kl:\u001b[91m 1.6691946983337402 \u001b[0m(+0.10019457340240479)\n",
            "     | > avg_loss_feat:\u001b[92m 4.328436851501465 \u001b[0m(-0.6861538887023926)\n",
            "     | > avg_loss_mel:\u001b[91m 21.65427589416504 \u001b[0m(+1.0952339172363281)\n",
            "     | > avg_loss_duration:\u001b[92m 1.387027382850647 \u001b[0m(-0.015000462532043457)\n",
            "     | > avg_loss_1:\u001b[91m 30.809423446655273 \u001b[0m(+0.12567520141601562)\n",
            "\n",
            "\n",
            "\u001b[4m\u001b[1m > EPOCH: 161/300\u001b[0m\n",
            " --> vits_20k_steps\n",
            "\n",
            "\u001b[1m > TRAINING (2024-05-19 07:56:10) \u001b[0m\n",
            "\n",
            "\u001b[1m > EVALUATION \u001b[0m\n",
            "\n"
          ]
        },
        {
          "name": "stdout",
          "output_type": "stream",
          "text": [
            " | > Synthesizing test sentences.\n"
          ]
        },
        {
          "name": "stderr",
          "output_type": "stream",
          "text": [
            "\n",
            "  \u001b[1m--> EVAL PERFORMANCE\u001b[0m\n",
            "     | > avg_loader_time:\u001b[92m 3.243401527404785 \u001b[0m(-0.10542774200439453)\n",
            "     | > avg_loss_disc:\u001b[91m 2.7158796787261963 \u001b[0m(+0.08068490028381348)\n",
            "     | > avg_loss_disc_real_0:\u001b[91m 0.2919885814189911 \u001b[0m(+0.08388040959835052)\n",
            "     | > avg_loss_disc_real_1:\u001b[91m 0.2297895848751068 \u001b[0m(+0.027164697647094727)\n",
            "     | > avg_loss_disc_real_2:\u001b[91m 0.20976506173610687 \u001b[0m(+0.023488104343414307)\n",
            "     | > avg_loss_disc_real_3:\u001b[91m 0.25677722692489624 \u001b[0m(+0.06728577613830566)\n",
            "     | > avg_loss_disc_real_4:\u001b[91m 0.23644985258579254 \u001b[0m(+0.07793039083480835)\n",
            "     | > avg_loss_disc_real_5:\u001b[91m 0.19933374226093292 \u001b[0m(+0.017392292618751526)\n",
            "     | > avg_loss_0:\u001b[91m 2.7158796787261963 \u001b[0m(+0.08068490028381348)\n",
            "     | > avg_loss_gen:\u001b[91m 1.9647196531295776 \u001b[0m(+0.19423019886016846)\n",
            "     | > avg_loss_kl:\u001b[91m 1.748090147972107 \u001b[0m(+0.0788954496383667)\n",
            "     | > avg_loss_feat:\u001b[92m 3.955035448074341 \u001b[0m(-0.373401403427124)\n",
            "     | > avg_loss_mel:\u001b[92m 19.881099700927734 \u001b[0m(-1.7731761932373047)\n",
            "     | > avg_loss_duration:\u001b[91m 1.419915795326233 \u001b[0m(+0.03288841247558594)\n",
            "     | > avg_loss_1:\u001b[92m 28.968860626220703 \u001b[0m(-1.8405628204345703)\n",
            "\n",
            "\n",
            "\u001b[4m\u001b[1m > EPOCH: 162/300\u001b[0m\n",
            " --> vits_20k_steps\n",
            "\n",
            "\u001b[1m > TRAINING (2024-05-19 07:56:40) \u001b[0m\n",
            "\n",
            "\u001b[1m > EVALUATION \u001b[0m\n",
            "\n"
          ]
        },
        {
          "name": "stdout",
          "output_type": "stream",
          "text": [
            " | > Synthesizing test sentences.\n"
          ]
        },
        {
          "name": "stderr",
          "output_type": "stream",
          "text": [
            "\n",
            "  \u001b[1m--> EVAL PERFORMANCE\u001b[0m\n",
            "     | > avg_loader_time:\u001b[91m 3.6395299434661865 \u001b[0m(+0.39612841606140137)\n",
            "     | > avg_loss_disc:\u001b[91m 3.009310245513916 \u001b[0m(+0.2934305667877197)\n",
            "     | > avg_loss_disc_real_0:\u001b[91m 0.4073721766471863 \u001b[0m(+0.11538359522819519)\n",
            "     | > avg_loss_disc_real_1:\u001b[91m 0.2831742465496063 \u001b[0m(+0.05338466167449951)\n",
            "     | > avg_loss_disc_real_2:\u001b[92m 0.20616060495376587 \u001b[0m(-0.0036044567823410034)\n",
            "     | > avg_loss_disc_real_3:\u001b[92m 0.22007112205028534 \u001b[0m(-0.0367061048746109)\n",
            "     | > avg_loss_disc_real_4:\u001b[92m 0.2282731831073761 \u001b[0m(-0.008176669478416443)\n",
            "     | > avg_loss_disc_real_5:\u001b[91m 0.279363751411438 \u001b[0m(+0.08003000915050507)\n",
            "     | > avg_loss_0:\u001b[91m 3.009310245513916 \u001b[0m(+0.2934305667877197)\n",
            "     | > avg_loss_gen:\u001b[91m 1.9665119647979736 \u001b[0m(+0.001792311668395996)\n",
            "     | > avg_loss_kl:\u001b[91m 1.8999600410461426 \u001b[0m(+0.15186989307403564)\n",
            "     | > avg_loss_feat:\u001b[91m 4.249739646911621 \u001b[0m(+0.2947041988372803)\n",
            "     | > avg_loss_mel:\u001b[91m 20.68651008605957 \u001b[0m(+0.8054103851318359)\n",
            "     | > avg_loss_duration:\u001b[92m 1.417459487915039 \u001b[0m(-0.0024563074111938477)\n",
            "     | > avg_loss_1:\u001b[91m 30.220182418823242 \u001b[0m(+1.251321792602539)\n",
            "\n",
            "\n",
            "\u001b[4m\u001b[1m > EPOCH: 163/300\u001b[0m\n",
            " --> vits_20k_steps\n",
            "\n",
            "\u001b[1m > TRAINING (2024-05-19 07:57:09) \u001b[0m\n",
            "\n",
            "\u001b[1m > EVALUATION \u001b[0m\n",
            "\n"
          ]
        },
        {
          "name": "stdout",
          "output_type": "stream",
          "text": [
            " | > Synthesizing test sentences.\n"
          ]
        },
        {
          "name": "stderr",
          "output_type": "stream",
          "text": [
            "\n",
            "  \u001b[1m--> EVAL PERFORMANCE\u001b[0m\n",
            "     | > avg_loader_time:\u001b[92m 3.4407660961151123 \u001b[0m(-0.19876384735107422)\n",
            "     | > avg_loss_disc:\u001b[92m 2.675732135772705 \u001b[0m(-0.33357810974121094)\n",
            "     | > avg_loss_disc_real_0:\u001b[92m 0.09116973727941513 \u001b[0m(-0.31620243936777115)\n",
            "     | > avg_loss_disc_real_1:\u001b[92m 0.22063590586185455 \u001b[0m(-0.06253834068775177)\n",
            "     | > avg_loss_disc_real_2:\u001b[91m 0.24432379007339478 \u001b[0m(+0.038163185119628906)\n",
            "     | > avg_loss_disc_real_3:\u001b[92m 0.1552707999944687 \u001b[0m(-0.06480032205581665)\n",
            "     | > avg_loss_disc_real_4:\u001b[92m 0.15101110935211182 \u001b[0m(-0.07726207375526428)\n",
            "     | > avg_loss_disc_real_5:\u001b[92m 0.236713707447052 \u001b[0m(-0.042650043964385986)\n",
            "     | > avg_loss_0:\u001b[92m 2.675732135772705 \u001b[0m(-0.33357810974121094)\n",
            "     | > avg_loss_gen:\u001b[92m 1.673434853553772 \u001b[0m(-0.29307711124420166)\n",
            "     | > avg_loss_kl:\u001b[91m 1.9257616996765137 \u001b[0m(+0.025801658630371094)\n",
            "     | > avg_loss_feat:\u001b[91m 4.625574588775635 \u001b[0m(+0.37583494186401367)\n",
            "     | > avg_loss_mel:\u001b[92m 20.65336799621582 \u001b[0m(-0.03314208984375)\n",
            "     | > avg_loss_duration:\u001b[92m 1.415622591972351 \u001b[0m(-0.0018368959426879883)\n",
            "     | > avg_loss_1:\u001b[91m 30.29376220703125 \u001b[0m(+0.07357978820800781)\n",
            "\n",
            "\n",
            "\u001b[4m\u001b[1m > EPOCH: 164/300\u001b[0m\n",
            " --> vits_20k_steps\n",
            "\n",
            "\u001b[1m > TRAINING (2024-05-19 07:57:40) \u001b[0m\n",
            "\n",
            "\u001b[1m > EVALUATION \u001b[0m\n",
            "\n"
          ]
        },
        {
          "name": "stdout",
          "output_type": "stream",
          "text": [
            " | > Synthesizing test sentences.\n"
          ]
        },
        {
          "name": "stderr",
          "output_type": "stream",
          "text": [
            "\n",
            "  \u001b[1m--> EVAL PERFORMANCE\u001b[0m\n",
            "     | > avg_loader_time:\u001b[92m 3.0733656883239746 \u001b[0m(-0.3674004077911377)\n",
            "     | > avg_loss_disc:\u001b[91m 2.750389575958252 \u001b[0m(+0.07465744018554688)\n",
            "     | > avg_loss_disc_real_0:\u001b[91m 0.2959591746330261 \u001b[0m(+0.204789437353611)\n",
            "     | > avg_loss_disc_real_1:\u001b[92m 0.21923290193080902 \u001b[0m(-0.0014030039310455322)\n",
            "     | > avg_loss_disc_real_2:\u001b[91m 0.2818973958492279 \u001b[0m(+0.03757360577583313)\n",
            "     | > avg_loss_disc_real_3:\u001b[91m 0.20115891098976135 \u001b[0m(+0.045888110995292664)\n",
            "     | > avg_loss_disc_real_4:\u001b[91m 0.20186470448970795 \u001b[0m(+0.05085359513759613)\n",
            "     | > avg_loss_disc_real_5:\u001b[92m 0.16711415350437164 \u001b[0m(-0.06959955394268036)\n",
            "     | > avg_loss_0:\u001b[91m 2.750389575958252 \u001b[0m(+0.07465744018554688)\n",
            "     | > avg_loss_gen:\u001b[91m 1.8785780668258667 \u001b[0m(+0.20514321327209473)\n",
            "     | > avg_loss_kl:\u001b[92m 1.5970956087112427 \u001b[0m(-0.328666090965271)\n",
            "     | > avg_loss_feat:\u001b[92m 4.2676167488098145 \u001b[0m(-0.3579578399658203)\n",
            "     | > avg_loss_mel:\u001b[92m 19.997499465942383 \u001b[0m(-0.6558685302734375)\n",
            "     | > avg_loss_duration:\u001b[91m 1.4386855363845825 \u001b[0m(+0.023062944412231445)\n",
            "     | > avg_loss_1:\u001b[92m 29.179475784301758 \u001b[0m(-1.1142864227294922)\n",
            "\n",
            "\n",
            "\u001b[4m\u001b[1m > EPOCH: 165/300\u001b[0m\n",
            " --> vits_20k_steps\n",
            "\n",
            "\u001b[1m > TRAINING (2024-05-19 07:58:10) \u001b[0m\n",
            "\n",
            "\u001b[1m > EVALUATION \u001b[0m\n",
            "\n"
          ]
        },
        {
          "name": "stdout",
          "output_type": "stream",
          "text": [
            " | > Synthesizing test sentences.\n"
          ]
        },
        {
          "name": "stderr",
          "output_type": "stream",
          "text": [
            "\n",
            "  \u001b[1m--> EVAL PERFORMANCE\u001b[0m\n",
            "     | > avg_loader_time:\u001b[91m 3.419926166534424 \u001b[0m(+0.3465604782104492)\n",
            "     | > avg_loss_disc:\u001b[92m 2.615431308746338 \u001b[0m(-0.13495826721191406)\n",
            "     | > avg_loss_disc_real_0:\u001b[92m 0.218740314245224 \u001b[0m(-0.07721886038780212)\n",
            "     | > avg_loss_disc_real_1:\u001b[91m 0.2462536245584488 \u001b[0m(+0.02702072262763977)\n",
            "     | > avg_loss_disc_real_2:\u001b[92m 0.24169981479644775 \u001b[0m(-0.04019758105278015)\n",
            "     | > avg_loss_disc_real_3:\u001b[91m 0.2257756143808365 \u001b[0m(+0.024616703391075134)\n",
            "     | > avg_loss_disc_real_4:\u001b[91m 0.2080998569726944 \u001b[0m(+0.00623515248298645)\n",
            "     | > avg_loss_disc_real_5:\u001b[91m 0.21627755463123322 \u001b[0m(+0.04916340112686157)\n",
            "     | > avg_loss_0:\u001b[92m 2.615431308746338 \u001b[0m(-0.13495826721191406)\n",
            "     | > avg_loss_gen:\u001b[91m 2.075843334197998 \u001b[0m(+0.19726526737213135)\n",
            "     | > avg_loss_kl:\u001b[91m 1.6321566104888916 \u001b[0m(+0.035061001777648926)\n",
            "     | > avg_loss_feat:\u001b[92m 4.027923107147217 \u001b[0m(-0.23969364166259766)\n",
            "     | > avg_loss_mel:\u001b[91m 20.34670066833496 \u001b[0m(+0.3492012023925781)\n",
            "     | > avg_loss_duration:\u001b[92m 1.4090166091918945 \u001b[0m(-0.02966892719268799)\n",
            "     | > avg_loss_1:\u001b[91m 29.491641998291016 \u001b[0m(+0.3121662139892578)\n",
            "\n",
            "\n",
            "\u001b[4m\u001b[1m > EPOCH: 166/300\u001b[0m\n",
            " --> vits_20k_steps\n",
            "\n",
            "\u001b[1m > TRAINING (2024-05-19 07:58:39) \u001b[0m\n",
            "\n",
            "\u001b[1m > EVALUATION \u001b[0m\n",
            "\n"
          ]
        },
        {
          "name": "stdout",
          "output_type": "stream",
          "text": [
            " | > Synthesizing test sentences.\n"
          ]
        },
        {
          "name": "stderr",
          "output_type": "stream",
          "text": [
            "\n",
            "  \u001b[1m--> EVAL PERFORMANCE\u001b[0m\n",
            "     | > avg_loader_time:\u001b[91m 3.4231410026550293 \u001b[0m(+0.0032148361206054688)\n",
            "     | > avg_loss_disc:\u001b[91m 2.7480316162109375 \u001b[0m(+0.1326003074645996)\n",
            "     | > avg_loss_disc_real_0:\u001b[91m 0.25147491693496704 \u001b[0m(+0.03273460268974304)\n",
            "     | > avg_loss_disc_real_1:\u001b[92m 0.24122098088264465 \u001b[0m(-0.005032643675804138)\n",
            "     | > avg_loss_disc_real_2:\u001b[92m 0.2222965806722641 \u001b[0m(-0.019403234124183655)\n",
            "     | > avg_loss_disc_real_3:\u001b[92m 0.18455904722213745 \u001b[0m(-0.041216567158699036)\n",
            "     | > avg_loss_disc_real_4:\u001b[92m 0.18322551250457764 \u001b[0m(-0.02487434446811676)\n",
            "     | > avg_loss_disc_real_5:\u001b[92m 0.2157846838235855 \u001b[0m(-0.0004928708076477051)\n",
            "     | > avg_loss_0:\u001b[91m 2.7480316162109375 \u001b[0m(+0.1326003074645996)\n",
            "     | > avg_loss_gen:\u001b[92m 1.9730769395828247 \u001b[0m(-0.10276639461517334)\n",
            "     | > avg_loss_kl:\u001b[91m 2.014070749282837 \u001b[0m(+0.3819141387939453)\n",
            "     | > avg_loss_feat:\u001b[91m 5.152814865112305 \u001b[0m(+1.124891757965088)\n",
            "     | > avg_loss_mel:\u001b[92m 19.913084030151367 \u001b[0m(-0.43361663818359375)\n",
            "     | > avg_loss_duration:\u001b[92m 1.3885350227355957 \u001b[0m(-0.020481586456298828)\n",
            "     | > avg_loss_1:\u001b[91m 30.44158172607422 \u001b[0m(+0.9499397277832031)\n",
            "\n",
            "\n",
            "\u001b[4m\u001b[1m > EPOCH: 167/300\u001b[0m\n",
            " --> vits_20k_steps\n",
            "\n",
            "\u001b[1m > TRAINING (2024-05-19 07:59:10) \u001b[0m\n",
            "\n",
            "\u001b[1m > EVALUATION \u001b[0m\n",
            "\n"
          ]
        },
        {
          "name": "stdout",
          "output_type": "stream",
          "text": [
            " | > Synthesizing test sentences.\n"
          ]
        },
        {
          "name": "stderr",
          "output_type": "stream",
          "text": [
            "\n",
            "  \u001b[1m--> EVAL PERFORMANCE\u001b[0m\n",
            "     | > avg_loader_time:\u001b[92m 3.3710155487060547 \u001b[0m(-0.05212545394897461)\n",
            "     | > avg_loss_disc:\u001b[92m 2.5388307571411133 \u001b[0m(-0.20920085906982422)\n",
            "     | > avg_loss_disc_real_0:\u001b[92m 0.1606856733560562 \u001b[0m(-0.09078924357891083)\n",
            "     | > avg_loss_disc_real_1:\u001b[92m 0.19932492077350616 \u001b[0m(-0.04189606010913849)\n",
            "     | > avg_loss_disc_real_2:\u001b[92m 0.1364683210849762 \u001b[0m(-0.0858282595872879)\n",
            "     | > avg_loss_disc_real_3:\u001b[91m 0.23675207793712616 \u001b[0m(+0.05219303071498871)\n",
            "     | > avg_loss_disc_real_4:\u001b[91m 0.22598549723625183 \u001b[0m(+0.042759984731674194)\n",
            "     | > avg_loss_disc_real_5:\u001b[91m 0.23007170855998993 \u001b[0m(+0.014287024736404419)\n",
            "     | > avg_loss_0:\u001b[92m 2.5388307571411133 \u001b[0m(-0.20920085906982422)\n",
            "     | > avg_loss_gen:\u001b[91m 2.0310277938842773 \u001b[0m(+0.05795085430145264)\n",
            "     | > avg_loss_kl:\u001b[92m 1.6287728548049927 \u001b[0m(-0.38529789447784424)\n",
            "     | > avg_loss_feat:\u001b[91m 5.188055038452148 \u001b[0m(+0.03524017333984375)\n",
            "     | > avg_loss_mel:\u001b[91m 21.80085563659668 \u001b[0m(+1.8877716064453125)\n",
            "     | > avg_loss_duration:\u001b[91m 1.4098820686340332 \u001b[0m(+0.0213470458984375)\n",
            "     | > avg_loss_1:\u001b[91m 32.05859375 \u001b[0m(+1.6170120239257812)\n",
            "\n",
            "\n",
            "\u001b[4m\u001b[1m > EPOCH: 168/300\u001b[0m\n",
            " --> vits_20k_steps\n",
            "\n",
            "\u001b[1m > TRAINING (2024-05-19 07:59:40) \u001b[0m\n",
            "\n",
            "\u001b[1m > EVALUATION \u001b[0m\n",
            "\n"
          ]
        },
        {
          "name": "stdout",
          "output_type": "stream",
          "text": [
            " | > Synthesizing test sentences.\n"
          ]
        },
        {
          "name": "stderr",
          "output_type": "stream",
          "text": [
            "\n",
            "  \u001b[1m--> EVAL PERFORMANCE\u001b[0m\n",
            "     | > avg_loader_time:\u001b[92m 3.309354782104492 \u001b[0m(-0.0616607666015625)\n",
            "     | > avg_loss_disc:\u001b[91m 2.708373785018921 \u001b[0m(+0.16954302787780762)\n",
            "     | > avg_loss_disc_real_0:\u001b[91m 0.17820684611797333 \u001b[0m(+0.017521172761917114)\n",
            "     | > avg_loss_disc_real_1:\u001b[92m 0.1969148814678192 \u001b[0m(-0.0024100393056869507)\n",
            "     | > avg_loss_disc_real_2:\u001b[91m 0.2195894420146942 \u001b[0m(+0.08312112092971802)\n",
            "     | > avg_loss_disc_real_3:\u001b[92m 0.19809110462665558 \u001b[0m(-0.03866097331047058)\n",
            "     | > avg_loss_disc_real_4:\u001b[92m 0.21762514114379883 \u001b[0m(-0.008360356092453003)\n",
            "     | > avg_loss_disc_real_5:\u001b[91m 0.2811066210269928 \u001b[0m(+0.05103491246700287)\n",
            "     | > avg_loss_0:\u001b[91m 2.708373785018921 \u001b[0m(+0.16954302787780762)\n",
            "     | > avg_loss_gen:\u001b[92m 2.007256031036377 \u001b[0m(-0.02377176284790039)\n",
            "     | > avg_loss_kl:\u001b[91m 1.893243432044983 \u001b[0m(+0.26447057723999023)\n",
            "     | > avg_loss_feat:\u001b[92m 5.0692548751831055 \u001b[0m(-0.11880016326904297)\n",
            "     | > avg_loss_mel:\u001b[92m 21.234102249145508 \u001b[0m(-0.5667533874511719)\n",
            "     | > avg_loss_duration:\u001b[92m 1.403550148010254 \u001b[0m(-0.006331920623779297)\n",
            "     | > avg_loss_1:\u001b[92m 31.607406616210938 \u001b[0m(-0.4511871337890625)\n",
            "\n",
            "\n",
            "\u001b[4m\u001b[1m > EPOCH: 169/300\u001b[0m\n",
            " --> vits_20k_steps\n",
            "\n",
            "\u001b[1m > TRAINING (2024-05-19 08:00:10) \u001b[0m\n",
            "\n",
            "\u001b[1m > EVALUATION \u001b[0m\n",
            "\n"
          ]
        },
        {
          "name": "stdout",
          "output_type": "stream",
          "text": [
            " | > Synthesizing test sentences.\n"
          ]
        },
        {
          "name": "stderr",
          "output_type": "stream",
          "text": [
            "\n",
            "  \u001b[1m--> EVAL PERFORMANCE\u001b[0m\n",
            "     | > avg_loader_time:\u001b[91m 3.383068323135376 \u001b[0m(+0.07371354103088379)\n",
            "     | > avg_loss_disc:\u001b[92m 2.6007156372070312 \u001b[0m(-0.10765814781188965)\n",
            "     | > avg_loss_disc_real_0:\u001b[91m 0.24561481177806854 \u001b[0m(+0.06740796566009521)\n",
            "     | > avg_loss_disc_real_1:\u001b[91m 0.22028210759162903 \u001b[0m(+0.023367226123809814)\n",
            "     | > avg_loss_disc_real_2:\u001b[92m 0.18752901256084442 \u001b[0m(-0.03206042945384979)\n",
            "     | > avg_loss_disc_real_3:\u001b[91m 0.21389710903167725 \u001b[0m(+0.015806004405021667)\n",
            "     | > avg_loss_disc_real_4:\u001b[92m 0.18244880437850952 \u001b[0m(-0.03517633676528931)\n",
            "     | > avg_loss_disc_real_5:\u001b[92m 0.16821934282779694 \u001b[0m(-0.11288727819919586)\n",
            "     | > avg_loss_0:\u001b[92m 2.6007156372070312 \u001b[0m(-0.10765814781188965)\n",
            "     | > avg_loss_gen:\u001b[92m 1.8988122940063477 \u001b[0m(-0.1084437370300293)\n",
            "     | > avg_loss_kl:\u001b[91m 2.088111162185669 \u001b[0m(+0.19486773014068604)\n",
            "     | > avg_loss_feat:\u001b[92m 4.530873775482178 \u001b[0m(-0.5383810997009277)\n",
            "     | > avg_loss_mel:\u001b[92m 19.97746467590332 \u001b[0m(-1.2566375732421875)\n",
            "     | > avg_loss_duration:\u001b[91m 1.4304943084716797 \u001b[0m(+0.02694416046142578)\n",
            "     | > avg_loss_1:\u001b[92m 29.925756454467773 \u001b[0m(-1.681650161743164)\n",
            "\n",
            "\n",
            "\u001b[4m\u001b[1m > EPOCH: 170/300\u001b[0m\n",
            " --> vits_20k_steps\n",
            "\n",
            "\u001b[1m > TRAINING (2024-05-19 08:00:40) \u001b[0m\n",
            "\n",
            "\u001b[1m > EVALUATION \u001b[0m\n",
            "\n"
          ]
        },
        {
          "name": "stdout",
          "output_type": "stream",
          "text": [
            " | > Synthesizing test sentences.\n"
          ]
        },
        {
          "name": "stderr",
          "output_type": "stream",
          "text": [
            "\n",
            "  \u001b[1m--> EVAL PERFORMANCE\u001b[0m\n",
            "     | > avg_loader_time:\u001b[92m 3.3366384506225586 \u001b[0m(-0.04642987251281738)\n",
            "     | > avg_loss_disc:\u001b[92m 2.536121368408203 \u001b[0m(-0.06459426879882812)\n",
            "     | > avg_loss_disc_real_0:\u001b[91m 0.31243476271629333 \u001b[0m(+0.06681995093822479)\n",
            "     | > avg_loss_disc_real_1:\u001b[91m 0.22840824723243713 \u001b[0m(+0.008126139640808105)\n",
            "     | > avg_loss_disc_real_2:\u001b[91m 0.25143104791641235 \u001b[0m(+0.06390203535556793)\n",
            "     | > avg_loss_disc_real_3:\u001b[91m 0.2502801716327667 \u001b[0m(+0.03638306260108948)\n",
            "     | > avg_loss_disc_real_4:\u001b[92m 0.12795667350292206 \u001b[0m(-0.05449213087558746)\n",
            "     | > avg_loss_disc_real_5:\u001b[91m 0.21930472552776337 \u001b[0m(+0.05108538269996643)\n",
            "     | > avg_loss_0:\u001b[92m 2.536121368408203 \u001b[0m(-0.06459426879882812)\n",
            "     | > avg_loss_gen:\u001b[91m 2.1872355937957764 \u001b[0m(+0.2884232997894287)\n",
            "     | > avg_loss_kl:\u001b[92m 1.7900737524032593 \u001b[0m(-0.29803740978240967)\n",
            "     | > avg_loss_feat:\u001b[92m 4.2966837882995605 \u001b[0m(-0.2341899871826172)\n",
            "     | > avg_loss_mel:\u001b[91m 21.634742736816406 \u001b[0m(+1.657278060913086)\n",
            "     | > avg_loss_duration:\u001b[92m 1.3844847679138184 \u001b[0m(-0.04600954055786133)\n",
            "     | > avg_loss_1:\u001b[91m 31.29322052001953 \u001b[0m(+1.3674640655517578)\n",
            "\n",
            "\n",
            "\u001b[4m\u001b[1m > EPOCH: 171/300\u001b[0m\n",
            " --> vits_20k_steps\n",
            "\n",
            "\u001b[1m > TRAINING (2024-05-19 08:01:09) \u001b[0m\n",
            "\n",
            "\u001b[1m > EVALUATION \u001b[0m\n",
            "\n"
          ]
        },
        {
          "name": "stdout",
          "output_type": "stream",
          "text": [
            " | > Synthesizing test sentences.\n"
          ]
        },
        {
          "name": "stderr",
          "output_type": "stream",
          "text": [
            "\n",
            "  \u001b[1m--> EVAL PERFORMANCE\u001b[0m\n",
            "     | > avg_loader_time:\u001b[91m 3.4398229122161865 \u001b[0m(+0.10318446159362793)\n",
            "     | > avg_loss_disc:\u001b[91m 2.7101869583129883 \u001b[0m(+0.17406558990478516)\n",
            "     | > avg_loss_disc_real_0:\u001b[92m 0.1713988482952118 \u001b[0m(-0.14103591442108154)\n",
            "     | > avg_loss_disc_real_1:\u001b[91m 0.2513357996940613 \u001b[0m(+0.022927552461624146)\n",
            "     | > avg_loss_disc_real_2:\u001b[91m 0.3018200397491455 \u001b[0m(+0.050388991832733154)\n",
            "     | > avg_loss_disc_real_3:\u001b[91m 0.2516932785511017 \u001b[0m(+0.001413106918334961)\n",
            "     | > avg_loss_disc_real_4:\u001b[91m 0.2037862241268158 \u001b[0m(+0.07582955062389374)\n",
            "     | > avg_loss_disc_real_5:\u001b[91m 0.23599670827388763 \u001b[0m(+0.016691982746124268)\n",
            "     | > avg_loss_0:\u001b[91m 2.7101869583129883 \u001b[0m(+0.17406558990478516)\n",
            "     | > avg_loss_gen:\u001b[92m 1.9365949630737305 \u001b[0m(-0.2506406307220459)\n",
            "     | > avg_loss_kl:\u001b[91m 1.8872705698013306 \u001b[0m(+0.09719681739807129)\n",
            "     | > avg_loss_feat:\u001b[92m 3.0432136058807373 \u001b[0m(-1.2534701824188232)\n",
            "     | > avg_loss_mel:\u001b[91m 21.790658950805664 \u001b[0m(+0.1559162139892578)\n",
            "     | > avg_loss_duration:\u001b[91m 1.3878060579299927 \u001b[0m(+0.0033212900161743164)\n",
            "     | > avg_loss_1:\u001b[92m 30.045543670654297 \u001b[0m(-1.2476768493652344)\n",
            "\n",
            "\n",
            "\u001b[4m\u001b[1m > EPOCH: 172/300\u001b[0m\n",
            " --> vits_20k_steps\n",
            "\n",
            "\u001b[1m > TRAINING (2024-05-19 08:01:39) \u001b[0m\n",
            "\n",
            "\u001b[1m > EVALUATION \u001b[0m\n",
            "\n"
          ]
        },
        {
          "name": "stdout",
          "output_type": "stream",
          "text": [
            " | > Synthesizing test sentences.\n"
          ]
        },
        {
          "name": "stderr",
          "output_type": "stream",
          "text": [
            "\n",
            "  \u001b[1m--> EVAL PERFORMANCE\u001b[0m\n",
            "     | > avg_loader_time:\u001b[92m 3.3379745483398438 \u001b[0m(-0.10184836387634277)\n",
            "     | > avg_loss_disc:\u001b[91m 2.8531436920166016 \u001b[0m(+0.14295673370361328)\n",
            "     | > avg_loss_disc_real_0:\u001b[91m 0.3666948676109314 \u001b[0m(+0.1952960193157196)\n",
            "     | > avg_loss_disc_real_1:\u001b[92m 0.20622000098228455 \u001b[0m(-0.04511579871177673)\n",
            "     | > avg_loss_disc_real_2:\u001b[92m 0.23460324108600616 \u001b[0m(-0.06721679866313934)\n",
            "     | > avg_loss_disc_real_3:\u001b[92m 0.1960219442844391 \u001b[0m(-0.0556713342666626)\n",
            "     | > avg_loss_disc_real_4:\u001b[91m 0.23375512659549713 \u001b[0m(+0.029968902468681335)\n",
            "     | > avg_loss_disc_real_5:\u001b[92m 0.21586617827415466 \u001b[0m(-0.02013052999973297)\n",
            "     | > avg_loss_0:\u001b[91m 2.8531436920166016 \u001b[0m(+0.14295673370361328)\n",
            "     | > avg_loss_gen:\u001b[92m 1.9310466051101685 \u001b[0m(-0.005548357963562012)\n",
            "     | > avg_loss_kl:\u001b[91m 2.0454137325286865 \u001b[0m(+0.15814316272735596)\n",
            "     | > avg_loss_feat:\u001b[91m 4.14930534362793 \u001b[0m(+1.1060917377471924)\n",
            "     | > avg_loss_mel:\u001b[92m 20.29443359375 \u001b[0m(-1.496225357055664)\n",
            "     | > avg_loss_duration:\u001b[91m 1.3928587436676025 \u001b[0m(+0.005052685737609863)\n",
            "     | > avg_loss_1:\u001b[92m 29.813058853149414 \u001b[0m(-0.2324848175048828)\n",
            "\n",
            "\n",
            "\u001b[4m\u001b[1m > EPOCH: 173/300\u001b[0m\n",
            " --> vits_20k_steps\n",
            "\n",
            "\u001b[1m > TRAINING (2024-05-19 08:02:09) \u001b[0m\n",
            "\n",
            "\u001b[1m > EVALUATION \u001b[0m\n",
            "\n"
          ]
        },
        {
          "name": "stdout",
          "output_type": "stream",
          "text": [
            " | > Synthesizing test sentences.\n"
          ]
        },
        {
          "name": "stderr",
          "output_type": "stream",
          "text": [
            "\n",
            "  \u001b[1m--> EVAL PERFORMANCE\u001b[0m\n",
            "     | > avg_loader_time:\u001b[92m 3.290668487548828 \u001b[0m(-0.047306060791015625)\n",
            "     | > avg_loss_disc:\u001b[92m 2.5636143684387207 \u001b[0m(-0.28952932357788086)\n",
            "     | > avg_loss_disc_real_0:\u001b[92m 0.13210850954055786 \u001b[0m(-0.23458635807037354)\n",
            "     | > avg_loss_disc_real_1:\u001b[91m 0.27516812086105347 \u001b[0m(+0.06894811987876892)\n",
            "     | > avg_loss_disc_real_2:\u001b[91m 0.2394019216299057 \u001b[0m(+0.004798680543899536)\n",
            "     | > avg_loss_disc_real_3:\u001b[91m 0.2623198330402374 \u001b[0m(+0.06629788875579834)\n",
            "     | > avg_loss_disc_real_4:\u001b[92m 0.18709789216518402 \u001b[0m(-0.04665723443031311)\n",
            "     | > avg_loss_disc_real_5:\u001b[92m 0.15203292667865753 \u001b[0m(-0.06383325159549713)\n",
            "     | > avg_loss_0:\u001b[92m 2.5636143684387207 \u001b[0m(-0.28952932357788086)\n",
            "     | > avg_loss_gen:\u001b[91m 2.0135843753814697 \u001b[0m(+0.08253777027130127)\n",
            "     | > avg_loss_kl:\u001b[91m 2.100166082382202 \u001b[0m(+0.054752349853515625)\n",
            "     | > avg_loss_feat:\u001b[91m 4.792966842651367 \u001b[0m(+0.6436614990234375)\n",
            "     | > avg_loss_mel:\u001b[91m 20.53632926940918 \u001b[0m(+0.2418956756591797)\n",
            "     | > avg_loss_duration:\u001b[91m 1.3988325595855713 \u001b[0m(+0.00597381591796875)\n",
            "     | > avg_loss_1:\u001b[91m 30.84187889099121 \u001b[0m(+1.0288200378417969)\n",
            "\n",
            "\n",
            "\u001b[4m\u001b[1m > EPOCH: 174/300\u001b[0m\n",
            " --> vits_20k_steps\n",
            "\n",
            "\u001b[1m > TRAINING (2024-05-19 08:02:39) \u001b[0m\n",
            "\n",
            "\u001b[1m > EVALUATION \u001b[0m\n",
            "\n"
          ]
        },
        {
          "name": "stdout",
          "output_type": "stream",
          "text": [
            " | > Synthesizing test sentences.\n"
          ]
        },
        {
          "name": "stderr",
          "output_type": "stream",
          "text": [
            "\n",
            "  \u001b[1m--> EVAL PERFORMANCE\u001b[0m\n",
            "     | > avg_loader_time:\u001b[91m 3.5457632541656494 \u001b[0m(+0.2550947666168213)\n",
            "     | > avg_loss_disc:\u001b[91m 2.6120524406433105 \u001b[0m(+0.048438072204589844)\n",
            "     | > avg_loss_disc_real_0:\u001b[91m 0.21252165734767914 \u001b[0m(+0.08041314780712128)\n",
            "     | > avg_loss_disc_real_1:\u001b[92m 0.215576171875 \u001b[0m(-0.05959194898605347)\n",
            "     | > avg_loss_disc_real_2:\u001b[92m 0.20172248780727386 \u001b[0m(-0.037679433822631836)\n",
            "     | > avg_loss_disc_real_3:\u001b[92m 0.2055206596851349 \u001b[0m(-0.05679917335510254)\n",
            "     | > avg_loss_disc_real_4:\u001b[92m 0.1587103307247162 \u001b[0m(-0.028387561440467834)\n",
            "     | > avg_loss_disc_real_5:\u001b[91m 0.27887392044067383 \u001b[0m(+0.1268409937620163)\n",
            "     | > avg_loss_0:\u001b[91m 2.6120524406433105 \u001b[0m(+0.048438072204589844)\n",
            "     | > avg_loss_gen:\u001b[92m 1.9711430072784424 \u001b[0m(-0.042441368103027344)\n",
            "     | > avg_loss_kl:\u001b[92m 1.969927191734314 \u001b[0m(-0.13023889064788818)\n",
            "     | > avg_loss_feat:\u001b[91m 5.278105735778809 \u001b[0m(+0.4851388931274414)\n",
            "     | > avg_loss_mel:\u001b[92m 19.716712951660156 \u001b[0m(-0.8196163177490234)\n",
            "     | > avg_loss_duration:\u001b[91m 1.443345069885254 \u001b[0m(+0.04451251029968262)\n",
            "     | > avg_loss_1:\u001b[92m 30.379234313964844 \u001b[0m(-0.4626445770263672)\n",
            "\n",
            "\n",
            "\u001b[4m\u001b[1m > EPOCH: 175/300\u001b[0m\n",
            " --> vits_20k_steps\n",
            "\n",
            "\u001b[1m > TRAINING (2024-05-19 08:03:09) \u001b[0m\n",
            "\n",
            "\u001b[1m > EVALUATION \u001b[0m\n",
            "\n"
          ]
        },
        {
          "name": "stdout",
          "output_type": "stream",
          "text": [
            " | > Synthesizing test sentences.\n"
          ]
        },
        {
          "name": "stderr",
          "output_type": "stream",
          "text": [
            "\n",
            "  \u001b[1m--> EVAL PERFORMANCE\u001b[0m\n",
            "     | > avg_loader_time:\u001b[92m 3.428419589996338 \u001b[0m(-0.11734366416931152)\n",
            "     | > avg_loss_disc:\u001b[92m 2.5538241863250732 \u001b[0m(-0.058228254318237305)\n",
            "     | > avg_loss_disc_real_0:\u001b[92m 0.1871868371963501 \u001b[0m(-0.02533482015132904)\n",
            "     | > avg_loss_disc_real_1:\u001b[91m 0.22632791101932526 \u001b[0m(+0.010751739144325256)\n",
            "     | > avg_loss_disc_real_2:\u001b[91m 0.2727859616279602 \u001b[0m(+0.07106347382068634)\n",
            "     | > avg_loss_disc_real_3:\u001b[91m 0.21178829669952393 \u001b[0m(+0.006267637014389038)\n",
            "     | > avg_loss_disc_real_4:\u001b[92m 0.14426693320274353 \u001b[0m(-0.014443397521972656)\n",
            "     | > avg_loss_disc_real_5:\u001b[92m 0.2082737684249878 \u001b[0m(-0.07060015201568604)\n",
            "     | > avg_loss_0:\u001b[92m 2.5538241863250732 \u001b[0m(-0.058228254318237305)\n",
            "     | > avg_loss_gen:\u001b[92m 1.9409680366516113 \u001b[0m(-0.030174970626831055)\n",
            "     | > avg_loss_kl:\u001b[91m 2.1114373207092285 \u001b[0m(+0.14151012897491455)\n",
            "     | > avg_loss_feat:\u001b[92m 4.128564834594727 \u001b[0m(-1.149540901184082)\n",
            "     | > avg_loss_mel:\u001b[91m 20.12151527404785 \u001b[0m(+0.4048023223876953)\n",
            "     | > avg_loss_duration:\u001b[92m 1.4318134784698486 \u001b[0m(-0.011531591415405273)\n",
            "     | > avg_loss_1:\u001b[92m 29.734298706054688 \u001b[0m(-0.6449356079101562)\n",
            "\n",
            "\n",
            "\u001b[4m\u001b[1m > EPOCH: 176/300\u001b[0m\n",
            " --> vits_20k_steps\n",
            "\n",
            "\u001b[1m > TRAINING (2024-05-19 08:03:39) \u001b[0m\n",
            "\n",
            "\u001b[1m > EVALUATION \u001b[0m\n",
            "\n"
          ]
        },
        {
          "name": "stdout",
          "output_type": "stream",
          "text": [
            " | > Synthesizing test sentences.\n"
          ]
        },
        {
          "name": "stderr",
          "output_type": "stream",
          "text": [
            "\n",
            "  \u001b[1m--> EVAL PERFORMANCE\u001b[0m\n",
            "     | > avg_loader_time:\u001b[92m 3.225410223007202 \u001b[0m(-0.20300936698913574)\n",
            "     | > avg_loss_disc:\u001b[92m 2.5357580184936523 \u001b[0m(-0.0180661678314209)\n",
            "     | > avg_loss_disc_real_0:\u001b[91m 0.20547106862068176 \u001b[0m(+0.018284231424331665)\n",
            "     | > avg_loss_disc_real_1:\u001b[91m 0.257609486579895 \u001b[0m(+0.03128157556056976)\n",
            "     | > avg_loss_disc_real_2:\u001b[92m 0.15066657960414886 \u001b[0m(-0.12211938202381134)\n",
            "     | > avg_loss_disc_real_3:\u001b[92m 0.17709562182426453 \u001b[0m(-0.0346926748752594)\n",
            "     | > avg_loss_disc_real_4:\u001b[91m 0.20716311037540436 \u001b[0m(+0.06289617717266083)\n",
            "     | > avg_loss_disc_real_5:\u001b[92m 0.16928346455097198 \u001b[0m(-0.03899030387401581)\n",
            "     | > avg_loss_0:\u001b[92m 2.5357580184936523 \u001b[0m(-0.0180661678314209)\n",
            "     | > avg_loss_gen:\u001b[91m 2.0314903259277344 \u001b[0m(+0.09052228927612305)\n",
            "     | > avg_loss_kl:\u001b[91m 2.1791882514953613 \u001b[0m(+0.06775093078613281)\n",
            "     | > avg_loss_feat:\u001b[91m 4.589139461517334 \u001b[0m(+0.4605746269226074)\n",
            "     | > avg_loss_mel:\u001b[91m 20.76228141784668 \u001b[0m(+0.6407661437988281)\n",
            "     | > avg_loss_duration:\u001b[92m 1.3958590030670166 \u001b[0m(-0.03595447540283203)\n",
            "     | > avg_loss_1:\u001b[91m 30.957958221435547 \u001b[0m(+1.2236595153808594)\n",
            "\n",
            "\n",
            "\u001b[4m\u001b[1m > EPOCH: 177/300\u001b[0m\n",
            " --> vits_20k_steps\n",
            "\n",
            "\u001b[1m > TRAINING (2024-05-19 08:04:09) \u001b[0m\n",
            "\n",
            "\u001b[1m > EVALUATION \u001b[0m\n",
            "\n"
          ]
        },
        {
          "name": "stdout",
          "output_type": "stream",
          "text": [
            " | > Synthesizing test sentences.\n"
          ]
        },
        {
          "name": "stderr",
          "output_type": "stream",
          "text": [
            "\n",
            "  \u001b[1m--> EVAL PERFORMANCE\u001b[0m\n",
            "     | > avg_loader_time:\u001b[91m 3.4461238384246826 \u001b[0m(+0.22071361541748047)\n",
            "     | > avg_loss_disc:\u001b[91m 2.647624969482422 \u001b[0m(+0.11186695098876953)\n",
            "     | > avg_loss_disc_real_0:\u001b[92m 0.1419227570295334 \u001b[0m(-0.06354831159114838)\n",
            "     | > avg_loss_disc_real_1:\u001b[92m 0.21497341990470886 \u001b[0m(-0.04263606667518616)\n",
            "     | > avg_loss_disc_real_2:\u001b[91m 0.21074973046779633 \u001b[0m(+0.06008315086364746)\n",
            "     | > avg_loss_disc_real_3:\u001b[91m 0.20017513632774353 \u001b[0m(+0.023079514503479004)\n",
            "     | > avg_loss_disc_real_4:\u001b[91m 0.25470301508903503 \u001b[0m(+0.047539904713630676)\n",
            "     | > avg_loss_disc_real_5:\u001b[91m 0.18469075858592987 \u001b[0m(+0.015407294034957886)\n",
            "     | > avg_loss_0:\u001b[91m 2.647624969482422 \u001b[0m(+0.11186695098876953)\n",
            "     | > avg_loss_gen:\u001b[92m 1.88631010055542 \u001b[0m(-0.14518022537231445)\n",
            "     | > avg_loss_kl:\u001b[92m 1.7562631368637085 \u001b[0m(-0.42292511463165283)\n",
            "     | > avg_loss_feat:\u001b[92m 4.082865238189697 \u001b[0m(-0.5062742233276367)\n",
            "     | > avg_loss_mel:\u001b[91m 21.179533004760742 \u001b[0m(+0.4172515869140625)\n",
            "     | > avg_loss_duration:\u001b[92m 1.391188144683838 \u001b[0m(-0.004670858383178711)\n",
            "     | > avg_loss_1:\u001b[92m 30.296159744262695 \u001b[0m(-0.6617984771728516)\n",
            "\n",
            "\n",
            "\u001b[4m\u001b[1m > EPOCH: 178/300\u001b[0m\n",
            " --> vits_20k_steps\n",
            "\n",
            "\u001b[1m > TRAINING (2024-05-19 08:04:39) \u001b[0m\n",
            "\n",
            "\u001b[1m > EVALUATION \u001b[0m\n",
            "\n"
          ]
        },
        {
          "name": "stdout",
          "output_type": "stream",
          "text": [
            " | > Synthesizing test sentences.\n"
          ]
        },
        {
          "name": "stderr",
          "output_type": "stream",
          "text": [
            "\n",
            "  \u001b[1m--> EVAL PERFORMANCE\u001b[0m\n",
            "     | > avg_loader_time:\u001b[91m 3.4798243045806885 \u001b[0m(+0.03370046615600586)\n",
            "     | > avg_loss_disc:\u001b[91m 2.857928514480591 \u001b[0m(+0.21030354499816895)\n",
            "     | > avg_loss_disc_real_0:\u001b[91m 0.1777939647436142 \u001b[0m(+0.03587120771408081)\n",
            "     | > avg_loss_disc_real_1:\u001b[91m 0.236955925822258 \u001b[0m(+0.021982505917549133)\n",
            "     | > avg_loss_disc_real_2:\u001b[92m 0.17254675924777985 \u001b[0m(-0.03820297122001648)\n",
            "     | > avg_loss_disc_real_3:\u001b[92m 0.1834515631198883 \u001b[0m(-0.016723573207855225)\n",
            "     | > avg_loss_disc_real_4:\u001b[92m 0.19842346012592316 \u001b[0m(-0.05627955496311188)\n",
            "     | > avg_loss_disc_real_5:\u001b[91m 0.2427472174167633 \u001b[0m(+0.058056458830833435)\n",
            "     | > avg_loss_0:\u001b[91m 2.857928514480591 \u001b[0m(+0.21030354499816895)\n",
            "     | > avg_loss_gen:\u001b[92m 1.5903338193893433 \u001b[0m(-0.29597628116607666)\n",
            "     | > avg_loss_kl:\u001b[91m 1.9329346418380737 \u001b[0m(+0.17667150497436523)\n",
            "     | > avg_loss_feat:\u001b[91m 4.679035663604736 \u001b[0m(+0.5961704254150391)\n",
            "     | > avg_loss_mel:\u001b[92m 19.337177276611328 \u001b[0m(-1.842355728149414)\n",
            "     | > avg_loss_duration:\u001b[92m 1.3776662349700928 \u001b[0m(-0.013521909713745117)\n",
            "     | > avg_loss_1:\u001b[92m 28.91714859008789 \u001b[0m(-1.3790111541748047)\n",
            "\n",
            "\n",
            "\u001b[4m\u001b[1m > EPOCH: 179/300\u001b[0m\n",
            " --> vits_20k_steps\n",
            "\n",
            "\u001b[1m > TRAINING (2024-05-19 08:05:09) \u001b[0m\n",
            "\n",
            "\u001b[1m > EVALUATION \u001b[0m\n",
            "\n"
          ]
        },
        {
          "name": "stdout",
          "output_type": "stream",
          "text": [
            " | > Synthesizing test sentences.\n"
          ]
        },
        {
          "name": "stderr",
          "output_type": "stream",
          "text": [
            "\n",
            "  \u001b[1m--> EVAL PERFORMANCE\u001b[0m\n",
            "     | > avg_loader_time:\u001b[91m 3.543511152267456 \u001b[0m(+0.06368684768676758)\n",
            "     | > avg_loss_disc:\u001b[92m 2.4998650550842285 \u001b[0m(-0.3580634593963623)\n",
            "     | > avg_loss_disc_real_0:\u001b[91m 0.24074727296829224 \u001b[0m(+0.06295330822467804)\n",
            "     | > avg_loss_disc_real_1:\u001b[92m 0.20368008315563202 \u001b[0m(-0.03327584266662598)\n",
            "     | > avg_loss_disc_real_2:\u001b[91m 0.20617367327213287 \u001b[0m(+0.03362691402435303)\n",
            "     | > avg_loss_disc_real_3:\u001b[91m 0.19923432171344757 \u001b[0m(+0.015782758593559265)\n",
            "     | > avg_loss_disc_real_4:\u001b[92m 0.17209307849407196 \u001b[0m(-0.026330381631851196)\n",
            "     | > avg_loss_disc_real_5:\u001b[92m 0.20831263065338135 \u001b[0m(-0.03443458676338196)\n",
            "     | > avg_loss_0:\u001b[92m 2.4998650550842285 \u001b[0m(-0.3580634593963623)\n",
            "     | > avg_loss_gen:\u001b[91m 2.0237669944763184 \u001b[0m(+0.4334331750869751)\n",
            "     | > avg_loss_kl:\u001b[92m 1.9109610319137573 \u001b[0m(-0.021973609924316406)\n",
            "     | > avg_loss_feat:\u001b[91m 4.7183732986450195 \u001b[0m(+0.0393376350402832)\n",
            "     | > avg_loss_mel:\u001b[91m 20.627077102661133 \u001b[0m(+1.2898998260498047)\n",
            "     | > avg_loss_duration:\u001b[91m 1.4164988994598389 \u001b[0m(+0.038832664489746094)\n",
            "     | > avg_loss_1:\u001b[91m 30.696678161621094 \u001b[0m(+1.7795295715332031)\n",
            "\n",
            "\n",
            "\u001b[4m\u001b[1m > EPOCH: 180/300\u001b[0m\n",
            " --> vits_20k_steps\n",
            "\n",
            "\u001b[1m > TRAINING (2024-05-19 08:05:39) \u001b[0m\n",
            "\n",
            "\u001b[1m > EVALUATION \u001b[0m\n",
            "\n"
          ]
        },
        {
          "name": "stdout",
          "output_type": "stream",
          "text": [
            " | > Synthesizing test sentences.\n"
          ]
        },
        {
          "name": "stderr",
          "output_type": "stream",
          "text": [
            "\n",
            "  \u001b[1m--> EVAL PERFORMANCE\u001b[0m\n",
            "     | > avg_loader_time:\u001b[91m 3.615666151046753 \u001b[0m(+0.07215499877929688)\n",
            "     | > avg_loss_disc:\u001b[91m 2.6403021812438965 \u001b[0m(+0.14043712615966797)\n",
            "     | > avg_loss_disc_real_0:\u001b[92m 0.20046517252922058 \u001b[0m(-0.040282100439071655)\n",
            "     | > avg_loss_disc_real_1:\u001b[91m 0.2591651976108551 \u001b[0m(+0.055485114455223083)\n",
            "     | > avg_loss_disc_real_2:\u001b[92m 0.1781337410211563 \u001b[0m(-0.028039932250976562)\n",
            "     | > avg_loss_disc_real_3:\u001b[91m 0.23759464919567108 \u001b[0m(+0.03836032748222351)\n",
            "     | > avg_loss_disc_real_4:\u001b[91m 0.2074529528617859 \u001b[0m(+0.03535987436771393)\n",
            "     | > avg_loss_disc_real_5:\u001b[91m 0.30114445090293884 \u001b[0m(+0.0928318202495575)\n",
            "     | > avg_loss_0:\u001b[91m 2.6403021812438965 \u001b[0m(+0.14043712615966797)\n",
            "     | > avg_loss_gen:\u001b[92m 2.0166428089141846 \u001b[0m(-0.007124185562133789)\n",
            "     | > avg_loss_kl:\u001b[92m 1.8723503351211548 \u001b[0m(-0.03861069679260254)\n",
            "     | > avg_loss_feat:\u001b[92m 4.548806667327881 \u001b[0m(-0.16956663131713867)\n",
            "     | > avg_loss_mel:\u001b[91m 20.63300323486328 \u001b[0m(+0.0059261322021484375)\n",
            "     | > avg_loss_duration:\u001b[92m 1.4048625230789185 \u001b[0m(-0.01163637638092041)\n",
            "     | > avg_loss_1:\u001b[92m 30.47566795349121 \u001b[0m(-0.2210102081298828)\n",
            "\n",
            "\n",
            "\u001b[4m\u001b[1m > EPOCH: 181/300\u001b[0m\n",
            " --> vits_20k_steps\n",
            "\n",
            "\u001b[1m > TRAINING (2024-05-19 08:06:09) \u001b[0m\n",
            "\n",
            "\u001b[1m > EVALUATION \u001b[0m\n",
            "\n"
          ]
        },
        {
          "name": "stdout",
          "output_type": "stream",
          "text": [
            " | > Synthesizing test sentences.\n"
          ]
        },
        {
          "name": "stderr",
          "output_type": "stream",
          "text": [
            "\n",
            "  \u001b[1m--> EVAL PERFORMANCE\u001b[0m\n",
            "     | > avg_loader_time:\u001b[91m 3.7641067504882812 \u001b[0m(+0.14844059944152832)\n",
            "     | > avg_loss_disc:\u001b[91m 2.6832404136657715 \u001b[0m(+0.042938232421875)\n",
            "     | > avg_loss_disc_real_0:\u001b[92m 0.1963031142950058 \u001b[0m(-0.004162058234214783)\n",
            "     | > avg_loss_disc_real_1:\u001b[92m 0.2437564581632614 \u001b[0m(-0.015408739447593689)\n",
            "     | > avg_loss_disc_real_2:\u001b[91m 0.20162039995193481 \u001b[0m(+0.023486658930778503)\n",
            "     | > avg_loss_disc_real_3:\u001b[91m 0.24248793721199036 \u001b[0m(+0.004893288016319275)\n",
            "     | > avg_loss_disc_real_4:\u001b[91m 0.2154584676027298 \u001b[0m(+0.008005514740943909)\n",
            "     | > avg_loss_disc_real_5:\u001b[92m 0.22112564742565155 \u001b[0m(-0.08001880347728729)\n",
            "     | > avg_loss_0:\u001b[91m 2.6832404136657715 \u001b[0m(+0.042938232421875)\n",
            "     | > avg_loss_gen:\u001b[92m 1.9717108011245728 \u001b[0m(-0.044932007789611816)\n",
            "     | > avg_loss_kl:\u001b[91m 2.002516031265259 \u001b[0m(+0.130165696144104)\n",
            "     | > avg_loss_feat:\u001b[91m 4.718204975128174 \u001b[0m(+0.16939830780029297)\n",
            "     | > avg_loss_mel:\u001b[92m 20.432092666625977 \u001b[0m(-0.2009105682373047)\n",
            "     | > avg_loss_duration:\u001b[91m 1.409116268157959 \u001b[0m(+0.004253745079040527)\n",
            "     | > avg_loss_1:\u001b[91m 30.533639907836914 \u001b[0m(+0.057971954345703125)\n",
            "\n",
            "\n",
            "\u001b[4m\u001b[1m > EPOCH: 182/300\u001b[0m\n",
            " --> vits_20k_steps\n",
            "\n",
            "\u001b[1m > TRAINING (2024-05-19 08:06:39) \u001b[0m\n",
            "\n",
            "\u001b[1m > EVALUATION \u001b[0m\n",
            "\n"
          ]
        },
        {
          "name": "stdout",
          "output_type": "stream",
          "text": [
            " | > Synthesizing test sentences.\n"
          ]
        },
        {
          "name": "stderr",
          "output_type": "stream",
          "text": [
            "\n",
            "  \u001b[1m--> EVAL PERFORMANCE\u001b[0m\n",
            "     | > avg_loader_time:\u001b[92m 3.525604486465454 \u001b[0m(-0.23850226402282715)\n",
            "     | > avg_loss_disc:\u001b[92m 2.581456184387207 \u001b[0m(-0.10178422927856445)\n",
            "     | > avg_loss_disc_real_0:\u001b[91m 0.23351334035396576 \u001b[0m(+0.03721022605895996)\n",
            "     | > avg_loss_disc_real_1:\u001b[92m 0.16936056315898895 \u001b[0m(-0.07439589500427246)\n",
            "     | > avg_loss_disc_real_2:\u001b[91m 0.2307606339454651 \u001b[0m(+0.029140233993530273)\n",
            "     | > avg_loss_disc_real_3:\u001b[92m 0.187153160572052 \u001b[0m(-0.055334776639938354)\n",
            "     | > avg_loss_disc_real_4:\u001b[91m 0.22065013647079468 \u001b[0m(+0.00519166886806488)\n",
            "     | > avg_loss_disc_real_5:\u001b[91m 0.22336840629577637 \u001b[0m(+0.002242758870124817)\n",
            "     | > avg_loss_0:\u001b[92m 2.581456184387207 \u001b[0m(-0.10178422927856445)\n",
            "     | > avg_loss_gen:\u001b[91m 2.091923475265503 \u001b[0m(+0.12021267414093018)\n",
            "     | > avg_loss_kl:\u001b[92m 1.8302031755447388 \u001b[0m(-0.17231285572052002)\n",
            "     | > avg_loss_feat:\u001b[91m 5.5475029945373535 \u001b[0m(+0.8292980194091797)\n",
            "     | > avg_loss_mel:\u001b[92m 20.283002853393555 \u001b[0m(-0.14908981323242188)\n",
            "     | > avg_loss_duration:\u001b[91m 1.4373983144760132 \u001b[0m(+0.0282820463180542)\n",
            "     | > avg_loss_1:\u001b[91m 31.190031051635742 \u001b[0m(+0.6563911437988281)\n",
            "\n",
            "\n",
            "\u001b[4m\u001b[1m > EPOCH: 183/300\u001b[0m\n",
            " --> vits_20k_steps\n",
            "\n",
            "\u001b[1m > TRAINING (2024-05-19 08:07:10) \u001b[0m\n",
            "\n",
            "\u001b[1m > EVALUATION \u001b[0m\n",
            "\n"
          ]
        },
        {
          "name": "stdout",
          "output_type": "stream",
          "text": [
            " | > Synthesizing test sentences.\n"
          ]
        },
        {
          "name": "stderr",
          "output_type": "stream",
          "text": [
            "\n",
            "  \u001b[1m--> EVAL PERFORMANCE\u001b[0m\n",
            "     | > avg_loader_time:\u001b[92m 3.4409124851226807 \u001b[0m(-0.08469200134277344)\n",
            "     | > avg_loss_disc:\u001b[91m 2.635852813720703 \u001b[0m(+0.054396629333496094)\n",
            "     | > avg_loss_disc_real_0:\u001b[92m 0.19313912093639374 \u001b[0m(-0.04037421941757202)\n",
            "     | > avg_loss_disc_real_1:\u001b[91m 0.21000103652477264 \u001b[0m(+0.04064047336578369)\n",
            "     | > avg_loss_disc_real_2:\u001b[92m 0.17364871501922607 \u001b[0m(-0.057111918926239014)\n",
            "     | > avg_loss_disc_real_3:\u001b[91m 0.21242515742778778 \u001b[0m(+0.02527199685573578)\n",
            "     | > avg_loss_disc_real_4:\u001b[91m 0.23114988207817078 \u001b[0m(+0.010499745607376099)\n",
            "     | > avg_loss_disc_real_5:\u001b[92m 0.18847383558750153 \u001b[0m(-0.03489457070827484)\n",
            "     | > avg_loss_0:\u001b[91m 2.635852813720703 \u001b[0m(+0.054396629333496094)\n",
            "     | > avg_loss_gen:\u001b[92m 1.8023334741592407 \u001b[0m(-0.2895900011062622)\n",
            "     | > avg_loss_kl:\u001b[91m 2.0041451454162598 \u001b[0m(+0.173941969871521)\n",
            "     | > avg_loss_feat:\u001b[92m 4.152824878692627 \u001b[0m(-1.3946781158447266)\n",
            "     | > avg_loss_mel:\u001b[91m 21.160524368286133 \u001b[0m(+0.8775215148925781)\n",
            "     | > avg_loss_duration:\u001b[92m 1.3875610828399658 \u001b[0m(-0.04983723163604736)\n",
            "     | > avg_loss_1:\u001b[92m 30.507389068603516 \u001b[0m(-0.6826419830322266)\n",
            "\n",
            "\n",
            "\u001b[4m\u001b[1m > EPOCH: 184/300\u001b[0m\n",
            " --> vits_20k_steps\n",
            "\n",
            "\u001b[1m > TRAINING (2024-05-19 08:07:40) \u001b[0m\n",
            "\n",
            "\u001b[1m > EVALUATION \u001b[0m\n",
            "\n"
          ]
        },
        {
          "name": "stdout",
          "output_type": "stream",
          "text": [
            " | > Synthesizing test sentences.\n"
          ]
        },
        {
          "name": "stderr",
          "output_type": "stream",
          "text": [
            "\n",
            "  \u001b[1m--> EVAL PERFORMANCE\u001b[0m\n",
            "     | > avg_loader_time:\u001b[91m 3.6315906047821045 \u001b[0m(+0.19067811965942383)\n",
            "     | > avg_loss_disc:\u001b[92m 2.3719558715820312 \u001b[0m(-0.2638969421386719)\n",
            "     | > avg_loss_disc_real_0:\u001b[92m 0.12402479350566864 \u001b[0m(-0.0691143274307251)\n",
            "     | > avg_loss_disc_real_1:\u001b[92m 0.198665052652359 \u001b[0m(-0.011335983872413635)\n",
            "     | > avg_loss_disc_real_2:\u001b[91m 0.27864208817481995 \u001b[0m(+0.10499337315559387)\n",
            "     | > avg_loss_disc_real_3:\u001b[92m 0.20092059671878815 \u001b[0m(-0.011504560708999634)\n",
            "     | > avg_loss_disc_real_4:\u001b[92m 0.16155046224594116 \u001b[0m(-0.06959941983222961)\n",
            "     | > avg_loss_disc_real_5:\u001b[92m 0.14881126582622528 \u001b[0m(-0.039662569761276245)\n",
            "     | > avg_loss_0:\u001b[92m 2.3719558715820312 \u001b[0m(-0.2638969421386719)\n",
            "     | > avg_loss_gen:\u001b[91m 2.0059823989868164 \u001b[0m(+0.20364892482757568)\n",
            "     | > avg_loss_kl:\u001b[91m 2.0633749961853027 \u001b[0m(+0.05922985076904297)\n",
            "     | > avg_loss_feat:\u001b[91m 5.431269645690918 \u001b[0m(+1.278444766998291)\n",
            "     | > avg_loss_mel:\u001b[91m 23.086488723754883 \u001b[0m(+1.92596435546875)\n",
            "     | > avg_loss_duration:\u001b[91m 1.4146790504455566 \u001b[0m(+0.02711796760559082)\n",
            "     | > avg_loss_1:\u001b[91m 34.00179672241211 \u001b[0m(+3.4944076538085938)\n",
            "\n",
            "\n",
            "\u001b[4m\u001b[1m > EPOCH: 185/300\u001b[0m\n",
            " --> vits_20k_steps\n",
            "\n",
            "\u001b[1m > TRAINING (2024-05-19 08:08:10) \u001b[0m\n",
            "\n",
            "\u001b[1m > EVALUATION \u001b[0m\n",
            "\n"
          ]
        },
        {
          "name": "stdout",
          "output_type": "stream",
          "text": [
            " | > Synthesizing test sentences.\n"
          ]
        },
        {
          "name": "stderr",
          "output_type": "stream",
          "text": [
            "\n",
            "  \u001b[1m--> EVAL PERFORMANCE\u001b[0m\n",
            "     | > avg_loader_time:\u001b[92m 3.513673782348633 \u001b[0m(-0.11791682243347168)\n",
            "     | > avg_loss_disc:\u001b[91m 2.624314069747925 \u001b[0m(+0.25235819816589355)\n",
            "     | > avg_loss_disc_real_0:\u001b[91m 0.18481719493865967 \u001b[0m(+0.06079240143299103)\n",
            "     | > avg_loss_disc_real_1:\u001b[91m 0.24305032193660736 \u001b[0m(+0.04438526928424835)\n",
            "     | > avg_loss_disc_real_2:\u001b[92m 0.17014704644680023 \u001b[0m(-0.10849504172801971)\n",
            "     | > avg_loss_disc_real_3:\u001b[91m 0.24185466766357422 \u001b[0m(+0.04093407094478607)\n",
            "     | > avg_loss_disc_real_4:\u001b[91m 0.23151187598705292 \u001b[0m(+0.06996141374111176)\n",
            "     | > avg_loss_disc_real_5:\u001b[91m 0.23679813742637634 \u001b[0m(+0.08798687160015106)\n",
            "     | > avg_loss_0:\u001b[91m 2.624314069747925 \u001b[0m(+0.25235819816589355)\n",
            "     | > avg_loss_gen:\u001b[91m 2.0431084632873535 \u001b[0m(+0.03712606430053711)\n",
            "     | > avg_loss_kl:\u001b[91m 2.2935891151428223 \u001b[0m(+0.23021411895751953)\n",
            "     | > avg_loss_feat:\u001b[92m 4.966268062591553 \u001b[0m(-0.46500158309936523)\n",
            "     | > avg_loss_mel:\u001b[92m 20.56714630126953 \u001b[0m(-2.5193424224853516)\n",
            "     | > avg_loss_duration:\u001b[91m 1.4307982921600342 \u001b[0m(+0.01611924171447754)\n",
            "     | > avg_loss_1:\u001b[92m 31.3009090423584 \u001b[0m(-2.700887680053711)\n",
            "\n",
            "\n",
            "\u001b[4m\u001b[1m > EPOCH: 186/300\u001b[0m\n",
            " --> vits_20k_steps\n",
            "\n",
            "\u001b[1m > TRAINING (2024-05-19 08:08:41) \u001b[0m\n",
            "\n",
            "\u001b[1m > EVALUATION \u001b[0m\n",
            "\n"
          ]
        },
        {
          "name": "stdout",
          "output_type": "stream",
          "text": [
            " | > Synthesizing test sentences.\n"
          ]
        },
        {
          "name": "stderr",
          "output_type": "stream",
          "text": [
            "\n",
            "  \u001b[1m--> EVAL PERFORMANCE\u001b[0m\n",
            "     | > avg_loader_time:\u001b[91m 3.5602197647094727 \u001b[0m(+0.046545982360839844)\n",
            "     | > avg_loss_disc:\u001b[91m 2.6778666973114014 \u001b[0m(+0.05355262756347656)\n",
            "     | > avg_loss_disc_real_0:\u001b[92m 0.1531347781419754 \u001b[0m(-0.031682416796684265)\n",
            "     | > avg_loss_disc_real_1:\u001b[92m 0.23269937932491302 \u001b[0m(-0.010350942611694336)\n",
            "     | > avg_loss_disc_real_2:\u001b[91m 0.22198252379894257 \u001b[0m(+0.051835477352142334)\n",
            "     | > avg_loss_disc_real_3:\u001b[92m 0.23002079129219055 \u001b[0m(-0.011833876371383667)\n",
            "     | > avg_loss_disc_real_4:\u001b[92m 0.2150217741727829 \u001b[0m(-0.01649010181427002)\n",
            "     | > avg_loss_disc_real_5:\u001b[92m 0.2000005692243576 \u001b[0m(-0.03679756820201874)\n",
            "     | > avg_loss_0:\u001b[91m 2.6778666973114014 \u001b[0m(+0.05355262756347656)\n",
            "     | > avg_loss_gen:\u001b[92m 1.7967356443405151 \u001b[0m(-0.24637281894683838)\n",
            "     | > avg_loss_kl:\u001b[92m 2.12872576713562 \u001b[0m(-0.16486334800720215)\n",
            "     | > avg_loss_feat:\u001b[92m 4.096599578857422 \u001b[0m(-0.8696684837341309)\n",
            "     | > avg_loss_mel:\u001b[91m 21.509931564331055 \u001b[0m(+0.9427852630615234)\n",
            "     | > avg_loss_duration:\u001b[91m 1.4552760124206543 \u001b[0m(+0.024477720260620117)\n",
            "     | > avg_loss_1:\u001b[92m 30.987268447875977 \u001b[0m(-0.3136405944824219)\n",
            "\n",
            "\n",
            "\u001b[4m\u001b[1m > EPOCH: 187/300\u001b[0m\n",
            " --> vits_20k_steps\n",
            "\n",
            "\u001b[1m > TRAINING (2024-05-19 08:09:11) \u001b[0m\n",
            "\n",
            "\u001b[1m > EVALUATION \u001b[0m\n",
            "\n"
          ]
        },
        {
          "name": "stdout",
          "output_type": "stream",
          "text": [
            " | > Synthesizing test sentences.\n"
          ]
        },
        {
          "name": "stderr",
          "output_type": "stream",
          "text": [
            "\n",
            "  \u001b[1m--> EVAL PERFORMANCE\u001b[0m\n",
            "     | > avg_loader_time:\u001b[92m 3.539743661880493 \u001b[0m(-0.020476102828979492)\n",
            "     | > avg_loss_disc:\u001b[91m 2.9726004600524902 \u001b[0m(+0.29473376274108887)\n",
            "     | > avg_loss_disc_real_0:\u001b[92m 0.12009036540985107 \u001b[0m(-0.03304441273212433)\n",
            "     | > avg_loss_disc_real_1:\u001b[91m 0.2647804915904999 \u001b[0m(+0.03208111226558685)\n",
            "     | > avg_loss_disc_real_2:\u001b[92m 0.20220151543617249 \u001b[0m(-0.01978100836277008)\n",
            "     | > avg_loss_disc_real_3:\u001b[92m 0.1925220638513565 \u001b[0m(-0.037498727440834045)\n",
            "     | > avg_loss_disc_real_4:\u001b[91m 0.250120609998703 \u001b[0m(+0.035098835825920105)\n",
            "     | > avg_loss_disc_real_5:\u001b[92m 0.18978160619735718 \u001b[0m(-0.010218963027000427)\n",
            "     | > avg_loss_0:\u001b[91m 2.9726004600524902 \u001b[0m(+0.29473376274108887)\n",
            "     | > avg_loss_gen:\u001b[92m 1.5554324388504028 \u001b[0m(-0.2413032054901123)\n",
            "     | > avg_loss_kl:\u001b[92m 1.983229160308838 \u001b[0m(-0.14549660682678223)\n",
            "     | > avg_loss_feat:\u001b[92m 2.771155834197998 \u001b[0m(-1.3254437446594238)\n",
            "     | > avg_loss_mel:\u001b[92m 19.625629425048828 \u001b[0m(-1.8843021392822266)\n",
            "     | > avg_loss_duration:\u001b[92m 1.4125277996063232 \u001b[0m(-0.042748212814331055)\n",
            "     | > avg_loss_1:\u001b[92m 27.34797477722168 \u001b[0m(-3.639293670654297)\n",
            "\n",
            "\n",
            "\u001b[4m\u001b[1m > EPOCH: 188/300\u001b[0m\n",
            " --> vits_20k_steps\n",
            "\n",
            "\u001b[1m > TRAINING (2024-05-19 08:09:43) \u001b[0m\n",
            "\n",
            "\u001b[1m > EVALUATION \u001b[0m\n",
            "\n"
          ]
        },
        {
          "name": "stdout",
          "output_type": "stream",
          "text": [
            " | > Synthesizing test sentences.\n"
          ]
        },
        {
          "name": "stderr",
          "output_type": "stream",
          "text": [
            "\n",
            "  \u001b[1m--> EVAL PERFORMANCE\u001b[0m\n",
            "     | > avg_loader_time:\u001b[91m 3.5465705394744873 \u001b[0m(+0.006826877593994141)\n",
            "     | > avg_loss_disc:\u001b[92m 2.9508209228515625 \u001b[0m(-0.021779537200927734)\n",
            "     | > avg_loss_disc_real_0:\u001b[91m 0.35053715109825134 \u001b[0m(+0.23044678568840027)\n",
            "     | > avg_loss_disc_real_1:\u001b[92m 0.24156029522418976 \u001b[0m(-0.02322019636631012)\n",
            "     | > avg_loss_disc_real_2:\u001b[91m 0.2414698451757431 \u001b[0m(+0.03926832973957062)\n",
            "     | > avg_loss_disc_real_3:\u001b[92m 0.19140586256980896 \u001b[0m(-0.0011162012815475464)\n",
            "     | > avg_loss_disc_real_4:\u001b[92m 0.19379280507564545 \u001b[0m(-0.056327804923057556)\n",
            "     | > avg_loss_disc_real_5:\u001b[92m 0.15252459049224854 \u001b[0m(-0.03725701570510864)\n",
            "     | > avg_loss_0:\u001b[92m 2.9508209228515625 \u001b[0m(-0.021779537200927734)\n",
            "     | > avg_loss_gen:\u001b[91m 1.6496301889419556 \u001b[0m(+0.09419775009155273)\n",
            "     | > avg_loss_kl:\u001b[92m 1.9551246166229248 \u001b[0m(-0.028104543685913086)\n",
            "     | > avg_loss_feat:\u001b[91m 3.1308720111846924 \u001b[0m(+0.35971617698669434)\n",
            "     | > avg_loss_mel:\u001b[91m 20.49913215637207 \u001b[0m(+0.8735027313232422)\n",
            "     | > avg_loss_duration:\u001b[91m 1.4448246955871582 \u001b[0m(+0.03229689598083496)\n",
            "     | > avg_loss_1:\u001b[91m 28.679582595825195 \u001b[0m(+1.3316078186035156)\n",
            "\n",
            "\n",
            "\u001b[4m\u001b[1m > EPOCH: 189/300\u001b[0m\n",
            " --> vits_20k_steps\n",
            "\n",
            "\u001b[1m > TRAINING (2024-05-19 08:10:14) \u001b[0m\n",
            "\n",
            "\u001b[1m > EVALUATION \u001b[0m\n",
            "\n"
          ]
        },
        {
          "name": "stdout",
          "output_type": "stream",
          "text": [
            " | > Synthesizing test sentences.\n"
          ]
        },
        {
          "name": "stderr",
          "output_type": "stream",
          "text": [
            "\n",
            "  \u001b[1m--> EVAL PERFORMANCE\u001b[0m\n",
            "     | > avg_loader_time:\u001b[92m 3.4993789196014404 \u001b[0m(-0.047191619873046875)\n",
            "     | > avg_loss_disc:\u001b[92m 2.9131290912628174 \u001b[0m(-0.03769183158874512)\n",
            "     | > avg_loss_disc_real_0:\u001b[92m 0.2483394742012024 \u001b[0m(-0.10219767689704895)\n",
            "     | > avg_loss_disc_real_1:\u001b[92m 0.21238359808921814 \u001b[0m(-0.02917669713497162)\n",
            "     | > avg_loss_disc_real_2:\u001b[91m 0.24976371228694916 \u001b[0m(+0.008293867111206055)\n",
            "     | > avg_loss_disc_real_3:\u001b[91m 0.20404386520385742 \u001b[0m(+0.012638002634048462)\n",
            "     | > avg_loss_disc_real_4:\u001b[91m 0.21723444759845734 \u001b[0m(+0.02344164252281189)\n",
            "     | > avg_loss_disc_real_5:\u001b[91m 0.1995440125465393 \u001b[0m(+0.04701942205429077)\n",
            "     | > avg_loss_0:\u001b[92m 2.9131290912628174 \u001b[0m(-0.03769183158874512)\n",
            "     | > avg_loss_gen:\u001b[91m 1.7122437953948975 \u001b[0m(+0.0626136064529419)\n",
            "     | > avg_loss_kl:\u001b[91m 2.1368815898895264 \u001b[0m(+0.18175697326660156)\n",
            "     | > avg_loss_feat:\u001b[91m 4.299654483795166 \u001b[0m(+1.1687824726104736)\n",
            "     | > avg_loss_mel:\u001b[92m 19.79617691040039 \u001b[0m(-0.7029552459716797)\n",
            "     | > avg_loss_duration:\u001b[92m 1.4068951606750488 \u001b[0m(-0.037929534912109375)\n",
            "     | > avg_loss_1:\u001b[91m 29.351850509643555 \u001b[0m(+0.6722679138183594)\n",
            "\n",
            "\n",
            "\u001b[4m\u001b[1m > EPOCH: 190/300\u001b[0m\n",
            " --> vits_20k_steps\n",
            "\n",
            "\u001b[1m > TRAINING (2024-05-19 08:10:45) \u001b[0m\n",
            "\n",
            "\u001b[1m > EVALUATION \u001b[0m\n",
            "\n"
          ]
        },
        {
          "name": "stdout",
          "output_type": "stream",
          "text": [
            " | > Synthesizing test sentences.\n"
          ]
        },
        {
          "name": "stderr",
          "output_type": "stream",
          "text": [
            "\n",
            "  \u001b[1m--> EVAL PERFORMANCE\u001b[0m\n",
            "     | > avg_loader_time:\u001b[91m 3.6347601413726807 \u001b[0m(+0.13538122177124023)\n",
            "     | > avg_loss_disc:\u001b[92m 2.826415538787842 \u001b[0m(-0.08671355247497559)\n",
            "     | > avg_loss_disc_real_0:\u001b[91m 0.2916911542415619 \u001b[0m(+0.0433516800403595)\n",
            "     | > avg_loss_disc_real_1:\u001b[91m 0.258908748626709 \u001b[0m(+0.046525150537490845)\n",
            "     | > avg_loss_disc_real_2:\u001b[91m 0.2522647976875305 \u001b[0m(+0.00250108540058136)\n",
            "     | > avg_loss_disc_real_3:\u001b[92m 0.18209901452064514 \u001b[0m(-0.02194485068321228)\n",
            "     | > avg_loss_disc_real_4:\u001b[91m 0.23506532609462738 \u001b[0m(+0.017830878496170044)\n",
            "     | > avg_loss_disc_real_5:\u001b[91m 0.26673102378845215 \u001b[0m(+0.06718701124191284)\n",
            "     | > avg_loss_0:\u001b[92m 2.826415538787842 \u001b[0m(-0.08671355247497559)\n",
            "     | > avg_loss_gen:\u001b[91m 2.232809066772461 \u001b[0m(+0.5205652713775635)\n",
            "     | > avg_loss_kl:\u001b[92m 1.9358726739883423 \u001b[0m(-0.20100891590118408)\n",
            "     | > avg_loss_feat:\u001b[91m 5.5263352394104 \u001b[0m(+1.2266807556152344)\n",
            "     | > avg_loss_mel:\u001b[91m 22.911117553710938 \u001b[0m(+3.114940643310547)\n",
            "     | > avg_loss_duration:\u001b[92m 1.390406608581543 \u001b[0m(-0.01648855209350586)\n",
            "     | > avg_loss_1:\u001b[91m 33.99654006958008 \u001b[0m(+4.644689559936523)\n",
            "\n",
            "\n",
            "\u001b[4m\u001b[1m > EPOCH: 191/300\u001b[0m\n",
            " --> vits_20k_steps\n",
            "\n",
            "\u001b[1m > TRAINING (2024-05-19 08:11:15) \u001b[0m\n",
            "\n",
            "\u001b[1m > EVALUATION \u001b[0m\n",
            "\n"
          ]
        },
        {
          "name": "stdout",
          "output_type": "stream",
          "text": [
            " | > Synthesizing test sentences.\n"
          ]
        },
        {
          "name": "stderr",
          "output_type": "stream",
          "text": [
            "\n",
            "  \u001b[1m--> EVAL PERFORMANCE\u001b[0m\n",
            "     | > avg_loader_time:\u001b[92m 3.537022590637207 \u001b[0m(-0.09773755073547363)\n",
            "     | > avg_loss_disc:\u001b[92m 2.7340645790100098 \u001b[0m(-0.09235095977783203)\n",
            "     | > avg_loss_disc_real_0:\u001b[91m 0.3002016544342041 \u001b[0m(+0.008510500192642212)\n",
            "     | > avg_loss_disc_real_1:\u001b[92m 0.23225201666355133 \u001b[0m(-0.026656731963157654)\n",
            "     | > avg_loss_disc_real_2:\u001b[91m 0.2794816792011261 \u001b[0m(+0.02721688151359558)\n",
            "     | > avg_loss_disc_real_3:\u001b[91m 0.2668526768684387 \u001b[0m(+0.08475366234779358)\n",
            "     | > avg_loss_disc_real_4:\u001b[92m 0.22277022898197174 \u001b[0m(-0.01229509711265564)\n",
            "     | > avg_loss_disc_real_5:\u001b[92m 0.1866505891084671 \u001b[0m(-0.08008043467998505)\n",
            "     | > avg_loss_0:\u001b[92m 2.7340645790100098 \u001b[0m(-0.09235095977783203)\n",
            "     | > avg_loss_gen:\u001b[92m 2.1321301460266113 \u001b[0m(-0.10067892074584961)\n",
            "     | > avg_loss_kl:\u001b[92m 1.6725691556930542 \u001b[0m(-0.2633035182952881)\n",
            "     | > avg_loss_feat:\u001b[92m 3.5001039505004883 \u001b[0m(-2.026231288909912)\n",
            "     | > avg_loss_mel:\u001b[92m 21.325864791870117 \u001b[0m(-1.5852527618408203)\n",
            "     | > avg_loss_duration:\u001b[91m 1.4166436195373535 \u001b[0m(+0.026237010955810547)\n",
            "     | > avg_loss_1:\u001b[92m 30.047311782836914 \u001b[0m(-3.949228286743164)\n",
            "\n",
            "\n",
            "\u001b[4m\u001b[1m > EPOCH: 192/300\u001b[0m\n",
            " --> vits_20k_steps\n",
            "\n",
            "\u001b[1m > TRAINING (2024-05-19 08:11:45) \u001b[0m\n",
            "\n",
            "\u001b[1m > EVALUATION \u001b[0m\n",
            "\n"
          ]
        },
        {
          "name": "stdout",
          "output_type": "stream",
          "text": [
            " | > Synthesizing test sentences.\n"
          ]
        },
        {
          "name": "stderr",
          "output_type": "stream",
          "text": [
            "\n",
            "  \u001b[1m--> EVAL PERFORMANCE\u001b[0m\n",
            "     | > avg_loader_time:\u001b[92m 3.5165767669677734 \u001b[0m(-0.020445823669433594)\n",
            "     | > avg_loss_disc:\u001b[92m 2.691013813018799 \u001b[0m(-0.04305076599121094)\n",
            "     | > avg_loss_disc_real_0:\u001b[91m 0.3740471303462982 \u001b[0m(+0.07384547591209412)\n",
            "     | > avg_loss_disc_real_1:\u001b[91m 0.2415921539068222 \u001b[0m(+0.009340137243270874)\n",
            "     | > avg_loss_disc_real_2:\u001b[92m 0.26155394315719604 \u001b[0m(-0.017927736043930054)\n",
            "     | > avg_loss_disc_real_3:\u001b[92m 0.20465587079524994 \u001b[0m(-0.06219680607318878)\n",
            "     | > avg_loss_disc_real_4:\u001b[91m 0.25381308794021606 \u001b[0m(+0.031042858958244324)\n",
            "     | > avg_loss_disc_real_5:\u001b[92m 0.18597282469272614 \u001b[0m(-0.0006777644157409668)\n",
            "     | > avg_loss_0:\u001b[92m 2.691013813018799 \u001b[0m(-0.04305076599121094)\n",
            "     | > avg_loss_gen:\u001b[91m 2.1546974182128906 \u001b[0m(+0.022567272186279297)\n",
            "     | > avg_loss_kl:\u001b[91m 1.7186287641525269 \u001b[0m(+0.046059608459472656)\n",
            "     | > avg_loss_feat:\u001b[91m 4.341643333435059 \u001b[0m(+0.8415393829345703)\n",
            "     | > avg_loss_mel:\u001b[92m 19.754802703857422 \u001b[0m(-1.5710620880126953)\n",
            "     | > avg_loss_duration:\u001b[91m 1.422057032585144 \u001b[0m(+0.005413413047790527)\n",
            "     | > avg_loss_1:\u001b[92m 29.391828536987305 \u001b[0m(-0.6554832458496094)\n",
            "\n",
            "\n",
            "\u001b[4m\u001b[1m > EPOCH: 193/300\u001b[0m\n",
            " --> vits_20k_steps\n",
            "\n",
            "\u001b[1m > TRAINING (2024-05-19 08:12:17) \u001b[0m\n",
            "\n",
            "\u001b[1m > EVALUATION \u001b[0m\n",
            "\n"
          ]
        },
        {
          "name": "stdout",
          "output_type": "stream",
          "text": [
            " | > Synthesizing test sentences.\n"
          ]
        },
        {
          "name": "stderr",
          "output_type": "stream",
          "text": [
            "\n",
            "  \u001b[1m--> EVAL PERFORMANCE\u001b[0m\n",
            "     | > avg_loader_time:\u001b[92m 3.3344881534576416 \u001b[0m(-0.18208861351013184)\n",
            "     | > avg_loss_disc:\u001b[91m 2.787113904953003 \u001b[0m(+0.0961000919342041)\n",
            "     | > avg_loss_disc_real_0:\u001b[92m 0.2083960622549057 \u001b[0m(-0.16565106809139252)\n",
            "     | > avg_loss_disc_real_1:\u001b[91m 0.2893730401992798 \u001b[0m(+0.04778088629245758)\n",
            "     | > avg_loss_disc_real_2:\u001b[92m 0.2429085075855255 \u001b[0m(-0.018645435571670532)\n",
            "     | > avg_loss_disc_real_3:\u001b[91m 0.2547680139541626 \u001b[0m(+0.05011214315891266)\n",
            "     | > avg_loss_disc_real_4:\u001b[92m 0.25346583127975464 \u001b[0m(-0.0003472566604614258)\n",
            "     | > avg_loss_disc_real_5:\u001b[92m 0.16253523528575897 \u001b[0m(-0.023437589406967163)\n",
            "     | > avg_loss_0:\u001b[91m 2.787113904953003 \u001b[0m(+0.0961000919342041)\n",
            "     | > avg_loss_gen:\u001b[92m 1.8639566898345947 \u001b[0m(-0.2907407283782959)\n",
            "     | > avg_loss_kl:\u001b[91m 1.789231538772583 \u001b[0m(+0.07060277462005615)\n",
            "     | > avg_loss_feat:\u001b[92m 4.197768688201904 \u001b[0m(-0.1438746452331543)\n",
            "     | > avg_loss_mel:\u001b[91m 20.719913482666016 \u001b[0m(+0.9651107788085938)\n",
            "     | > avg_loss_duration:\u001b[92m 1.4088923931121826 \u001b[0m(-0.013164639472961426)\n",
            "     | > avg_loss_1:\u001b[91m 29.979761123657227 \u001b[0m(+0.5879325866699219)\n",
            "\n",
            "\n",
            "\u001b[4m\u001b[1m > EPOCH: 194/300\u001b[0m\n",
            " --> vits_20k_steps\n",
            "\n",
            "\u001b[1m > TRAINING (2024-05-19 08:12:47) \u001b[0m\n",
            "\n",
            "\u001b[1m > EVALUATION \u001b[0m\n",
            "\n"
          ]
        },
        {
          "name": "stdout",
          "output_type": "stream",
          "text": [
            " | > Synthesizing test sentences.\n"
          ]
        },
        {
          "name": "stderr",
          "output_type": "stream",
          "text": [
            "\n",
            "  \u001b[1m--> EVAL PERFORMANCE\u001b[0m\n",
            "     | > avg_loader_time:\u001b[92m 3.3330442905426025 \u001b[0m(-0.0014438629150390625)\n",
            "     | > avg_loss_disc:\u001b[92m 2.4593210220336914 \u001b[0m(-0.3277928829193115)\n",
            "     | > avg_loss_disc_real_0:\u001b[92m 0.1966046690940857 \u001b[0m(-0.011791393160820007)\n",
            "     | > avg_loss_disc_real_1:\u001b[92m 0.23712065815925598 \u001b[0m(-0.052252382040023804)\n",
            "     | > avg_loss_disc_real_2:\u001b[92m 0.1764592081308365 \u001b[0m(-0.06644929945468903)\n",
            "     | > avg_loss_disc_real_3:\u001b[92m 0.22048456966876984 \u001b[0m(-0.03428344428539276)\n",
            "     | > avg_loss_disc_real_4:\u001b[92m 0.1934998482465744 \u001b[0m(-0.05996598303318024)\n",
            "     | > avg_loss_disc_real_5:\u001b[91m 0.2618100643157959 \u001b[0m(+0.09927482903003693)\n",
            "     | > avg_loss_0:\u001b[92m 2.4593210220336914 \u001b[0m(-0.3277928829193115)\n",
            "     | > avg_loss_gen:\u001b[91m 2.1875693798065186 \u001b[0m(+0.32361268997192383)\n",
            "     | > avg_loss_kl:\u001b[91m 1.857645034790039 \u001b[0m(+0.06841349601745605)\n",
            "     | > avg_loss_feat:\u001b[91m 5.552924156188965 \u001b[0m(+1.3551554679870605)\n",
            "     | > avg_loss_mel:\u001b[91m 22.021223068237305 \u001b[0m(+1.301309585571289)\n",
            "     | > avg_loss_duration:\u001b[91m 1.4942694902420044 \u001b[0m(+0.08537709712982178)\n",
            "     | > avg_loss_1:\u001b[91m 33.11363220214844 \u001b[0m(+3.133871078491211)\n",
            "\n",
            "\n",
            "\u001b[4m\u001b[1m > EPOCH: 195/300\u001b[0m\n",
            " --> vits_20k_steps\n",
            "\n",
            "\u001b[1m > TRAINING (2024-05-19 08:13:18) \u001b[0m\n",
            "\n",
            "\u001b[1m > EVALUATION \u001b[0m\n",
            "\n"
          ]
        },
        {
          "name": "stdout",
          "output_type": "stream",
          "text": [
            " | > Synthesizing test sentences.\n"
          ]
        },
        {
          "name": "stderr",
          "output_type": "stream",
          "text": [
            "\n",
            "  \u001b[1m--> EVAL PERFORMANCE\u001b[0m\n",
            "     | > avg_loader_time:\u001b[91m 3.3423104286193848 \u001b[0m(+0.009266138076782227)\n",
            "     | > avg_loss_disc:\u001b[91m 2.7812979221343994 \u001b[0m(+0.321976900100708)\n",
            "     | > avg_loss_disc_real_0:\u001b[91m 0.2530898451805115 \u001b[0m(+0.05648517608642578)\n",
            "     | > avg_loss_disc_real_1:\u001b[92m 0.19815275073051453 \u001b[0m(-0.038967907428741455)\n",
            "     | > avg_loss_disc_real_2:\u001b[91m 0.21963255107402802 \u001b[0m(+0.04317334294319153)\n",
            "     | > avg_loss_disc_real_3:\u001b[92m 0.2102622240781784 \u001b[0m(-0.01022234559059143)\n",
            "     | > avg_loss_disc_real_4:\u001b[91m 0.25345686078071594 \u001b[0m(+0.05995701253414154)\n",
            "     | > avg_loss_disc_real_5:\u001b[92m 0.20784220099449158 \u001b[0m(-0.05396786332130432)\n",
            "     | > avg_loss_0:\u001b[91m 2.7812979221343994 \u001b[0m(+0.321976900100708)\n",
            "     | > avg_loss_gen:\u001b[92m 1.9356813430786133 \u001b[0m(-0.2518880367279053)\n",
            "     | > avg_loss_kl:\u001b[91m 1.9200139045715332 \u001b[0m(+0.06236886978149414)\n",
            "     | > avg_loss_feat:\u001b[92m 4.51938009262085 \u001b[0m(-1.0335440635681152)\n",
            "     | > avg_loss_mel:\u001b[92m 20.237396240234375 \u001b[0m(-1.7838268280029297)\n",
            "     | > avg_loss_duration:\u001b[92m 1.4835608005523682 \u001b[0m(-0.01070868968963623)\n",
            "     | > avg_loss_1:\u001b[92m 30.096033096313477 \u001b[0m(-3.017599105834961)\n",
            "\n",
            "\n",
            "\u001b[4m\u001b[1m > EPOCH: 196/300\u001b[0m\n",
            " --> vits_20k_steps\n",
            "\n",
            "\u001b[1m > TRAINING (2024-05-19 08:13:48) \u001b[0m\n",
            "\n",
            "\u001b[1m > EVALUATION \u001b[0m\n",
            "\n"
          ]
        },
        {
          "name": "stdout",
          "output_type": "stream",
          "text": [
            " | > Synthesizing test sentences.\n"
          ]
        },
        {
          "name": "stderr",
          "output_type": "stream",
          "text": [
            "\n",
            "  \u001b[1m--> EVAL PERFORMANCE\u001b[0m\n",
            "     | > avg_loader_time:\u001b[91m 3.4176011085510254 \u001b[0m(+0.07529067993164062)\n",
            "     | > avg_loss_disc:\u001b[92m 2.4199576377868652 \u001b[0m(-0.3613402843475342)\n",
            "     | > avg_loss_disc_real_0:\u001b[92m 0.15100212395191193 \u001b[0m(-0.10208772122859955)\n",
            "     | > avg_loss_disc_real_1:\u001b[92m 0.19431881606578827 \u001b[0m(-0.0038339346647262573)\n",
            "     | > avg_loss_disc_real_2:\u001b[91m 0.2324463129043579 \u001b[0m(+0.012813761830329895)\n",
            "     | > avg_loss_disc_real_3:\u001b[91m 0.21973329782485962 \u001b[0m(+0.009471073746681213)\n",
            "     | > avg_loss_disc_real_4:\u001b[92m 0.19805964827537537 \u001b[0m(-0.055397212505340576)\n",
            "     | > avg_loss_disc_real_5:\u001b[92m 0.1660006195306778 \u001b[0m(-0.04184158146381378)\n",
            "     | > avg_loss_0:\u001b[92m 2.4199576377868652 \u001b[0m(-0.3613402843475342)\n",
            "     | > avg_loss_gen:\u001b[91m 2.0598411560058594 \u001b[0m(+0.1241598129272461)\n",
            "     | > avg_loss_kl:\u001b[91m 1.972510814666748 \u001b[0m(+0.052496910095214844)\n",
            "     | > avg_loss_feat:\u001b[92m 4.300019264221191 \u001b[0m(-0.2193608283996582)\n",
            "     | > avg_loss_mel:\u001b[91m 21.113557815551758 \u001b[0m(+0.8761615753173828)\n",
            "     | > avg_loss_duration:\u001b[92m 1.468123197555542 \u001b[0m(-0.015437602996826172)\n",
            "     | > avg_loss_1:\u001b[91m 30.914051055908203 \u001b[0m(+0.8180179595947266)\n",
            "\n",
            "\n",
            "\u001b[4m\u001b[1m > EPOCH: 197/300\u001b[0m\n",
            " --> vits_20k_steps\n",
            "\n",
            "\u001b[1m > TRAINING (2024-05-19 08:14:19) \u001b[0m\n",
            "\n",
            "\u001b[1m   --> TIME: 2024-05-19 08:14:40 -- STEP: 12/14 -- GLOBAL_STEP: 27000\u001b[0m\n",
            "     | > loss_disc: 2.57000732421875  (2.5534086227416988)\n",
            "     | > loss_disc_real_0: 0.270740270614624  (0.1554376408457756)\n",
            "     | > loss_disc_real_1: 0.2664446532726288  (0.24808180456360182)\n",
            "     | > loss_disc_real_2: 0.2167464643716812  (0.23656638960043588)\n",
            "     | > loss_disc_real_3: 0.21086125075817108  (0.2352121795217196)\n",
            "     | > loss_disc_real_4: 0.23916766047477722  (0.21468847865859667)\n",
            "     | > loss_disc_real_5: 0.2190714031457901  (0.22809391096234322)\n",
            "     | > loss_0: 2.57000732421875  (2.5534086227416988)\n",
            "     | > grad_norm_0: tensor(16.5505, device='cuda:0')  (tensor(12.5895, device='cuda:0'))\n",
            "     | > loss_gen: 2.218686103820801  (2.1859974761803946)\n",
            "     | > loss_kl: 1.3703768253326416  (1.2457588762044907)\n",
            "     | > loss_feat: 4.263973712921143  (4.452470421791077)\n",
            "     | > loss_mel: 20.510929107666016  (20.186009407043457)\n",
            "     | > loss_duration: 1.2884278297424316  (1.1555622319380443)\n",
            "     | > amp_scaler: 512.0  (512.0)\n",
            "     | > loss_1: 29.65239143371582  (29.22579876581828)\n",
            "     | > grad_norm_1: tensor(83.5280, device='cuda:0')  (tensor(56.8712, device='cuda:0'))\n",
            "     | > current_lr_0: 0.00015718560595103556 \n",
            "     | > current_lr_1: 0.00015718560595103556 \n",
            "     | > step_time: 1.6985  (1.2225659290949504)\n",
            "     | > loader_time: 0.0193  (0.0117721954981486)\n",
            "\n",
            "\n",
            "\u001b[1m > EVALUATION \u001b[0m\n",
            "\n"
          ]
        },
        {
          "name": "stdout",
          "output_type": "stream",
          "text": [
            " | > Synthesizing test sentences.\n"
          ]
        },
        {
          "name": "stderr",
          "output_type": "stream",
          "text": [
            "\n",
            "  \u001b[1m--> EVAL PERFORMANCE\u001b[0m\n",
            "     | > avg_loader_time:\u001b[92m 3.3707985877990723 \u001b[0m(-0.046802520751953125)\n",
            "     | > avg_loss_disc:\u001b[91m 2.6559484004974365 \u001b[0m(+0.2359907627105713)\n",
            "     | > avg_loss_disc_real_0:\u001b[92m 0.13258960843086243 \u001b[0m(-0.0184125155210495)\n",
            "     | > avg_loss_disc_real_1:\u001b[92m 0.1627867966890335 \u001b[0m(-0.03153201937675476)\n",
            "     | > avg_loss_disc_real_2:\u001b[91m 0.27110204100608826 \u001b[0m(+0.03865572810173035)\n",
            "     | > avg_loss_disc_real_3:\u001b[91m 0.24085485935211182 \u001b[0m(+0.021121561527252197)\n",
            "     | > avg_loss_disc_real_4:\u001b[91m 0.21618714928627014 \u001b[0m(+0.018127501010894775)\n",
            "     | > avg_loss_disc_real_5:\u001b[91m 0.23897108435630798 \u001b[0m(+0.07297046482563019)\n",
            "     | > avg_loss_0:\u001b[91m 2.6559484004974365 \u001b[0m(+0.2359907627105713)\n",
            "     | > avg_loss_gen:\u001b[92m 1.9864883422851562 \u001b[0m(-0.07335281372070312)\n",
            "     | > avg_loss_kl:\u001b[92m 1.8867121934890747 \u001b[0m(-0.08579862117767334)\n",
            "     | > avg_loss_feat:\u001b[91m 4.371500015258789 \u001b[0m(+0.07148075103759766)\n",
            "     | > avg_loss_mel:\u001b[91m 21.67047119140625 \u001b[0m(+0.5569133758544922)\n",
            "     | > avg_loss_duration:\u001b[92m 1.4432995319366455 \u001b[0m(-0.024823665618896484)\n",
            "     | > avg_loss_1:\u001b[91m 31.35847282409668 \u001b[0m(+0.44442176818847656)\n",
            "\n",
            "\n",
            "\u001b[4m\u001b[1m > EPOCH: 198/300\u001b[0m\n",
            " --> vits_20k_steps\n",
            "\n",
            "\u001b[1m > TRAINING (2024-05-19 08:14:49) \u001b[0m\n",
            "\n",
            "\u001b[1m > EVALUATION \u001b[0m\n",
            "\n"
          ]
        },
        {
          "name": "stdout",
          "output_type": "stream",
          "text": [
            " | > Synthesizing test sentences.\n"
          ]
        },
        {
          "name": "stderr",
          "output_type": "stream",
          "text": [
            "\n",
            "  \u001b[1m--> EVAL PERFORMANCE\u001b[0m\n",
            "     | > avg_loader_time:\u001b[91m 3.4823923110961914 \u001b[0m(+0.11159372329711914)\n",
            "     | > avg_loss_disc:\u001b[91m 2.8203916549682617 \u001b[0m(+0.1644432544708252)\n",
            "     | > avg_loss_disc_real_0:\u001b[91m 0.24532948434352875 \u001b[0m(+0.11273987591266632)\n",
            "     | > avg_loss_disc_real_1:\u001b[91m 0.21780051290988922 \u001b[0m(+0.05501371622085571)\n",
            "     | > avg_loss_disc_real_2:\u001b[92m 0.2529619634151459 \u001b[0m(-0.018140077590942383)\n",
            "     | > avg_loss_disc_real_3:\u001b[92m 0.21826326847076416 \u001b[0m(-0.022591590881347656)\n",
            "     | > avg_loss_disc_real_4:\u001b[91m 0.22706885635852814 \u001b[0m(+0.010881707072257996)\n",
            "     | > avg_loss_disc_real_5:\u001b[91m 0.24592944979667664 \u001b[0m(+0.006958365440368652)\n",
            "     | > avg_loss_0:\u001b[91m 2.8203916549682617 \u001b[0m(+0.1644432544708252)\n",
            "     | > avg_loss_gen:\u001b[92m 1.8676350116729736 \u001b[0m(-0.11885333061218262)\n",
            "     | > avg_loss_kl:\u001b[91m 2.258532762527466 \u001b[0m(+0.3718205690383911)\n",
            "     | > avg_loss_feat:\u001b[92m 3.5028998851776123 \u001b[0m(-0.8686001300811768)\n",
            "     | > avg_loss_mel:\u001b[92m 20.424182891845703 \u001b[0m(-1.2462882995605469)\n",
            "     | > avg_loss_duration:\u001b[91m 1.4795478582382202 \u001b[0m(+0.03624832630157471)\n",
            "     | > avg_loss_1:\u001b[92m 29.532798767089844 \u001b[0m(-1.825674057006836)\n",
            "\n",
            "\n",
            "\u001b[4m\u001b[1m > EPOCH: 199/300\u001b[0m\n",
            " --> vits_20k_steps\n",
            "\n",
            "\u001b[1m > TRAINING (2024-05-19 08:15:20) \u001b[0m\n",
            "\n",
            "\u001b[1m > EVALUATION \u001b[0m\n",
            "\n"
          ]
        },
        {
          "name": "stdout",
          "output_type": "stream",
          "text": [
            " | > Synthesizing test sentences.\n"
          ]
        },
        {
          "name": "stderr",
          "output_type": "stream",
          "text": [
            "\n",
            "  \u001b[1m--> EVAL PERFORMANCE\u001b[0m\n",
            "     | > avg_loader_time:\u001b[91m 3.542555809020996 \u001b[0m(+0.06016349792480469)\n",
            "     | > avg_loss_disc:\u001b[92m 2.731447458267212 \u001b[0m(-0.0889441967010498)\n",
            "     | > avg_loss_disc_real_0:\u001b[92m 0.1824760138988495 \u001b[0m(-0.06285347044467926)\n",
            "     | > avg_loss_disc_real_1:\u001b[91m 0.22622442245483398 \u001b[0m(+0.008423909544944763)\n",
            "     | > avg_loss_disc_real_2:\u001b[92m 0.25027596950531006 \u001b[0m(-0.0026859939098358154)\n",
            "     | > avg_loss_disc_real_3:\u001b[92m 0.2121352255344391 \u001b[0m(-0.006128042936325073)\n",
            "     | > avg_loss_disc_real_4:\u001b[92m 0.2219369113445282 \u001b[0m(-0.005131945013999939)\n",
            "     | > avg_loss_disc_real_5:\u001b[91m 0.25945866107940674 \u001b[0m(+0.013529211282730103)\n",
            "     | > avg_loss_0:\u001b[92m 2.731447458267212 \u001b[0m(-0.0889441967010498)\n",
            "     | > avg_loss_gen:\u001b[91m 1.9157427549362183 \u001b[0m(+0.04810774326324463)\n",
            "     | > avg_loss_kl:\u001b[92m 1.9051523208618164 \u001b[0m(-0.3533804416656494)\n",
            "     | > avg_loss_feat:\u001b[91m 4.351476192474365 \u001b[0m(+0.8485763072967529)\n",
            "     | > avg_loss_mel:\u001b[91m 20.688982009887695 \u001b[0m(+0.2647991180419922)\n",
            "     | > avg_loss_duration:\u001b[92m 1.460633397102356 \u001b[0m(-0.018914461135864258)\n",
            "     | > avg_loss_1:\u001b[91m 30.32198715209961 \u001b[0m(+0.7891883850097656)\n",
            "\n",
            "\n",
            "\u001b[4m\u001b[1m > EPOCH: 200/300\u001b[0m\n",
            " --> vits_20k_steps\n",
            "\n",
            "\u001b[1m > TRAINING (2024-05-19 08:15:51) \u001b[0m\n",
            "\n",
            "\u001b[1m > EVALUATION \u001b[0m\n",
            "\n"
          ]
        },
        {
          "name": "stdout",
          "output_type": "stream",
          "text": [
            " | > Synthesizing test sentences.\n"
          ]
        },
        {
          "name": "stderr",
          "output_type": "stream",
          "text": [
            "\n",
            "  \u001b[1m--> EVAL PERFORMANCE\u001b[0m\n",
            "     | > avg_loader_time:\u001b[92m 3.453073740005493 \u001b[0m(-0.08948206901550293)\n",
            "     | > avg_loss_disc:\u001b[92m 2.6475322246551514 \u001b[0m(-0.08391523361206055)\n",
            "     | > avg_loss_disc_real_0:\u001b[91m 0.24010905623435974 \u001b[0m(+0.057633042335510254)\n",
            "     | > avg_loss_disc_real_1:\u001b[91m 0.24013663828372955 \u001b[0m(+0.013912215828895569)\n",
            "     | > avg_loss_disc_real_2:\u001b[92m 0.2055584341287613 \u001b[0m(-0.04471753537654877)\n",
            "     | > avg_loss_disc_real_3:\u001b[92m 0.2071201205253601 \u001b[0m(-0.0050151050090789795)\n",
            "     | > avg_loss_disc_real_4:\u001b[91m 0.2279544472694397 \u001b[0m(+0.006017535924911499)\n",
            "     | > avg_loss_disc_real_5:\u001b[92m 0.24933160841464996 \u001b[0m(-0.010127052664756775)\n",
            "     | > avg_loss_0:\u001b[92m 2.6475322246551514 \u001b[0m(-0.08391523361206055)\n",
            "     | > avg_loss_gen:\u001b[91m 1.9470155239105225 \u001b[0m(+0.0312727689743042)\n",
            "     | > avg_loss_kl:\u001b[92m 1.7945148944854736 \u001b[0m(-0.11063742637634277)\n",
            "     | > avg_loss_feat:\u001b[92m 3.934760332107544 \u001b[0m(-0.4167158603668213)\n",
            "     | > avg_loss_mel:\u001b[92m 20.22222900390625 \u001b[0m(-0.4667530059814453)\n",
            "     | > avg_loss_duration:\u001b[92m 1.4414845705032349 \u001b[0m(-0.019148826599121094)\n",
            "     | > avg_loss_1:\u001b[92m 29.340003967285156 \u001b[0m(-0.9819831848144531)\n",
            "\n",
            "\n",
            "\u001b[4m\u001b[1m > EPOCH: 201/300\u001b[0m\n",
            " --> vits_20k_steps\n",
            "\n",
            "\u001b[1m > TRAINING (2024-05-19 08:16:21) \u001b[0m\n",
            "\n",
            "\u001b[1m > EVALUATION \u001b[0m\n",
            "\n"
          ]
        },
        {
          "name": "stdout",
          "output_type": "stream",
          "text": [
            " | > Synthesizing test sentences.\n"
          ]
        },
        {
          "name": "stderr",
          "output_type": "stream",
          "text": [
            "\n",
            "  \u001b[1m--> EVAL PERFORMANCE\u001b[0m\n",
            "     | > avg_loader_time:\u001b[92m 3.316253423690796 \u001b[0m(-0.13682031631469727)\n",
            "     | > avg_loss_disc:\u001b[91m 2.7324130535125732 \u001b[0m(+0.08488082885742188)\n",
            "     | > avg_loss_disc_real_0:\u001b[92m 0.1555468589067459 \u001b[0m(-0.08456219732761383)\n",
            "     | > avg_loss_disc_real_1:\u001b[91m 0.24378566443920135 \u001b[0m(+0.0036490261554718018)\n",
            "     | > avg_loss_disc_real_2:\u001b[91m 0.2218756079673767 \u001b[0m(+0.016317173838615417)\n",
            "     | > avg_loss_disc_real_3:\u001b[91m 0.2532669007778168 \u001b[0m(+0.046146780252456665)\n",
            "     | > avg_loss_disc_real_4:\u001b[91m 0.23757442831993103 \u001b[0m(+0.009619981050491333)\n",
            "     | > avg_loss_disc_real_5:\u001b[91m 0.29062262177467346 \u001b[0m(+0.0412910133600235)\n",
            "     | > avg_loss_0:\u001b[91m 2.7324130535125732 \u001b[0m(+0.08488082885742188)\n",
            "     | > avg_loss_gen:\u001b[91m 1.9681098461151123 \u001b[0m(+0.021094322204589844)\n",
            "     | > avg_loss_kl:\u001b[91m 2.152388095855713 \u001b[0m(+0.35787320137023926)\n",
            "     | > avg_loss_feat:\u001b[91m 4.408712863922119 \u001b[0m(+0.4739525318145752)\n",
            "     | > avg_loss_mel:\u001b[92m 18.839969635009766 \u001b[0m(-1.3822593688964844)\n",
            "     | > avg_loss_duration:\u001b[91m 1.4536025524139404 \u001b[0m(+0.012117981910705566)\n",
            "     | > avg_loss_1:\u001b[92m 28.82278060913086 \u001b[0m(-0.5172233581542969)\n",
            "\n",
            "\n",
            "\u001b[4m\u001b[1m > EPOCH: 202/300\u001b[0m\n",
            " --> vits_20k_steps\n",
            "\n",
            "\u001b[1m > TRAINING (2024-05-19 08:16:52) \u001b[0m\n",
            "\n",
            "\u001b[1m > EVALUATION \u001b[0m\n",
            "\n"
          ]
        },
        {
          "name": "stdout",
          "output_type": "stream",
          "text": [
            " | > Synthesizing test sentences.\n"
          ]
        },
        {
          "name": "stderr",
          "output_type": "stream",
          "text": [
            "\n",
            "  \u001b[1m--> EVAL PERFORMANCE\u001b[0m\n",
            "     | > avg_loader_time:\u001b[91m 3.531277894973755 \u001b[0m(+0.21502447128295898)\n",
            "     | > avg_loss_disc:\u001b[92m 2.397554397583008 \u001b[0m(-0.33485865592956543)\n",
            "     | > avg_loss_disc_real_0:\u001b[91m 0.16170769929885864 \u001b[0m(+0.006160840392112732)\n",
            "     | > avg_loss_disc_real_1:\u001b[92m 0.2266082763671875 \u001b[0m(-0.017177388072013855)\n",
            "     | > avg_loss_disc_real_2:\u001b[92m 0.16435226798057556 \u001b[0m(-0.05752333998680115)\n",
            "     | > avg_loss_disc_real_3:\u001b[92m 0.2378799170255661 \u001b[0m(-0.015386983752250671)\n",
            "     | > avg_loss_disc_real_4:\u001b[91m 0.24644415080547333 \u001b[0m(+0.008869722485542297)\n",
            "     | > avg_loss_disc_real_5:\u001b[92m 0.22674378752708435 \u001b[0m(-0.06387883424758911)\n",
            "     | > avg_loss_0:\u001b[92m 2.397554397583008 \u001b[0m(-0.33485865592956543)\n",
            "     | > avg_loss_gen:\u001b[91m 2.3866584300994873 \u001b[0m(+0.418548583984375)\n",
            "     | > avg_loss_kl:\u001b[92m 1.8000504970550537 \u001b[0m(-0.3523375988006592)\n",
            "     | > avg_loss_feat:\u001b[91m 5.408973693847656 \u001b[0m(+1.000260829925537)\n",
            "     | > avg_loss_mel:\u001b[91m 22.752567291259766 \u001b[0m(+3.91259765625)\n",
            "     | > avg_loss_duration:\u001b[92m 1.417904257774353 \u001b[0m(-0.0356982946395874)\n",
            "     | > avg_loss_1:\u001b[91m 33.76615524291992 \u001b[0m(+4.9433746337890625)\n",
            "\n",
            "\n",
            "\u001b[4m\u001b[1m > EPOCH: 203/300\u001b[0m\n",
            " --> vits_20k_steps\n",
            "\n",
            "\u001b[1m > TRAINING (2024-05-19 08:17:24) \u001b[0m\n",
            "\n",
            "\u001b[1m > EVALUATION \u001b[0m\n",
            "\n"
          ]
        },
        {
          "name": "stdout",
          "output_type": "stream",
          "text": [
            " | > Synthesizing test sentences.\n"
          ]
        },
        {
          "name": "stderr",
          "output_type": "stream",
          "text": [
            "\n",
            "  \u001b[1m--> EVAL PERFORMANCE\u001b[0m\n",
            "     | > avg_loader_time:\u001b[92m 3.4673731327056885 \u001b[0m(-0.0639047622680664)\n",
            "     | > avg_loss_disc:\u001b[91m 2.7722599506378174 \u001b[0m(+0.37470555305480957)\n",
            "     | > avg_loss_disc_real_0:\u001b[91m 0.23439949750900269 \u001b[0m(+0.07269179821014404)\n",
            "     | > avg_loss_disc_real_1:\u001b[91m 0.2513817250728607 \u001b[0m(+0.024773448705673218)\n",
            "     | > avg_loss_disc_real_2:\u001b[91m 0.24736885726451874 \u001b[0m(+0.08301658928394318)\n",
            "     | > avg_loss_disc_real_3:\u001b[92m 0.22338475286960602 \u001b[0m(-0.014495164155960083)\n",
            "     | > avg_loss_disc_real_4:\u001b[92m 0.20436398684978485 \u001b[0m(-0.04208016395568848)\n",
            "     | > avg_loss_disc_real_5:\u001b[91m 0.2531721591949463 \u001b[0m(+0.02642837166786194)\n",
            "     | > avg_loss_0:\u001b[91m 2.7722599506378174 \u001b[0m(+0.37470555305480957)\n",
            "     | > avg_loss_gen:\u001b[92m 1.9470667839050293 \u001b[0m(-0.439591646194458)\n",
            "     | > avg_loss_kl:\u001b[91m 2.1897079944610596 \u001b[0m(+0.38965749740600586)\n",
            "     | > avg_loss_feat:\u001b[92m 4.83201789855957 \u001b[0m(-0.5769557952880859)\n",
            "     | > avg_loss_mel:\u001b[92m 20.235593795776367 \u001b[0m(-2.5169734954833984)\n",
            "     | > avg_loss_duration:\u001b[91m 1.423741340637207 \u001b[0m(+0.005837082862854004)\n",
            "     | > avg_loss_1:\u001b[92m 30.628128051757812 \u001b[0m(-3.1380271911621094)\n",
            "\n",
            "\n",
            "\u001b[4m\u001b[1m > EPOCH: 204/300\u001b[0m\n",
            " --> vits_20k_steps\n",
            "\n",
            "\u001b[1m > TRAINING (2024-05-19 08:17:54) \u001b[0m\n",
            "\n",
            "\u001b[1m > EVALUATION \u001b[0m\n",
            "\n"
          ]
        },
        {
          "name": "stdout",
          "output_type": "stream",
          "text": [
            " | > Synthesizing test sentences.\n"
          ]
        },
        {
          "name": "stderr",
          "output_type": "stream",
          "text": [
            "\n",
            "  \u001b[1m--> EVAL PERFORMANCE\u001b[0m\n",
            "     | > avg_loader_time:\u001b[91m 3.5634374618530273 \u001b[0m(+0.09606432914733887)\n",
            "     | > avg_loss_disc:\u001b[92m 2.61584210395813 \u001b[0m(-0.1564178466796875)\n",
            "     | > avg_loss_disc_real_0:\u001b[92m 0.13782110810279846 \u001b[0m(-0.09657838940620422)\n",
            "     | > avg_loss_disc_real_1:\u001b[92m 0.21776165068149567 \u001b[0m(-0.03362007439136505)\n",
            "     | > avg_loss_disc_real_2:\u001b[92m 0.13284726440906525 \u001b[0m(-0.11452159285545349)\n",
            "     | > avg_loss_disc_real_3:\u001b[92m 0.20962923765182495 \u001b[0m(-0.013755515217781067)\n",
            "     | > avg_loss_disc_real_4:\u001b[92m 0.17516225576400757 \u001b[0m(-0.029201731085777283)\n",
            "     | > avg_loss_disc_real_5:\u001b[92m 0.16936545073986053 \u001b[0m(-0.08380670845508575)\n",
            "     | > avg_loss_0:\u001b[92m 2.61584210395813 \u001b[0m(-0.1564178466796875)\n",
            "     | > avg_loss_gen:\u001b[92m 1.7618083953857422 \u001b[0m(-0.1852583885192871)\n",
            "     | > avg_loss_kl:\u001b[92m 1.7890870571136475 \u001b[0m(-0.4006209373474121)\n",
            "     | > avg_loss_feat:\u001b[91m 5.38599157333374 \u001b[0m(+0.5539736747741699)\n",
            "     | > avg_loss_mel:\u001b[92m 20.199934005737305 \u001b[0m(-0.0356597900390625)\n",
            "     | > avg_loss_duration:\u001b[92m 1.4038645029067993 \u001b[0m(-0.019876837730407715)\n",
            "     | > avg_loss_1:\u001b[92m 30.54068374633789 \u001b[0m(-0.08744430541992188)\n",
            "\n",
            "\n",
            "\u001b[4m\u001b[1m > EPOCH: 205/300\u001b[0m\n",
            " --> vits_20k_steps\n",
            "\n",
            "\u001b[1m > TRAINING (2024-05-19 08:18:25) \u001b[0m\n",
            "\n",
            "\u001b[1m > EVALUATION \u001b[0m\n",
            "\n"
          ]
        },
        {
          "name": "stdout",
          "output_type": "stream",
          "text": [
            " | > Synthesizing test sentences.\n"
          ]
        },
        {
          "name": "stderr",
          "output_type": "stream",
          "text": [
            "\n",
            "  \u001b[1m--> EVAL PERFORMANCE\u001b[0m\n",
            "     | > avg_loader_time:\u001b[92m 3.5317163467407227 \u001b[0m(-0.03172111511230469)\n",
            "     | > avg_loss_disc:\u001b[92m 2.6032297611236572 \u001b[0m(-0.012612342834472656)\n",
            "     | > avg_loss_disc_real_0:\u001b[91m 0.2008112519979477 \u001b[0m(+0.06299014389514923)\n",
            "     | > avg_loss_disc_real_1:\u001b[92m 0.1807607263326645 \u001b[0m(-0.03700092434883118)\n",
            "     | > avg_loss_disc_real_2:\u001b[91m 0.1791631132364273 \u001b[0m(+0.04631584882736206)\n",
            "     | > avg_loss_disc_real_3:\u001b[92m 0.1854267716407776 \u001b[0m(-0.024202466011047363)\n",
            "     | > avg_loss_disc_real_4:\u001b[91m 0.19811397790908813 \u001b[0m(+0.022951722145080566)\n",
            "     | > avg_loss_disc_real_5:\u001b[91m 0.23472382128238678 \u001b[0m(+0.06535837054252625)\n",
            "     | > avg_loss_0:\u001b[92m 2.6032297611236572 \u001b[0m(-0.012612342834472656)\n",
            "     | > avg_loss_gen:\u001b[91m 1.8730454444885254 \u001b[0m(+0.1112370491027832)\n",
            "     | > avg_loss_kl:\u001b[91m 2.1156082153320312 \u001b[0m(+0.3265211582183838)\n",
            "     | > avg_loss_feat:\u001b[92m 4.523200988769531 \u001b[0m(-0.862790584564209)\n",
            "     | > avg_loss_mel:\u001b[91m 20.212772369384766 \u001b[0m(+0.012838363647460938)\n",
            "     | > avg_loss_duration:\u001b[91m 1.4203433990478516 \u001b[0m(+0.016478896141052246)\n",
            "     | > avg_loss_1:\u001b[92m 30.144969940185547 \u001b[0m(-0.39571380615234375)\n",
            "\n",
            "\n",
            "\u001b[4m\u001b[1m > EPOCH: 206/300\u001b[0m\n",
            " --> vits_20k_steps\n",
            "\n",
            "\u001b[1m > TRAINING (2024-05-19 08:18:56) \u001b[0m\n",
            "\n",
            "\u001b[1m > EVALUATION \u001b[0m\n",
            "\n"
          ]
        },
        {
          "name": "stdout",
          "output_type": "stream",
          "text": [
            " | > Synthesizing test sentences.\n"
          ]
        },
        {
          "name": "stderr",
          "output_type": "stream",
          "text": [
            "\n",
            "  \u001b[1m--> EVAL PERFORMANCE\u001b[0m\n",
            "     | > avg_loader_time:\u001b[92m 3.3509840965270996 \u001b[0m(-0.18073225021362305)\n",
            "     | > avg_loss_disc:\u001b[92m 2.5946156978607178 \u001b[0m(-0.008614063262939453)\n",
            "     | > avg_loss_disc_real_0:\u001b[92m 0.1822524517774582 \u001b[0m(-0.018558800220489502)\n",
            "     | > avg_loss_disc_real_1:\u001b[91m 0.22124561667442322 \u001b[0m(+0.04048489034175873)\n",
            "     | > avg_loss_disc_real_2:\u001b[91m 0.2604178190231323 \u001b[0m(+0.08125470578670502)\n",
            "     | > avg_loss_disc_real_3:\u001b[91m 0.23985382914543152 \u001b[0m(+0.05442705750465393)\n",
            "     | > avg_loss_disc_real_4:\u001b[91m 0.22943052649497986 \u001b[0m(+0.031316548585891724)\n",
            "     | > avg_loss_disc_real_5:\u001b[91m 0.23704500496387482 \u001b[0m(+0.002321183681488037)\n",
            "     | > avg_loss_0:\u001b[92m 2.5946156978607178 \u001b[0m(-0.008614063262939453)\n",
            "     | > avg_loss_gen:\u001b[91m 2.0550613403320312 \u001b[0m(+0.18201589584350586)\n",
            "     | > avg_loss_kl:\u001b[91m 2.155543327331543 \u001b[0m(+0.03993511199951172)\n",
            "     | > avg_loss_feat:\u001b[92m 4.325828552246094 \u001b[0m(-0.1973724365234375)\n",
            "     | > avg_loss_mel:\u001b[91m 21.272905349731445 \u001b[0m(+1.0601329803466797)\n",
            "     | > avg_loss_duration:\u001b[91m 1.4794951677322388 \u001b[0m(+0.05915176868438721)\n",
            "     | > avg_loss_1:\u001b[91m 31.288833618164062 \u001b[0m(+1.1438636779785156)\n",
            "\n",
            "\n",
            "\u001b[4m\u001b[1m > EPOCH: 207/300\u001b[0m\n",
            " --> vits_20k_steps\n",
            "\n",
            "\u001b[1m > TRAINING (2024-05-19 08:19:26) \u001b[0m\n",
            "\n",
            "\u001b[1m > EVALUATION \u001b[0m\n",
            "\n"
          ]
        },
        {
          "name": "stdout",
          "output_type": "stream",
          "text": [
            " | > Synthesizing test sentences.\n"
          ]
        },
        {
          "name": "stderr",
          "output_type": "stream",
          "text": [
            "\n",
            "  \u001b[1m--> EVAL PERFORMANCE\u001b[0m\n",
            "     | > avg_loader_time:\u001b[91m 3.466764211654663 \u001b[0m(+0.11578011512756348)\n",
            "     | > avg_loss_disc:\u001b[92m 2.5640640258789062 \u001b[0m(-0.030551671981811523)\n",
            "     | > avg_loss_disc_real_0:\u001b[91m 0.2430475950241089 \u001b[0m(+0.060795143246650696)\n",
            "     | > avg_loss_disc_real_1:\u001b[91m 0.22211763262748718 \u001b[0m(+0.0008720159530639648)\n",
            "     | > avg_loss_disc_real_2:\u001b[92m 0.1638946682214737 \u001b[0m(-0.09652315080165863)\n",
            "     | > avg_loss_disc_real_3:\u001b[92m 0.20618166029453278 \u001b[0m(-0.03367216885089874)\n",
            "     | > avg_loss_disc_real_4:\u001b[92m 0.21388879418373108 \u001b[0m(-0.01554173231124878)\n",
            "     | > avg_loss_disc_real_5:\u001b[92m 0.15058881044387817 \u001b[0m(-0.08645619451999664)\n",
            "     | > avg_loss_0:\u001b[92m 2.5640640258789062 \u001b[0m(-0.030551671981811523)\n",
            "     | > avg_loss_gen:\u001b[92m 1.9961105585098267 \u001b[0m(-0.05895078182220459)\n",
            "     | > avg_loss_kl:\u001b[92m 1.817847490310669 \u001b[0m(-0.337695837020874)\n",
            "     | > avg_loss_feat:\u001b[91m 5.323139667510986 \u001b[0m(+0.9973111152648926)\n",
            "     | > avg_loss_mel:\u001b[92m 21.233062744140625 \u001b[0m(-0.03984260559082031)\n",
            "     | > avg_loss_duration:\u001b[92m 1.4271690845489502 \u001b[0m(-0.052326083183288574)\n",
            "     | > avg_loss_1:\u001b[91m 31.797330856323242 \u001b[0m(+0.5084972381591797)\n",
            "\n",
            "\n",
            "\u001b[4m\u001b[1m > EPOCH: 208/300\u001b[0m\n",
            " --> vits_20k_steps\n",
            "\n",
            "\u001b[1m > TRAINING (2024-05-19 08:19:57) \u001b[0m\n",
            "\n",
            "\u001b[1m > EVALUATION \u001b[0m\n",
            "\n"
          ]
        },
        {
          "name": "stdout",
          "output_type": "stream",
          "text": [
            " | > Synthesizing test sentences.\n"
          ]
        },
        {
          "name": "stderr",
          "output_type": "stream",
          "text": [
            "\n",
            "  \u001b[1m--> EVAL PERFORMANCE\u001b[0m\n",
            "     | > avg_loader_time:\u001b[91m 3.555467128753662 \u001b[0m(+0.08870291709899902)\n",
            "     | > avg_loss_disc:\u001b[91m 2.656973361968994 \u001b[0m(+0.09290933609008789)\n",
            "     | > avg_loss_disc_real_0:\u001b[92m 0.22283601760864258 \u001b[0m(-0.02021157741546631)\n",
            "     | > avg_loss_disc_real_1:\u001b[91m 0.23181596398353577 \u001b[0m(+0.009698331356048584)\n",
            "     | > avg_loss_disc_real_2:\u001b[91m 0.22637860476970673 \u001b[0m(+0.06248393654823303)\n",
            "     | > avg_loss_disc_real_3:\u001b[91m 0.235291987657547 \u001b[0m(+0.02911032736301422)\n",
            "     | > avg_loss_disc_real_4:\u001b[91m 0.228144571185112 \u001b[0m(+0.01425577700138092)\n",
            "     | > avg_loss_disc_real_5:\u001b[91m 0.20770278573036194 \u001b[0m(+0.057113975286483765)\n",
            "     | > avg_loss_0:\u001b[91m 2.656973361968994 \u001b[0m(+0.09290933609008789)\n",
            "     | > avg_loss_gen:\u001b[92m 1.9552854299545288 \u001b[0m(-0.04082512855529785)\n",
            "     | > avg_loss_kl:\u001b[91m 1.9881939888000488 \u001b[0m(+0.17034649848937988)\n",
            "     | > avg_loss_feat:\u001b[92m 4.028775691986084 \u001b[0m(-1.2943639755249023)\n",
            "     | > avg_loss_mel:\u001b[92m 20.080331802368164 \u001b[0m(-1.152730941772461)\n",
            "     | > avg_loss_duration:\u001b[92m 1.4059966802597046 \u001b[0m(-0.021172404289245605)\n",
            "     | > avg_loss_1:\u001b[92m 29.45858383178711 \u001b[0m(-2.338747024536133)\n",
            "\n",
            "\n",
            "\u001b[4m\u001b[1m > EPOCH: 209/300\u001b[0m\n",
            " --> vits_20k_steps\n",
            "\n",
            "\u001b[1m > TRAINING (2024-05-19 08:20:28) \u001b[0m\n",
            "\n",
            "\u001b[1m > EVALUATION \u001b[0m\n",
            "\n"
          ]
        },
        {
          "name": "stdout",
          "output_type": "stream",
          "text": [
            " | > Synthesizing test sentences.\n"
          ]
        },
        {
          "name": "stderr",
          "output_type": "stream",
          "text": [
            "\n",
            "  \u001b[1m--> EVAL PERFORMANCE\u001b[0m\n",
            "     | > avg_loader_time:\u001b[92m 3.539943218231201 \u001b[0m(-0.015523910522460938)\n",
            "     | > avg_loss_disc:\u001b[92m 2.5492544174194336 \u001b[0m(-0.10771894454956055)\n",
            "     | > avg_loss_disc_real_0:\u001b[92m 0.2206915318965912 \u001b[0m(-0.0021444857120513916)\n",
            "     | > avg_loss_disc_real_1:\u001b[91m 0.23529474437236786 \u001b[0m(+0.0034787803888320923)\n",
            "     | > avg_loss_disc_real_2:\u001b[92m 0.1733587384223938 \u001b[0m(-0.05301986634731293)\n",
            "     | > avg_loss_disc_real_3:\u001b[92m 0.19871602952480316 \u001b[0m(-0.036575958132743835)\n",
            "     | > avg_loss_disc_real_4:\u001b[92m 0.1956157088279724 \u001b[0m(-0.03252886235713959)\n",
            "     | > avg_loss_disc_real_5:\u001b[92m 0.19937549531459808 \u001b[0m(-0.008327290415763855)\n",
            "     | > avg_loss_0:\u001b[92m 2.5492544174194336 \u001b[0m(-0.10771894454956055)\n",
            "     | > avg_loss_gen:\u001b[91m 2.104072332382202 \u001b[0m(+0.14878690242767334)\n",
            "     | > avg_loss_kl:\u001b[91m 2.1198885440826416 \u001b[0m(+0.13169455528259277)\n",
            "     | > avg_loss_feat:\u001b[91m 5.437554836273193 \u001b[0m(+1.4087791442871094)\n",
            "     | > avg_loss_mel:\u001b[91m 22.175397872924805 \u001b[0m(+2.0950660705566406)\n",
            "     | > avg_loss_duration:\u001b[92m 1.4012250900268555 \u001b[0m(-0.004771590232849121)\n",
            "     | > avg_loss_1:\u001b[91m 33.23814010620117 \u001b[0m(+3.7795562744140625)\n",
            "\n",
            "\n",
            "\u001b[4m\u001b[1m > EPOCH: 210/300\u001b[0m\n",
            " --> vits_20k_steps\n",
            "\n",
            "\u001b[1m > TRAINING (2024-05-19 08:20:58) \u001b[0m\n",
            "\n",
            "\u001b[1m > EVALUATION \u001b[0m\n",
            "\n"
          ]
        },
        {
          "name": "stdout",
          "output_type": "stream",
          "text": [
            " | > Synthesizing test sentences.\n"
          ]
        },
        {
          "name": "stderr",
          "output_type": "stream",
          "text": [
            "\n",
            "  \u001b[1m--> EVAL PERFORMANCE\u001b[0m\n",
            "     | > avg_loader_time:\u001b[91m 3.56795334815979 \u001b[0m(+0.028010129928588867)\n",
            "     | > avg_loss_disc:\u001b[92m 2.468838691711426 \u001b[0m(-0.08041572570800781)\n",
            "     | > avg_loss_disc_real_0:\u001b[92m 0.18223419785499573 \u001b[0m(-0.03845733404159546)\n",
            "     | > avg_loss_disc_real_1:\u001b[92m 0.1925538033246994 \u001b[0m(-0.04274094104766846)\n",
            "     | > avg_loss_disc_real_2:\u001b[91m 0.25048959255218506 \u001b[0m(+0.07713085412979126)\n",
            "     | > avg_loss_disc_real_3:\u001b[92m 0.18113334476947784 \u001b[0m(-0.017582684755325317)\n",
            "     | > avg_loss_disc_real_4:\u001b[92m 0.17011195421218872 \u001b[0m(-0.02550375461578369)\n",
            "     | > avg_loss_disc_real_5:\u001b[91m 0.2872534394264221 \u001b[0m(+0.08787794411182404)\n",
            "     | > avg_loss_0:\u001b[92m 2.468838691711426 \u001b[0m(-0.08041572570800781)\n",
            "     | > avg_loss_gen:\u001b[91m 2.2329583168029785 \u001b[0m(+0.12888598442077637)\n",
            "     | > avg_loss_kl:\u001b[91m 2.128357172012329 \u001b[0m(+0.0084686279296875)\n",
            "     | > avg_loss_feat:\u001b[92m 5.033054351806641 \u001b[0m(-0.40450048446655273)\n",
            "     | > avg_loss_mel:\u001b[92m 21.649782180786133 \u001b[0m(-0.5256156921386719)\n",
            "     | > avg_loss_duration:\u001b[91m 1.4332072734832764 \u001b[0m(+0.0319821834564209)\n",
            "     | > avg_loss_1:\u001b[92m 32.477359771728516 \u001b[0m(-0.7607803344726562)\n",
            "\n",
            "\n",
            "\u001b[4m\u001b[1m > EPOCH: 211/300\u001b[0m\n",
            " --> vits_20k_steps\n",
            "\n",
            "\u001b[1m > TRAINING (2024-05-19 08:21:29) \u001b[0m\n",
            "\n",
            "\u001b[1m > EVALUATION \u001b[0m\n",
            "\n"
          ]
        },
        {
          "name": "stdout",
          "output_type": "stream",
          "text": [
            " | > Synthesizing test sentences.\n"
          ]
        },
        {
          "name": "stderr",
          "output_type": "stream",
          "text": [
            "\n",
            "  \u001b[1m--> EVAL PERFORMANCE\u001b[0m\n",
            "     | > avg_loader_time:\u001b[92m 3.4776611328125 \u001b[0m(-0.09029221534729004)\n",
            "     | > avg_loss_disc:\u001b[91m 2.8036932945251465 \u001b[0m(+0.3348546028137207)\n",
            "     | > avg_loss_disc_real_0:\u001b[92m 0.15885770320892334 \u001b[0m(-0.023376494646072388)\n",
            "     | > avg_loss_disc_real_1:\u001b[92m 0.18383724987506866 \u001b[0m(-0.008716553449630737)\n",
            "     | > avg_loss_disc_real_2:\u001b[91m 0.2523500919342041 \u001b[0m(+0.001860499382019043)\n",
            "     | > avg_loss_disc_real_3:\u001b[91m 0.21713969111442566 \u001b[0m(+0.036006346344947815)\n",
            "     | > avg_loss_disc_real_4:\u001b[91m 0.23442018032073975 \u001b[0m(+0.06430822610855103)\n",
            "     | > avg_loss_disc_real_5:\u001b[92m 0.27854660153388977 \u001b[0m(-0.008706837892532349)\n",
            "     | > avg_loss_0:\u001b[91m 2.8036932945251465 \u001b[0m(+0.3348546028137207)\n",
            "     | > avg_loss_gen:\u001b[92m 1.7142342329025269 \u001b[0m(-0.5187240839004517)\n",
            "     | > avg_loss_kl:\u001b[92m 1.9753295183181763 \u001b[0m(-0.15302765369415283)\n",
            "     | > avg_loss_feat:\u001b[92m 3.6248209476470947 \u001b[0m(-1.408233404159546)\n",
            "     | > avg_loss_mel:\u001b[92m 20.79001808166504 \u001b[0m(-0.8597640991210938)\n",
            "     | > avg_loss_duration:\u001b[92m 1.4117541313171387 \u001b[0m(-0.021453142166137695)\n",
            "     | > avg_loss_1:\u001b[92m 29.516157150268555 \u001b[0m(-2.961202621459961)\n",
            "\n",
            "\n",
            "\u001b[4m\u001b[1m > EPOCH: 212/300\u001b[0m\n",
            " --> vits_20k_steps\n",
            "\n",
            "\u001b[1m > TRAINING (2024-05-19 08:21:59) \u001b[0m\n",
            "\n",
            "\u001b[1m > EVALUATION \u001b[0m\n",
            "\n"
          ]
        },
        {
          "name": "stdout",
          "output_type": "stream",
          "text": [
            " | > Synthesizing test sentences.\n"
          ]
        },
        {
          "name": "stderr",
          "output_type": "stream",
          "text": [
            "\n",
            "  \u001b[1m--> EVAL PERFORMANCE\u001b[0m\n",
            "     | > avg_loader_time:\u001b[92m 3.270643472671509 \u001b[0m(-0.2070176601409912)\n",
            "     | > avg_loss_disc:\u001b[92m 2.6885626316070557 \u001b[0m(-0.11513066291809082)\n",
            "     | > avg_loss_disc_real_0:\u001b[91m 0.17855218052864075 \u001b[0m(+0.019694477319717407)\n",
            "     | > avg_loss_disc_real_1:\u001b[91m 0.30148977041244507 \u001b[0m(+0.1176525205373764)\n",
            "     | > avg_loss_disc_real_2:\u001b[92m 0.23627552390098572 \u001b[0m(-0.016074568033218384)\n",
            "     | > avg_loss_disc_real_3:\u001b[91m 0.24297110736370087 \u001b[0m(+0.025831416249275208)\n",
            "     | > avg_loss_disc_real_4:\u001b[91m 0.23844513297080994 \u001b[0m(+0.00402495265007019)\n",
            "     | > avg_loss_disc_real_5:\u001b[92m 0.22529838979244232 \u001b[0m(-0.05324821174144745)\n",
            "     | > avg_loss_0:\u001b[92m 2.6885626316070557 \u001b[0m(-0.11513066291809082)\n",
            "     | > avg_loss_gen:\u001b[91m 2.0389609336853027 \u001b[0m(+0.3247267007827759)\n",
            "     | > avg_loss_kl:\u001b[92m 1.7910537719726562 \u001b[0m(-0.18427574634552002)\n",
            "     | > avg_loss_feat:\u001b[91m 4.375102519989014 \u001b[0m(+0.750281572341919)\n",
            "     | > avg_loss_mel:\u001b[92m 20.712444305419922 \u001b[0m(-0.07757377624511719)\n",
            "     | > avg_loss_duration:\u001b[91m 1.4325430393218994 \u001b[0m(+0.020788908004760742)\n",
            "     | > avg_loss_1:\u001b[91m 30.35010528564453 \u001b[0m(+0.8339481353759766)\n",
            "\n",
            "\n",
            "\u001b[4m\u001b[1m > EPOCH: 213/300\u001b[0m\n",
            " --> vits_20k_steps\n",
            "\n",
            "\u001b[1m > TRAINING (2024-05-19 08:22:30) \u001b[0m\n",
            "\n",
            "\u001b[1m > EVALUATION \u001b[0m\n",
            "\n"
          ]
        },
        {
          "name": "stdout",
          "output_type": "stream",
          "text": [
            " | > Synthesizing test sentences.\n"
          ]
        },
        {
          "name": "stderr",
          "output_type": "stream",
          "text": [
            "\n",
            "  \u001b[1m--> EVAL PERFORMANCE\u001b[0m\n",
            "     | > avg_loader_time:\u001b[91m 3.543524980545044 \u001b[0m(+0.27288150787353516)\n",
            "     | > avg_loss_disc:\u001b[92m 2.674469470977783 \u001b[0m(-0.014093160629272461)\n",
            "     | > avg_loss_disc_real_0:\u001b[91m 0.20788225531578064 \u001b[0m(+0.029330074787139893)\n",
            "     | > avg_loss_disc_real_1:\u001b[92m 0.21965645253658295 \u001b[0m(-0.08183331787586212)\n",
            "     | > avg_loss_disc_real_2:\u001b[92m 0.20596274733543396 \u001b[0m(-0.030312776565551758)\n",
            "     | > avg_loss_disc_real_3:\u001b[92m 0.20950712263584137 \u001b[0m(-0.0334639847278595)\n",
            "     | > avg_loss_disc_real_4:\u001b[92m 0.1806061714887619 \u001b[0m(-0.057838961482048035)\n",
            "     | > avg_loss_disc_real_5:\u001b[91m 0.2535021901130676 \u001b[0m(+0.028203800320625305)\n",
            "     | > avg_loss_0:\u001b[92m 2.674469470977783 \u001b[0m(-0.014093160629272461)\n",
            "     | > avg_loss_gen:\u001b[92m 1.917891025543213 \u001b[0m(-0.12106990814208984)\n",
            "     | > avg_loss_kl:\u001b[91m 2.0774316787719727 \u001b[0m(+0.2863779067993164)\n",
            "     | > avg_loss_feat:\u001b[91m 4.507890224456787 \u001b[0m(+0.13278770446777344)\n",
            "     | > avg_loss_mel:\u001b[92m 20.66526222229004 \u001b[0m(-0.04718208312988281)\n",
            "     | > avg_loss_duration:\u001b[92m 1.418222427368164 \u001b[0m(-0.014320611953735352)\n",
            "     | > avg_loss_1:\u001b[91m 30.58669662475586 \u001b[0m(+0.23659133911132812)\n",
            "\n",
            "\n",
            "\u001b[4m\u001b[1m > EPOCH: 214/300\u001b[0m\n",
            " --> vits_20k_steps\n",
            "\n",
            "\u001b[1m > TRAINING (2024-05-19 08:23:01) \u001b[0m\n",
            "\n",
            "\u001b[1m > EVALUATION \u001b[0m\n",
            "\n"
          ]
        },
        {
          "name": "stdout",
          "output_type": "stream",
          "text": [
            " | > Synthesizing test sentences.\n"
          ]
        },
        {
          "name": "stderr",
          "output_type": "stream",
          "text": [
            "\n",
            "  \u001b[1m--> EVAL PERFORMANCE\u001b[0m\n",
            "     | > avg_loader_time:\u001b[92m 3.5356810092926025 \u001b[0m(-0.007843971252441406)\n",
            "     | > avg_loss_disc:\u001b[92m 2.5564277172088623 \u001b[0m(-0.1180417537689209)\n",
            "     | > avg_loss_disc_real_0:\u001b[92m 0.17916664481163025 \u001b[0m(-0.02871561050415039)\n",
            "     | > avg_loss_disc_real_1:\u001b[91m 0.2560494542121887 \u001b[0m(+0.036393001675605774)\n",
            "     | > avg_loss_disc_real_2:\u001b[91m 0.20765480399131775 \u001b[0m(+0.001692056655883789)\n",
            "     | > avg_loss_disc_real_3:\u001b[92m 0.17639164626598358 \u001b[0m(-0.03311547636985779)\n",
            "     | > avg_loss_disc_real_4:\u001b[91m 0.22694706916809082 \u001b[0m(+0.04634089767932892)\n",
            "     | > avg_loss_disc_real_5:\u001b[92m 0.18041108548641205 \u001b[0m(-0.07309110462665558)\n",
            "     | > avg_loss_0:\u001b[92m 2.5564277172088623 \u001b[0m(-0.1180417537689209)\n",
            "     | > avg_loss_gen:\u001b[91m 2.0156025886535645 \u001b[0m(+0.09771156311035156)\n",
            "     | > avg_loss_kl:\u001b[92m 1.9217119216918945 \u001b[0m(-0.15571975708007812)\n",
            "     | > avg_loss_feat:\u001b[92m 4.499871253967285 \u001b[0m(-0.008018970489501953)\n",
            "     | > avg_loss_mel:\u001b[92m 20.120803833007812 \u001b[0m(-0.5444583892822266)\n",
            "     | > avg_loss_duration:\u001b[91m 1.4546418190002441 \u001b[0m(+0.03641939163208008)\n",
            "     | > avg_loss_1:\u001b[92m 30.012630462646484 \u001b[0m(-0.574066162109375)\n",
            "\n",
            "\n",
            "\u001b[4m\u001b[1m > EPOCH: 215/300\u001b[0m\n",
            " --> vits_20k_steps\n",
            "\n",
            "\u001b[1m > TRAINING (2024-05-19 08:23:31) \u001b[0m\n",
            "\n",
            "\u001b[1m > EVALUATION \u001b[0m\n",
            "\n"
          ]
        },
        {
          "name": "stdout",
          "output_type": "stream",
          "text": [
            " | > Synthesizing test sentences.\n"
          ]
        },
        {
          "name": "stderr",
          "output_type": "stream",
          "text": [
            "\n",
            "  \u001b[1m--> EVAL PERFORMANCE\u001b[0m\n",
            "     | > avg_loader_time:\u001b[92m 3.3945319652557373 \u001b[0m(-0.14114904403686523)\n",
            "     | > avg_loss_disc:\u001b[92m 2.4705333709716797 \u001b[0m(-0.08589434623718262)\n",
            "     | > avg_loss_disc_real_0:\u001b[92m 0.13176104426383972 \u001b[0m(-0.04740560054779053)\n",
            "     | > avg_loss_disc_real_1:\u001b[92m 0.25544503331184387 \u001b[0m(-0.0006044209003448486)\n",
            "     | > avg_loss_disc_real_2:\u001b[92m 0.0981648787856102 \u001b[0m(-0.10948992520570755)\n",
            "     | > avg_loss_disc_real_3:\u001b[91m 0.2136167585849762 \u001b[0m(+0.037225112318992615)\n",
            "     | > avg_loss_disc_real_4:\u001b[91m 0.24447283148765564 \u001b[0m(+0.01752576231956482)\n",
            "     | > avg_loss_disc_real_5:\u001b[91m 0.2794685959815979 \u001b[0m(+0.09905751049518585)\n",
            "     | > avg_loss_0:\u001b[92m 2.4705333709716797 \u001b[0m(-0.08589434623718262)\n",
            "     | > avg_loss_gen:\u001b[91m 2.1656923294067383 \u001b[0m(+0.15008974075317383)\n",
            "     | > avg_loss_kl:\u001b[91m 2.1619906425476074 \u001b[0m(+0.2402787208557129)\n",
            "     | > avg_loss_feat:\u001b[92m 4.033608913421631 \u001b[0m(-0.4662623405456543)\n",
            "     | > avg_loss_mel:\u001b[92m 20.08599853515625 \u001b[0m(-0.0348052978515625)\n",
            "     | > avg_loss_duration:\u001b[92m 1.4139097929000854 \u001b[0m(-0.04073202610015869)\n",
            "     | > avg_loss_1:\u001b[92m 29.86119842529297 \u001b[0m(-0.15143203735351562)\n",
            "\n",
            "\n",
            "\u001b[4m\u001b[1m > EPOCH: 216/300\u001b[0m\n",
            " --> vits_20k_steps\n",
            "\n",
            "\u001b[1m > TRAINING (2024-05-19 08:24:02) \u001b[0m\n",
            "\n",
            "\u001b[1m > EVALUATION \u001b[0m\n",
            "\n"
          ]
        },
        {
          "name": "stdout",
          "output_type": "stream",
          "text": [
            " | > Synthesizing test sentences.\n"
          ]
        },
        {
          "name": "stderr",
          "output_type": "stream",
          "text": [
            "\n",
            "  \u001b[1m--> EVAL PERFORMANCE\u001b[0m\n",
            "     | > avg_loader_time:\u001b[91m 3.485811710357666 \u001b[0m(+0.09127974510192871)\n",
            "     | > avg_loss_disc:\u001b[91m 2.727428436279297 \u001b[0m(+0.2568950653076172)\n",
            "     | > avg_loss_disc_real_0:\u001b[91m 0.17331871390342712 \u001b[0m(+0.0415576696395874)\n",
            "     | > avg_loss_disc_real_1:\u001b[91m 0.25776663422584534 \u001b[0m(+0.002321600914001465)\n",
            "     | > avg_loss_disc_real_2:\u001b[91m 0.22356706857681274 \u001b[0m(+0.12540218979120255)\n",
            "     | > avg_loss_disc_real_3:\u001b[92m 0.1756073236465454 \u001b[0m(-0.038009434938430786)\n",
            "     | > avg_loss_disc_real_4:\u001b[91m 0.2750973701477051 \u001b[0m(+0.03062453866004944)\n",
            "     | > avg_loss_disc_real_5:\u001b[91m 0.3281349241733551 \u001b[0m(+0.0486663281917572)\n",
            "     | > avg_loss_0:\u001b[91m 2.727428436279297 \u001b[0m(+0.2568950653076172)\n",
            "     | > avg_loss_gen:\u001b[92m 1.9764130115509033 \u001b[0m(-0.18927931785583496)\n",
            "     | > avg_loss_kl:\u001b[92m 2.065955877304077 \u001b[0m(-0.09603476524353027)\n",
            "     | > avg_loss_feat:\u001b[92m 3.542872905731201 \u001b[0m(-0.4907360076904297)\n",
            "     | > avg_loss_mel:\u001b[91m 20.782752990722656 \u001b[0m(+0.6967544555664062)\n",
            "     | > avg_loss_duration:\u001b[91m 1.4156478643417358 \u001b[0m(+0.0017380714416503906)\n",
            "     | > avg_loss_1:\u001b[92m 29.78364372253418 \u001b[0m(-0.07755470275878906)\n",
            "\n",
            "\n",
            "\u001b[4m\u001b[1m > EPOCH: 217/300\u001b[0m\n",
            " --> vits_20k_steps\n",
            "\n",
            "\u001b[1m > TRAINING (2024-05-19 08:24:33) \u001b[0m\n",
            "\n",
            "\u001b[1m > EVALUATION \u001b[0m\n",
            "\n"
          ]
        },
        {
          "name": "stdout",
          "output_type": "stream",
          "text": [
            " | > Synthesizing test sentences.\n"
          ]
        },
        {
          "name": "stderr",
          "output_type": "stream",
          "text": [
            "\n",
            "  \u001b[1m--> EVAL PERFORMANCE\u001b[0m\n",
            "     | > avg_loader_time:\u001b[91m 3.5785598754882812 \u001b[0m(+0.09274816513061523)\n",
            "     | > avg_loss_disc:\u001b[92m 2.609323263168335 \u001b[0m(-0.11810517311096191)\n",
            "     | > avg_loss_disc_real_0:\u001b[91m 0.28339913487434387 \u001b[0m(+0.11008042097091675)\n",
            "     | > avg_loss_disc_real_1:\u001b[92m 0.2220904529094696 \u001b[0m(-0.03567618131637573)\n",
            "     | > avg_loss_disc_real_2:\u001b[91m 0.2822469472885132 \u001b[0m(+0.05867987871170044)\n",
            "     | > avg_loss_disc_real_3:\u001b[91m 0.21904803812503815 \u001b[0m(+0.04344071447849274)\n",
            "     | > avg_loss_disc_real_4:\u001b[92m 0.2338438481092453 \u001b[0m(-0.04125352203845978)\n",
            "     | > avg_loss_disc_real_5:\u001b[92m 0.2655234932899475 \u001b[0m(-0.06261143088340759)\n",
            "     | > avg_loss_0:\u001b[92m 2.609323263168335 \u001b[0m(-0.11810517311096191)\n",
            "     | > avg_loss_gen:\u001b[91m 2.255370855331421 \u001b[0m(+0.2789578437805176)\n",
            "     | > avg_loss_kl:\u001b[92m 1.98224675655365 \u001b[0m(-0.08370912075042725)\n",
            "     | > avg_loss_feat:\u001b[91m 4.565279483795166 \u001b[0m(+1.0224065780639648)\n",
            "     | > avg_loss_mel:\u001b[91m 21.359636306762695 \u001b[0m(+0.5768833160400391)\n",
            "     | > avg_loss_duration:\u001b[91m 1.4176212549209595 \u001b[0m(+0.001973390579223633)\n",
            "     | > avg_loss_1:\u001b[91m 31.580154418945312 \u001b[0m(+1.7965106964111328)\n",
            "\n",
            "\n",
            "\u001b[4m\u001b[1m > EPOCH: 218/300\u001b[0m\n",
            " --> vits_20k_steps\n",
            "\n",
            "\u001b[1m > TRAINING (2024-05-19 08:25:04) \u001b[0m\n",
            "\n",
            "\u001b[1m > EVALUATION \u001b[0m\n",
            "\n"
          ]
        },
        {
          "name": "stdout",
          "output_type": "stream",
          "text": [
            " | > Synthesizing test sentences.\n"
          ]
        },
        {
          "name": "stderr",
          "output_type": "stream",
          "text": [
            "\n",
            "  \u001b[1m--> EVAL PERFORMANCE\u001b[0m\n",
            "     | > avg_loader_time:\u001b[92m 3.067629814147949 \u001b[0m(-0.510930061340332)\n",
            "     | > avg_loss_disc:\u001b[91m 2.7213752269744873 \u001b[0m(+0.11205196380615234)\n",
            "     | > avg_loss_disc_real_0:\u001b[91m 0.28402218222618103 \u001b[0m(+0.0006230473518371582)\n",
            "     | > avg_loss_disc_real_1:\u001b[91m 0.2385413944721222 \u001b[0m(+0.016450941562652588)\n",
            "     | > avg_loss_disc_real_2:\u001b[92m 0.23847593367099762 \u001b[0m(-0.043771013617515564)\n",
            "     | > avg_loss_disc_real_3:\u001b[91m 0.26268622279167175 \u001b[0m(+0.043638184666633606)\n",
            "     | > avg_loss_disc_real_4:\u001b[92m 0.19405828416347504 \u001b[0m(-0.039785563945770264)\n",
            "     | > avg_loss_disc_real_5:\u001b[92m 0.22084935009479523 \u001b[0m(-0.04467414319515228)\n",
            "     | > avg_loss_0:\u001b[91m 2.7213752269744873 \u001b[0m(+0.11205196380615234)\n",
            "     | > avg_loss_gen:\u001b[92m 2.1089229583740234 \u001b[0m(-0.14644789695739746)\n",
            "     | > avg_loss_kl:\u001b[92m 1.9582557678222656 \u001b[0m(-0.023990988731384277)\n",
            "     | > avg_loss_feat:\u001b[92m 4.361672401428223 \u001b[0m(-0.20360708236694336)\n",
            "     | > avg_loss_mel:\u001b[92m 19.044483184814453 \u001b[0m(-2.315153121948242)\n",
            "     | > avg_loss_duration:\u001b[92m 1.4058692455291748 \u001b[0m(-0.011752009391784668)\n",
            "     | > avg_loss_1:\u001b[92m 28.879201889038086 \u001b[0m(-2.7009525299072266)\n",
            "\n",
            "\n",
            "\u001b[4m\u001b[1m > EPOCH: 219/300\u001b[0m\n",
            " --> vits_20k_steps\n",
            "\n",
            "\u001b[1m > TRAINING (2024-05-19 08:25:34) \u001b[0m\n",
            "\n",
            "\u001b[1m > EVALUATION \u001b[0m\n",
            "\n"
          ]
        },
        {
          "name": "stdout",
          "output_type": "stream",
          "text": [
            " | > Synthesizing test sentences.\n"
          ]
        },
        {
          "name": "stderr",
          "output_type": "stream",
          "text": [
            "\n",
            "  \u001b[1m--> EVAL PERFORMANCE\u001b[0m\n",
            "     | > avg_loader_time:\u001b[91m 3.410332441329956 \u001b[0m(+0.34270262718200684)\n",
            "     | > avg_loss_disc:\u001b[92m 2.62278151512146 \u001b[0m(-0.09859371185302734)\n",
            "     | > avg_loss_disc_real_0:\u001b[92m 0.17887376248836517 \u001b[0m(-0.10514841973781586)\n",
            "     | > avg_loss_disc_real_1:\u001b[92m 0.2382057011127472 \u001b[0m(-0.000335693359375)\n",
            "     | > avg_loss_disc_real_2:\u001b[92m 0.23247939348220825 \u001b[0m(-0.005996540188789368)\n",
            "     | > avg_loss_disc_real_3:\u001b[92m 0.2026786506175995 \u001b[0m(-0.060007572174072266)\n",
            "     | > avg_loss_disc_real_4:\u001b[91m 0.22364439070224762 \u001b[0m(+0.029586106538772583)\n",
            "     | > avg_loss_disc_real_5:\u001b[91m 0.23353983461856842 \u001b[0m(+0.012690484523773193)\n",
            "     | > avg_loss_0:\u001b[92m 2.62278151512146 \u001b[0m(-0.09859371185302734)\n",
            "     | > avg_loss_gen:\u001b[92m 1.9621412754058838 \u001b[0m(-0.14678168296813965)\n",
            "     | > avg_loss_kl:\u001b[91m 2.020002603530884 \u001b[0m(+0.061746835708618164)\n",
            "     | > avg_loss_feat:\u001b[92m 3.5389351844787598 \u001b[0m(-0.8227372169494629)\n",
            "     | > avg_loss_mel:\u001b[91m 20.184194564819336 \u001b[0m(+1.1397113800048828)\n",
            "     | > avg_loss_duration:\u001b[92m 1.385714054107666 \u001b[0m(-0.02015519142150879)\n",
            "     | > avg_loss_1:\u001b[91m 29.090988159179688 \u001b[0m(+0.21178627014160156)\n",
            "\n",
            "\n",
            "\u001b[4m\u001b[1m > EPOCH: 220/300\u001b[0m\n",
            " --> vits_20k_steps\n",
            "\n",
            "\u001b[1m > TRAINING (2024-05-19 08:26:04) \u001b[0m\n",
            "\n",
            "\u001b[1m > EVALUATION \u001b[0m\n",
            "\n"
          ]
        },
        {
          "name": "stdout",
          "output_type": "stream",
          "text": [
            " | > Synthesizing test sentences.\n"
          ]
        },
        {
          "name": "stderr",
          "output_type": "stream",
          "text": [
            "\n",
            "  \u001b[1m--> EVAL PERFORMANCE\u001b[0m\n",
            "     | > avg_loader_time:\u001b[91m 3.5143089294433594 \u001b[0m(+0.10397648811340332)\n",
            "     | > avg_loss_disc:\u001b[92m 2.5410053730010986 \u001b[0m(-0.08177614212036133)\n",
            "     | > avg_loss_disc_real_0:\u001b[92m 0.17320720851421356 \u001b[0m(-0.005666553974151611)\n",
            "     | > avg_loss_disc_real_1:\u001b[92m 0.23444518446922302 \u001b[0m(-0.00376051664352417)\n",
            "     | > avg_loss_disc_real_2:\u001b[92m 0.21382077038288116 \u001b[0m(-0.018658623099327087)\n",
            "     | > avg_loss_disc_real_3:\u001b[91m 0.23107968270778656 \u001b[0m(+0.028401032090187073)\n",
            "     | > avg_loss_disc_real_4:\u001b[92m 0.19217778742313385 \u001b[0m(-0.03146660327911377)\n",
            "     | > avg_loss_disc_real_5:\u001b[92m 0.1726744920015335 \u001b[0m(-0.06086534261703491)\n",
            "     | > avg_loss_0:\u001b[92m 2.5410053730010986 \u001b[0m(-0.08177614212036133)\n",
            "     | > avg_loss_gen:\u001b[92m 1.8868727684020996 \u001b[0m(-0.07526850700378418)\n",
            "     | > avg_loss_kl:\u001b[91m 2.0716991424560547 \u001b[0m(+0.0516965389251709)\n",
            "     | > avg_loss_feat:\u001b[91m 3.604802370071411 \u001b[0m(+0.06586718559265137)\n",
            "     | > avg_loss_mel:\u001b[91m 20.901063919067383 \u001b[0m(+0.7168693542480469)\n",
            "     | > avg_loss_duration:\u001b[91m 1.4120748043060303 \u001b[0m(+0.026360750198364258)\n",
            "     | > avg_loss_1:\u001b[91m 29.87651252746582 \u001b[0m(+0.7855243682861328)\n",
            "\n",
            "\n",
            "\u001b[4m\u001b[1m > EPOCH: 221/300\u001b[0m\n",
            " --> vits_20k_steps\n",
            "\n",
            "\u001b[1m > TRAINING (2024-05-19 08:26:35) \u001b[0m\n",
            "\n",
            "\u001b[1m > EVALUATION \u001b[0m\n",
            "\n"
          ]
        },
        {
          "name": "stdout",
          "output_type": "stream",
          "text": [
            " | > Synthesizing test sentences.\n"
          ]
        },
        {
          "name": "stderr",
          "output_type": "stream",
          "text": [
            "\n",
            "  \u001b[1m--> EVAL PERFORMANCE\u001b[0m\n",
            "     | > avg_loader_time:\u001b[91m 3.6066765785217285 \u001b[0m(+0.09236764907836914)\n",
            "     | > avg_loss_disc:\u001b[91m 2.6168134212493896 \u001b[0m(+0.07580804824829102)\n",
            "     | > avg_loss_disc_real_0:\u001b[91m 0.17480556666851044 \u001b[0m(+0.001598358154296875)\n",
            "     | > avg_loss_disc_real_1:\u001b[92m 0.21359097957611084 \u001b[0m(-0.020854204893112183)\n",
            "     | > avg_loss_disc_real_2:\u001b[91m 0.22258877754211426 \u001b[0m(+0.008768007159233093)\n",
            "     | > avg_loss_disc_real_3:\u001b[92m 0.19183465838432312 \u001b[0m(-0.03924502432346344)\n",
            "     | > avg_loss_disc_real_4:\u001b[91m 0.22307918965816498 \u001b[0m(+0.030901402235031128)\n",
            "     | > avg_loss_disc_real_5:\u001b[91m 0.22090545296669006 \u001b[0m(+0.048230960965156555)\n",
            "     | > avg_loss_0:\u001b[91m 2.6168134212493896 \u001b[0m(+0.07580804824829102)\n",
            "     | > avg_loss_gen:\u001b[92m 1.8614674806594849 \u001b[0m(-0.025405287742614746)\n",
            "     | > avg_loss_kl:\u001b[91m 2.1784908771514893 \u001b[0m(+0.10679173469543457)\n",
            "     | > avg_loss_feat:\u001b[91m 4.1974897384643555 \u001b[0m(+0.5926873683929443)\n",
            "     | > avg_loss_mel:\u001b[92m 19.366979598999023 \u001b[0m(-1.5340843200683594)\n",
            "     | > avg_loss_duration:\u001b[91m 1.4202163219451904 \u001b[0m(+0.008141517639160156)\n",
            "     | > avg_loss_1:\u001b[92m 29.024642944335938 \u001b[0m(-0.8518695831298828)\n",
            "\n",
            "\n",
            "\u001b[4m\u001b[1m > EPOCH: 222/300\u001b[0m\n",
            " --> vits_20k_steps\n",
            "\n",
            "\u001b[1m > TRAINING (2024-05-19 08:27:06) \u001b[0m\n",
            "\n",
            "\u001b[1m > EVALUATION \u001b[0m\n",
            "\n"
          ]
        },
        {
          "name": "stdout",
          "output_type": "stream",
          "text": [
            " | > Synthesizing test sentences.\n"
          ]
        },
        {
          "name": "stderr",
          "output_type": "stream",
          "text": [
            "\n",
            "  \u001b[1m--> EVAL PERFORMANCE\u001b[0m\n",
            "     | > avg_loader_time:\u001b[92m 3.464494228363037 \u001b[0m(-0.1421823501586914)\n",
            "     | > avg_loss_disc:\u001b[91m 2.7408571243286133 \u001b[0m(+0.12404370307922363)\n",
            "     | > avg_loss_disc_real_0:\u001b[91m 0.24643826484680176 \u001b[0m(+0.07163269817829132)\n",
            "     | > avg_loss_disc_real_1:\u001b[91m 0.28229862451553345 \u001b[0m(+0.06870764493942261)\n",
            "     | > avg_loss_disc_real_2:\u001b[91m 0.2613926827907562 \u001b[0m(+0.03880390524864197)\n",
            "     | > avg_loss_disc_real_3:\u001b[91m 0.2304193377494812 \u001b[0m(+0.03858467936515808)\n",
            "     | > avg_loss_disc_real_4:\u001b[92m 0.18573331832885742 \u001b[0m(-0.037345871329307556)\n",
            "     | > avg_loss_disc_real_5:\u001b[92m 0.20790067315101624 \u001b[0m(-0.013004779815673828)\n",
            "     | > avg_loss_0:\u001b[91m 2.7408571243286133 \u001b[0m(+0.12404370307922363)\n",
            "     | > avg_loss_gen:\u001b[91m 1.9102563858032227 \u001b[0m(+0.04878890514373779)\n",
            "     | > avg_loss_kl:\u001b[92m 1.7187100648880005 \u001b[0m(-0.45978081226348877)\n",
            "     | > avg_loss_feat:\u001b[92m 3.3049330711364746 \u001b[0m(-0.8925566673278809)\n",
            "     | > avg_loss_mel:\u001b[91m 20.001277923583984 \u001b[0m(+0.6342983245849609)\n",
            "     | > avg_loss_duration:\u001b[92m 1.4158395528793335 \u001b[0m(-0.004376769065856934)\n",
            "     | > avg_loss_1:\u001b[92m 28.351016998291016 \u001b[0m(-0.6736259460449219)\n",
            "\n",
            "\n",
            "\u001b[4m\u001b[1m > EPOCH: 223/300\u001b[0m\n",
            " --> vits_20k_steps\n",
            "\n",
            "\u001b[1m > TRAINING (2024-05-19 08:27:37) \u001b[0m\n",
            "\n",
            "\u001b[1m > EVALUATION \u001b[0m\n",
            "\n"
          ]
        },
        {
          "name": "stdout",
          "output_type": "stream",
          "text": [
            " | > Synthesizing test sentences.\n"
          ]
        },
        {
          "name": "stderr",
          "output_type": "stream",
          "text": [
            "\n",
            "  \u001b[1m--> EVAL PERFORMANCE\u001b[0m\n",
            "     | > avg_loader_time:\u001b[91m 3.5379090309143066 \u001b[0m(+0.07341480255126953)\n",
            "     | > avg_loss_disc:\u001b[92m 2.5214412212371826 \u001b[0m(-0.21941590309143066)\n",
            "     | > avg_loss_disc_real_0:\u001b[91m 0.24941611289978027 \u001b[0m(+0.0029778480529785156)\n",
            "     | > avg_loss_disc_real_1:\u001b[92m 0.20445768535137177 \u001b[0m(-0.07784093916416168)\n",
            "     | > avg_loss_disc_real_2:\u001b[92m 0.25668203830718994 \u001b[0m(-0.004710644483566284)\n",
            "     | > avg_loss_disc_real_3:\u001b[92m 0.2091848999261856 \u001b[0m(-0.021234437823295593)\n",
            "     | > avg_loss_disc_real_4:\u001b[92m 0.1662338674068451 \u001b[0m(-0.01949945092201233)\n",
            "     | > avg_loss_disc_real_5:\u001b[92m 0.20602355897426605 \u001b[0m(-0.001877114176750183)\n",
            "     | > avg_loss_0:\u001b[92m 2.5214412212371826 \u001b[0m(-0.21941590309143066)\n",
            "     | > avg_loss_gen:\u001b[91m 2.1697473526000977 \u001b[0m(+0.259490966796875)\n",
            "     | > avg_loss_kl:\u001b[91m 1.8381892442703247 \u001b[0m(+0.11947917938232422)\n",
            "     | > avg_loss_feat:\u001b[91m 4.142093181610107 \u001b[0m(+0.8371601104736328)\n",
            "     | > avg_loss_mel:\u001b[91m 20.033567428588867 \u001b[0m(+0.03228950500488281)\n",
            "     | > avg_loss_duration:\u001b[91m 1.436924695968628 \u001b[0m(+0.021085143089294434)\n",
            "     | > avg_loss_1:\u001b[91m 29.620521545410156 \u001b[0m(+1.2695045471191406)\n",
            "\n",
            "\n",
            "\u001b[4m\u001b[1m > EPOCH: 224/300\u001b[0m\n",
            " --> vits_20k_steps\n",
            "\n",
            "\u001b[1m > TRAINING (2024-05-19 08:28:07) \u001b[0m\n",
            "\n",
            "\u001b[1m > EVALUATION \u001b[0m\n",
            "\n"
          ]
        },
        {
          "name": "stdout",
          "output_type": "stream",
          "text": [
            " | > Synthesizing test sentences.\n"
          ]
        },
        {
          "name": "stderr",
          "output_type": "stream",
          "text": [
            "\n",
            "  \u001b[1m--> EVAL PERFORMANCE\u001b[0m\n",
            "     | > avg_loader_time:\u001b[92m 3.533281087875366 \u001b[0m(-0.00462794303894043)\n",
            "     | > avg_loss_disc:\u001b[91m 2.5218687057495117 \u001b[0m(+0.00042748451232910156)\n",
            "     | > avg_loss_disc_real_0:\u001b[92m 0.23573420941829681 \u001b[0m(-0.01368190348148346)\n",
            "     | > avg_loss_disc_real_1:\u001b[91m 0.22217999398708344 \u001b[0m(+0.01772230863571167)\n",
            "     | > avg_loss_disc_real_2:\u001b[92m 0.166653111577034 \u001b[0m(-0.09002892673015594)\n",
            "     | > avg_loss_disc_real_3:\u001b[91m 0.22021949291229248 \u001b[0m(+0.011034592986106873)\n",
            "     | > avg_loss_disc_real_4:\u001b[91m 0.22856418788433075 \u001b[0m(+0.06233032047748566)\n",
            "     | > avg_loss_disc_real_5:\u001b[91m 0.22394683957099915 \u001b[0m(+0.017923280596733093)\n",
            "     | > avg_loss_0:\u001b[91m 2.5218687057495117 \u001b[0m(+0.00042748451232910156)\n",
            "     | > avg_loss_gen:\u001b[92m 2.1140730381011963 \u001b[0m(-0.05567431449890137)\n",
            "     | > avg_loss_kl:\u001b[92m 1.693928599357605 \u001b[0m(-0.14426064491271973)\n",
            "     | > avg_loss_feat:\u001b[91m 4.549925804138184 \u001b[0m(+0.40783262252807617)\n",
            "     | > avg_loss_mel:\u001b[91m 21.38722038269043 \u001b[0m(+1.3536529541015625)\n",
            "     | > avg_loss_duration:\u001b[92m 1.416292428970337 \u001b[0m(-0.020632266998291016)\n",
            "     | > avg_loss_1:\u001b[91m 31.161439895629883 \u001b[0m(+1.5409183502197266)\n",
            "\n",
            "\n",
            "\u001b[4m\u001b[1m > EPOCH: 225/300\u001b[0m\n",
            " --> vits_20k_steps\n",
            "\n",
            "\u001b[1m > TRAINING (2024-05-19 08:28:38) \u001b[0m\n",
            "\n",
            "\u001b[1m > EVALUATION \u001b[0m\n",
            "\n"
          ]
        },
        {
          "name": "stdout",
          "output_type": "stream",
          "text": [
            " | > Synthesizing test sentences.\n"
          ]
        },
        {
          "name": "stderr",
          "output_type": "stream",
          "text": [
            "\n",
            "  \u001b[1m--> EVAL PERFORMANCE\u001b[0m\n",
            "     | > avg_loader_time:\u001b[91m 3.7564127445220947 \u001b[0m(+0.22313165664672852)\n",
            "     | > avg_loss_disc:\u001b[91m 2.5750064849853516 \u001b[0m(+0.053137779235839844)\n",
            "     | > avg_loss_disc_real_0:\u001b[91m 0.29060840606689453 \u001b[0m(+0.05487419664859772)\n",
            "     | > avg_loss_disc_real_1:\u001b[92m 0.21835622191429138 \u001b[0m(-0.0038237720727920532)\n",
            "     | > avg_loss_disc_real_2:\u001b[91m 0.2528716027736664 \u001b[0m(+0.08621849119663239)\n",
            "     | > avg_loss_disc_real_3:\u001b[92m 0.1796497404575348 \u001b[0m(-0.04056975245475769)\n",
            "     | > avg_loss_disc_real_4:\u001b[92m 0.21085771918296814 \u001b[0m(-0.01770646870136261)\n",
            "     | > avg_loss_disc_real_5:\u001b[92m 0.19490262866020203 \u001b[0m(-0.02904421091079712)\n",
            "     | > avg_loss_0:\u001b[91m 2.5750064849853516 \u001b[0m(+0.053137779235839844)\n",
            "     | > avg_loss_gen:\u001b[91m 2.129056930541992 \u001b[0m(+0.014983892440795898)\n",
            "     | > avg_loss_kl:\u001b[91m 1.8639358282089233 \u001b[0m(+0.17000722885131836)\n",
            "     | > avg_loss_feat:\u001b[91m 5.062821388244629 \u001b[0m(+0.5128955841064453)\n",
            "     | > avg_loss_mel:\u001b[91m 21.47928810119629 \u001b[0m(+0.09206771850585938)\n",
            "     | > avg_loss_duration:\u001b[91m 1.428830862045288 \u001b[0m(+0.012538433074951172)\n",
            "     | > avg_loss_1:\u001b[91m 31.96393394470215 \u001b[0m(+0.8024940490722656)\n",
            "\n",
            "\n",
            "\u001b[4m\u001b[1m > EPOCH: 226/300\u001b[0m\n",
            " --> vits_20k_steps\n",
            "\n",
            "\u001b[1m > TRAINING (2024-05-19 08:29:11) \u001b[0m\n",
            "\n",
            "\u001b[1m > EVALUATION \u001b[0m\n",
            "\n"
          ]
        },
        {
          "name": "stdout",
          "output_type": "stream",
          "text": [
            " | > Synthesizing test sentences.\n"
          ]
        },
        {
          "name": "stderr",
          "output_type": "stream",
          "text": [
            "\n",
            "  \u001b[1m--> EVAL PERFORMANCE\u001b[0m\n",
            "     | > avg_loader_time:\u001b[92m 3.635451316833496 \u001b[0m(-0.12096142768859863)\n",
            "     | > avg_loss_disc:\u001b[92m 2.550628900527954 \u001b[0m(-0.02437758445739746)\n",
            "     | > avg_loss_disc_real_0:\u001b[92m 0.15037718415260315 \u001b[0m(-0.14023122191429138)\n",
            "     | > avg_loss_disc_real_1:\u001b[91m 0.25761842727661133 \u001b[0m(+0.039262205362319946)\n",
            "     | > avg_loss_disc_real_2:\u001b[92m 0.16544727981090546 \u001b[0m(-0.08742432296276093)\n",
            "     | > avg_loss_disc_real_3:\u001b[92m 0.17928802967071533 \u001b[0m(-0.000361710786819458)\n",
            "     | > avg_loss_disc_real_4:\u001b[92m 0.17868000268936157 \u001b[0m(-0.03217771649360657)\n",
            "     | > avg_loss_disc_real_5:\u001b[91m 0.2305069863796234 \u001b[0m(+0.03560435771942139)\n",
            "     | > avg_loss_0:\u001b[92m 2.550628900527954 \u001b[0m(-0.02437758445739746)\n",
            "     | > avg_loss_gen:\u001b[92m 1.931074857711792 \u001b[0m(-0.1979820728302002)\n",
            "     | > avg_loss_kl:\u001b[91m 2.187922477722168 \u001b[0m(+0.32398664951324463)\n",
            "     | > avg_loss_feat:\u001b[92m 4.975726127624512 \u001b[0m(-0.08709526062011719)\n",
            "     | > avg_loss_mel:\u001b[92m 20.340251922607422 \u001b[0m(-1.1390361785888672)\n",
            "     | > avg_loss_duration:\u001b[91m 1.436042070388794 \u001b[0m(+0.007211208343505859)\n",
            "     | > avg_loss_1:\u001b[92m 30.871017456054688 \u001b[0m(-1.092916488647461)\n",
            "\n",
            "\n",
            "\u001b[4m\u001b[1m > EPOCH: 227/300\u001b[0m\n",
            " --> vits_20k_steps\n",
            "\n",
            "\u001b[1m > TRAINING (2024-05-19 08:29:41) \u001b[0m\n",
            "\n",
            "\u001b[1m > EVALUATION \u001b[0m\n",
            "\n"
          ]
        },
        {
          "name": "stdout",
          "output_type": "stream",
          "text": [
            " | > Synthesizing test sentences.\n"
          ]
        },
        {
          "name": "stderr",
          "output_type": "stream",
          "text": [
            "\n",
            "  \u001b[1m--> EVAL PERFORMANCE\u001b[0m\n",
            "     | > avg_loader_time:\u001b[92m 3.5295658111572266 \u001b[0m(-0.10588550567626953)\n",
            "     | > avg_loss_disc:\u001b[92m 2.5167219638824463 \u001b[0m(-0.03390693664550781)\n",
            "     | > avg_loss_disc_real_0:\u001b[91m 0.25471675395965576 \u001b[0m(+0.10433956980705261)\n",
            "     | > avg_loss_disc_real_1:\u001b[92m 0.21417665481567383 \u001b[0m(-0.0434417724609375)\n",
            "     | > avg_loss_disc_real_2:\u001b[91m 0.23750978708267212 \u001b[0m(+0.07206250727176666)\n",
            "     | > avg_loss_disc_real_3:\u001b[91m 0.23105868697166443 \u001b[0m(+0.0517706573009491)\n",
            "     | > avg_loss_disc_real_4:\u001b[91m 0.20763152837753296 \u001b[0m(+0.028951525688171387)\n",
            "     | > avg_loss_disc_real_5:\u001b[92m 0.14340993762016296 \u001b[0m(-0.08709704875946045)\n",
            "     | > avg_loss_0:\u001b[92m 2.5167219638824463 \u001b[0m(-0.03390693664550781)\n",
            "     | > avg_loss_gen:\u001b[91m 2.112166404724121 \u001b[0m(+0.1810915470123291)\n",
            "     | > avg_loss_kl:\u001b[92m 2.0595288276672363 \u001b[0m(-0.12839365005493164)\n",
            "     | > avg_loss_feat:\u001b[92m 4.930809020996094 \u001b[0m(-0.04491710662841797)\n",
            "     | > avg_loss_mel:\u001b[92m 20.28927230834961 \u001b[0m(-0.0509796142578125)\n",
            "     | > avg_loss_duration:\u001b[92m 1.4196336269378662 \u001b[0m(-0.016408443450927734)\n",
            "     | > avg_loss_1:\u001b[92m 30.811410903930664 \u001b[0m(-0.05960655212402344)\n",
            "\n",
            "\n",
            "\u001b[4m\u001b[1m > EPOCH: 228/300\u001b[0m\n",
            " --> vits_20k_steps\n",
            "\n",
            "\u001b[1m > TRAINING (2024-05-19 08:30:12) \u001b[0m\n",
            "\n",
            "\u001b[1m > EVALUATION \u001b[0m\n",
            "\n"
          ]
        },
        {
          "name": "stdout",
          "output_type": "stream",
          "text": [
            " | > Synthesizing test sentences.\n"
          ]
        },
        {
          "name": "stderr",
          "output_type": "stream",
          "text": [
            "\n",
            "  \u001b[1m--> EVAL PERFORMANCE\u001b[0m\n",
            "     | > avg_loader_time:\u001b[91m 3.540397882461548 \u001b[0m(+0.010832071304321289)\n",
            "     | > avg_loss_disc:\u001b[91m 2.5626349449157715 \u001b[0m(+0.045912981033325195)\n",
            "     | > avg_loss_disc_real_0:\u001b[91m 0.2985154986381531 \u001b[0m(+0.043798744678497314)\n",
            "     | > avg_loss_disc_real_1:\u001b[91m 0.2681728005409241 \u001b[0m(+0.053996145725250244)\n",
            "     | > avg_loss_disc_real_2:\u001b[92m 0.1765105128288269 \u001b[0m(-0.060999274253845215)\n",
            "     | > avg_loss_disc_real_3:\u001b[92m 0.17410951852798462 \u001b[0m(-0.05694916844367981)\n",
            "     | > avg_loss_disc_real_4:\u001b[92m 0.1542273610830307 \u001b[0m(-0.05340416729450226)\n",
            "     | > avg_loss_disc_real_5:\u001b[92m 0.13921062648296356 \u001b[0m(-0.004199311137199402)\n",
            "     | > avg_loss_0:\u001b[91m 2.5626349449157715 \u001b[0m(+0.045912981033325195)\n",
            "     | > avg_loss_gen:\u001b[92m 2.0292372703552246 \u001b[0m(-0.08292913436889648)\n",
            "     | > avg_loss_kl:\u001b[92m 1.977386713027954 \u001b[0m(-0.08214211463928223)\n",
            "     | > avg_loss_feat:\u001b[92m 4.839364528656006 \u001b[0m(-0.09144449234008789)\n",
            "     | > avg_loss_mel:\u001b[91m 21.032001495361328 \u001b[0m(+0.7427291870117188)\n",
            "     | > avg_loss_duration:\u001b[92m 1.3849332332611084 \u001b[0m(-0.03470039367675781)\n",
            "     | > avg_loss_1:\u001b[91m 31.262924194335938 \u001b[0m(+0.45151329040527344)\n",
            "\n",
            "\n",
            "\u001b[4m\u001b[1m > EPOCH: 229/300\u001b[0m\n",
            " --> vits_20k_steps\n",
            "\n",
            "\u001b[1m > TRAINING (2024-05-19 08:30:44) \u001b[0m\n",
            "\n",
            "\u001b[1m > EVALUATION \u001b[0m\n",
            "\n"
          ]
        },
        {
          "name": "stdout",
          "output_type": "stream",
          "text": [
            " | > Synthesizing test sentences.\n"
          ]
        },
        {
          "name": "stderr",
          "output_type": "stream",
          "text": [
            "\n",
            "  \u001b[1m--> EVAL PERFORMANCE\u001b[0m\n",
            "     | > avg_loader_time:\u001b[92m 3.536748170852661 \u001b[0m(-0.0036497116088867188)\n",
            "     | > avg_loss_disc:\u001b[91m 2.595247507095337 \u001b[0m(+0.03261256217956543)\n",
            "     | > avg_loss_disc_real_0:\u001b[92m 0.23823311924934387 \u001b[0m(-0.060282379388809204)\n",
            "     | > avg_loss_disc_real_1:\u001b[92m 0.22055098414421082 \u001b[0m(-0.04762181639671326)\n",
            "     | > avg_loss_disc_real_2:\u001b[91m 0.23340502381324768 \u001b[0m(+0.056894510984420776)\n",
            "     | > avg_loss_disc_real_3:\u001b[91m 0.19081158936023712 \u001b[0m(+0.016702070832252502)\n",
            "     | > avg_loss_disc_real_4:\u001b[91m 0.20240621268749237 \u001b[0m(+0.04817885160446167)\n",
            "     | > avg_loss_disc_real_5:\u001b[91m 0.26296815276145935 \u001b[0m(+0.12375752627849579)\n",
            "     | > avg_loss_0:\u001b[91m 2.595247507095337 \u001b[0m(+0.03261256217956543)\n",
            "     | > avg_loss_gen:\u001b[91m 2.0721261501312256 \u001b[0m(+0.04288887977600098)\n",
            "     | > avg_loss_kl:\u001b[91m 2.0375771522521973 \u001b[0m(+0.060190439224243164)\n",
            "     | > avg_loss_feat:\u001b[92m 4.516286849975586 \u001b[0m(-0.3230776786804199)\n",
            "     | > avg_loss_mel:\u001b[92m 19.748546600341797 \u001b[0m(-1.2834548950195312)\n",
            "     | > avg_loss_duration:\u001b[91m 1.3902740478515625 \u001b[0m(+0.0053408145904541016)\n",
            "     | > avg_loss_1:\u001b[92m 29.76481056213379 \u001b[0m(-1.4981136322021484)\n",
            "\n",
            "\n",
            "\u001b[4m\u001b[1m > EPOCH: 230/300\u001b[0m\n",
            " --> vits_20k_steps\n",
            "\n",
            "\u001b[1m > TRAINING (2024-05-19 08:31:15) \u001b[0m\n",
            "\n",
            "\u001b[1m > EVALUATION \u001b[0m\n",
            "\n"
          ]
        },
        {
          "name": "stdout",
          "output_type": "stream",
          "text": [
            " | > Synthesizing test sentences.\n"
          ]
        },
        {
          "name": "stderr",
          "output_type": "stream",
          "text": [
            "\n",
            "  \u001b[1m--> EVAL PERFORMANCE\u001b[0m\n",
            "     | > avg_loader_time:\u001b[92m 3.4085302352905273 \u001b[0m(-0.1282179355621338)\n",
            "     | > avg_loss_disc:\u001b[91m 2.7383809089660645 \u001b[0m(+0.14313340187072754)\n",
            "     | > avg_loss_disc_real_0:\u001b[91m 0.2526736259460449 \u001b[0m(+0.01444050669670105)\n",
            "     | > avg_loss_disc_real_1:\u001b[91m 0.2472352236509323 \u001b[0m(+0.026684239506721497)\n",
            "     | > avg_loss_disc_real_2:\u001b[91m 0.25559961795806885 \u001b[0m(+0.022194594144821167)\n",
            "     | > avg_loss_disc_real_3:\u001b[91m 0.22519037127494812 \u001b[0m(+0.034378781914711)\n",
            "     | > avg_loss_disc_real_4:\u001b[91m 0.23436322808265686 \u001b[0m(+0.03195701539516449)\n",
            "     | > avg_loss_disc_real_5:\u001b[92m 0.22271709144115448 \u001b[0m(-0.04025106132030487)\n",
            "     | > avg_loss_0:\u001b[91m 2.7383809089660645 \u001b[0m(+0.14313340187072754)\n",
            "     | > avg_loss_gen:\u001b[92m 1.94353187084198 \u001b[0m(-0.1285942792892456)\n",
            "     | > avg_loss_kl:\u001b[91m 2.2958943843841553 \u001b[0m(+0.258317232131958)\n",
            "     | > avg_loss_feat:\u001b[92m 3.8087706565856934 \u001b[0m(-0.7075161933898926)\n",
            "     | > avg_loss_mel:\u001b[92m 19.677047729492188 \u001b[0m(-0.07149887084960938)\n",
            "     | > avg_loss_duration:\u001b[91m 1.4225170612335205 \u001b[0m(+0.03224301338195801)\n",
            "     | > avg_loss_1:\u001b[92m 29.14776039123535 \u001b[0m(-0.6170501708984375)\n",
            "\n",
            "\n",
            "\u001b[4m\u001b[1m > EPOCH: 231/300\u001b[0m\n",
            " --> vits_20k_steps\n",
            "\n",
            "\u001b[1m > TRAINING (2024-05-19 08:31:46) \u001b[0m\n",
            "\n",
            "\u001b[1m > EVALUATION \u001b[0m\n",
            "\n"
          ]
        },
        {
          "name": "stdout",
          "output_type": "stream",
          "text": [
            " | > Synthesizing test sentences.\n"
          ]
        },
        {
          "name": "stderr",
          "output_type": "stream",
          "text": [
            "\n",
            "  \u001b[1m--> EVAL PERFORMANCE\u001b[0m\n",
            "     | > avg_loader_time:\u001b[92m 3.2855329513549805 \u001b[0m(-0.12299728393554688)\n",
            "     | > avg_loss_disc:\u001b[92m 2.43288516998291 \u001b[0m(-0.3054957389831543)\n",
            "     | > avg_loss_disc_real_0:\u001b[92m 0.2141360491514206 \u001b[0m(-0.03853757679462433)\n",
            "     | > avg_loss_disc_real_1:\u001b[92m 0.22925712168216705 \u001b[0m(-0.01797810196876526)\n",
            "     | > avg_loss_disc_real_2:\u001b[92m 0.19493776559829712 \u001b[0m(-0.06066185235977173)\n",
            "     | > avg_loss_disc_real_3:\u001b[92m 0.12936323881149292 \u001b[0m(-0.0958271324634552)\n",
            "     | > avg_loss_disc_real_4:\u001b[92m 0.12970834970474243 \u001b[0m(-0.10465487837791443)\n",
            "     | > avg_loss_disc_real_5:\u001b[92m 0.19396500289440155 \u001b[0m(-0.02875208854675293)\n",
            "     | > avg_loss_0:\u001b[92m 2.43288516998291 \u001b[0m(-0.3054957389831543)\n",
            "     | > avg_loss_gen:\u001b[91m 1.9903184175491333 \u001b[0m(+0.04678654670715332)\n",
            "     | > avg_loss_kl:\u001b[92m 2.138417959213257 \u001b[0m(-0.15747642517089844)\n",
            "     | > avg_loss_feat:\u001b[91m 5.013400554656982 \u001b[0m(+1.204629898071289)\n",
            "     | > avg_loss_mel:\u001b[91m 21.352115631103516 \u001b[0m(+1.6750679016113281)\n",
            "     | > avg_loss_duration:\u001b[91m 1.437220573425293 \u001b[0m(+0.014703512191772461)\n",
            "     | > avg_loss_1:\u001b[91m 31.931472778320312 \u001b[0m(+2.783712387084961)\n",
            "\n",
            "\n",
            "\u001b[4m\u001b[1m > EPOCH: 232/300\u001b[0m\n",
            " --> vits_20k_steps\n",
            "\n",
            "\u001b[1m > TRAINING (2024-05-19 08:32:17) \u001b[0m\n",
            "\n",
            "\u001b[1m > EVALUATION \u001b[0m\n",
            "\n"
          ]
        },
        {
          "name": "stdout",
          "output_type": "stream",
          "text": [
            " | > Synthesizing test sentences.\n"
          ]
        },
        {
          "name": "stderr",
          "output_type": "stream",
          "text": [
            "\n",
            "  \u001b[1m--> EVAL PERFORMANCE\u001b[0m\n",
            "     | > avg_loader_time:\u001b[91m 3.4111328125 \u001b[0m(+0.12559986114501953)\n",
            "     | > avg_loss_disc:\u001b[91m 2.5379154682159424 \u001b[0m(+0.10503029823303223)\n",
            "     | > avg_loss_disc_real_0:\u001b[91m 0.30278223752975464 \u001b[0m(+0.08864618837833405)\n",
            "     | > avg_loss_disc_real_1:\u001b[91m 0.23736749589443207 \u001b[0m(+0.008110374212265015)\n",
            "     | > avg_loss_disc_real_2:\u001b[92m 0.18128497898578644 \u001b[0m(-0.013652786612510681)\n",
            "     | > avg_loss_disc_real_3:\u001b[91m 0.18057270348072052 \u001b[0m(+0.0512094646692276)\n",
            "     | > avg_loss_disc_real_4:\u001b[91m 0.16512784361839294 \u001b[0m(+0.03541949391365051)\n",
            "     | > avg_loss_disc_real_5:\u001b[92m 0.17365749180316925 \u001b[0m(-0.0203075110912323)\n",
            "     | > avg_loss_0:\u001b[91m 2.5379154682159424 \u001b[0m(+0.10503029823303223)\n",
            "     | > avg_loss_gen:\u001b[91m 2.066767692565918 \u001b[0m(+0.07644927501678467)\n",
            "     | > avg_loss_kl:\u001b[92m 2.0461835861206055 \u001b[0m(-0.09223437309265137)\n",
            "     | > avg_loss_feat:\u001b[92m 4.429389953613281 \u001b[0m(-0.5840106010437012)\n",
            "     | > avg_loss_mel:\u001b[92m 20.198171615600586 \u001b[0m(-1.1539440155029297)\n",
            "     | > avg_loss_duration:\u001b[91m 1.4559987783432007 \u001b[0m(+0.018778204917907715)\n",
            "     | > avg_loss_1:\u001b[92m 30.19651222229004 \u001b[0m(-1.7349605560302734)\n",
            "\n",
            "\n",
            "\u001b[4m\u001b[1m > EPOCH: 233/300\u001b[0m\n",
            " --> vits_20k_steps\n",
            "\n",
            "\u001b[1m > TRAINING (2024-05-19 08:32:48) \u001b[0m\n",
            "\n",
            "\u001b[1m > EVALUATION \u001b[0m\n",
            "\n"
          ]
        },
        {
          "name": "stdout",
          "output_type": "stream",
          "text": [
            " | > Synthesizing test sentences.\n"
          ]
        },
        {
          "name": "stderr",
          "output_type": "stream",
          "text": [
            "\n",
            "  \u001b[1m--> EVAL PERFORMANCE\u001b[0m\n",
            "     | > avg_loader_time:\u001b[91m 3.4574320316314697 \u001b[0m(+0.04629921913146973)\n",
            "     | > avg_loss_disc:\u001b[91m 2.7805051803588867 \u001b[0m(+0.24258971214294434)\n",
            "     | > avg_loss_disc_real_0:\u001b[92m 0.2463245838880539 \u001b[0m(-0.056457653641700745)\n",
            "     | > avg_loss_disc_real_1:\u001b[91m 0.27306729555130005 \u001b[0m(+0.03569979965686798)\n",
            "     | > avg_loss_disc_real_2:\u001b[91m 0.1976080983877182 \u001b[0m(+0.016323119401931763)\n",
            "     | > avg_loss_disc_real_3:\u001b[91m 0.1927066147327423 \u001b[0m(+0.01213391125202179)\n",
            "     | > avg_loss_disc_real_4:\u001b[91m 0.17403434216976166 \u001b[0m(+0.008906498551368713)\n",
            "     | > avg_loss_disc_real_5:\u001b[91m 0.24806202948093414 \u001b[0m(+0.07440453767776489)\n",
            "     | > avg_loss_0:\u001b[91m 2.7805051803588867 \u001b[0m(+0.24258971214294434)\n",
            "     | > avg_loss_gen:\u001b[92m 1.850316047668457 \u001b[0m(-0.21645164489746094)\n",
            "     | > avg_loss_kl:\u001b[91m 2.431366205215454 \u001b[0m(+0.38518261909484863)\n",
            "     | > avg_loss_feat:\u001b[92m 4.2117509841918945 \u001b[0m(-0.21763896942138672)\n",
            "     | > avg_loss_mel:\u001b[92m 19.889257431030273 \u001b[0m(-0.3089141845703125)\n",
            "     | > avg_loss_duration:\u001b[91m 1.4620099067687988 \u001b[0m(+0.0060111284255981445)\n",
            "     | > avg_loss_1:\u001b[92m 29.84469985961914 \u001b[0m(-0.35181236267089844)\n",
            "\n",
            "\n",
            "\u001b[4m\u001b[1m > EPOCH: 234/300\u001b[0m\n",
            " --> vits_20k_steps\n",
            "\n",
            "\u001b[1m > TRAINING (2024-05-19 08:33:19) \u001b[0m\n",
            "\n",
            "\u001b[1m > EVALUATION \u001b[0m\n",
            "\n"
          ]
        },
        {
          "name": "stdout",
          "output_type": "stream",
          "text": [
            " | > Synthesizing test sentences.\n"
          ]
        },
        {
          "name": "stderr",
          "output_type": "stream",
          "text": [
            "\n",
            "  \u001b[1m--> EVAL PERFORMANCE\u001b[0m\n",
            "     | > avg_loader_time:\u001b[91m 3.6596035957336426 \u001b[0m(+0.20217156410217285)\n",
            "     | > avg_loss_disc:\u001b[92m 2.6217031478881836 \u001b[0m(-0.15880203247070312)\n",
            "     | > avg_loss_disc_real_0:\u001b[92m 0.2044716477394104 \u001b[0m(-0.041852936148643494)\n",
            "     | > avg_loss_disc_real_1:\u001b[92m 0.19955942034721375 \u001b[0m(-0.0735078752040863)\n",
            "     | > avg_loss_disc_real_2:\u001b[92m 0.16322121024131775 \u001b[0m(-0.03438688814640045)\n",
            "     | > avg_loss_disc_real_3:\u001b[92m 0.18007397651672363 \u001b[0m(-0.012632638216018677)\n",
            "     | > avg_loss_disc_real_4:\u001b[91m 0.17592674493789673 \u001b[0m(+0.0018924027681350708)\n",
            "     | > avg_loss_disc_real_5:\u001b[92m 0.18474584817886353 \u001b[0m(-0.06331618130207062)\n",
            "     | > avg_loss_0:\u001b[92m 2.6217031478881836 \u001b[0m(-0.15880203247070312)\n",
            "     | > avg_loss_gen:\u001b[92m 1.8087105751037598 \u001b[0m(-0.041605472564697266)\n",
            "     | > avg_loss_kl:\u001b[92m 2.2359094619750977 \u001b[0m(-0.19545674324035645)\n",
            "     | > avg_loss_feat:\u001b[91m 4.621453285217285 \u001b[0m(+0.4097023010253906)\n",
            "     | > avg_loss_mel:\u001b[91m 21.872926712036133 \u001b[0m(+1.9836692810058594)\n",
            "     | > avg_loss_duration:\u001b[91m 1.462308645248413 \u001b[0m(+0.0002987384796142578)\n",
            "     | > avg_loss_1:\u001b[91m 32.00130844116211 \u001b[0m(+2.1566085815429688)\n",
            "\n",
            "\n",
            "\u001b[4m\u001b[1m > EPOCH: 235/300\u001b[0m\n",
            " --> vits_20k_steps\n",
            "\n",
            "\u001b[1m > TRAINING (2024-05-19 08:33:51) \u001b[0m\n",
            "\n",
            "\u001b[1m > EVALUATION \u001b[0m\n",
            "\n"
          ]
        },
        {
          "name": "stdout",
          "output_type": "stream",
          "text": [
            " | > Synthesizing test sentences.\n"
          ]
        },
        {
          "name": "stderr",
          "output_type": "stream",
          "text": [
            "\n",
            "  \u001b[1m--> EVAL PERFORMANCE\u001b[0m\n",
            "     | > avg_loader_time:\u001b[92m 3.487354040145874 \u001b[0m(-0.17224955558776855)\n",
            "     | > avg_loss_disc:\u001b[91m 2.732941150665283 \u001b[0m(+0.11123800277709961)\n",
            "     | > avg_loss_disc_real_0:\u001b[91m 0.2922363877296448 \u001b[0m(+0.08776473999023438)\n",
            "     | > avg_loss_disc_real_1:\u001b[91m 0.21893639862537384 \u001b[0m(+0.019376978278160095)\n",
            "     | > avg_loss_disc_real_2:\u001b[91m 0.2083669900894165 \u001b[0m(+0.045145779848098755)\n",
            "     | > avg_loss_disc_real_3:\u001b[91m 0.22970545291900635 \u001b[0m(+0.049631476402282715)\n",
            "     | > avg_loss_disc_real_4:\u001b[91m 0.25254181027412415 \u001b[0m(+0.07661506533622742)\n",
            "     | > avg_loss_disc_real_5:\u001b[91m 0.21839821338653564 \u001b[0m(+0.03365236520767212)\n",
            "     | > avg_loss_0:\u001b[91m 2.732941150665283 \u001b[0m(+0.11123800277709961)\n",
            "     | > avg_loss_gen:\u001b[91m 2.054313898086548 \u001b[0m(+0.24560332298278809)\n",
            "     | > avg_loss_kl:\u001b[92m 1.954824447631836 \u001b[0m(-0.2810850143432617)\n",
            "     | > avg_loss_feat:\u001b[92m 4.511113166809082 \u001b[0m(-0.11034011840820312)\n",
            "     | > avg_loss_mel:\u001b[92m 19.818294525146484 \u001b[0m(-2.0546321868896484)\n",
            "     | > avg_loss_duration:\u001b[92m 1.456559658050537 \u001b[0m(-0.0057489871978759766)\n",
            "     | > avg_loss_1:\u001b[92m 29.795106887817383 \u001b[0m(-2.2062015533447266)\n",
            "\n",
            "\n",
            "\u001b[4m\u001b[1m > EPOCH: 236/300\u001b[0m\n",
            " --> vits_20k_steps\n",
            "\n",
            "\u001b[1m > TRAINING (2024-05-19 08:34:22) \u001b[0m\n",
            "\n",
            "\u001b[1m > EVALUATION \u001b[0m\n",
            "\n"
          ]
        },
        {
          "name": "stdout",
          "output_type": "stream",
          "text": [
            " | > Synthesizing test sentences.\n"
          ]
        },
        {
          "name": "stderr",
          "output_type": "stream",
          "text": [
            "\n",
            "  \u001b[1m--> EVAL PERFORMANCE\u001b[0m\n",
            "     | > avg_loader_time:\u001b[91m 3.558598041534424 \u001b[0m(+0.0712440013885498)\n",
            "     | > avg_loss_disc:\u001b[92m 2.5259084701538086 \u001b[0m(-0.2070326805114746)\n",
            "     | > avg_loss_disc_real_0:\u001b[92m 0.2176477164030075 \u001b[0m(-0.07458867132663727)\n",
            "     | > avg_loss_disc_real_1:\u001b[92m 0.16347801685333252 \u001b[0m(-0.05545838177204132)\n",
            "     | > avg_loss_disc_real_2:\u001b[92m 0.19484929740428925 \u001b[0m(-0.013517692685127258)\n",
            "     | > avg_loss_disc_real_3:\u001b[92m 0.16053658723831177 \u001b[0m(-0.06916886568069458)\n",
            "     | > avg_loss_disc_real_4:\u001b[92m 0.1830732822418213 \u001b[0m(-0.06946852803230286)\n",
            "     | > avg_loss_disc_real_5:\u001b[92m 0.19448384642601013 \u001b[0m(-0.023914366960525513)\n",
            "     | > avg_loss_0:\u001b[92m 2.5259084701538086 \u001b[0m(-0.2070326805114746)\n",
            "     | > avg_loss_gen:\u001b[91m 2.1743321418762207 \u001b[0m(+0.12001824378967285)\n",
            "     | > avg_loss_kl:\u001b[92m 1.8973249197006226 \u001b[0m(-0.05749952793121338)\n",
            "     | > avg_loss_feat:\u001b[91m 5.364725112915039 \u001b[0m(+0.853611946105957)\n",
            "     | > avg_loss_mel:\u001b[91m 21.08826446533203 \u001b[0m(+1.2699699401855469)\n",
            "     | > avg_loss_duration:\u001b[91m 1.457493782043457 \u001b[0m(+0.0009341239929199219)\n",
            "     | > avg_loss_1:\u001b[91m 31.982139587402344 \u001b[0m(+2.187032699584961)\n",
            "\n",
            "\n",
            "\u001b[4m\u001b[1m > EPOCH: 237/300\u001b[0m\n",
            " --> vits_20k_steps\n",
            "\n",
            "\u001b[1m > TRAINING (2024-05-19 08:34:53) \u001b[0m\n",
            "\n",
            "\u001b[1m > EVALUATION \u001b[0m\n",
            "\n"
          ]
        },
        {
          "name": "stdout",
          "output_type": "stream",
          "text": [
            " | > Synthesizing test sentences.\n"
          ]
        },
        {
          "name": "stderr",
          "output_type": "stream",
          "text": [
            "\n",
            "  \u001b[1m--> EVAL PERFORMANCE\u001b[0m\n",
            "     | > avg_loader_time:\u001b[92m 3.121901273727417 \u001b[0m(-0.43669676780700684)\n",
            "     | > avg_loss_disc:\u001b[91m 2.795600414276123 \u001b[0m(+0.26969194412231445)\n",
            "     | > avg_loss_disc_real_0:\u001b[91m 0.24596759676933289 \u001b[0m(+0.02831988036632538)\n",
            "     | > avg_loss_disc_real_1:\u001b[91m 0.31126880645751953 \u001b[0m(+0.147790789604187)\n",
            "     | > avg_loss_disc_real_2:\u001b[91m 0.27774691581726074 \u001b[0m(+0.0828976184129715)\n",
            "     | > avg_loss_disc_real_3:\u001b[91m 0.23220084607601166 \u001b[0m(+0.07166425883769989)\n",
            "     | > avg_loss_disc_real_4:\u001b[91m 0.25972703099250793 \u001b[0m(+0.07665374875068665)\n",
            "     | > avg_loss_disc_real_5:\u001b[91m 0.23912128806114197 \u001b[0m(+0.044637441635131836)\n",
            "     | > avg_loss_0:\u001b[91m 2.795600414276123 \u001b[0m(+0.26969194412231445)\n",
            "     | > avg_loss_gen:\u001b[92m 2.07110595703125 \u001b[0m(-0.1032261848449707)\n",
            "     | > avg_loss_kl:\u001b[91m 2.2068872451782227 \u001b[0m(+0.3095623254776001)\n",
            "     | > avg_loss_feat:\u001b[92m 3.6650614738464355 \u001b[0m(-1.6996636390686035)\n",
            "     | > avg_loss_mel:\u001b[92m 19.61453628540039 \u001b[0m(-1.4737281799316406)\n",
            "     | > avg_loss_duration:\u001b[92m 1.4380501508712769 \u001b[0m(-0.019443631172180176)\n",
            "     | > avg_loss_1:\u001b[92m 28.99563980102539 \u001b[0m(-2.986499786376953)\n",
            "\n",
            "\n",
            "\u001b[4m\u001b[1m > EPOCH: 238/300\u001b[0m\n",
            " --> vits_20k_steps\n",
            "\n",
            "\u001b[1m > TRAINING (2024-05-19 08:35:24) \u001b[0m\n",
            "\n",
            "\u001b[1m > EVALUATION \u001b[0m\n",
            "\n"
          ]
        },
        {
          "name": "stdout",
          "output_type": "stream",
          "text": [
            " | > Synthesizing test sentences.\n"
          ]
        },
        {
          "name": "stderr",
          "output_type": "stream",
          "text": [
            "\n",
            "  \u001b[1m--> EVAL PERFORMANCE\u001b[0m\n",
            "     | > avg_loader_time:\u001b[91m 3.5022895336151123 \u001b[0m(+0.3803882598876953)\n",
            "     | > avg_loss_disc:\u001b[92m 2.633185386657715 \u001b[0m(-0.1624150276184082)\n",
            "     | > avg_loss_disc_real_0:\u001b[92m 0.2394770085811615 \u001b[0m(-0.006490588188171387)\n",
            "     | > avg_loss_disc_real_1:\u001b[92m 0.21619006991386414 \u001b[0m(-0.0950787365436554)\n",
            "     | > avg_loss_disc_real_2:\u001b[92m 0.22480103373527527 \u001b[0m(-0.052945882081985474)\n",
            "     | > avg_loss_disc_real_3:\u001b[92m 0.20737339556217194 \u001b[0m(-0.02482745051383972)\n",
            "     | > avg_loss_disc_real_4:\u001b[92m 0.2210068553686142 \u001b[0m(-0.03872017562389374)\n",
            "     | > avg_loss_disc_real_5:\u001b[92m 0.15107382833957672 \u001b[0m(-0.08804745972156525)\n",
            "     | > avg_loss_0:\u001b[92m 2.633185386657715 \u001b[0m(-0.1624150276184082)\n",
            "     | > avg_loss_gen:\u001b[92m 1.9031345844268799 \u001b[0m(-0.16797137260437012)\n",
            "     | > avg_loss_kl:\u001b[92m 1.9362155199050903 \u001b[0m(-0.2706717252731323)\n",
            "     | > avg_loss_feat:\u001b[91m 4.9625959396362305 \u001b[0m(+1.297534465789795)\n",
            "     | > avg_loss_mel:\u001b[91m 20.928573608398438 \u001b[0m(+1.3140373229980469)\n",
            "     | > avg_loss_duration:\u001b[91m 1.4434397220611572 \u001b[0m(+0.005389571189880371)\n",
            "     | > avg_loss_1:\u001b[91m 31.173959732055664 \u001b[0m(+2.1783199310302734)\n",
            "\n",
            "\n",
            "\u001b[4m\u001b[1m > EPOCH: 239/300\u001b[0m\n",
            " --> vits_20k_steps\n",
            "\n",
            "\u001b[1m > TRAINING (2024-05-19 08:35:55) \u001b[0m\n",
            "\n",
            "\u001b[1m > EVALUATION \u001b[0m\n",
            "\n"
          ]
        },
        {
          "name": "stdout",
          "output_type": "stream",
          "text": [
            " | > Synthesizing test sentences.\n"
          ]
        },
        {
          "name": "stderr",
          "output_type": "stream",
          "text": [
            "\n",
            "  \u001b[1m--> EVAL PERFORMANCE\u001b[0m\n",
            "     | > avg_loader_time:\u001b[91m 3.575596332550049 \u001b[0m(+0.07330679893493652)\n",
            "     | > avg_loss_disc:\u001b[92m 2.6308813095092773 \u001b[0m(-0.0023040771484375)\n",
            "     | > avg_loss_disc_real_0:\u001b[92m 0.16892114281654358 \u001b[0m(-0.07055586576461792)\n",
            "     | > avg_loss_disc_real_1:\u001b[91m 0.22811152040958405 \u001b[0m(+0.01192145049571991)\n",
            "     | > avg_loss_disc_real_2:\u001b[92m 0.22180409729480743 \u001b[0m(-0.0029969364404678345)\n",
            "     | > avg_loss_disc_real_3:\u001b[91m 0.21987856924533844 \u001b[0m(+0.012505173683166504)\n",
            "     | > avg_loss_disc_real_4:\u001b[92m 0.21890495717525482 \u001b[0m(-0.002101898193359375)\n",
            "     | > avg_loss_disc_real_5:\u001b[91m 0.19198696315288544 \u001b[0m(+0.040913134813308716)\n",
            "     | > avg_loss_0:\u001b[92m 2.6308813095092773 \u001b[0m(-0.0023040771484375)\n",
            "     | > avg_loss_gen:\u001b[91m 1.94865083694458 \u001b[0m(+0.045516252517700195)\n",
            "     | > avg_loss_kl:\u001b[91m 2.1348416805267334 \u001b[0m(+0.19862616062164307)\n",
            "     | > avg_loss_feat:\u001b[92m 4.468954086303711 \u001b[0m(-0.49364185333251953)\n",
            "     | > avg_loss_mel:\u001b[91m 21.18166160583496 \u001b[0m(+0.25308799743652344)\n",
            "     | > avg_loss_duration:\u001b[92m 1.4203486442565918 \u001b[0m(-0.02309107780456543)\n",
            "     | > avg_loss_1:\u001b[92m 31.154457092285156 \u001b[0m(-0.019502639770507812)\n",
            "\n",
            "\n",
            "\u001b[4m\u001b[1m > EPOCH: 240/300\u001b[0m\n",
            " --> vits_20k_steps\n",
            "\n",
            "\u001b[1m > TRAINING (2024-05-19 08:36:26) \u001b[0m\n",
            "\n",
            "\u001b[1m > EVALUATION \u001b[0m\n",
            "\n"
          ]
        },
        {
          "name": "stdout",
          "output_type": "stream",
          "text": [
            " | > Synthesizing test sentences.\n"
          ]
        },
        {
          "name": "stderr",
          "output_type": "stream",
          "text": [
            "\n",
            "  \u001b[1m--> EVAL PERFORMANCE\u001b[0m\n",
            "     | > avg_loader_time:\u001b[92m 3.3413140773773193 \u001b[0m(-0.2342822551727295)\n",
            "     | > avg_loss_disc:\u001b[92m 2.6011040210723877 \u001b[0m(-0.02977728843688965)\n",
            "     | > avg_loss_disc_real_0:\u001b[91m 0.19295763969421387 \u001b[0m(+0.024036496877670288)\n",
            "     | > avg_loss_disc_real_1:\u001b[91m 0.2447199672460556 \u001b[0m(+0.016608446836471558)\n",
            "     | > avg_loss_disc_real_2:\u001b[91m 0.27426400780677795 \u001b[0m(+0.05245991051197052)\n",
            "     | > avg_loss_disc_real_3:\u001b[92m 0.20922482013702393 \u001b[0m(-0.010653749108314514)\n",
            "     | > avg_loss_disc_real_4:\u001b[92m 0.16435886919498444 \u001b[0m(-0.054546087980270386)\n",
            "     | > avg_loss_disc_real_5:\u001b[92m 0.18479877710342407 \u001b[0m(-0.007188186049461365)\n",
            "     | > avg_loss_0:\u001b[92m 2.6011040210723877 \u001b[0m(-0.02977728843688965)\n",
            "     | > avg_loss_gen:\u001b[91m 2.0233545303344727 \u001b[0m(+0.07470369338989258)\n",
            "     | > avg_loss_kl:\u001b[92m 1.9475561380386353 \u001b[0m(-0.18728554248809814)\n",
            "     | > avg_loss_feat:\u001b[92m 3.9314382076263428 \u001b[0m(-0.5375158786773682)\n",
            "     | > avg_loss_mel:\u001b[92m 19.798070907592773 \u001b[0m(-1.3835906982421875)\n",
            "     | > avg_loss_duration:\u001b[91m 1.470871925354004 \u001b[0m(+0.05052328109741211)\n",
            "     | > avg_loss_1:\u001b[92m 29.17129135131836 \u001b[0m(-1.9831657409667969)\n",
            "\n",
            "\n",
            "\u001b[4m\u001b[1m > EPOCH: 241/300\u001b[0m\n",
            " --> vits_20k_steps\n",
            "\n",
            "\u001b[1m > TRAINING (2024-05-19 08:36:57) \u001b[0m\n",
            "\n",
            "\u001b[1m > EVALUATION \u001b[0m\n",
            "\n"
          ]
        },
        {
          "name": "stdout",
          "output_type": "stream",
          "text": [
            " | > Synthesizing test sentences.\n"
          ]
        },
        {
          "name": "stderr",
          "output_type": "stream",
          "text": [
            "\n",
            "  \u001b[1m--> EVAL PERFORMANCE\u001b[0m\n",
            "     | > avg_loader_time:\u001b[91m 3.6723639965057373 \u001b[0m(+0.33104991912841797)\n",
            "     | > avg_loss_disc:\u001b[91m 2.720524787902832 \u001b[0m(+0.11942076683044434)\n",
            "     | > avg_loss_disc_real_0:\u001b[92m 0.19224995374679565 \u001b[0m(-0.0007076859474182129)\n",
            "     | > avg_loss_disc_real_1:\u001b[91m 0.27544844150543213 \u001b[0m(+0.030728474259376526)\n",
            "     | > avg_loss_disc_real_2:\u001b[92m 0.17217397689819336 \u001b[0m(-0.1020900309085846)\n",
            "     | > avg_loss_disc_real_3:\u001b[91m 0.23398685455322266 \u001b[0m(+0.02476203441619873)\n",
            "     | > avg_loss_disc_real_4:\u001b[91m 0.24008293449878693 \u001b[0m(+0.07572406530380249)\n",
            "     | > avg_loss_disc_real_5:\u001b[91m 0.35447797179222107 \u001b[0m(+0.169679194688797)\n",
            "     | > avg_loss_0:\u001b[91m 2.720524787902832 \u001b[0m(+0.11942076683044434)\n",
            "     | > avg_loss_gen:\u001b[91m 2.11432147026062 \u001b[0m(+0.09096693992614746)\n",
            "     | > avg_loss_kl:\u001b[91m 1.9535984992980957 \u001b[0m(+0.006042361259460449)\n",
            "     | > avg_loss_feat:\u001b[91m 4.625925064086914 \u001b[0m(+0.6944868564605713)\n",
            "     | > avg_loss_mel:\u001b[91m 20.522192001342773 \u001b[0m(+0.72412109375)\n",
            "     | > avg_loss_duration:\u001b[92m 1.4301742315292358 \u001b[0m(-0.040697693824768066)\n",
            "     | > avg_loss_1:\u001b[91m 30.646209716796875 \u001b[0m(+1.4749183654785156)\n",
            "\n",
            "\n",
            "\u001b[4m\u001b[1m > EPOCH: 242/300\u001b[0m\n",
            " --> vits_20k_steps\n",
            "\n",
            "\u001b[1m > TRAINING (2024-05-19 08:37:28) \u001b[0m\n",
            "\n",
            "\u001b[1m > EVALUATION \u001b[0m\n",
            "\n"
          ]
        },
        {
          "name": "stdout",
          "output_type": "stream",
          "text": [
            " | > Synthesizing test sentences.\n"
          ]
        },
        {
          "name": "stderr",
          "output_type": "stream",
          "text": [
            "\n",
            "  \u001b[1m--> EVAL PERFORMANCE\u001b[0m\n",
            "     | > avg_loader_time:\u001b[92m 3.5494039058685303 \u001b[0m(-0.12296009063720703)\n",
            "     | > avg_loss_disc:\u001b[92m 2.6004748344421387 \u001b[0m(-0.12004995346069336)\n",
            "     | > avg_loss_disc_real_0:\u001b[91m 0.272855281829834 \u001b[0m(+0.08060532808303833)\n",
            "     | > avg_loss_disc_real_1:\u001b[92m 0.21113182604312897 \u001b[0m(-0.06431661546230316)\n",
            "     | > avg_loss_disc_real_2:\u001b[91m 0.23831261694431305 \u001b[0m(+0.06613864004611969)\n",
            "     | > avg_loss_disc_real_3:\u001b[92m 0.22861112654209137 \u001b[0m(-0.005375728011131287)\n",
            "     | > avg_loss_disc_real_4:\u001b[92m 0.18465709686279297 \u001b[0m(-0.05542583763599396)\n",
            "     | > avg_loss_disc_real_5:\u001b[92m 0.21463677287101746 \u001b[0m(-0.1398411989212036)\n",
            "     | > avg_loss_0:\u001b[92m 2.6004748344421387 \u001b[0m(-0.12004995346069336)\n",
            "     | > avg_loss_gen:\u001b[92m 2.113992214202881 \u001b[0m(-0.0003292560577392578)\n",
            "     | > avg_loss_kl:\u001b[91m 2.162902593612671 \u001b[0m(+0.2093040943145752)\n",
            "     | > avg_loss_feat:\u001b[92m 3.7664594650268555 \u001b[0m(-0.8594655990600586)\n",
            "     | > avg_loss_mel:\u001b[91m 21.264371871948242 \u001b[0m(+0.7421798706054688)\n",
            "     | > avg_loss_duration:\u001b[92m 1.4134210348129272 \u001b[0m(-0.016753196716308594)\n",
            "     | > avg_loss_1:\u001b[91m 30.721147537231445 \u001b[0m(+0.07493782043457031)\n",
            "\n",
            "\n",
            "\u001b[4m\u001b[1m > EPOCH: 243/300\u001b[0m\n",
            " --> vits_20k_steps\n",
            "\n",
            "\u001b[1m > TRAINING (2024-05-19 08:38:00) \u001b[0m\n",
            "\n",
            "\u001b[1m > EVALUATION \u001b[0m\n",
            "\n"
          ]
        },
        {
          "name": "stdout",
          "output_type": "stream",
          "text": [
            " | > Synthesizing test sentences.\n"
          ]
        },
        {
          "name": "stderr",
          "output_type": "stream",
          "text": [
            "\n",
            "  \u001b[1m--> EVAL PERFORMANCE\u001b[0m\n",
            "     | > avg_loader_time:\u001b[92m 3.4080851078033447 \u001b[0m(-0.14131879806518555)\n",
            "     | > avg_loss_disc:\u001b[91m 2.815107822418213 \u001b[0m(+0.21463298797607422)\n",
            "     | > avg_loss_disc_real_0:\u001b[91m 0.4240759611129761 \u001b[0m(+0.1512206792831421)\n",
            "     | > avg_loss_disc_real_1:\u001b[91m 0.2523249685764313 \u001b[0m(+0.04119314253330231)\n",
            "     | > avg_loss_disc_real_2:\u001b[92m 0.2361319363117218 \u001b[0m(-0.0021806806325912476)\n",
            "     | > avg_loss_disc_real_3:\u001b[91m 0.2702956795692444 \u001b[0m(+0.041684553027153015)\n",
            "     | > avg_loss_disc_real_4:\u001b[91m 0.2021722048521042 \u001b[0m(+0.017515107989311218)\n",
            "     | > avg_loss_disc_real_5:\u001b[91m 0.27816128730773926 \u001b[0m(+0.0635245144367218)\n",
            "     | > avg_loss_0:\u001b[91m 2.815107822418213 \u001b[0m(+0.21463298797607422)\n",
            "     | > avg_loss_gen:\u001b[91m 2.3548614978790283 \u001b[0m(+0.24086928367614746)\n",
            "     | > avg_loss_kl:\u001b[91m 2.3153045177459717 \u001b[0m(+0.15240192413330078)\n",
            "     | > avg_loss_feat:\u001b[91m 4.880191326141357 \u001b[0m(+1.113731861114502)\n",
            "     | > avg_loss_mel:\u001b[92m 20.826444625854492 \u001b[0m(-0.43792724609375)\n",
            "     | > avg_loss_duration:\u001b[91m 1.417528748512268 \u001b[0m(+0.00410771369934082)\n",
            "     | > avg_loss_1:\u001b[91m 31.794330596923828 \u001b[0m(+1.0731830596923828)\n",
            "\n",
            "\n",
            "\u001b[4m\u001b[1m > EPOCH: 244/300\u001b[0m\n",
            " --> vits_20k_steps\n",
            "\n",
            "\u001b[1m > TRAINING (2024-05-19 08:38:30) \u001b[0m\n",
            "\n",
            "\u001b[1m > EVALUATION \u001b[0m\n",
            "\n"
          ]
        },
        {
          "name": "stdout",
          "output_type": "stream",
          "text": [
            " | > Synthesizing test sentences.\n"
          ]
        },
        {
          "name": "stderr",
          "output_type": "stream",
          "text": [
            "\n",
            "  \u001b[1m--> EVAL PERFORMANCE\u001b[0m\n",
            "     | > avg_loader_time:\u001b[91m 3.732585906982422 \u001b[0m(+0.32450079917907715)\n",
            "     | > avg_loss_disc:\u001b[92m 2.747370719909668 \u001b[0m(-0.06773710250854492)\n",
            "     | > avg_loss_disc_real_0:\u001b[92m 0.3844730854034424 \u001b[0m(-0.03960287570953369)\n",
            "     | > avg_loss_disc_real_1:\u001b[92m 0.20383720099925995 \u001b[0m(-0.048487767577171326)\n",
            "     | > avg_loss_disc_real_2:\u001b[91m 0.28626567125320435 \u001b[0m(+0.050133734941482544)\n",
            "     | > avg_loss_disc_real_3:\u001b[92m 0.22582779824733734 \u001b[0m(-0.04446788132190704)\n",
            "     | > avg_loss_disc_real_4:\u001b[92m 0.1962149441242218 \u001b[0m(-0.005957260727882385)\n",
            "     | > avg_loss_disc_real_5:\u001b[92m 0.1888418048620224 \u001b[0m(-0.08931948244571686)\n",
            "     | > avg_loss_0:\u001b[92m 2.747370719909668 \u001b[0m(-0.06773710250854492)\n",
            "     | > avg_loss_gen:\u001b[92m 2.2060348987579346 \u001b[0m(-0.14882659912109375)\n",
            "     | > avg_loss_kl:\u001b[92m 2.0157313346862793 \u001b[0m(-0.2995731830596924)\n",
            "     | > avg_loss_feat:\u001b[91m 5.056381702423096 \u001b[0m(+0.17619037628173828)\n",
            "     | > avg_loss_mel:\u001b[91m 21.970598220825195 \u001b[0m(+1.1441535949707031)\n",
            "     | > avg_loss_duration:\u001b[91m 1.447299599647522 \u001b[0m(+0.029770851135253906)\n",
            "     | > avg_loss_1:\u001b[91m 32.696044921875 \u001b[0m(+0.9017143249511719)\n",
            "\n",
            "\n",
            "\u001b[4m\u001b[1m > EPOCH: 245/300\u001b[0m\n",
            " --> vits_20k_steps\n",
            "\n",
            "\u001b[1m > TRAINING (2024-05-19 08:39:02) \u001b[0m\n",
            "\n",
            "\u001b[1m > EVALUATION \u001b[0m\n",
            "\n"
          ]
        },
        {
          "name": "stdout",
          "output_type": "stream",
          "text": [
            " | > Synthesizing test sentences.\n"
          ]
        },
        {
          "name": "stderr",
          "output_type": "stream",
          "text": [
            "\n",
            "  \u001b[1m--> EVAL PERFORMANCE\u001b[0m\n",
            "     | > avg_loader_time:\u001b[92m 3.5414071083068848 \u001b[0m(-0.1911787986755371)\n",
            "     | > avg_loss_disc:\u001b[92m 2.583371639251709 \u001b[0m(-0.16399908065795898)\n",
            "     | > avg_loss_disc_real_0:\u001b[92m 0.15515445172786713 \u001b[0m(-0.22931863367557526)\n",
            "     | > avg_loss_disc_real_1:\u001b[91m 0.25991666316986084 \u001b[0m(+0.05607946217060089)\n",
            "     | > avg_loss_disc_real_2:\u001b[92m 0.20429077744483948 \u001b[0m(-0.08197489380836487)\n",
            "     | > avg_loss_disc_real_3:\u001b[92m 0.22352546453475952 \u001b[0m(-0.00230233371257782)\n",
            "     | > avg_loss_disc_real_4:\u001b[91m 0.21384011209011078 \u001b[0m(+0.017625167965888977)\n",
            "     | > avg_loss_disc_real_5:\u001b[92m 0.17496122419834137 \u001b[0m(-0.01388058066368103)\n",
            "     | > avg_loss_0:\u001b[92m 2.583371639251709 \u001b[0m(-0.16399908065795898)\n",
            "     | > avg_loss_gen:\u001b[92m 1.8544509410858154 \u001b[0m(-0.35158395767211914)\n",
            "     | > avg_loss_kl:\u001b[91m 2.077883243560791 \u001b[0m(+0.06215190887451172)\n",
            "     | > avg_loss_feat:\u001b[92m 4.549246788024902 \u001b[0m(-0.5071349143981934)\n",
            "     | > avg_loss_mel:\u001b[92m 19.167007446289062 \u001b[0m(-2.803590774536133)\n",
            "     | > avg_loss_duration:\u001b[92m 1.418834924697876 \u001b[0m(-0.028464674949645996)\n",
            "     | > avg_loss_1:\u001b[92m 29.06742286682129 \u001b[0m(-3.628622055053711)\n",
            "\n",
            "\n",
            "\u001b[4m\u001b[1m > EPOCH: 246/300\u001b[0m\n",
            " --> vits_20k_steps\n",
            "\n",
            "\u001b[1m > TRAINING (2024-05-19 08:39:33) \u001b[0m\n",
            "\n",
            "\u001b[1m > EVALUATION \u001b[0m\n",
            "\n"
          ]
        },
        {
          "name": "stdout",
          "output_type": "stream",
          "text": [
            " | > Synthesizing test sentences.\n"
          ]
        },
        {
          "name": "stderr",
          "output_type": "stream",
          "text": [
            "\n",
            "  \u001b[1m--> EVAL PERFORMANCE\u001b[0m\n",
            "     | > avg_loader_time:\u001b[92m 3.3364572525024414 \u001b[0m(-0.20494985580444336)\n",
            "     | > avg_loss_disc:\u001b[91m 2.70392107963562 \u001b[0m(+0.12054944038391113)\n",
            "     | > avg_loss_disc_real_0:\u001b[91m 0.24653804302215576 \u001b[0m(+0.09138359129428864)\n",
            "     | > avg_loss_disc_real_1:\u001b[91m 0.314896821975708 \u001b[0m(+0.05498015880584717)\n",
            "     | > avg_loss_disc_real_2:\u001b[91m 0.31969791650772095 \u001b[0m(+0.11540713906288147)\n",
            "     | > avg_loss_disc_real_3:\u001b[91m 0.28752392530441284 \u001b[0m(+0.06399846076965332)\n",
            "     | > avg_loss_disc_real_4:\u001b[92m 0.18653902411460876 \u001b[0m(-0.027301087975502014)\n",
            "     | > avg_loss_disc_real_5:\u001b[91m 0.1774292141199112 \u001b[0m(+0.0024679899215698242)\n",
            "     | > avg_loss_0:\u001b[91m 2.70392107963562 \u001b[0m(+0.12054944038391113)\n",
            "     | > avg_loss_gen:\u001b[91m 2.160951614379883 \u001b[0m(+0.3065006732940674)\n",
            "     | > avg_loss_kl:\u001b[91m 2.350811719894409 \u001b[0m(+0.27292847633361816)\n",
            "     | > avg_loss_feat:\u001b[91m 5.1173553466796875 \u001b[0m(+0.5681085586547852)\n",
            "     | > avg_loss_mel:\u001b[92m 18.96538543701172 \u001b[0m(-0.20162200927734375)\n",
            "     | > avg_loss_duration:\u001b[91m 1.4581654071807861 \u001b[0m(+0.039330482482910156)\n",
            "     | > avg_loss_1:\u001b[91m 30.052669525146484 \u001b[0m(+0.9852466583251953)\n",
            "\n",
            "\n",
            "\u001b[4m\u001b[1m > EPOCH: 247/300\u001b[0m\n",
            " --> vits_20k_steps\n",
            "\n",
            "\u001b[1m > TRAINING (2024-05-19 08:40:03) \u001b[0m\n",
            "\n",
            "\u001b[1m > EVALUATION \u001b[0m\n",
            "\n"
          ]
        },
        {
          "name": "stdout",
          "output_type": "stream",
          "text": [
            " | > Synthesizing test sentences.\n"
          ]
        },
        {
          "name": "stderr",
          "output_type": "stream",
          "text": [
            "\n",
            "  \u001b[1m--> EVAL PERFORMANCE\u001b[0m\n",
            "     | > avg_loader_time:\u001b[91m 3.42440128326416 \u001b[0m(+0.08794403076171875)\n",
            "     | > avg_loss_disc:\u001b[91m 2.7407708168029785 \u001b[0m(+0.0368497371673584)\n",
            "     | > avg_loss_disc_real_0:\u001b[92m 0.22027365863323212 \u001b[0m(-0.026264384388923645)\n",
            "     | > avg_loss_disc_real_1:\u001b[92m 0.17363335192203522 \u001b[0m(-0.1412634700536728)\n",
            "     | > avg_loss_disc_real_2:\u001b[92m 0.22615203261375427 \u001b[0m(-0.09354588389396667)\n",
            "     | > avg_loss_disc_real_3:\u001b[92m 0.2756006717681885 \u001b[0m(-0.011923253536224365)\n",
            "     | > avg_loss_disc_real_4:\u001b[91m 0.22897668182849884 \u001b[0m(+0.042437657713890076)\n",
            "     | > avg_loss_disc_real_5:\u001b[91m 0.33595672249794006 \u001b[0m(+0.15852750837802887)\n",
            "     | > avg_loss_0:\u001b[91m 2.7407708168029785 \u001b[0m(+0.0368497371673584)\n",
            "     | > avg_loss_gen:\u001b[91m 2.1846699714660645 \u001b[0m(+0.02371835708618164)\n",
            "     | > avg_loss_kl:\u001b[92m 2.0590741634368896 \u001b[0m(-0.29173755645751953)\n",
            "     | > avg_loss_feat:\u001b[91m 5.123908042907715 \u001b[0m(+0.006552696228027344)\n",
            "     | > avg_loss_mel:\u001b[91m 20.445743560791016 \u001b[0m(+1.4803581237792969)\n",
            "     | > avg_loss_duration:\u001b[92m 1.412967324256897 \u001b[0m(-0.04519808292388916)\n",
            "     | > avg_loss_1:\u001b[91m 31.226364135742188 \u001b[0m(+1.1736946105957031)\n",
            "\n",
            "\n",
            "\u001b[4m\u001b[1m > EPOCH: 248/300\u001b[0m\n",
            " --> vits_20k_steps\n",
            "\n",
            "\u001b[1m > TRAINING (2024-05-19 08:40:35) \u001b[0m\n",
            "\n",
            "\u001b[1m > EVALUATION \u001b[0m\n",
            "\n"
          ]
        },
        {
          "name": "stdout",
          "output_type": "stream",
          "text": [
            " | > Synthesizing test sentences.\n"
          ]
        },
        {
          "name": "stderr",
          "output_type": "stream",
          "text": [
            "\n",
            "  \u001b[1m--> EVAL PERFORMANCE\u001b[0m\n",
            "     | > avg_loader_time:\u001b[91m 3.4987645149230957 \u001b[0m(+0.07436323165893555)\n",
            "     | > avg_loss_disc:\u001b[92m 2.7299399375915527 \u001b[0m(-0.010830879211425781)\n",
            "     | > avg_loss_disc_real_0:\u001b[91m 0.33369180560112 \u001b[0m(+0.11341814696788788)\n",
            "     | > avg_loss_disc_real_1:\u001b[91m 0.20933642983436584 \u001b[0m(+0.03570307791233063)\n",
            "     | > avg_loss_disc_real_2:\u001b[91m 0.23081421852111816 \u001b[0m(+0.004662185907363892)\n",
            "     | > avg_loss_disc_real_3:\u001b[92m 0.26636189222335815 \u001b[0m(-0.009238779544830322)\n",
            "     | > avg_loss_disc_real_4:\u001b[91m 0.23225781321525574 \u001b[0m(+0.003281131386756897)\n",
            "     | > avg_loss_disc_real_5:\u001b[92m 0.2713354229927063 \u001b[0m(-0.06462129950523376)\n",
            "     | > avg_loss_0:\u001b[92m 2.7299399375915527 \u001b[0m(-0.010830879211425781)\n",
            "     | > avg_loss_gen:\u001b[91m 2.2327795028686523 \u001b[0m(+0.04810953140258789)\n",
            "     | > avg_loss_kl:\u001b[91m 2.1121506690979004 \u001b[0m(+0.05307650566101074)\n",
            "     | > avg_loss_feat:\u001b[92m 5.072057247161865 \u001b[0m(-0.05185079574584961)\n",
            "     | > avg_loss_mel:\u001b[91m 20.72068214416504 \u001b[0m(+0.27493858337402344)\n",
            "     | > avg_loss_duration:\u001b[91m 1.4258838891983032 \u001b[0m(+0.01291656494140625)\n",
            "     | > avg_loss_1:\u001b[91m 31.563552856445312 \u001b[0m(+0.337188720703125)\n",
            "\n",
            "\n",
            "\u001b[4m\u001b[1m > EPOCH: 249/300\u001b[0m\n",
            " --> vits_20k_steps\n",
            "\n",
            "\u001b[1m > TRAINING (2024-05-19 08:41:06) \u001b[0m\n",
            "\n",
            "\u001b[1m > EVALUATION \u001b[0m\n",
            "\n"
          ]
        },
        {
          "name": "stdout",
          "output_type": "stream",
          "text": [
            " | > Synthesizing test sentences.\n"
          ]
        },
        {
          "name": "stderr",
          "output_type": "stream",
          "text": [
            "\n",
            "  \u001b[1m--> EVAL PERFORMANCE\u001b[0m\n",
            "     | > avg_loader_time:\u001b[91m 3.554137945175171 \u001b[0m(+0.055373430252075195)\n",
            "     | > avg_loss_disc:\u001b[92m 2.522596597671509 \u001b[0m(-0.20734333992004395)\n",
            "     | > avg_loss_disc_real_0:\u001b[92m 0.2176724523305893 \u001b[0m(-0.1160193532705307)\n",
            "     | > avg_loss_disc_real_1:\u001b[91m 0.24297794699668884 \u001b[0m(+0.033641517162323)\n",
            "     | > avg_loss_disc_real_2:\u001b[92m 0.22499136626720428 \u001b[0m(-0.005822852253913879)\n",
            "     | > avg_loss_disc_real_3:\u001b[92m 0.17621558904647827 \u001b[0m(-0.09014630317687988)\n",
            "     | > avg_loss_disc_real_4:\u001b[92m 0.19146834313869476 \u001b[0m(-0.040789470076560974)\n",
            "     | > avg_loss_disc_real_5:\u001b[92m 0.1829027533531189 \u001b[0m(-0.0884326696395874)\n",
            "     | > avg_loss_0:\u001b[92m 2.522596597671509 \u001b[0m(-0.20734333992004395)\n",
            "     | > avg_loss_gen:\u001b[92m 2.078963041305542 \u001b[0m(-0.15381646156311035)\n",
            "     | > avg_loss_kl:\u001b[92m 2.0411300659179688 \u001b[0m(-0.07102060317993164)\n",
            "     | > avg_loss_feat:\u001b[92m 4.237898349761963 \u001b[0m(-0.8341588973999023)\n",
            "     | > avg_loss_mel:\u001b[91m 20.791767120361328 \u001b[0m(+0.07108497619628906)\n",
            "     | > avg_loss_duration:\u001b[91m 1.4267059564590454 \u001b[0m(+0.0008220672607421875)\n",
            "     | > avg_loss_1:\u001b[92m 30.57646369934082 \u001b[0m(-0.9870891571044922)\n",
            "\n",
            "\n",
            "\u001b[4m\u001b[1m > EPOCH: 250/300\u001b[0m\n",
            " --> vits_20k_steps\n",
            "\n",
            "\u001b[1m > TRAINING (2024-05-19 08:41:37) \u001b[0m\n",
            "\n",
            "\u001b[1m > EVALUATION \u001b[0m\n",
            "\n"
          ]
        },
        {
          "name": "stdout",
          "output_type": "stream",
          "text": [
            " | > Synthesizing test sentences.\n"
          ]
        },
        {
          "name": "stderr",
          "output_type": "stream",
          "text": [
            "\n",
            "  \u001b[1m--> EVAL PERFORMANCE\u001b[0m\n",
            "     | > avg_loader_time:\u001b[92m 3.32415771484375 \u001b[0m(-0.2299802303314209)\n",
            "     | > avg_loss_disc:\u001b[92m 2.4626998901367188 \u001b[0m(-0.05989670753479004)\n",
            "     | > avg_loss_disc_real_0:\u001b[92m 0.15389780700206757 \u001b[0m(-0.06377464532852173)\n",
            "     | > avg_loss_disc_real_1:\u001b[92m 0.23575691878795624 \u001b[0m(-0.007221028208732605)\n",
            "     | > avg_loss_disc_real_2:\u001b[91m 0.2931693494319916 \u001b[0m(+0.06817798316478729)\n",
            "     | > avg_loss_disc_real_3:\u001b[91m 0.1914813071489334 \u001b[0m(+0.01526571810245514)\n",
            "     | > avg_loss_disc_real_4:\u001b[92m 0.16015608608722687 \u001b[0m(-0.031312257051467896)\n",
            "     | > avg_loss_disc_real_5:\u001b[91m 0.19063475728034973 \u001b[0m(+0.007732003927230835)\n",
            "     | > avg_loss_0:\u001b[92m 2.4626998901367188 \u001b[0m(-0.05989670753479004)\n",
            "     | > avg_loss_gen:\u001b[92m 2.075007200241089 \u001b[0m(-0.003955841064453125)\n",
            "     | > avg_loss_kl:\u001b[92m 1.867390513420105 \u001b[0m(-0.17373955249786377)\n",
            "     | > avg_loss_feat:\u001b[91m 4.53980016708374 \u001b[0m(+0.30190181732177734)\n",
            "     | > avg_loss_mel:\u001b[91m 21.198379516601562 \u001b[0m(+0.4066123962402344)\n",
            "     | > avg_loss_duration:\u001b[92m 1.3974212408065796 \u001b[0m(-0.02928471565246582)\n",
            "     | > avg_loss_1:\u001b[91m 31.0779972076416 \u001b[0m(+0.5015335083007812)\n",
            "\n",
            "\n",
            "\u001b[4m\u001b[1m > EPOCH: 251/300\u001b[0m\n",
            " --> vits_20k_steps\n",
            "\n",
            "\u001b[1m > TRAINING (2024-05-19 08:42:08) \u001b[0m\n",
            "\n",
            "\u001b[1m > EVALUATION \u001b[0m\n",
            "\n"
          ]
        },
        {
          "name": "stdout",
          "output_type": "stream",
          "text": [
            " | > Synthesizing test sentences.\n"
          ]
        },
        {
          "name": "stderr",
          "output_type": "stream",
          "text": [
            "\n",
            "  \u001b[1m--> EVAL PERFORMANCE\u001b[0m\n",
            "     | > avg_loader_time:\u001b[92m 3.307004928588867 \u001b[0m(-0.017152786254882812)\n",
            "     | > avg_loss_disc:\u001b[91m 2.717437505722046 \u001b[0m(+0.25473761558532715)\n",
            "     | > avg_loss_disc_real_0:\u001b[91m 0.3104868531227112 \u001b[0m(+0.15658904612064362)\n",
            "     | > avg_loss_disc_real_1:\u001b[91m 0.27203139662742615 \u001b[0m(+0.03627447783946991)\n",
            "     | > avg_loss_disc_real_2:\u001b[92m 0.2613709568977356 \u001b[0m(-0.03179839253425598)\n",
            "     | > avg_loss_disc_real_3:\u001b[91m 0.20201082527637482 \u001b[0m(+0.010529518127441406)\n",
            "     | > avg_loss_disc_real_4:\u001b[92m 0.1398290991783142 \u001b[0m(-0.02032698690891266)\n",
            "     | > avg_loss_disc_real_5:\u001b[91m 0.2115674912929535 \u001b[0m(+0.02093273401260376)\n",
            "     | > avg_loss_0:\u001b[91m 2.717437505722046 \u001b[0m(+0.25473761558532715)\n",
            "     | > avg_loss_gen:\u001b[91m 2.115741491317749 \u001b[0m(+0.040734291076660156)\n",
            "     | > avg_loss_kl:\u001b[91m 1.980669379234314 \u001b[0m(+0.11327886581420898)\n",
            "     | > avg_loss_feat:\u001b[91m 4.738274574279785 \u001b[0m(+0.19847440719604492)\n",
            "     | > avg_loss_mel:\u001b[91m 21.50231170654297 \u001b[0m(+0.30393218994140625)\n",
            "     | > avg_loss_duration:\u001b[92m 1.3844425678253174 \u001b[0m(-0.012978672981262207)\n",
            "     | > avg_loss_1:\u001b[91m 31.7214412689209 \u001b[0m(+0.6434440612792969)\n",
            "\n",
            "\n",
            "\u001b[4m\u001b[1m > EPOCH: 252/300\u001b[0m\n",
            " --> vits_20k_steps\n",
            "\n",
            "\u001b[1m > TRAINING (2024-05-19 08:42:38) \u001b[0m\n",
            "\n",
            "\u001b[1m > EVALUATION \u001b[0m\n",
            "\n"
          ]
        },
        {
          "name": "stdout",
          "output_type": "stream",
          "text": [
            " | > Synthesizing test sentences.\n"
          ]
        },
        {
          "name": "stderr",
          "output_type": "stream",
          "text": [
            "\n",
            "  \u001b[1m--> EVAL PERFORMANCE\u001b[0m\n",
            "     | > avg_loader_time:\u001b[91m 3.5394253730773926 \u001b[0m(+0.2324204444885254)\n",
            "     | > avg_loss_disc:\u001b[91m 2.7775461673736572 \u001b[0m(+0.06010866165161133)\n",
            "     | > avg_loss_disc_real_0:\u001b[92m 0.2788568437099457 \u001b[0m(-0.0316300094127655)\n",
            "     | > avg_loss_disc_real_1:\u001b[92m 0.23601220548152924 \u001b[0m(-0.03601919114589691)\n",
            "     | > avg_loss_disc_real_2:\u001b[92m 0.23118369281291962 \u001b[0m(-0.03018726408481598)\n",
            "     | > avg_loss_disc_real_3:\u001b[91m 0.2622579336166382 \u001b[0m(+0.06024710834026337)\n",
            "     | > avg_loss_disc_real_4:\u001b[91m 0.2216740995645523 \u001b[0m(+0.0818450003862381)\n",
            "     | > avg_loss_disc_real_5:\u001b[91m 0.26753562688827515 \u001b[0m(+0.055968135595321655)\n",
            "     | > avg_loss_0:\u001b[91m 2.7775461673736572 \u001b[0m(+0.06010866165161133)\n",
            "     | > avg_loss_gen:\u001b[92m 2.0575037002563477 \u001b[0m(-0.05823779106140137)\n",
            "     | > avg_loss_kl:\u001b[91m 2.2501437664031982 \u001b[0m(+0.2694743871688843)\n",
            "     | > avg_loss_feat:\u001b[91m 4.755711078643799 \u001b[0m(+0.017436504364013672)\n",
            "     | > avg_loss_mel:\u001b[92m 20.203046798706055 \u001b[0m(-1.299264907836914)\n",
            "     | > avg_loss_duration:\u001b[91m 1.404042363166809 \u001b[0m(+0.0195997953414917)\n",
            "     | > avg_loss_1:\u001b[92m 30.670446395874023 \u001b[0m(-1.050994873046875)\n",
            "\n",
            "\n",
            "\u001b[4m\u001b[1m > EPOCH: 253/300\u001b[0m\n",
            " --> vits_20k_steps\n",
            "\n",
            "\u001b[1m > TRAINING (2024-05-19 08:43:09) \u001b[0m\n",
            "\n",
            "\u001b[1m > EVALUATION \u001b[0m\n",
            "\n"
          ]
        },
        {
          "name": "stdout",
          "output_type": "stream",
          "text": [
            " | > Synthesizing test sentences.\n"
          ]
        },
        {
          "name": "stderr",
          "output_type": "stream",
          "text": [
            "\n",
            "  \u001b[1m--> EVAL PERFORMANCE\u001b[0m\n",
            "     | > avg_loader_time:\u001b[92m 3.5271637439727783 \u001b[0m(-0.012261629104614258)\n",
            "     | > avg_loss_disc:\u001b[92m 2.6224915981292725 \u001b[0m(-0.15505456924438477)\n",
            "     | > avg_loss_disc_real_0:\u001b[91m 0.3463190495967865 \u001b[0m(+0.06746220588684082)\n",
            "     | > avg_loss_disc_real_1:\u001b[92m 0.2293163388967514 \u001b[0m(-0.006695866584777832)\n",
            "     | > avg_loss_disc_real_2:\u001b[92m 0.19834762811660767 \u001b[0m(-0.03283606469631195)\n",
            "     | > avg_loss_disc_real_3:\u001b[92m 0.20872993767261505 \u001b[0m(-0.05352799594402313)\n",
            "     | > avg_loss_disc_real_4:\u001b[91m 0.27306824922561646 \u001b[0m(+0.05139414966106415)\n",
            "     | > avg_loss_disc_real_5:\u001b[92m 0.1797979176044464 \u001b[0m(-0.08773770928382874)\n",
            "     | > avg_loss_0:\u001b[92m 2.6224915981292725 \u001b[0m(-0.15505456924438477)\n",
            "     | > avg_loss_gen:\u001b[91m 2.227001190185547 \u001b[0m(+0.16949748992919922)\n",
            "     | > avg_loss_kl:\u001b[92m 2.1707212924957275 \u001b[0m(-0.0794224739074707)\n",
            "     | > avg_loss_feat:\u001b[91m 5.3936767578125 \u001b[0m(+0.6379656791687012)\n",
            "     | > avg_loss_mel:\u001b[91m 20.658329010009766 \u001b[0m(+0.45528221130371094)\n",
            "     | > avg_loss_duration:\u001b[91m 1.426992654800415 \u001b[0m(+0.022950291633605957)\n",
            "     | > avg_loss_1:\u001b[91m 31.876720428466797 \u001b[0m(+1.2062740325927734)\n",
            "\n",
            "\n",
            "\u001b[4m\u001b[1m > EPOCH: 254/300\u001b[0m\n",
            " --> vits_20k_steps\n",
            "\n",
            "\u001b[1m > TRAINING (2024-05-19 08:43:40) \u001b[0m\n",
            "\n",
            "\u001b[1m > EVALUATION \u001b[0m\n",
            "\n"
          ]
        },
        {
          "name": "stdout",
          "output_type": "stream",
          "text": [
            " | > Synthesizing test sentences.\n"
          ]
        },
        {
          "name": "stderr",
          "output_type": "stream",
          "text": [
            "\n",
            "  \u001b[1m--> EVAL PERFORMANCE\u001b[0m\n",
            "     | > avg_loader_time:\u001b[92m 3.4444849491119385 \u001b[0m(-0.08267879486083984)\n",
            "     | > avg_loss_disc:\u001b[91m 2.757716417312622 \u001b[0m(+0.1352248191833496)\n",
            "     | > avg_loss_disc_real_0:\u001b[92m 0.16732355952262878 \u001b[0m(-0.17899549007415771)\n",
            "     | > avg_loss_disc_real_1:\u001b[92m 0.21740411221981049 \u001b[0m(-0.011912226676940918)\n",
            "     | > avg_loss_disc_real_2:\u001b[91m 0.22679878771305084 \u001b[0m(+0.028451159596443176)\n",
            "     | > avg_loss_disc_real_3:\u001b[91m 0.2676956057548523 \u001b[0m(+0.058965668082237244)\n",
            "     | > avg_loss_disc_real_4:\u001b[92m 0.17142699658870697 \u001b[0m(-0.10164125263690948)\n",
            "     | > avg_loss_disc_real_5:\u001b[91m 0.26618656516075134 \u001b[0m(+0.08638864755630493)\n",
            "     | > avg_loss_0:\u001b[91m 2.757716417312622 \u001b[0m(+0.1352248191833496)\n",
            "     | > avg_loss_gen:\u001b[92m 1.9282495975494385 \u001b[0m(-0.2987515926361084)\n",
            "     | > avg_loss_kl:\u001b[91m 2.231840133666992 \u001b[0m(+0.06111884117126465)\n",
            "     | > avg_loss_feat:\u001b[92m 3.9634552001953125 \u001b[0m(-1.4302215576171875)\n",
            "     | > avg_loss_mel:\u001b[91m 21.952552795410156 \u001b[0m(+1.2942237854003906)\n",
            "     | > avg_loss_duration:\u001b[92m 1.417290449142456 \u001b[0m(-0.009702205657958984)\n",
            "     | > avg_loss_1:\u001b[92m 31.49338722229004 \u001b[0m(-0.3833332061767578)\n",
            "\n",
            "\n",
            "\u001b[4m\u001b[1m > EPOCH: 255/300\u001b[0m\n",
            " --> vits_20k_steps\n",
            "\n",
            "\u001b[1m > TRAINING (2024-05-19 08:44:12) \u001b[0m\n",
            "\n",
            "\u001b[1m > EVALUATION \u001b[0m\n",
            "\n"
          ]
        },
        {
          "name": "stdout",
          "output_type": "stream",
          "text": [
            " | > Synthesizing test sentences.\n"
          ]
        },
        {
          "name": "stderr",
          "output_type": "stream",
          "text": [
            "\n",
            "  \u001b[1m--> EVAL PERFORMANCE\u001b[0m\n",
            "     | > avg_loader_time:\u001b[92m 3.3431789875030518 \u001b[0m(-0.10130596160888672)\n",
            "     | > avg_loss_disc:\u001b[92m 2.7102184295654297 \u001b[0m(-0.04749798774719238)\n",
            "     | > avg_loss_disc_real_0:\u001b[92m 0.10858756303787231 \u001b[0m(-0.05873599648475647)\n",
            "     | > avg_loss_disc_real_1:\u001b[91m 0.21994373202323914 \u001b[0m(+0.00253961980342865)\n",
            "     | > avg_loss_disc_real_2:\u001b[92m 0.20618772506713867 \u001b[0m(-0.02061106264591217)\n",
            "     | > avg_loss_disc_real_3:\u001b[92m 0.18629518151283264 \u001b[0m(-0.08140042424201965)\n",
            "     | > avg_loss_disc_real_4:\u001b[92m 0.16469043493270874 \u001b[0m(-0.00673656165599823)\n",
            "     | > avg_loss_disc_real_5:\u001b[92m 0.1763720065355301 \u001b[0m(-0.08981455862522125)\n",
            "     | > avg_loss_0:\u001b[92m 2.7102184295654297 \u001b[0m(-0.04749798774719238)\n",
            "     | > avg_loss_gen:\u001b[92m 1.621022343635559 \u001b[0m(-0.3072272539138794)\n",
            "     | > avg_loss_kl:\u001b[92m 2.17142915725708 \u001b[0m(-0.06041097640991211)\n",
            "     | > avg_loss_feat:\u001b[91m 5.101895809173584 \u001b[0m(+1.1384406089782715)\n",
            "     | > avg_loss_mel:\u001b[92m 20.067222595214844 \u001b[0m(-1.8853302001953125)\n",
            "     | > avg_loss_duration:\u001b[92m 1.4088256359100342 \u001b[0m(-0.008464813232421875)\n",
            "     | > avg_loss_1:\u001b[92m 30.37039566040039 \u001b[0m(-1.1229915618896484)\n",
            "\n",
            "\n",
            "\u001b[4m\u001b[1m > EPOCH: 256/300\u001b[0m\n",
            " --> vits_20k_steps\n",
            "\n",
            "\u001b[1m > TRAINING (2024-05-19 08:44:43) \u001b[0m\n",
            "\n",
            "\u001b[1m > EVALUATION \u001b[0m\n",
            "\n"
          ]
        },
        {
          "name": "stdout",
          "output_type": "stream",
          "text": [
            " | > Synthesizing test sentences.\n"
          ]
        },
        {
          "name": "stderr",
          "output_type": "stream",
          "text": [
            "\n",
            "  \u001b[1m--> EVAL PERFORMANCE\u001b[0m\n",
            "     | > avg_loader_time:\u001b[91m 3.3696539402008057 \u001b[0m(+0.026474952697753906)\n",
            "     | > avg_loss_disc:\u001b[92m 2.6810121536254883 \u001b[0m(-0.029206275939941406)\n",
            "     | > avg_loss_disc_real_0:\u001b[91m 0.2556028962135315 \u001b[0m(+0.14701533317565918)\n",
            "     | > avg_loss_disc_real_1:\u001b[91m 0.22507935762405396 \u001b[0m(+0.005135625600814819)\n",
            "     | > avg_loss_disc_real_2:\u001b[91m 0.21839281916618347 \u001b[0m(+0.0122050940990448)\n",
            "     | > avg_loss_disc_real_3:\u001b[91m 0.27937212586402893 \u001b[0m(+0.09307694435119629)\n",
            "     | > avg_loss_disc_real_4:\u001b[91m 0.18558014929294586 \u001b[0m(+0.02088971436023712)\n",
            "     | > avg_loss_disc_real_5:\u001b[91m 0.25619909167289734 \u001b[0m(+0.07982708513736725)\n",
            "     | > avg_loss_0:\u001b[92m 2.6810121536254883 \u001b[0m(-0.029206275939941406)\n",
            "     | > avg_loss_gen:\u001b[91m 2.0357890129089355 \u001b[0m(+0.41476666927337646)\n",
            "     | > avg_loss_kl:\u001b[92m 2.0848817825317383 \u001b[0m(-0.0865473747253418)\n",
            "     | > avg_loss_feat:\u001b[92m 4.495182037353516 \u001b[0m(-0.6067137718200684)\n",
            "     | > avg_loss_mel:\u001b[92m 19.584373474121094 \u001b[0m(-0.48284912109375)\n",
            "     | > avg_loss_duration:\u001b[91m 1.4690656661987305 \u001b[0m(+0.06024003028869629)\n",
            "     | > avg_loss_1:\u001b[92m 29.669292449951172 \u001b[0m(-0.7011032104492188)\n",
            "\n",
            "\n",
            "\u001b[4m\u001b[1m > EPOCH: 257/300\u001b[0m\n",
            " --> vits_20k_steps\n",
            "\n",
            "\u001b[1m > TRAINING (2024-05-19 08:45:14) \u001b[0m\n",
            "\n",
            "\u001b[1m > EVALUATION \u001b[0m\n",
            "\n"
          ]
        },
        {
          "name": "stdout",
          "output_type": "stream",
          "text": [
            " | > Synthesizing test sentences.\n"
          ]
        },
        {
          "name": "stderr",
          "output_type": "stream",
          "text": [
            "\n",
            "  \u001b[1m--> EVAL PERFORMANCE\u001b[0m\n",
            "     | > avg_loader_time:\u001b[91m 3.414407730102539 \u001b[0m(+0.0447537899017334)\n",
            "     | > avg_loss_disc:\u001b[92m 2.626652717590332 \u001b[0m(-0.05435943603515625)\n",
            "     | > avg_loss_disc_real_0:\u001b[92m 0.20012152194976807 \u001b[0m(-0.05548137426376343)\n",
            "     | > avg_loss_disc_real_1:\u001b[92m 0.2028258889913559 \u001b[0m(-0.02225346863269806)\n",
            "     | > avg_loss_disc_real_2:\u001b[92m 0.21069388091564178 \u001b[0m(-0.007698938250541687)\n",
            "     | > avg_loss_disc_real_3:\u001b[92m 0.2198566496372223 \u001b[0m(-0.05951547622680664)\n",
            "     | > avg_loss_disc_real_4:\u001b[92m 0.163635715842247 \u001b[0m(-0.021944433450698853)\n",
            "     | > avg_loss_disc_real_5:\u001b[92m 0.15549340844154358 \u001b[0m(-0.10070568323135376)\n",
            "     | > avg_loss_0:\u001b[92m 2.626652717590332 \u001b[0m(-0.05435943603515625)\n",
            "     | > avg_loss_gen:\u001b[92m 1.8470706939697266 \u001b[0m(-0.18871831893920898)\n",
            "     | > avg_loss_kl:\u001b[91m 2.0911145210266113 \u001b[0m(+0.006232738494873047)\n",
            "     | > avg_loss_feat:\u001b[92m 4.102545261383057 \u001b[0m(-0.392636775970459)\n",
            "     | > avg_loss_mel:\u001b[91m 21.124141693115234 \u001b[0m(+1.5397682189941406)\n",
            "     | > avg_loss_duration:\u001b[92m 1.4469749927520752 \u001b[0m(-0.022090673446655273)\n",
            "     | > avg_loss_1:\u001b[91m 30.611848831176758 \u001b[0m(+0.9425563812255859)\n",
            "\n",
            "\n",
            "\u001b[4m\u001b[1m > EPOCH: 258/300\u001b[0m\n",
            " --> vits_20k_steps\n",
            "\n",
            "\u001b[1m > TRAINING (2024-05-19 08:45:45) \u001b[0m\n",
            "\n",
            "\u001b[1m > EVALUATION \u001b[0m\n",
            "\n"
          ]
        },
        {
          "name": "stdout",
          "output_type": "stream",
          "text": [
            " | > Synthesizing test sentences.\n"
          ]
        },
        {
          "name": "stderr",
          "output_type": "stream",
          "text": [
            "\n",
            "  \u001b[1m--> EVAL PERFORMANCE\u001b[0m\n",
            "     | > avg_loader_time:\u001b[91m 3.595975875854492 \u001b[0m(+0.18156814575195312)\n",
            "     | > avg_loss_disc:\u001b[92m 2.5535788536071777 \u001b[0m(-0.0730738639831543)\n",
            "     | > avg_loss_disc_real_0:\u001b[91m 0.31367456912994385 \u001b[0m(+0.11355304718017578)\n",
            "     | > avg_loss_disc_real_1:\u001b[91m 0.269665390253067 \u001b[0m(+0.06683950126171112)\n",
            "     | > avg_loss_disc_real_2:\u001b[91m 0.2785075306892395 \u001b[0m(+0.06781364977359772)\n",
            "     | > avg_loss_disc_real_3:\u001b[92m 0.20435665547847748 \u001b[0m(-0.015499994158744812)\n",
            "     | > avg_loss_disc_real_4:\u001b[91m 0.1970899999141693 \u001b[0m(+0.0334542840719223)\n",
            "     | > avg_loss_disc_real_5:\u001b[91m 0.19804397225379944 \u001b[0m(+0.04255056381225586)\n",
            "     | > avg_loss_0:\u001b[92m 2.5535788536071777 \u001b[0m(-0.0730738639831543)\n",
            "     | > avg_loss_gen:\u001b[91m 2.5504567623138428 \u001b[0m(+0.7033860683441162)\n",
            "     | > avg_loss_kl:\u001b[92m 1.9808660745620728 \u001b[0m(-0.11024844646453857)\n",
            "     | > avg_loss_feat:\u001b[91m 5.529972553253174 \u001b[0m(+1.4274272918701172)\n",
            "     | > avg_loss_mel:\u001b[92m 20.1679630279541 \u001b[0m(-0.9561786651611328)\n",
            "     | > avg_loss_duration:\u001b[92m 1.4243665933609009 \u001b[0m(-0.022608399391174316)\n",
            "     | > avg_loss_1:\u001b[91m 31.65362548828125 \u001b[0m(+1.0417766571044922)\n",
            "\n",
            "\n",
            "\u001b[4m\u001b[1m > EPOCH: 259/300\u001b[0m\n",
            " --> vits_20k_steps\n",
            "\n",
            "\u001b[1m > TRAINING (2024-05-19 08:46:17) \u001b[0m\n",
            "\n",
            "\u001b[1m > EVALUATION \u001b[0m\n",
            "\n"
          ]
        },
        {
          "name": "stdout",
          "output_type": "stream",
          "text": [
            " | > Synthesizing test sentences.\n"
          ]
        },
        {
          "name": "stderr",
          "output_type": "stream",
          "text": [
            "\n",
            "  \u001b[1m--> EVAL PERFORMANCE\u001b[0m\n",
            "     | > avg_loader_time:\u001b[91m 3.715092658996582 \u001b[0m(+0.11911678314208984)\n",
            "     | > avg_loss_disc:\u001b[91m 2.6420788764953613 \u001b[0m(+0.0885000228881836)\n",
            "     | > avg_loss_disc_real_0:\u001b[92m 0.21518933773040771 \u001b[0m(-0.09848523139953613)\n",
            "     | > avg_loss_disc_real_1:\u001b[92m 0.15215171873569489 \u001b[0m(-0.11751367151737213)\n",
            "     | > avg_loss_disc_real_2:\u001b[92m 0.20148497819900513 \u001b[0m(-0.07702255249023438)\n",
            "     | > avg_loss_disc_real_3:\u001b[91m 0.22252802550792694 \u001b[0m(+0.018171370029449463)\n",
            "     | > avg_loss_disc_real_4:\u001b[92m 0.17418654263019562 \u001b[0m(-0.022903457283973694)\n",
            "     | > avg_loss_disc_real_5:\u001b[92m 0.1603185385465622 \u001b[0m(-0.037725433707237244)\n",
            "     | > avg_loss_0:\u001b[91m 2.6420788764953613 \u001b[0m(+0.0885000228881836)\n",
            "     | > avg_loss_gen:\u001b[92m 1.82320237159729 \u001b[0m(-0.7272543907165527)\n",
            "     | > avg_loss_kl:\u001b[92m 1.802191138267517 \u001b[0m(-0.17867493629455566)\n",
            "     | > avg_loss_feat:\u001b[92m 5.145816326141357 \u001b[0m(-0.3841562271118164)\n",
            "     | > avg_loss_mel:\u001b[91m 20.33523178100586 \u001b[0m(+0.1672687530517578)\n",
            "     | > avg_loss_duration:\u001b[91m 1.4412949085235596 \u001b[0m(+0.01692831516265869)\n",
            "     | > avg_loss_1:\u001b[92m 30.54773712158203 \u001b[0m(-1.1058883666992188)\n",
            "\n",
            "\n",
            "\u001b[4m\u001b[1m > EPOCH: 260/300\u001b[0m\n",
            " --> vits_20k_steps\n",
            "\n",
            "\u001b[1m > TRAINING (2024-05-19 08:46:48) \u001b[0m\n",
            "\n",
            "\u001b[1m > EVALUATION \u001b[0m\n",
            "\n"
          ]
        },
        {
          "name": "stdout",
          "output_type": "stream",
          "text": [
            " | > Synthesizing test sentences.\n"
          ]
        },
        {
          "name": "stderr",
          "output_type": "stream",
          "text": [
            "\n",
            "  \u001b[1m--> EVAL PERFORMANCE\u001b[0m\n",
            "     | > avg_loader_time:\u001b[92m 3.40234375 \u001b[0m(-0.31274890899658203)\n",
            "     | > avg_loss_disc:\u001b[91m 2.7313225269317627 \u001b[0m(+0.08924365043640137)\n",
            "     | > avg_loss_disc_real_0:\u001b[92m 0.19073548913002014 \u001b[0m(-0.024453848600387573)\n",
            "     | > avg_loss_disc_real_1:\u001b[91m 0.23874793946743011 \u001b[0m(+0.08659622073173523)\n",
            "     | > avg_loss_disc_real_2:\u001b[91m 0.2592426538467407 \u001b[0m(+0.057757675647735596)\n",
            "     | > avg_loss_disc_real_3:\u001b[92m 0.22047671675682068 \u001b[0m(-0.002051308751106262)\n",
            "     | > avg_loss_disc_real_4:\u001b[91m 0.21990695595741272 \u001b[0m(+0.0457204133272171)\n",
            "     | > avg_loss_disc_real_5:\u001b[91m 0.227586030960083 \u001b[0m(+0.06726749241352081)\n",
            "     | > avg_loss_0:\u001b[91m 2.7313225269317627 \u001b[0m(+0.08924365043640137)\n",
            "     | > avg_loss_gen:\u001b[91m 1.8850442171096802 \u001b[0m(+0.06184184551239014)\n",
            "     | > avg_loss_kl:\u001b[92m 1.6185264587402344 \u001b[0m(-0.18366467952728271)\n",
            "     | > avg_loss_feat:\u001b[92m 3.6314144134521484 \u001b[0m(-1.514401912689209)\n",
            "     | > avg_loss_mel:\u001b[91m 22.37647819519043 \u001b[0m(+2.0412464141845703)\n",
            "     | > avg_loss_duration:\u001b[92m 1.4255852699279785 \u001b[0m(-0.015709638595581055)\n",
            "     | > avg_loss_1:\u001b[91m 30.937047958374023 \u001b[0m(+0.3893108367919922)\n",
            "\n",
            "\n",
            "\u001b[4m\u001b[1m > EPOCH: 261/300\u001b[0m\n",
            " --> vits_20k_steps\n",
            "\n",
            "\u001b[1m > TRAINING (2024-05-19 08:47:19) \u001b[0m\n",
            "\n",
            "\u001b[1m > EVALUATION \u001b[0m\n",
            "\n"
          ]
        },
        {
          "name": "stdout",
          "output_type": "stream",
          "text": [
            " | > Synthesizing test sentences.\n"
          ]
        },
        {
          "name": "stderr",
          "output_type": "stream",
          "text": [
            "\n",
            "  \u001b[1m--> EVAL PERFORMANCE\u001b[0m\n",
            "     | > avg_loader_time:\u001b[92m 3.3060951232910156 \u001b[0m(-0.09624862670898438)\n",
            "     | > avg_loss_disc:\u001b[91m 2.7596817016601562 \u001b[0m(+0.028359174728393555)\n",
            "     | > avg_loss_disc_real_0:\u001b[91m 0.19620542228221893 \u001b[0m(+0.0054699331521987915)\n",
            "     | > avg_loss_disc_real_1:\u001b[92m 0.21294406056404114 \u001b[0m(-0.025803878903388977)\n",
            "     | > avg_loss_disc_real_2:\u001b[92m 0.25592610239982605 \u001b[0m(-0.003316551446914673)\n",
            "     | > avg_loss_disc_real_3:\u001b[91m 0.23584234714508057 \u001b[0m(+0.015365630388259888)\n",
            "     | > avg_loss_disc_real_4:\u001b[91m 0.22355437278747559 \u001b[0m(+0.003647416830062866)\n",
            "     | > avg_loss_disc_real_5:\u001b[91m 0.2685072422027588 \u001b[0m(+0.04092121124267578)\n",
            "     | > avg_loss_0:\u001b[91m 2.7596817016601562 \u001b[0m(+0.028359174728393555)\n",
            "     | > avg_loss_gen:\u001b[92m 1.8489558696746826 \u001b[0m(-0.03608834743499756)\n",
            "     | > avg_loss_kl:\u001b[91m 2.0204083919525146 \u001b[0m(+0.4018819332122803)\n",
            "     | > avg_loss_feat:\u001b[91m 3.976947784423828 \u001b[0m(+0.3455333709716797)\n",
            "     | > avg_loss_mel:\u001b[92m 20.164854049682617 \u001b[0m(-2.2116241455078125)\n",
            "     | > avg_loss_duration:\u001b[92m 1.4080883264541626 \u001b[0m(-0.017496943473815918)\n",
            "     | > avg_loss_1:\u001b[92m 29.419254302978516 \u001b[0m(-1.5177936553955078)\n",
            "\n",
            "\n",
            "\u001b[4m\u001b[1m > EPOCH: 262/300\u001b[0m\n",
            " --> vits_20k_steps\n",
            "\n",
            "\u001b[1m > TRAINING (2024-05-19 08:47:50) \u001b[0m\n",
            "\n",
            "\u001b[1m > EVALUATION \u001b[0m\n",
            "\n"
          ]
        },
        {
          "name": "stdout",
          "output_type": "stream",
          "text": [
            " | > Synthesizing test sentences.\n"
          ]
        },
        {
          "name": "stderr",
          "output_type": "stream",
          "text": [
            "\n",
            "  \u001b[1m--> EVAL PERFORMANCE\u001b[0m\n",
            "     | > avg_loader_time:\u001b[91m 3.5730199813842773 \u001b[0m(+0.2669248580932617)\n",
            "     | > avg_loss_disc:\u001b[92m 2.6032018661499023 \u001b[0m(-0.1564798355102539)\n",
            "     | > avg_loss_disc_real_0:\u001b[91m 0.22777174413204193 \u001b[0m(+0.031566321849823)\n",
            "     | > avg_loss_disc_real_1:\u001b[91m 0.29201436042785645 \u001b[0m(+0.07907029986381531)\n",
            "     | > avg_loss_disc_real_2:\u001b[91m 0.259181946516037 \u001b[0m(+0.0032558441162109375)\n",
            "     | > avg_loss_disc_real_3:\u001b[92m 0.22918309271335602 \u001b[0m(-0.006659254431724548)\n",
            "     | > avg_loss_disc_real_4:\u001b[91m 0.2418011873960495 \u001b[0m(+0.018246814608573914)\n",
            "     | > avg_loss_disc_real_5:\u001b[92m 0.21072454750537872 \u001b[0m(-0.057782694697380066)\n",
            "     | > avg_loss_0:\u001b[92m 2.6032018661499023 \u001b[0m(-0.1564798355102539)\n",
            "     | > avg_loss_gen:\u001b[91m 2.2648544311523438 \u001b[0m(+0.41589856147766113)\n",
            "     | > avg_loss_kl:\u001b[91m 2.14435076713562 \u001b[0m(+0.12394237518310547)\n",
            "     | > avg_loss_feat:\u001b[91m 4.782381534576416 \u001b[0m(+0.8054337501525879)\n",
            "     | > avg_loss_mel:\u001b[92m 19.865419387817383 \u001b[0m(-0.2994346618652344)\n",
            "     | > avg_loss_duration:\u001b[91m 1.426511287689209 \u001b[0m(+0.018422961235046387)\n",
            "     | > avg_loss_1:\u001b[91m 30.483518600463867 \u001b[0m(+1.0642642974853516)\n",
            "\n",
            "\n",
            "\u001b[4m\u001b[1m > EPOCH: 263/300\u001b[0m\n",
            " --> vits_20k_steps\n",
            "\n",
            "\u001b[1m > TRAINING (2024-05-19 08:48:21) \u001b[0m\n",
            "\n",
            "\u001b[1m > EVALUATION \u001b[0m\n",
            "\n"
          ]
        },
        {
          "name": "stdout",
          "output_type": "stream",
          "text": [
            " | > Synthesizing test sentences.\n"
          ]
        },
        {
          "name": "stderr",
          "output_type": "stream",
          "text": [
            "\n",
            "  \u001b[1m--> EVAL PERFORMANCE\u001b[0m\n",
            "     | > avg_loader_time:\u001b[92m 3.3331668376922607 \u001b[0m(-0.2398531436920166)\n",
            "     | > avg_loss_disc:\u001b[91m 2.8579764366149902 \u001b[0m(+0.2547745704650879)\n",
            "     | > avg_loss_disc_real_0:\u001b[92m 0.22672776877880096 \u001b[0m(-0.0010439753532409668)\n",
            "     | > avg_loss_disc_real_1:\u001b[92m 0.22664159536361694 \u001b[0m(-0.0653727650642395)\n",
            "     | > avg_loss_disc_real_2:\u001b[92m 0.2359248697757721 \u001b[0m(-0.023257076740264893)\n",
            "     | > avg_loss_disc_real_3:\u001b[91m 0.27594277262687683 \u001b[0m(+0.04675967991352081)\n",
            "     | > avg_loss_disc_real_4:\u001b[91m 0.29186975955963135 \u001b[0m(+0.05006857216358185)\n",
            "     | > avg_loss_disc_real_5:\u001b[91m 0.2673731744289398 \u001b[0m(+0.056648626923561096)\n",
            "     | > avg_loss_0:\u001b[91m 2.8579764366149902 \u001b[0m(+0.2547745704650879)\n",
            "     | > avg_loss_gen:\u001b[92m 1.9130589962005615 \u001b[0m(-0.3517954349517822)\n",
            "     | > avg_loss_kl:\u001b[92m 1.8854262828826904 \u001b[0m(-0.2589244842529297)\n",
            "     | > avg_loss_feat:\u001b[92m 3.50117826461792 \u001b[0m(-1.281203269958496)\n",
            "     | > avg_loss_mel:\u001b[92m 19.86254119873047 \u001b[0m(-0.0028781890869140625)\n",
            "     | > avg_loss_duration:\u001b[91m 1.4268698692321777 \u001b[0m(+0.00035858154296875)\n",
            "     | > avg_loss_1:\u001b[92m 28.589075088500977 \u001b[0m(-1.8944435119628906)\n",
            "\n",
            "\n",
            "\u001b[4m\u001b[1m > EPOCH: 264/300\u001b[0m\n",
            " --> vits_20k_steps\n",
            "\n",
            "\u001b[1m > TRAINING (2024-05-19 08:48:52) \u001b[0m\n",
            "\n",
            "\u001b[1m > EVALUATION \u001b[0m\n",
            "\n"
          ]
        },
        {
          "name": "stdout",
          "output_type": "stream",
          "text": [
            " | > Synthesizing test sentences.\n"
          ]
        },
        {
          "name": "stderr",
          "output_type": "stream",
          "text": [
            "\n",
            "  \u001b[1m--> EVAL PERFORMANCE\u001b[0m\n",
            "     | > avg_loader_time:\u001b[91m 3.5346312522888184 \u001b[0m(+0.20146441459655762)\n",
            "     | > avg_loss_disc:\u001b[92m 2.5749588012695312 \u001b[0m(-0.283017635345459)\n",
            "     | > avg_loss_disc_real_0:\u001b[92m 0.16755816340446472 \u001b[0m(-0.05916960537433624)\n",
            "     | > avg_loss_disc_real_1:\u001b[91m 0.22840717434883118 \u001b[0m(+0.0017655789852142334)\n",
            "     | > avg_loss_disc_real_2:\u001b[91m 0.2575405240058899 \u001b[0m(+0.021615654230117798)\n",
            "     | > avg_loss_disc_real_3:\u001b[92m 0.2193991243839264 \u001b[0m(-0.05654364824295044)\n",
            "     | > avg_loss_disc_real_4:\u001b[92m 0.2113296240568161 \u001b[0m(-0.08054013550281525)\n",
            "     | > avg_loss_disc_real_5:\u001b[92m 0.21531176567077637 \u001b[0m(-0.05206140875816345)\n",
            "     | > avg_loss_0:\u001b[92m 2.5749588012695312 \u001b[0m(-0.283017635345459)\n",
            "     | > avg_loss_gen:\u001b[91m 2.0770068168640137 \u001b[0m(+0.16394782066345215)\n",
            "     | > avg_loss_kl:\u001b[91m 2.150604248046875 \u001b[0m(+0.26517796516418457)\n",
            "     | > avg_loss_feat:\u001b[91m 4.442168235778809 \u001b[0m(+0.9409899711608887)\n",
            "     | > avg_loss_mel:\u001b[91m 20.97565460205078 \u001b[0m(+1.1131134033203125)\n",
            "     | > avg_loss_duration:\u001b[92m 1.4262895584106445 \u001b[0m(-0.0005803108215332031)\n",
            "     | > avg_loss_1:\u001b[91m 31.07172393798828 \u001b[0m(+2.4826488494873047)\n",
            "\n",
            "\n",
            "\u001b[4m\u001b[1m > EPOCH: 265/300\u001b[0m\n",
            " --> vits_20k_steps\n",
            "\n",
            "\u001b[1m > TRAINING (2024-05-19 08:49:23) \u001b[0m\n",
            "\n",
            "\u001b[1m > EVALUATION \u001b[0m\n",
            "\n"
          ]
        },
        {
          "name": "stdout",
          "output_type": "stream",
          "text": [
            " | > Synthesizing test sentences.\n"
          ]
        },
        {
          "name": "stderr",
          "output_type": "stream",
          "text": [
            "\n",
            "  \u001b[1m--> EVAL PERFORMANCE\u001b[0m\n",
            "     | > avg_loader_time:\u001b[92m 3.401820182800293 \u001b[0m(-0.1328110694885254)\n",
            "     | > avg_loss_disc:\u001b[91m 2.6318559646606445 \u001b[0m(+0.05689716339111328)\n",
            "     | > avg_loss_disc_real_0:\u001b[91m 0.24975036084651947 \u001b[0m(+0.08219219744205475)\n",
            "     | > avg_loss_disc_real_1:\u001b[92m 0.1327728033065796 \u001b[0m(-0.09563437104225159)\n",
            "     | > avg_loss_disc_real_2:\u001b[92m 0.18033383786678314 \u001b[0m(-0.07720668613910675)\n",
            "     | > avg_loss_disc_real_3:\u001b[91m 0.2614431381225586 \u001b[0m(+0.0420440137386322)\n",
            "     | > avg_loss_disc_real_4:\u001b[92m 0.20587609708309174 \u001b[0m(-0.005453526973724365)\n",
            "     | > avg_loss_disc_real_5:\u001b[92m 0.1803160458803177 \u001b[0m(-0.03499571979045868)\n",
            "     | > avg_loss_0:\u001b[91m 2.6318559646606445 \u001b[0m(+0.05689716339111328)\n",
            "     | > avg_loss_gen:\u001b[92m 2.0485150814056396 \u001b[0m(-0.028491735458374023)\n",
            "     | > avg_loss_kl:\u001b[92m 2.0594401359558105 \u001b[0m(-0.09116411209106445)\n",
            "     | > avg_loss_feat:\u001b[91m 4.934419631958008 \u001b[0m(+0.4922513961791992)\n",
            "     | > avg_loss_mel:\u001b[92m 20.59747886657715 \u001b[0m(-0.3781757354736328)\n",
            "     | > avg_loss_duration:\u001b[91m 1.4553042650222778 \u001b[0m(+0.0290147066116333)\n",
            "     | > avg_loss_1:\u001b[91m 31.09515953063965 \u001b[0m(+0.023435592651367188)\n",
            "\n",
            "\n",
            "\u001b[4m\u001b[1m > EPOCH: 266/300\u001b[0m\n",
            " --> vits_20k_steps\n",
            "\n",
            "\u001b[1m > TRAINING (2024-05-19 08:49:55) \u001b[0m\n",
            "\n",
            "\u001b[1m > EVALUATION \u001b[0m\n",
            "\n"
          ]
        },
        {
          "name": "stdout",
          "output_type": "stream",
          "text": [
            " | > Synthesizing test sentences.\n"
          ]
        },
        {
          "name": "stderr",
          "output_type": "stream",
          "text": [
            "\n",
            "  \u001b[1m--> EVAL PERFORMANCE\u001b[0m\n",
            "     | > avg_loader_time:\u001b[92m 3.3872029781341553 \u001b[0m(-0.014617204666137695)\n",
            "     | > avg_loss_disc:\u001b[91m 2.7792067527770996 \u001b[0m(+0.14735078811645508)\n",
            "     | > avg_loss_disc_real_0:\u001b[92m 0.16889020800590515 \u001b[0m(-0.08086015284061432)\n",
            "     | > avg_loss_disc_real_1:\u001b[91m 0.24340932071208954 \u001b[0m(+0.11063651740550995)\n",
            "     | > avg_loss_disc_real_2:\u001b[91m 0.24935664236545563 \u001b[0m(+0.06902280449867249)\n",
            "     | > avg_loss_disc_real_3:\u001b[92m 0.19611108303070068 \u001b[0m(-0.06533205509185791)\n",
            "     | > avg_loss_disc_real_4:\u001b[91m 0.22256402671337128 \u001b[0m(+0.01668792963027954)\n",
            "     | > avg_loss_disc_real_5:\u001b[91m 0.25173914432525635 \u001b[0m(+0.07142309844493866)\n",
            "     | > avg_loss_0:\u001b[91m 2.7792067527770996 \u001b[0m(+0.14735078811645508)\n",
            "     | > avg_loss_gen:\u001b[92m 1.7918369770050049 \u001b[0m(-0.25667810440063477)\n",
            "     | > avg_loss_kl:\u001b[91m 2.158618211746216 \u001b[0m(+0.09917807579040527)\n",
            "     | > avg_loss_feat:\u001b[92m 4.398589611053467 \u001b[0m(-0.535830020904541)\n",
            "     | > avg_loss_mel:\u001b[92m 19.93803596496582 \u001b[0m(-0.6594429016113281)\n",
            "     | > avg_loss_duration:\u001b[91m 1.4738202095031738 \u001b[0m(+0.018515944480895996)\n",
            "     | > avg_loss_1:\u001b[92m 29.760900497436523 \u001b[0m(-1.334259033203125)\n",
            "\n",
            "\n",
            "\u001b[4m\u001b[1m > EPOCH: 267/300\u001b[0m\n",
            " --> vits_20k_steps\n",
            "\n",
            "\u001b[1m > TRAINING (2024-05-19 08:50:26) \u001b[0m\n",
            "\n",
            "\u001b[1m > EVALUATION \u001b[0m\n",
            "\n"
          ]
        },
        {
          "name": "stdout",
          "output_type": "stream",
          "text": [
            " | > Synthesizing test sentences.\n"
          ]
        },
        {
          "name": "stderr",
          "output_type": "stream",
          "text": [
            "\n",
            "  \u001b[1m--> EVAL PERFORMANCE\u001b[0m\n",
            "     | > avg_loader_time:\u001b[91m 3.6234467029571533 \u001b[0m(+0.23624372482299805)\n",
            "     | > avg_loss_disc:\u001b[91m 2.8063700199127197 \u001b[0m(+0.027163267135620117)\n",
            "     | > avg_loss_disc_real_0:\u001b[91m 0.2916454076766968 \u001b[0m(+0.12275519967079163)\n",
            "     | > avg_loss_disc_real_1:\u001b[92m 0.2179509550333023 \u001b[0m(-0.02545836567878723)\n",
            "     | > avg_loss_disc_real_2:\u001b[92m 0.24516645073890686 \u001b[0m(-0.004190191626548767)\n",
            "     | > avg_loss_disc_real_3:\u001b[91m 0.2393873631954193 \u001b[0m(+0.04327628016471863)\n",
            "     | > avg_loss_disc_real_4:\u001b[92m 0.2061806321144104 \u001b[0m(-0.016383394598960876)\n",
            "     | > avg_loss_disc_real_5:\u001b[91m 0.2762140929698944 \u001b[0m(+0.02447494864463806)\n",
            "     | > avg_loss_0:\u001b[91m 2.8063700199127197 \u001b[0m(+0.027163267135620117)\n",
            "     | > avg_loss_gen:\u001b[91m 1.8613728284835815 \u001b[0m(+0.06953585147857666)\n",
            "     | > avg_loss_kl:\u001b[91m 2.3417348861694336 \u001b[0m(+0.18311667442321777)\n",
            "     | > avg_loss_feat:\u001b[92m 3.333587646484375 \u001b[0m(-1.0650019645690918)\n",
            "     | > avg_loss_mel:\u001b[91m 20.840381622314453 \u001b[0m(+0.9023456573486328)\n",
            "     | > avg_loss_duration:\u001b[91m 1.4775950908660889 \u001b[0m(+0.003774881362915039)\n",
            "     | > avg_loss_1:\u001b[91m 29.854671478271484 \u001b[0m(+0.09377098083496094)\n",
            "\n",
            "\n",
            "\u001b[4m\u001b[1m > EPOCH: 268/300\u001b[0m\n",
            " --> vits_20k_steps\n",
            "\n",
            "\u001b[1m > TRAINING (2024-05-19 08:50:58) \u001b[0m\n",
            "\n",
            "\u001b[1m > EVALUATION \u001b[0m\n",
            "\n"
          ]
        },
        {
          "name": "stdout",
          "output_type": "stream",
          "text": [
            " | > Synthesizing test sentences.\n"
          ]
        },
        {
          "name": "stderr",
          "output_type": "stream",
          "text": [
            "\n",
            "  \u001b[1m--> EVAL PERFORMANCE\u001b[0m\n",
            "     | > avg_loader_time:\u001b[92m 3.5889103412628174 \u001b[0m(-0.03453636169433594)\n",
            "     | > avg_loss_disc:\u001b[92m 2.5453169345855713 \u001b[0m(-0.26105308532714844)\n",
            "     | > avg_loss_disc_real_0:\u001b[92m 0.20151758193969727 \u001b[0m(-0.09012782573699951)\n",
            "     | > avg_loss_disc_real_1:\u001b[92m 0.17798422276973724 \u001b[0m(-0.039966732263565063)\n",
            "     | > avg_loss_disc_real_2:\u001b[92m 0.20891611278057098 \u001b[0m(-0.036250337958335876)\n",
            "     | > avg_loss_disc_real_3:\u001b[92m 0.1880486160516739 \u001b[0m(-0.05133874714374542)\n",
            "     | > avg_loss_disc_real_4:\u001b[92m 0.18142998218536377 \u001b[0m(-0.02475064992904663)\n",
            "     | > avg_loss_disc_real_5:\u001b[92m 0.20183996856212616 \u001b[0m(-0.07437412440776825)\n",
            "     | > avg_loss_0:\u001b[92m 2.5453169345855713 \u001b[0m(-0.26105308532714844)\n",
            "     | > avg_loss_gen:\u001b[91m 2.0231528282165527 \u001b[0m(+0.1617799997329712)\n",
            "     | > avg_loss_kl:\u001b[92m 2.043569326400757 \u001b[0m(-0.29816555976867676)\n",
            "     | > avg_loss_feat:\u001b[91m 4.791208744049072 \u001b[0m(+1.4576210975646973)\n",
            "     | > avg_loss_mel:\u001b[92m 20.27737045288086 \u001b[0m(-0.5630111694335938)\n",
            "     | > avg_loss_duration:\u001b[92m 1.4626476764678955 \u001b[0m(-0.01494741439819336)\n",
            "     | > avg_loss_1:\u001b[91m 30.597949981689453 \u001b[0m(+0.7432785034179688)\n",
            "\n",
            "\n",
            "\u001b[4m\u001b[1m > EPOCH: 269/300\u001b[0m\n",
            " --> vits_20k_steps\n",
            "\n",
            "\u001b[1m > TRAINING (2024-05-19 08:51:29) \u001b[0m\n",
            "\n",
            "\u001b[1m   --> TIME: 2024-05-19 08:51:40 -- STEP: 4/14 -- GLOBAL_STEP: 28000\u001b[0m\n",
            "     | > loss_disc: 2.5070369243621826  (2.399215579032898)\n",
            "     | > loss_disc_real_0: 0.15258535742759705  (0.13602204993367195)\n",
            "     | > loss_disc_real_1: 0.19572052359580994  (0.23137105256319046)\n",
            "     | > loss_disc_real_2: 0.17403310537338257  (0.21914151310920715)\n",
            "     | > loss_disc_real_3: 0.24762992560863495  (0.23037901520729065)\n",
            "     | > loss_disc_real_4: 0.22080443799495697  (0.22793056815862656)\n",
            "     | > loss_disc_real_5: 0.24607564508914948  (0.2045430801808834)\n",
            "     | > loss_0: 2.5070369243621826  (2.399215579032898)\n",
            "     | > grad_norm_0: tensor(12.1460, device='cuda:0')  (tensor(12.3065, device='cuda:0'))\n",
            "     | > loss_gen: 2.1117851734161377  (2.3585058450698853)\n",
            "     | > loss_kl: 1.0406253337860107  (1.19571453332901)\n",
            "     | > loss_feat: 4.611576557159424  (5.106105327606201)\n",
            "     | > loss_mel: 19.53512954711914  (19.164782524108887)\n",
            "     | > loss_duration: 1.0722906589508057  (1.068414181470871)\n",
            "     | > amp_scaler: 512.0  (512.0)\n",
            "     | > loss_1: 28.371408462524414  (28.89352321624756)\n",
            "     | > grad_norm_1: tensor(70.4347, device='cuda:0')  (tensor(111.2049, device='cuda:0'))\n",
            "     | > current_lr_0: 0.00015577719482735947 \n",
            "     | > current_lr_1: 0.00015577719482735947 \n",
            "     | > step_time: 1.1066  (1.1730095148086548)\n",
            "     | > loader_time: 0.0084  (0.008651793003082275)\n",
            "\n",
            "\n",
            "\u001b[1m > EVALUATION \u001b[0m\n",
            "\n"
          ]
        },
        {
          "name": "stdout",
          "output_type": "stream",
          "text": [
            " | > Synthesizing test sentences.\n"
          ]
        },
        {
          "name": "stderr",
          "output_type": "stream",
          "text": [
            "\n",
            "  \u001b[1m--> EVAL PERFORMANCE\u001b[0m\n",
            "     | > avg_loader_time:\u001b[92m 3.2520499229431152 \u001b[0m(-0.33686041831970215)\n",
            "     | > avg_loss_disc:\u001b[91m 2.57403826713562 \u001b[0m(+0.028721332550048828)\n",
            "     | > avg_loss_disc_real_0:\u001b[92m 0.16685746610164642 \u001b[0m(-0.03466011583805084)\n",
            "     | > avg_loss_disc_real_1:\u001b[91m 0.23335318267345428 \u001b[0m(+0.05536895990371704)\n",
            "     | > avg_loss_disc_real_2:\u001b[92m 0.11856762319803238 \u001b[0m(-0.0903484895825386)\n",
            "     | > avg_loss_disc_real_3:\u001b[91m 0.22130851447582245 \u001b[0m(+0.03325989842414856)\n",
            "     | > avg_loss_disc_real_4:\u001b[91m 0.2199762761592865 \u001b[0m(+0.03854629397392273)\n",
            "     | > avg_loss_disc_real_5:\u001b[92m 0.1745467185974121 \u001b[0m(-0.02729324996471405)\n",
            "     | > avg_loss_0:\u001b[91m 2.57403826713562 \u001b[0m(+0.028721332550048828)\n",
            "     | > avg_loss_gen:\u001b[92m 1.8647432327270508 \u001b[0m(-0.15840959548950195)\n",
            "     | > avg_loss_kl:\u001b[91m 2.2939000129699707 \u001b[0m(+0.25033068656921387)\n",
            "     | > avg_loss_feat:\u001b[92m 4.588247299194336 \u001b[0m(-0.20296144485473633)\n",
            "     | > avg_loss_mel:\u001b[91m 21.2147274017334 \u001b[0m(+0.9373569488525391)\n",
            "     | > avg_loss_duration:\u001b[92m 1.4279837608337402 \u001b[0m(-0.03466391563415527)\n",
            "     | > avg_loss_1:\u001b[91m 31.38960075378418 \u001b[0m(+0.7916507720947266)\n",
            "\n",
            "\n",
            "\u001b[4m\u001b[1m > EPOCH: 270/300\u001b[0m\n",
            " --> vits_20k_steps\n",
            "\n",
            "\u001b[1m > TRAINING (2024-05-19 08:52:01) \u001b[0m\n",
            "\n",
            "\u001b[1m > EVALUATION \u001b[0m\n",
            "\n"
          ]
        },
        {
          "name": "stdout",
          "output_type": "stream",
          "text": [
            " | > Synthesizing test sentences.\n"
          ]
        },
        {
          "name": "stderr",
          "output_type": "stream",
          "text": [
            "\n",
            "  \u001b[1m--> EVAL PERFORMANCE\u001b[0m\n",
            "     | > avg_loader_time:\u001b[91m 3.548985242843628 \u001b[0m(+0.2969353199005127)\n",
            "     | > avg_loss_disc:\u001b[91m 2.6783335208892822 \u001b[0m(+0.10429525375366211)\n",
            "     | > avg_loss_disc_real_0:\u001b[91m 0.17880277335643768 \u001b[0m(+0.01194530725479126)\n",
            "     | > avg_loss_disc_real_1:\u001b[92m 0.2164161056280136 \u001b[0m(-0.016937077045440674)\n",
            "     | > avg_loss_disc_real_2:\u001b[91m 0.2060956358909607 \u001b[0m(+0.08752801269292831)\n",
            "     | > avg_loss_disc_real_3:\u001b[91m 0.2539614737033844 \u001b[0m(+0.03265295922756195)\n",
            "     | > avg_loss_disc_real_4:\u001b[91m 0.2296689748764038 \u001b[0m(+0.00969269871711731)\n",
            "     | > avg_loss_disc_real_5:\u001b[91m 0.2841813564300537 \u001b[0m(+0.1096346378326416)\n",
            "     | > avg_loss_0:\u001b[91m 2.6783335208892822 \u001b[0m(+0.10429525375366211)\n",
            "     | > avg_loss_gen:\u001b[91m 1.9695312976837158 \u001b[0m(+0.10478806495666504)\n",
            "     | > avg_loss_kl:\u001b[92m 2.03867506980896 \u001b[0m(-0.25522494316101074)\n",
            "     | > avg_loss_feat:\u001b[92m 4.37088680267334 \u001b[0m(-0.2173604965209961)\n",
            "     | > avg_loss_mel:\u001b[91m 21.74676513671875 \u001b[0m(+0.5320377349853516)\n",
            "     | > avg_loss_duration:\u001b[91m 1.4456167221069336 \u001b[0m(+0.01763296127319336)\n",
            "     | > avg_loss_1:\u001b[91m 31.571475982666016 \u001b[0m(+0.18187522888183594)\n",
            "\n",
            "\n",
            "\u001b[4m\u001b[1m > EPOCH: 271/300\u001b[0m\n",
            " --> vits_20k_steps\n",
            "\n",
            "\u001b[1m > TRAINING (2024-05-19 08:52:32) \u001b[0m\n",
            "\n",
            "\u001b[1m > EVALUATION \u001b[0m\n",
            "\n"
          ]
        },
        {
          "name": "stdout",
          "output_type": "stream",
          "text": [
            " | > Synthesizing test sentences.\n"
          ]
        },
        {
          "name": "stderr",
          "output_type": "stream",
          "text": [
            "\n",
            "  \u001b[1m--> EVAL PERFORMANCE\u001b[0m\n",
            "     | > avg_loader_time:\u001b[92m 3.4744656085968018 \u001b[0m(-0.07451963424682617)\n",
            "     | > avg_loss_disc:\u001b[91m 2.7179665565490723 \u001b[0m(+0.03963303565979004)\n",
            "     | > avg_loss_disc_real_0:\u001b[91m 0.202114999294281 \u001b[0m(+0.023312225937843323)\n",
            "     | > avg_loss_disc_real_1:\u001b[91m 0.23117634654045105 \u001b[0m(+0.014760240912437439)\n",
            "     | > avg_loss_disc_real_2:\u001b[92m 0.16105733811855316 \u001b[0m(-0.04503829777240753)\n",
            "     | > avg_loss_disc_real_3:\u001b[92m 0.18769660592079163 \u001b[0m(-0.06626486778259277)\n",
            "     | > avg_loss_disc_real_4:\u001b[92m 0.15734568238258362 \u001b[0m(-0.07232329249382019)\n",
            "     | > avg_loss_disc_real_5:\u001b[92m 0.2025170624256134 \u001b[0m(-0.08166429400444031)\n",
            "     | > avg_loss_0:\u001b[91m 2.7179665565490723 \u001b[0m(+0.03963303565979004)\n",
            "     | > avg_loss_gen:\u001b[92m 1.6963659524917603 \u001b[0m(-0.27316534519195557)\n",
            "     | > avg_loss_kl:\u001b[92m 1.836795687675476 \u001b[0m(-0.2018793821334839)\n",
            "     | > avg_loss_feat:\u001b[92m 4.03381872177124 \u001b[0m(-0.3370680809020996)\n",
            "     | > avg_loss_mel:\u001b[92m 20.952951431274414 \u001b[0m(-0.7938137054443359)\n",
            "     | > avg_loss_duration:\u001b[92m 1.4337139129638672 \u001b[0m(-0.011902809143066406)\n",
            "     | > avg_loss_1:\u001b[92m 29.953645706176758 \u001b[0m(-1.6178302764892578)\n",
            "\n",
            "\n",
            "\u001b[4m\u001b[1m > EPOCH: 272/300\u001b[0m\n",
            " --> vits_20k_steps\n",
            "\n",
            "\u001b[1m > TRAINING (2024-05-19 08:53:03) \u001b[0m\n",
            "\n",
            "\u001b[1m > EVALUATION \u001b[0m\n",
            "\n"
          ]
        },
        {
          "name": "stdout",
          "output_type": "stream",
          "text": [
            " | > Synthesizing test sentences.\n"
          ]
        },
        {
          "name": "stderr",
          "output_type": "stream",
          "text": [
            "\n",
            "  \u001b[1m--> EVAL PERFORMANCE\u001b[0m\n",
            "     | > avg_loader_time:\u001b[92m 3.4731876850128174 \u001b[0m(-0.001277923583984375)\n",
            "     | > avg_loss_disc:\u001b[91m 2.7888052463531494 \u001b[0m(+0.07083868980407715)\n",
            "     | > avg_loss_disc_real_0:\u001b[91m 0.2967880964279175 \u001b[0m(+0.09467309713363647)\n",
            "     | > avg_loss_disc_real_1:\u001b[91m 0.26934319734573364 \u001b[0m(+0.03816685080528259)\n",
            "     | > avg_loss_disc_real_2:\u001b[91m 0.2313922643661499 \u001b[0m(+0.07033492624759674)\n",
            "     | > avg_loss_disc_real_3:\u001b[91m 0.25924044847488403 \u001b[0m(+0.07154384255409241)\n",
            "     | > avg_loss_disc_real_4:\u001b[91m 0.24874505400657654 \u001b[0m(+0.09139937162399292)\n",
            "     | > avg_loss_disc_real_5:\u001b[91m 0.3397476077079773 \u001b[0m(+0.1372305452823639)\n",
            "     | > avg_loss_0:\u001b[91m 2.7888052463531494 \u001b[0m(+0.07083868980407715)\n",
            "     | > avg_loss_gen:\u001b[91m 2.248547077178955 \u001b[0m(+0.5521811246871948)\n",
            "     | > avg_loss_kl:\u001b[91m 1.981605052947998 \u001b[0m(+0.14480936527252197)\n",
            "     | > avg_loss_feat:\u001b[92m 3.830848217010498 \u001b[0m(-0.2029705047607422)\n",
            "     | > avg_loss_mel:\u001b[92m 19.920391082763672 \u001b[0m(-1.0325603485107422)\n",
            "     | > avg_loss_duration:\u001b[91m 1.448096752166748 \u001b[0m(+0.01438283920288086)\n",
            "     | > avg_loss_1:\u001b[92m 29.429489135742188 \u001b[0m(-0.5241565704345703)\n",
            "\n",
            "\n",
            "\u001b[4m\u001b[1m > EPOCH: 273/300\u001b[0m\n",
            " --> vits_20k_steps\n",
            "\n",
            "\u001b[1m > TRAINING (2024-05-19 08:53:34) \u001b[0m\n",
            "\n",
            "\u001b[1m > EVALUATION \u001b[0m\n",
            "\n"
          ]
        },
        {
          "name": "stdout",
          "output_type": "stream",
          "text": [
            " | > Synthesizing test sentences.\n"
          ]
        },
        {
          "name": "stderr",
          "output_type": "stream",
          "text": [
            "\n",
            "  \u001b[1m--> EVAL PERFORMANCE\u001b[0m\n",
            "     | > avg_loader_time:\u001b[91m 3.691071033477783 \u001b[0m(+0.21788334846496582)\n",
            "     | > avg_loss_disc:\u001b[92m 2.397871732711792 \u001b[0m(-0.3909335136413574)\n",
            "     | > avg_loss_disc_real_0:\u001b[92m 0.23795199394226074 \u001b[0m(-0.05883610248565674)\n",
            "     | > avg_loss_disc_real_1:\u001b[92m 0.2164091318845749 \u001b[0m(-0.05293406546115875)\n",
            "     | > avg_loss_disc_real_2:\u001b[92m 0.20697490870952606 \u001b[0m(-0.02441735565662384)\n",
            "     | > avg_loss_disc_real_3:\u001b[92m 0.17220616340637207 \u001b[0m(-0.08703428506851196)\n",
            "     | > avg_loss_disc_real_4:\u001b[92m 0.1690916121006012 \u001b[0m(-0.07965344190597534)\n",
            "     | > avg_loss_disc_real_5:\u001b[92m 0.16963349282741547 \u001b[0m(-0.17011411488056183)\n",
            "     | > avg_loss_0:\u001b[92m 2.397871732711792 \u001b[0m(-0.3909335136413574)\n",
            "     | > avg_loss_gen:\u001b[92m 2.1429202556610107 \u001b[0m(-0.10562682151794434)\n",
            "     | > avg_loss_kl:\u001b[92m 1.893460750579834 \u001b[0m(-0.08814430236816406)\n",
            "     | > avg_loss_feat:\u001b[91m 5.156439781188965 \u001b[0m(+1.3255915641784668)\n",
            "     | > avg_loss_mel:\u001b[91m 20.574007034301758 \u001b[0m(+0.6536159515380859)\n",
            "     | > avg_loss_duration:\u001b[92m 1.4232341051101685 \u001b[0m(-0.02486264705657959)\n",
            "     | > avg_loss_1:\u001b[91m 31.190061569213867 \u001b[0m(+1.7605724334716797)\n",
            "\n",
            "\n",
            "\u001b[4m\u001b[1m > EPOCH: 274/300\u001b[0m\n",
            " --> vits_20k_steps\n",
            "\n",
            "\u001b[1m > TRAINING (2024-05-19 08:54:06) \u001b[0m\n",
            "\n",
            "\u001b[1m > EVALUATION \u001b[0m\n",
            "\n"
          ]
        },
        {
          "name": "stdout",
          "output_type": "stream",
          "text": [
            " | > Synthesizing test sentences.\n"
          ]
        },
        {
          "name": "stderr",
          "output_type": "stream",
          "text": [
            "\n",
            "  \u001b[1m--> EVAL PERFORMANCE\u001b[0m\n",
            "     | > avg_loader_time:\u001b[92m 3.426903009414673 \u001b[0m(-0.26416802406311035)\n",
            "     | > avg_loss_disc:\u001b[91m 2.5186686515808105 \u001b[0m(+0.12079691886901855)\n",
            "     | > avg_loss_disc_real_0:\u001b[91m 0.25370195508003235 \u001b[0m(+0.015749961137771606)\n",
            "     | > avg_loss_disc_real_1:\u001b[91m 0.27698221802711487 \u001b[0m(+0.06057308614253998)\n",
            "     | > avg_loss_disc_real_2:\u001b[92m 0.20323722064495087 \u001b[0m(-0.0037376880645751953)\n",
            "     | > avg_loss_disc_real_3:\u001b[91m 0.22687630355358124 \u001b[0m(+0.05467014014720917)\n",
            "     | > avg_loss_disc_real_4:\u001b[91m 0.18080531060695648 \u001b[0m(+0.011713698506355286)\n",
            "     | > avg_loss_disc_real_5:\u001b[91m 0.19078296422958374 \u001b[0m(+0.021149471402168274)\n",
            "     | > avg_loss_0:\u001b[91m 2.5186686515808105 \u001b[0m(+0.12079691886901855)\n",
            "     | > avg_loss_gen:\u001b[91m 2.226999282836914 \u001b[0m(+0.08407902717590332)\n",
            "     | > avg_loss_kl:\u001b[91m 2.253603458404541 \u001b[0m(+0.36014270782470703)\n",
            "     | > avg_loss_feat:\u001b[92m 4.323004722595215 \u001b[0m(-0.83343505859375)\n",
            "     | > avg_loss_mel:\u001b[91m 20.737171173095703 \u001b[0m(+0.1631641387939453)\n",
            "     | > avg_loss_duration:\u001b[91m 1.4572352170944214 \u001b[0m(+0.03400111198425293)\n",
            "     | > avg_loss_1:\u001b[92m 30.998014450073242 \u001b[0m(-0.192047119140625)\n",
            "\n",
            "\n",
            "\u001b[4m\u001b[1m > EPOCH: 275/300\u001b[0m\n",
            " --> vits_20k_steps\n",
            "\n",
            "\u001b[1m > TRAINING (2024-05-19 08:54:37) \u001b[0m\n",
            "\n",
            "\u001b[1m > EVALUATION \u001b[0m\n",
            "\n"
          ]
        },
        {
          "name": "stdout",
          "output_type": "stream",
          "text": [
            " | > Synthesizing test sentences.\n"
          ]
        },
        {
          "name": "stderr",
          "output_type": "stream",
          "text": [
            "\n",
            "  \u001b[1m--> EVAL PERFORMANCE\u001b[0m\n",
            "     | > avg_loader_time:\u001b[91m 3.496586322784424 \u001b[0m(+0.06968331336975098)\n",
            "     | > avg_loss_disc:\u001b[91m 2.542799472808838 \u001b[0m(+0.024130821228027344)\n",
            "     | > avg_loss_disc_real_0:\u001b[92m 0.1914556473493576 \u001b[0m(-0.062246307730674744)\n",
            "     | > avg_loss_disc_real_1:\u001b[92m 0.2283925861120224 \u001b[0m(-0.04858963191509247)\n",
            "     | > avg_loss_disc_real_2:\u001b[92m 0.17780478298664093 \u001b[0m(-0.025432437658309937)\n",
            "     | > avg_loss_disc_real_3:\u001b[92m 0.18806928396224976 \u001b[0m(-0.03880701959133148)\n",
            "     | > avg_loss_disc_real_4:\u001b[91m 0.20909567177295685 \u001b[0m(+0.028290361166000366)\n",
            "     | > avg_loss_disc_real_5:\u001b[91m 0.25818517804145813 \u001b[0m(+0.06740221381187439)\n",
            "     | > avg_loss_0:\u001b[91m 2.542799472808838 \u001b[0m(+0.024130821228027344)\n",
            "     | > avg_loss_gen:\u001b[92m 2.1396982669830322 \u001b[0m(-0.08730101585388184)\n",
            "     | > avg_loss_kl:\u001b[92m 2.036327600479126 \u001b[0m(-0.21727585792541504)\n",
            "     | > avg_loss_feat:\u001b[91m 5.204678535461426 \u001b[0m(+0.8816738128662109)\n",
            "     | > avg_loss_mel:\u001b[92m 19.83387565612793 \u001b[0m(-0.9032955169677734)\n",
            "     | > avg_loss_duration:\u001b[91m 1.4663910865783691 \u001b[0m(+0.009155869483947754)\n",
            "     | > avg_loss_1:\u001b[92m 30.680971145629883 \u001b[0m(-0.3170433044433594)\n",
            "\n",
            "\n",
            "\u001b[4m\u001b[1m > EPOCH: 276/300\u001b[0m\n",
            " --> vits_20k_steps\n",
            "\n",
            "\u001b[1m > TRAINING (2024-05-19 08:55:08) \u001b[0m\n"
          ]
        }
      ],
      "source": [
        "%%time\n",
        "\n",
        "trainer.fit()"
      ]
    },
    {
      "cell_type": "code",
      "execution_count": null,
      "metadata": {
        "id": "RgdXVM_c-LFW"
      },
      "outputs": [],
      "source": [
        "# chpt = torch.load('vits_20k_steps/checkpoint_24229.pth')"
      ]
    },
    {
      "cell_type": "code",
      "execution_count": null,
      "metadata": {
        "id": "GNPcwX2o-LFW"
      },
      "outputs": [],
      "source": [
        "# chpt['model_loss'] = 15.714713017145792"
      ]
    },
    {
      "cell_type": "code",
      "execution_count": null,
      "metadata": {
        "id": "9Tt-9c70-LFW"
      },
      "outputs": [],
      "source": [
        "# torch.save(chpt, 'vits_20k_steps/checkpoint_24229.pth')"
      ]
    },
    {
      "cell_type": "code",
      "execution_count": null,
      "metadata": {
        "id": "Tbf14_Vu-LFW",
        "outputId": "b4bc1369-87a7-436c-bd12-1377bd8fa5c8"
      },
      "outputs": [
        {
          "data": {
            "text/plain": [
              "15.714713017145792"
            ]
          },
          "execution_count": 17,
          "metadata": {},
          "output_type": "execute_result"
        }
      ],
      "source": [
        "# chpt2 = torch.load('vits_20k_steps/checkpoint_20000.pth')\n",
        "# chpt2['model_loss']"
      ]
    },
    {
      "cell_type": "code",
      "execution_count": null,
      "metadata": {
        "id": "enR2WBfE-LFX"
      },
      "outputs": [],
      "source": [
        "trainer.save_checkpoint()"
      ]
    },
    {
      "cell_type": "code",
      "execution_count": null,
      "metadata": {
        "id": "nizrgh2n-LFX",
        "outputId": "4c80e1dc-06b3-4a63-c75b-0c51dca43f5a"
      },
      "outputs": [
        {
          "name": "stdout",
          "output_type": "stream",
          "text": [
            " > Using model: vits\n",
            " > Setting up Audio Processor...\n",
            " | > sample_rate:22050\n",
            " | > resample:False\n",
            " | > num_mels:80\n",
            " | > log_func:np.log10\n",
            " | > min_level_db:0\n",
            " | > frame_shift_ms:None\n",
            " | > frame_length_ms:None\n",
            " | > ref_level_db:None\n",
            " | > fft_size:1024\n",
            " | > power:None\n",
            " | > preemphasis:0.0\n",
            " | > griffin_lim_iters:None\n",
            " | > signal_norm:None\n",
            " | > symmetric_norm:None\n",
            " | > mel_fmin:0\n",
            " | > mel_fmax:None\n",
            " | > pitch_fmin:None\n",
            " | > pitch_fmax:None\n",
            " | > spec_gain:20.0\n",
            " | > stft_pad_mode:reflect\n",
            " | > max_norm:1.0\n",
            " | > clip_norm:True\n",
            " | > do_trim_silence:False\n",
            " | > trim_db:60\n",
            " | > do_sound_norm:False\n",
            " | > do_amp_to_db_linear:True\n",
            " | > do_amp_to_db_mel:True\n",
            " | > do_rms_norm:False\n",
            " | > db_level:None\n",
            " | > stats_path:None\n",
            " | > base:10\n",
            " | > hop_length:256\n",
            " | > win_length:1024\n",
            " > Text: জামিনে ছাড়া পেয়েই অপরাধে জড়িত, কিশোরকে অপহরণ\n",
            " > Text splitted to sentences.\n",
            "['জামিনে ছাড়া পেয়েই অপরাধে জড়িত, কিশোরকে অপহরণ']\n",
            " > Processing time: 3.1359007358551025\n",
            " > Real-time factor: 0.6110085114661832\n",
            " > Saving output to out.wav\n"
          ]
        }
      ],
      "source": [
        "# test_ckpt = 'vits_20k_steps/checkpoint_24229.pth'\n",
        "# test_config = 'vits_20k_steps/config.json'\n",
        "\n",
        "# !tts --text \"জামিনে ছাড়া পেয়েই অপরাধে জড়িত, কিশোরকে অপহরণ\" \\\n",
        "#       --model_path $test_ckpt \\\n",
        "#       --config_path $test_config \\\n",
        "#       --out_path out.wav"
      ]
    },
    {
      "cell_type": "code",
      "execution_count": null,
      "metadata": {
        "id": "W-2RZCUS-LFY",
        "outputId": "c3419642-c048-4d3b-e725-c8adf7c93993"
      },
      "outputs": [
        {
          "data": {
            "text/html": [
              "\n",
              "                <audio  controls=\"controls\" >\n",
              "                    <source src=\"data:audio/x-wav;base64,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\" type=\"audio/x-wav\" />\n",
              "                    Your browser does not support the audio element.\n",
              "                </audio>\n",
              "              "
            ],
            "text/plain": [
              "<IPython.lib.display.Audio object>"
            ]
          },
          "execution_count": 24,
          "metadata": {},
          "output_type": "execute_result"
        }
      ],
      "source": [
        "# import IPython\n",
        "# IPython.display.Audio(\"out.wav\")"
      ]
    },
    {
      "cell_type": "code",
      "execution_count": null,
      "metadata": {
        "id": "2lKAA0zc-LFY"
      },
      "outputs": [],
      "source": [
        "# watch -n0.1 nvidia-smi"
      ]
    }
  ],
  "metadata": {
    "accelerator": "GPU",
    "colab": {
      "provenance": []
    },
    "kernelspec": {
      "display_name": "Python 3 (ipykernel)",
      "language": "python",
      "name": "python3"
    },
    "language_info": {
      "codemirror_mode": {
        "name": "ipython",
        "version": 3
      },
      "file_extension": ".py",
      "mimetype": "text/x-python",
      "name": "python",
      "nbconvert_exporter": "python",
      "pygments_lexer": "ipython3",
      "version": "3.10.13"
    }
  },
  "nbformat": 4,
  "nbformat_minor": 0
}